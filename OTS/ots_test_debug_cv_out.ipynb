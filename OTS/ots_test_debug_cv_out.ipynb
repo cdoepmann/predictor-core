{
 "cells": [
  {
   "cell_type": "code",
   "execution_count": 1,
   "metadata": {},
   "outputs": [],
   "source": [
    "import numpy as np\n",
    "from optimal_traffic_scheduler import optimal_traffic_scheduler"
   ]
  },
  {
   "cell_type": "markdown",
   "metadata": {},
   "source": [
    "# Setup the OTS object"
   ]
  },
  {
   "cell_type": "markdown",
   "metadata": {},
   "source": [
    "#### Create the object"
   ]
  },
  {
   "cell_type": "code",
   "execution_count": 2,
   "metadata": {},
   "outputs": [],
   "source": [
    "setup_dict = {\n",
    "    'v_max': 2929.6875,\n",
    "    's_max': 30,\n",
    "    'dt': 0.01,\n",
    "    'N_steps': 20,\n",
    "    'weights': {\n",
    "        'control_delta': 0.1,\n",
    "        'send': 1,\n",
    "        'store': 0,\n",
    "        'receive': 1,\n",
    "    }\n",
    "}\n",
    "ots = optimal_traffic_scheduler(setup_dict)"
   ]
  },
  {
   "cell_type": "markdown",
   "metadata": {},
   "source": [
    "#### Call `setup()`, providing the topology"
   ]
  },
  {
   "cell_type": "code",
   "execution_count": 3,
   "metadata": {},
   "outputs": [],
   "source": [
    "ots.setup(\n",
    "    n_in = 1,\n",
    "    n_out = 1,\n",
    "    input_circuits = [[3]],\n",
    "    output_circuits = [[3]],\n",
    "    output_delay = np.array([0.04]),\n",
    ")"
   ]
  },
  {
   "cell_type": "markdown",
   "metadata": {},
   "source": [
    "# Carry out an optimization step: Invalid `cv_out`"
   ]
  },
  {
   "cell_type": "markdown",
   "metadata": {},
   "source": [
    "This is the example of our `exit2` relay. However, I've seen it happen to `btlnk`, too."
   ]
  },
  {
   "cell_type": "code",
   "execution_count": 4,
   "metadata": {},
   "outputs": [
    {
     "name": "stdout",
     "output_type": "stream",
     "text": [
      "\n",
      "******************************************************************************\n",
      "This program contains Ipopt, a library for large-scale nonlinear optimization.\n",
      " Ipopt is released as open source code under the Eclipse Public License (EPL).\n",
      "         For more information visit http://projects.coin-or.org/Ipopt\n",
      "******************************************************************************\n",
      "\n",
      "This is Ipopt version 3.12.12, running with linear solver ma27.\n",
      "\n",
      "Number of nonzeros in equality constraint Jacobian...:        0\n",
      "Number of nonzeros in inequality constraint Jacobian.:     1040\n",
      "Number of nonzeros in Lagrangian Hessian.............:       80\n",
      "\n",
      "Total number of variables............................:       60\n",
      "                     variables with only lower bounds:        0\n",
      "                variables with lower and upper bounds:        0\n",
      "                     variables with only upper bounds:        0\n",
      "Total number of equality constraints.................:        0\n",
      "Total number of inequality constraints...............:      180\n",
      "        inequality constraints with only lower bounds:        0\n",
      "   inequality constraints with lower and upper bounds:       20\n",
      "        inequality constraints with only upper bounds:      160\n",
      "\n",
      "iter    objective    inf_pr   inf_du lg(mu)  ||d||  lg(rg) alpha_du alpha_pr  ls\n",
      "   0 -1.0000000e+01 0.00e+00 2.72e-01  -1.0 0.00e+00    -  0.00e+00 0.00e+00   0\n",
      "   1 -1.0002061e+01 0.00e+00 2.79e-03  -1.0 3.05e-01    -  9.90e-01 9.90e-01h  1\n",
      "   2 -1.0169488e+01 0.00e+00 2.49e-02  -3.8 2.45e+01    -  9.83e-01 1.00e+00f  1\n",
      "   3 -1.8642476e+01 0.00e+00 6.59e+03  -3.8 1.30e+03    -  3.41e-01 1.00e+00f  1\n",
      "   4 -1.9002575e+01 0.00e+00 4.83e+02  -3.8 2.59e+02    -  8.01e-01 4.45e-01f  1\n",
      "   5 -1.9495219e+01 0.00e+00 5.44e+01  -3.8 1.50e+02    -  9.76e-01 1.00e+00f  1\n",
      "   6 -1.9503289e+01 0.00e+00 1.27e-05  -3.8 1.96e+01    -  1.00e+00 1.00e+00f  1\n",
      "   7 -1.9506422e+01 0.00e+00 7.05e+02  -8.6 1.06e+00    -  9.53e-01 1.00e+00f  1\n",
      "   8 -1.9506457e+01 0.00e+00 1.25e+02  -8.6 1.38e+01    -  8.22e-01 9.86e-01f  1\n",
      "   9 -1.9506463e+01 0.00e+00 1.99e+01  -8.6 8.17e+00    -  8.41e-01 1.00e+00f  1\n",
      "iter    objective    inf_pr   inf_du lg(mu)  ||d||  lg(rg) alpha_du alpha_pr  ls\n",
      "  10 -1.9506464e+01 0.00e+00 1.08e-10  -8.6 3.63e+00    -  1.00e+00 1.00e+00h  1\n",
      "  11 -1.9506464e+01 0.00e+00 1.23e-11  -8.6 1.26e+00    -  1.00e+00 1.00e+00h  1\n",
      "  12 -1.9506464e+01 0.00e+00 1.34e-13  -8.6 1.38e-01    -  1.00e+00 1.00e+00h  1\n",
      "\n",
      "Number of Iterations....: 12\n",
      "\n",
      "                                   (scaled)                 (unscaled)\n",
      "Objective...............:  -1.9506464277413574e+01   -1.9506464277413574e+01\n",
      "Dual infeasibility......:   1.3420682750883706e-13    1.3420682750883706e-13\n",
      "Constraint violation....:   0.0000000000000000e+00    0.0000000000000000e+00\n",
      "Complementarity.........:   3.0046511303840308e-09    3.0046511303840308e-09\n",
      "Overall NLP error.......:   3.0046511303840308e-09    3.0046511303840308e-09\n",
      "\n",
      "\n",
      "Number of objective function evaluations             = 13\n",
      "Number of objective gradient evaluations             = 13\n",
      "Number of equality constraint evaluations            = 0\n",
      "Number of inequality constraint evaluations          = 13\n",
      "Number of equality constraint Jacobian evaluations   = 0\n",
      "Number of inequality constraint Jacobian evaluations = 13\n",
      "Number of Lagrangian Hessian evaluations             = 12\n",
      "Total CPU secs in IPOPT (w/o function evaluations)   =      0.002\n",
      "Total CPU secs in NLP function evaluations           =      0.000\n",
      "\n",
      "EXIT: Optimal Solution Found.\n",
      "               t_proc [s]   t_wall [s]    n_eval\n",
      "       nlp_f      3.5e-05     3.52e-05        13\n",
      "       nlp_g      4.2e-05     4.35e-05        13\n",
      "    nlp_grad      1.1e-05     1.02e-05         1\n",
      "  nlp_grad_f      5.1e-05     4.79e-05        14\n",
      "  nlp_hess_l      2.4e-05     2.29e-05        12\n",
      "   nlp_jac_g     0.000135     7.19e-05        14\n",
      "       optim      0.00856       0.0077         1\n"
     ]
    },
    {
     "data": {
      "text/plain": [
       "True"
      ]
     },
     "execution_count": 4,
     "metadata": {},
     "output_type": "execute_result"
    }
   ],
   "source": [
    "ots.solve(\n",
    "    # s_buffer_0\n",
    "    [np.array([1.90625])],\n",
    "    # s_circuit_0\n",
    "    [np.array([1494.])],\n",
    "    # s_transit_0\n",
    "    [np.array([1.90625])],\n",
    "    # v_in_req\n",
    "    [np.array([[0.]]), np.array([[0.]]), np.array([[0.]]), np.array([[0.]]), np.array([[0.]]), np.array([[0.]]), np.array([[0.]]), np.array([[0.]]), np.array([[0.]]), np.array([[0.]]), np.array([[0.]]), np.array([[0.]]), np.array([[0.]]), np.array([[0.]]), np.array([[0.]]), np.array([[0.]]), np.array([[0.]]), np.array([[0.]]), np.array([[0.]]), np.array([[0.]])],\n",
    "    # cv_in\n",
    "    np.array([[[[1.]], [[1.]], [[1.]], [[1.]], [[1.]], [[1.]], [[1.]], [[1.]], [[1.]], [[1.]], [[1.]], [[1.]], [[1.]], [[1.]], [[1.]], [[1.]], [[1.]], [[1.]], [[1.]], [[1.]]]]),\n",
    "    # v_out_max\n",
    "    [np.array([[2929.6875]]), np.array([[2929.6875]]), np.array([[2929.6875]]), np.array([[2929.6875]]), np.array([[2929.6875]]), np.array([[2929.6875]]), np.array([[2929.6875]]), np.array([[2929.6875]]), np.array([[2929.6875]]), np.array([[2929.6875]]), np.array([[2929.6875]]), np.array([[2929.6875]]), np.array([[2929.6875]]), np.array([[2929.6875]]), np.array([[2929.6875]]), np.array([[2929.6875]]), np.array([[2929.6875]]), np.array([[2929.6875]]), np.array([[2929.6875]]), np.array([[2929.6875]])],\n",
    "    # bandwidth_load_target\n",
    "    [np.array([[0.]]), np.array([[0.]]), np.array([[0.]]), np.array([[0.]]), np.array([[0.]]), np.array([[0.]]), np.array([[0.]]), np.array([[0.]]), np.array([[0.]]), np.array([[0.]]), np.array([[0.]]), np.array([[0.]]), np.array([[0.]]), np.array([[0.]]), np.array([[0.]]), np.array([[0.]]), np.array([[0.]]), np.array([[0.]]), np.array([[0.]]), np.array([[0.]])],\n",
    "    # memory_load_target\n",
    "    [np.array([[0.]]), np.array([[0.]]), np.array([[0.]]), np.array([[0.]]), np.array([[0.]]), np.array([[0.]]), np.array([[0.]]), np.array([[0.]]), np.array([[0.]]), np.array([[0.]]), np.array([[0.]]), np.array([[0.]]), np.array([[0.]]), np.array([[0.]]), np.array([[0.]]), np.array([[0.]]), np.array([[0.]]), np.array([[0.]]), np.array([[0.]]), np.array([[0.]])],\n",
    "    # bandwidth_load_source\n",
    "    [np.array([[0.]]), np.array([[0.]]), np.array([[0.]]), np.array([[0.]]), np.array([[0.]]), np.array([[0.]]), np.array([[0.]]), np.array([[0.]]), np.array([[0.]]), np.array([[0.]]), np.array([[0.]]), np.array([[0.]]), np.array([[0.]]), np.array([[0.]]), np.array([[0.]]), np.array([[0.]]), np.array([[0.]]), np.array([[0.]]), np.array([[0.]]), np.array([[0.]])],\n",
    "    # memory_load_source\n",
    "    [np.array([[0.]]), np.array([[0.]]), np.array([[0.]]), np.array([[0.]]), np.array([[0.]]), np.array([[0.]]), np.array([[0.]]), np.array([[0.]]), np.array([[0.]]), np.array([[0.]]), np.array([[0.]]), np.array([[0.]]), np.array([[0.]]), np.array([[0.]]), np.array([[0.]]), np.array([[0.]]), np.array([[0.]]), np.array([[0.]]), np.array([[0.]]), np.array([[0.]])],\n",
    "    # output_delay\n",
    "    np.array([0.04]),\n",
    ")"
   ]
  },
  {
   "cell_type": "markdown",
   "metadata": {},
   "source": [
    "The calculated `cv_out` values should not exceed 1.0, but they do..."
   ]
  },
  {
   "cell_type": "code",
   "execution_count": 5,
   "metadata": {},
   "outputs": [
    {
     "data": {
      "text/plain": [
       "[[array([[783.73729378]])],\n",
       " [array([[783.73729378]])],\n",
       " [array([[783.73729378]])],\n",
       " [array([[783.73729378]])],\n",
       " [array([[783.73729378]])],\n",
       " [array([[783.73729378]])],\n",
       " [array([[783.73729378]])],\n",
       " [array([[783.73729378]])],\n",
       " [array([[783.73729378]])],\n",
       " [array([[783.73729378]])],\n",
       " [array([[783.73729378]])],\n",
       " [array([[783.73729378]])],\n",
       " [array([[783.73729378]])],\n",
       " [array([[783.73729378]])],\n",
       " [array([[783.73729378]])],\n",
       " [array([[783.73729378]])],\n",
       " [array([[783.73729378]])],\n",
       " [array([[783.73729378]])],\n",
       " [array([[783.73729378]])],\n",
       " [array([[783.73729378]])]]"
      ]
     },
     "execution_count": 5,
     "metadata": {},
     "output_type": "execute_result"
    }
   ],
   "source": [
    "ots.predict[-1]['cv_out']"
   ]
  },
  {
   "cell_type": "markdown",
   "metadata": {},
   "source": [
    " "
   ]
  }
 ],
 "metadata": {
  "kernelspec": {
   "display_name": "Python 3",
   "language": "python",
   "name": "python3"
  },
  "language_info": {
   "codemirror_mode": {
    "name": "ipython",
    "version": 3
   },
   "file_extension": ".py",
   "mimetype": "text/x-python",
   "name": "python",
   "nbconvert_exporter": "python",
   "pygments_lexer": "ipython3",
   "version": "3.6.8"
  }
 },
 "nbformat": 4,
 "nbformat_minor": 2
}
