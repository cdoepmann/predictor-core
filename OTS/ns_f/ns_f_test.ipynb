{
 "cells": [
  {
   "cell_type": "markdown",
   "metadata": {},
   "source": [
    "# NS-F Network Simulator"
   ]
  },
  {
   "cell_type": "code",
   "execution_count": 1,
   "metadata": {},
   "outputs": [],
   "source": [
    "import numpy as np\n",
    "import matplotlib.pyplot as plt\n",
    "%matplotlib notebook\n",
    "\n",
    "from ns_f import *\n",
    "\n",
    "np.random.seed(42) "
   ]
  },
  {
   "cell_type": "markdown",
   "metadata": {},
   "source": [
    "Create global classes:\n",
    "- **data**: Predefinded list of fixed size that tracks all packages in the network. This class is shared among all elements of the network and has a fixed size. Packets that leave the network (reach the destination) are deleted from data and make space for new packets. "
   ]
  },
  {
   "cell_type": "code",
   "execution_count": 2,
   "metadata": {},
   "outputs": [],
   "source": [
    "dat = data(packet_list_size=1000)"
   ]
  },
  {
   "cell_type": "markdown",
   "metadata": {},
   "source": [
    "Let's quickly check the (first three elements of) dat table:"
   ]
  },
  {
   "cell_type": "code",
   "execution_count": 3,
   "metadata": {
    "scrolled": true
   },
   "outputs": [
    {
     "data": {
      "text/html": [
       "<div>\n",
       "<style scoped>\n",
       "    .dataframe tbody tr th:only-of-type {\n",
       "        vertical-align: middle;\n",
       "    }\n",
       "\n",
       "    .dataframe tbody tr th {\n",
       "        vertical-align: top;\n",
       "    }\n",
       "\n",
       "    .dataframe thead th {\n",
       "        text-align: right;\n",
       "    }\n",
       "</style>\n",
       "<table border=\"1\" class=\"dataframe\">\n",
       "  <thead>\n",
       "    <tr style=\"text-align: right;\">\n",
       "      <th></th>\n",
       "      <th>circuit</th>\n",
       "      <th>ts</th>\n",
       "      <th>tr</th>\n",
       "      <th>tspawn</th>\n",
       "      <th>ttransit</th>\n",
       "    </tr>\n",
       "  </thead>\n",
       "  <tbody>\n",
       "    <tr>\n",
       "      <th>0</th>\n",
       "      <td>0</td>\n",
       "      <td>inf</td>\n",
       "      <td>inf</td>\n",
       "      <td>inf</td>\n",
       "      <td>inf</td>\n",
       "    </tr>\n",
       "    <tr>\n",
       "      <th>1</th>\n",
       "      <td>0</td>\n",
       "      <td>inf</td>\n",
       "      <td>inf</td>\n",
       "      <td>inf</td>\n",
       "      <td>inf</td>\n",
       "    </tr>\n",
       "    <tr>\n",
       "      <th>2</th>\n",
       "      <td>0</td>\n",
       "      <td>inf</td>\n",
       "      <td>inf</td>\n",
       "      <td>inf</td>\n",
       "      <td>inf</td>\n",
       "    </tr>\n",
       "  </tbody>\n",
       "</table>\n",
       "</div>"
      ],
      "text/plain": [
       "   circuit   ts   tr  tspawn  ttransit\n",
       "0        0  inf  inf     inf       inf\n",
       "1        0  inf  inf     inf       inf\n",
       "2        0  inf  inf     inf       inf"
      ]
     },
     "execution_count": 3,
     "metadata": {},
     "output_type": "execute_result"
    }
   ],
   "source": [
    "dat.packet_list.head(3)"
   ]
  },
  {
   "cell_type": "markdown",
   "metadata": {},
   "source": [
    "Note again that the table is blank. There are no packages in the network just yet.\n",
    "Later the current status of each package is tracked with lists of indices refering to this table. **This is a very important concept**: Whenever a packet is in a buffer, in transit or processed, lists of indices are read, copied, altered or stored."
   ]
  },
  {
   "cell_type": "markdown",
   "metadata": {},
   "source": [
    "Create a setup dict for all the servers (nodes) that are created. For the test, all servers will have the same properties.\n",
    "- **v_max**: Maximum number of packets that can be send per second\n",
    "- **s_max**: Maximum number of packets that can be (combined) in all the input/output buffers of the server\n",
    "- **timeout**: time duration after which a sent packet is considered 'lost'. Timeout will trigger to adjust the window size."
   ]
  },
  {
   "cell_type": "code",
   "execution_count": 4,
   "metadata": {},
   "outputs": [],
   "source": [
    "setup_dict = {}\n",
    "setup_dict['v_max'] = 2000   # packets / s\n",
    "setup_dict['s_max'] = 10     # packets\n",
    "setup_dict['timeout'] = 0.03    # s"
   ]
  },
  {
   "cell_type": "markdown",
   "metadata": {},
   "source": [
    "Lets create some objects:"
   ]
  },
  {
   "cell_type": "code",
   "execution_count": 5,
   "metadata": {},
   "outputs": [],
   "source": [
    "input_1  = server(setup_dict, dat, name='input_1' )\n",
    "input_2  = server(setup_dict, dat, name='input_2' )\n",
    "output_1 = server(setup_dict, dat, name='output_1')\n",
    "output_2 = server(setup_dict, dat, name='output_2')\n",
    "server_1 = server(setup_dict, dat, name='server_1')\n",
    "server_2 = server(setup_dict, dat, name='server_2')"
   ]
  },
  {
   "cell_type": "markdown",
   "metadata": {},
   "source": [
    "And define the routes of two circuits through the network:"
   ]
  },
  {
   "cell_type": "code",
   "execution_count": 6,
   "metadata": {},
   "outputs": [],
   "source": [
    "circuits = [\n",
    "    {'route': [input_1, server_1, server_2, output_1]},\n",
    "    {'route': [input_2, server_1, server_2, output_2]},\n",
    "]"
   ]
  },
  {
   "cell_type": "markdown",
   "metadata": {},
   "source": [
    "Note that the server objects and the circuits definition mirror the API of the \"optimal traffic scheduler\" objects (OTS) that are used for the distributed control."
   ]
  },
  {
   "cell_type": "markdown",
   "metadata": {},
   "source": [
    "Finally we create the network class, which needs only the data object from above for its \"__init__\". We can optionally define the timestep and initial time (in seconds):"
   ]
  },
  {
   "cell_type": "code",
   "execution_count": 7,
   "metadata": {},
   "outputs": [],
   "source": [
    "nw = network(data=dat, t0=0, dt=0.01)"
   ]
  },
  {
   "cell_type": "markdown",
   "metadata": {},
   "source": [
    "The first method we invoke is ```.from_circuits.``` This will create a table of nodes and connections and determine some relevant properties:"
   ]
  },
  {
   "cell_type": "code",
   "execution_count": 8,
   "metadata": {},
   "outputs": [],
   "source": [
    "nw.from_circuits(circuits)"
   ]
  },
  {
   "cell_type": "markdown",
   "metadata": {},
   "source": [
    "If graph_tool is available, we can quickly visualize the network. The important objects: **connections** and **nodes** will be discussed below."
   ]
  },
  {
   "cell_type": "code",
   "execution_count": 9,
   "metadata": {},
   "outputs": [
    {
     "data": {
      "image/png": "[encoded data removed]",
      "text/plain": [
       "<IPython.core.display.Image object>"
      ]
     },
     "metadata": {},
     "output_type": "display_data"
    }
   ],
   "source": [
    "try:\n",
    "    import graph_tool.all as gt\n",
    "    edge_list, node_list = nw.connections, nw.nodes\n",
    "\n",
    "    # Create Graph and populate with edges and vertices:\n",
    "    g = gt.Graph()\n",
    "    vert_prop = {}\n",
    "    vert_prop['text'] = g.new_vertex_property('string')\n",
    "\n",
    "    node_list['vert'] = None\n",
    "    for i, node_i in node_list.iterrows():\n",
    "        node_list['vert'][i] = g.add_vertex()\n",
    "        vert_prop['text'][node_list['vert'][i]] = node_i['name']\n",
    "    # Add an edge to the graph for every connection and \n",
    "    # save it with the respective 'source' and 'target' objects:\n",
    "    edge_list['edge'] = None\n",
    "    for i, edge_i in edge_list.iterrows():\n",
    "        source_i = node_list[node_list['node'] == edge_i['source']]\n",
    "        target_i = node_list[node_list['node'] == edge_i['target']]\n",
    "        edge_list['edge'][i] = g.add_edge(source_i.vert.values[0], target_i.vert.values[0])\n",
    "\n",
    "    pos = gt.sfdp_layout(g, K=0.5)\n",
    "    gt.graph_draw(g, pos=pos, vprops=vert_prop, output_size=[800,400])\n",
    "except:\n",
    "    print('Graph-tool is not installed.')"
   ]
  },
  {
   "cell_type": "markdown",
   "metadata": {},
   "source": [
    "Lets investigate these objects. First the nodes:"
   ]
  },
  {
   "cell_type": "code",
   "execution_count": 10,
   "metadata": {
    "scrolled": false
   },
   "outputs": [
    {
     "data": {
      "text/html": [
       "<div>\n",
       "<style scoped>\n",
       "    .dataframe tbody tr th:only-of-type {\n",
       "        vertical-align: middle;\n",
       "    }\n",
       "\n",
       "    .dataframe tbody tr th {\n",
       "        vertical-align: top;\n",
       "    }\n",
       "\n",
       "    .dataframe thead th {\n",
       "        text-align: right;\n",
       "    }\n",
       "</style>\n",
       "<table border=\"1\" class=\"dataframe\">\n",
       "  <thead>\n",
       "    <tr style=\"text-align: right;\">\n",
       "      <th></th>\n",
       "      <th>node</th>\n",
       "      <th>name</th>\n",
       "      <th>con_target</th>\n",
       "      <th>n_in</th>\n",
       "      <th>con_source</th>\n",
       "      <th>n_out</th>\n",
       "      <th>output_circuits</th>\n",
       "      <th>input_circuits</th>\n",
       "      <th>vert</th>\n",
       "    </tr>\n",
       "  </thead>\n",
       "  <tbody>\n",
       "    <tr>\n",
       "      <th>0</th>\n",
       "      <td>&lt;ns_f.server object at 0x7efe036345c0&gt;</td>\n",
       "      <td>input_1</td>\n",
       "      <td>[False, False, False, False, False]</td>\n",
       "      <td>0</td>\n",
       "      <td>[True, False, False, False, False]</td>\n",
       "      <td>1</td>\n",
       "      <td>[[0]]</td>\n",
       "      <td>[]</td>\n",
       "      <td>0</td>\n",
       "    </tr>\n",
       "    <tr>\n",
       "      <th>1</th>\n",
       "      <td>&lt;ns_f.server object at 0x7efe036346d8&gt;</td>\n",
       "      <td>server_1</td>\n",
       "      <td>[True, False, False, True, False]</td>\n",
       "      <td>2</td>\n",
       "      <td>[False, True, False, False, False]</td>\n",
       "      <td>1</td>\n",
       "      <td>[[0, 1]]</td>\n",
       "      <td>[[0], [1]]</td>\n",
       "      <td>1</td>\n",
       "    </tr>\n",
       "    <tr>\n",
       "      <th>2</th>\n",
       "      <td>&lt;ns_f.server object at 0x7efe03634710&gt;</td>\n",
       "      <td>server_2</td>\n",
       "      <td>[False, True, False, False, False]</td>\n",
       "      <td>1</td>\n",
       "      <td>[False, False, True, False, True]</td>\n",
       "      <td>2</td>\n",
       "      <td>[[0], [1]]</td>\n",
       "      <td>[[0, 1]]</td>\n",
       "      <td>2</td>\n",
       "    </tr>\n",
       "    <tr>\n",
       "      <th>3</th>\n",
       "      <td>&lt;ns_f.server object at 0x7efe03634668&gt;</td>\n",
       "      <td>output_1</td>\n",
       "      <td>[False, False, True, False, False]</td>\n",
       "      <td>1</td>\n",
       "      <td>[False, False, False, False, False]</td>\n",
       "      <td>0</td>\n",
       "      <td>None</td>\n",
       "      <td>[[0]]</td>\n",
       "      <td>3</td>\n",
       "    </tr>\n",
       "    <tr>\n",
       "      <th>4</th>\n",
       "      <td>&lt;ns_f.server object at 0x7efe036345f8&gt;</td>\n",
       "      <td>input_2</td>\n",
       "      <td>[False, False, False, False, False]</td>\n",
       "      <td>0</td>\n",
       "      <td>[False, False, False, True, False]</td>\n",
       "      <td>1</td>\n",
       "      <td>[[1]]</td>\n",
       "      <td>[]</td>\n",
       "      <td>4</td>\n",
       "    </tr>\n",
       "    <tr>\n",
       "      <th>5</th>\n",
       "      <td>&lt;ns_f.server object at 0x7efe036346a0&gt;</td>\n",
       "      <td>output_2</td>\n",
       "      <td>[False, False, False, False, True]</td>\n",
       "      <td>1</td>\n",
       "      <td>[False, False, False, False, False]</td>\n",
       "      <td>0</td>\n",
       "      <td>None</td>\n",
       "      <td>[[1]]</td>\n",
       "      <td>5</td>\n",
       "    </tr>\n",
       "  </tbody>\n",
       "</table>\n",
       "</div>"
      ],
      "text/plain": [
       "                                     node      name  \\\n",
       "0  <ns_f.server object at 0x7efe036345c0>   input_1   \n",
       "1  <ns_f.server object at 0x7efe036346d8>  server_1   \n",
       "2  <ns_f.server object at 0x7efe03634710>  server_2   \n",
       "3  <ns_f.server object at 0x7efe03634668>  output_1   \n",
       "4  <ns_f.server object at 0x7efe036345f8>   input_2   \n",
       "5  <ns_f.server object at 0x7efe036346a0>  output_2   \n",
       "\n",
       "                            con_target n_in  \\\n",
       "0  [False, False, False, False, False]    0   \n",
       "1    [True, False, False, True, False]    2   \n",
       "2   [False, True, False, False, False]    1   \n",
       "3   [False, False, True, False, False]    1   \n",
       "4  [False, False, False, False, False]    0   \n",
       "5   [False, False, False, False, True]    1   \n",
       "\n",
       "                            con_source n_out output_circuits input_circuits  \\\n",
       "0   [True, False, False, False, False]     1           [[0]]             []   \n",
       "1   [False, True, False, False, False]     1        [[0, 1]]     [[0], [1]]   \n",
       "2    [False, False, True, False, True]     2      [[0], [1]]       [[0, 1]]   \n",
       "3  [False, False, False, False, False]     0            None          [[0]]   \n",
       "4   [False, False, False, True, False]     1           [[1]]             []   \n",
       "5  [False, False, False, False, False]     0            None          [[1]]   \n",
       "\n",
       "  vert  \n",
       "0    0  \n",
       "1    1  \n",
       "2    2  \n",
       "3    3  \n",
       "4    4  \n",
       "5    5  "
      ]
     },
     "execution_count": 10,
     "metadata": {},
     "output_type": "execute_result"
    }
   ],
   "source": [
    "nw.nodes"
   ]
  },
  {
   "cell_type": "markdown",
   "metadata": {},
   "source": [
    "- **node / name**: Reference to one of the server objects that were created above.\n",
    "- **n_in**: Number of inputs\n",
    "- **n_out**: Number of output\n",
    "\n",
    "- **con_source**: For which connections is the current node the source (Note that this boolean array has the same number of elements as the number of connections).\n",
    "- **con_target**: Similarly, for which connections the current node is the target\n",
    "- **output_circuits**: A lwst item for each output_buffer that contains the circuits that are in this buffer\n",
    "- **vert**: Only appears if graph_tool was used and is used only for visualization.\n",
    "\n",
    "The server objects is also worth investigating:"
   ]
  },
  {
   "cell_type": "code",
   "execution_count": 11,
   "metadata": {},
   "outputs": [
    {
     "data": {
      "text/plain": [
       "{'data': <ns_f.data at 0x7efe22fe42e8>,\n",
       " 'obj_name': 'input_1',\n",
       " 's_max': 10,\n",
       " 'v_max': 2000,\n",
       " 'timeout': 0.03,\n",
       " 's': 0,\n",
       " 'control_mode': 'tcp',\n",
       " 'n_in': 0,\n",
       " 'n_out': 1,\n",
       " 'input_buffer': [],\n",
       " 'output_buffer': [[]]}"
      ]
     },
     "execution_count": 11,
     "metadata": {},
     "output_type": "execute_result"
    }
   ],
   "source": [
    "nw.nodes.loc[0].node.__dict__ # for example for 'input_1'"
   ]
  },
  {
   "cell_type": "markdown",
   "metadata": {},
   "source": [
    "Now the connections:"
   ]
  },
  {
   "cell_type": "code",
   "execution_count": 12,
   "metadata": {},
   "outputs": [
    {
     "data": {
      "text/html": [
       "<div>\n",
       "<style scoped>\n",
       "    .dataframe tbody tr th:only-of-type {\n",
       "        vertical-align: middle;\n",
       "    }\n",
       "\n",
       "    .dataframe tbody tr th {\n",
       "        vertical-align: top;\n",
       "    }\n",
       "\n",
       "    .dataframe thead th {\n",
       "        text-align: right;\n",
       "    }\n",
       "</style>\n",
       "<table border=\"1\" class=\"dataframe\">\n",
       "  <thead>\n",
       "    <tr style=\"text-align: right;\">\n",
       "      <th></th>\n",
       "      <th>source</th>\n",
       "      <th>target</th>\n",
       "      <th>circuit</th>\n",
       "      <th>source_name</th>\n",
       "      <th>target_name</th>\n",
       "      <th>source_ind</th>\n",
       "      <th>target_ind</th>\n",
       "      <th>prop</th>\n",
       "      <th>edge</th>\n",
       "    </tr>\n",
       "  </thead>\n",
       "  <tbody>\n",
       "    <tr>\n",
       "      <th>0</th>\n",
       "      <td>&lt;ns_f.server object at 0x7efe036345c0&gt;</td>\n",
       "      <td>&lt;ns_f.server object at 0x7efe036346d8&gt;</td>\n",
       "      <td>[0]</td>\n",
       "      <td>input_1</td>\n",
       "      <td>server_1</td>\n",
       "      <td>0</td>\n",
       "      <td>0</td>\n",
       "      <td>&lt;ns_f.connection_cls object at 0x7efe035e4208&gt;</td>\n",
       "      <td>(0, 1)</td>\n",
       "    </tr>\n",
       "    <tr>\n",
       "      <th>1</th>\n",
       "      <td>&lt;ns_f.server object at 0x7efe036346d8&gt;</td>\n",
       "      <td>&lt;ns_f.server object at 0x7efe03634710&gt;</td>\n",
       "      <td>[0, 1]</td>\n",
       "      <td>server_1</td>\n",
       "      <td>server_2</td>\n",
       "      <td>0</td>\n",
       "      <td>0</td>\n",
       "      <td>&lt;ns_f.connection_cls object at 0x7efe03634eb8&gt;</td>\n",
       "      <td>(1, 2)</td>\n",
       "    </tr>\n",
       "    <tr>\n",
       "      <th>2</th>\n",
       "      <td>&lt;ns_f.server object at 0x7efe03634710&gt;</td>\n",
       "      <td>&lt;ns_f.server object at 0x7efe03634668&gt;</td>\n",
       "      <td>[0]</td>\n",
       "      <td>server_2</td>\n",
       "      <td>output_1</td>\n",
       "      <td>0</td>\n",
       "      <td>0</td>\n",
       "      <td>&lt;ns_f.connection_cls object at 0x7efe035e41d0&gt;</td>\n",
       "      <td>(2, 3)</td>\n",
       "    </tr>\n",
       "    <tr>\n",
       "      <th>3</th>\n",
       "      <td>&lt;ns_f.server object at 0x7efe036345f8&gt;</td>\n",
       "      <td>&lt;ns_f.server object at 0x7efe036346d8&gt;</td>\n",
       "      <td>[1]</td>\n",
       "      <td>input_2</td>\n",
       "      <td>server_1</td>\n",
       "      <td>0</td>\n",
       "      <td>1</td>\n",
       "      <td>&lt;ns_f.connection_cls object at 0x7efe035e4198&gt;</td>\n",
       "      <td>(4, 1)</td>\n",
       "    </tr>\n",
       "    <tr>\n",
       "      <th>4</th>\n",
       "      <td>&lt;ns_f.server object at 0x7efe03634710&gt;</td>\n",
       "      <td>&lt;ns_f.server object at 0x7efe036346a0&gt;</td>\n",
       "      <td>[1]</td>\n",
       "      <td>server_2</td>\n",
       "      <td>output_2</td>\n",
       "      <td>1</td>\n",
       "      <td>0</td>\n",
       "      <td>&lt;ns_f.connection_cls object at 0x7efe03617e80&gt;</td>\n",
       "      <td>(2, 5)</td>\n",
       "    </tr>\n",
       "  </tbody>\n",
       "</table>\n",
       "</div>"
      ],
      "text/plain": [
       "                                   source  \\\n",
       "0  <ns_f.server object at 0x7efe036345c0>   \n",
       "1  <ns_f.server object at 0x7efe036346d8>   \n",
       "2  <ns_f.server object at 0x7efe03634710>   \n",
       "3  <ns_f.server object at 0x7efe036345f8>   \n",
       "4  <ns_f.server object at 0x7efe03634710>   \n",
       "\n",
       "                                   target circuit source_name target_name  \\\n",
       "0  <ns_f.server object at 0x7efe036346d8>     [0]     input_1    server_1   \n",
       "1  <ns_f.server object at 0x7efe03634710>  [0, 1]    server_1    server_2   \n",
       "2  <ns_f.server object at 0x7efe03634668>     [0]    server_2    output_1   \n",
       "3  <ns_f.server object at 0x7efe036346d8>     [1]     input_2    server_1   \n",
       "4  <ns_f.server object at 0x7efe036346a0>     [1]    server_2    output_2   \n",
       "\n",
       "  source_ind target_ind                                            prop  \\\n",
       "0          0          0  <ns_f.connection_cls object at 0x7efe035e4208>   \n",
       "1          0          0  <ns_f.connection_cls object at 0x7efe03634eb8>   \n",
       "2          0          0  <ns_f.connection_cls object at 0x7efe035e41d0>   \n",
       "3          0          1  <ns_f.connection_cls object at 0x7efe035e4198>   \n",
       "4          1          0  <ns_f.connection_cls object at 0x7efe03617e80>   \n",
       "\n",
       "     edge  \n",
       "0  (0, 1)  \n",
       "1  (1, 2)  \n",
       "2  (2, 3)  \n",
       "3  (4, 1)  \n",
       "4  (2, 5)  "
      ]
     },
     "execution_count": 12,
     "metadata": {},
     "output_type": "execute_result"
    }
   ],
   "source": [
    "nw.connections"
   ]
  },
  {
   "cell_type": "markdown",
   "metadata": {},
   "source": [
    "Where **source** and **target** are again referencing server objects (with their respective name) and **circuit** is a list of all circuits that are carried in this connections. **source_ind** and **target_ind** are very important: Each server has as many output buffer as the number of outgoing connections. These are stored as a list. To find the relevant output_buffer of the source for the current connection, the **source_ind** has to be used as index as in: ```source.output_buffer[source_ind]```.\n",
    "**Edge** only appears if graph_tool was used and is used only for visualization.\n",
    "\n",
    "Important properties of the connection are hidden in the prop object:"
   ]
  },
  {
   "cell_type": "code",
   "execution_count": 13,
   "metadata": {},
   "outputs": [
    {
     "data": {
      "text/plain": [
       "{'latency_fun': <function ns_f.network.latency_fun.<locals>.<lambda>(x)>,\n",
       " 'window_size': 2,\n",
       " 'window': [],\n",
       " 'transit': [],\n",
       " 'transit_reply': []}"
      ]
     },
     "execution_count": 13,
     "metadata": {},
     "output_type": "execute_result"
    }
   ],
   "source": [
    "nw.connections.loc[1].prop.__dict__ # for example for 'input_1'"
   ]
  },
  {
   "cell_type": "markdown",
   "metadata": {},
   "source": [
    "Where:\n",
    "- **latency_fun**: Function that returns the latency of the connection given the time of sending.\n",
    "- **window_size**: Size of the current congestion window\n",
    "- **window**: List of indices that again refer to the ```data.packet_list``` and denote which packets are sent/ supposed to be sent in the current window\n",
    "- **transit**: List of (indices of) packets that are in transit\n",
    "- **transit_reply**: List of (indices of) packets that were received at the target node and triggered a reply. Packets can only either be in transit or transit_reply.\n",
    "\n",
    "**NOTE**: Of course these properties could also be part of the ```pd.DataFrame```, however this is less reliable in scenarios where a view of the DataFrame is edited. Properties that are in the dataframe are therefore unchanged.\n",
    "\n",
    "For the sake of this demonstration we set the latency_fun to be a fixed value that is equal to one timestep:"
   ]
  },
  {
   "cell_type": "code",
   "execution_count": 14,
   "metadata": {},
   "outputs": [],
   "source": [
    "for ind, con in nw.connections.iterrows():\n",
    "    con.prop.latency_fun = lambda t: 0.01"
   ]
  },
  {
   "cell_type": "markdown",
   "metadata": {},
   "source": [
    "Now that everything is set up, we can add some intial packages to the inputs and run a couple of simulation steps. First the initial packages:"
   ]
  },
  {
   "cell_type": "code",
   "execution_count": 15,
   "metadata": {},
   "outputs": [],
   "source": [
    "input_1.add_2_buffer(buffer_ind=0, circuit=0, n_packets=10, tnow=nw.t)\n",
    "input_2.add_2_buffer(buffer_ind=0, circuit=1, n_packets=10, tnow=nw.t)"
   ]
  },
  {
   "cell_type": "markdown",
   "metadata": {},
   "source": [
    "As we can see, the data object is now populated:"
   ]
  },
  {
   "cell_type": "code",
   "execution_count": 16,
   "metadata": {},
   "outputs": [
    {
     "data": {
      "text/html": [
       "<div>\n",
       "<style scoped>\n",
       "    .dataframe tbody tr th:only-of-type {\n",
       "        vertical-align: middle;\n",
       "    }\n",
       "\n",
       "    .dataframe tbody tr th {\n",
       "        vertical-align: top;\n",
       "    }\n",
       "\n",
       "    .dataframe thead th {\n",
       "        text-align: right;\n",
       "    }\n",
       "</style>\n",
       "<table border=\"1\" class=\"dataframe\">\n",
       "  <thead>\n",
       "    <tr style=\"text-align: right;\">\n",
       "      <th></th>\n",
       "      <th>circuit</th>\n",
       "      <th>ts</th>\n",
       "      <th>tr</th>\n",
       "      <th>tspawn</th>\n",
       "      <th>ttransit</th>\n",
       "    </tr>\n",
       "  </thead>\n",
       "  <tbody>\n",
       "    <tr>\n",
       "      <th>0</th>\n",
       "      <td>0</td>\n",
       "      <td>inf</td>\n",
       "      <td>inf</td>\n",
       "      <td>0.0</td>\n",
       "      <td>inf</td>\n",
       "    </tr>\n",
       "    <tr>\n",
       "      <th>1</th>\n",
       "      <td>0</td>\n",
       "      <td>inf</td>\n",
       "      <td>inf</td>\n",
       "      <td>0.0</td>\n",
       "      <td>inf</td>\n",
       "    </tr>\n",
       "    <tr>\n",
       "      <th>2</th>\n",
       "      <td>0</td>\n",
       "      <td>inf</td>\n",
       "      <td>inf</td>\n",
       "      <td>0.0</td>\n",
       "      <td>inf</td>\n",
       "    </tr>\n",
       "    <tr>\n",
       "      <th>3</th>\n",
       "      <td>0</td>\n",
       "      <td>inf</td>\n",
       "      <td>inf</td>\n",
       "      <td>0.0</td>\n",
       "      <td>inf</td>\n",
       "    </tr>\n",
       "  </tbody>\n",
       "</table>\n",
       "</div>"
      ],
      "text/plain": [
       "   circuit   ts   tr  tspawn  ttransit\n",
       "0        0  inf  inf     0.0       inf\n",
       "1        0  inf  inf     0.0       inf\n",
       "2        0  inf  inf     0.0       inf\n",
       "3        0  inf  inf     0.0       inf"
      ]
     },
     "execution_count": 16,
     "metadata": {},
     "output_type": "execute_result"
    }
   ],
   "source": [
    "dat.packet_list.head(4)"
   ]
  },
  {
   "cell_type": "markdown",
   "metadata": {},
   "source": [
    "The simulation of one timestep is invoked with .simulate():"
   ]
  },
  {
   "cell_type": "code",
   "execution_count": 17,
   "metadata": {},
   "outputs": [],
   "source": [
    "nw.simulate()"
   ]
  },
  {
   "cell_type": "markdown",
   "metadata": {},
   "source": [
    "What has happened now? Simulate is a list of operations that are executed for each connection.\n",
    "```python\n",
    "for i, con in self.connections.iterrows()\n",
    "    ...\n",
    "```\n",
    "### 1. Check timeout\n",
    "Check if any packages of the previous congestion window reached a \"timeout\". This is not relevant in the first step as the window is still empty.\n",
    "\n",
    "### 2. Send packages\n",
    "Populate the window, if it is empty.\n",
    "1. We determine the packages that will be send, by\n",
    "   - Checking the respective buffer of the source of the current connection (```con.source```) with \n",
    "   ```python \n",
    "   source_buffer = con.source.output_buffer[con.source_ind]\n",
    "   ```\n",
    "   - Determine how many many packages will be sent:\n",
    "   ```python \n",
    "   n_send = min(con.prop.window_size, len(source_buffer), int(con.source.v_max*dt))\n",
    "   ```\n",
    "   Where the number of packets cant exceeed the allowed window size, we can't send more than we have and also there is a limit to the number of packets we can sent per time. The packets that are supposed to be sent in the current window but violate the last condition are therefore sent in the following timestep.\n",
    "   \n",
    "2. We send the packages by adding the indices that refer to the packet_list in 'data' to (Note that the sum operations for list results in concatenation.):\n",
    "   - \n",
    "   ```python \n",
    "   con.window  += send_ind\n",
    "   ```\n",
    "   - \n",
    "   ```python \n",
    "   con.transit += send_ind\n",
    "   ```\n",
    "   \n",
    "\n",
    "3. We update the time in the packet_list in 'data' for the packets that have been sent.\n",
    "   ```python \n",
    "   self.data.packet_list.loc[send_ind, 'ts'] = self.t\n",
    "   ```\n",
    "   Where 'ts' stands for time sent.\n",
    "   \n",
    "Let's quickly check the respective lists for the connection from input_1 to server_1:"
   ]
  },
  {
   "cell_type": "code",
   "execution_count": 18,
   "metadata": {},
   "outputs": [
    {
     "name": "stdout",
     "output_type": "stream",
     "text": [
      "nw.connections.loc[0].prop.window = [0, 1]\n",
      "nw.connections.loc[0].prop.transit = [0, 1]\n"
     ]
    },
    {
     "data": {
      "text/html": [
       "<div>\n",
       "<style scoped>\n",
       "    .dataframe tbody tr th:only-of-type {\n",
       "        vertical-align: middle;\n",
       "    }\n",
       "\n",
       "    .dataframe tbody tr th {\n",
       "        vertical-align: top;\n",
       "    }\n",
       "\n",
       "    .dataframe thead th {\n",
       "        text-align: right;\n",
       "    }\n",
       "</style>\n",
       "<table border=\"1\" class=\"dataframe\">\n",
       "  <thead>\n",
       "    <tr style=\"text-align: right;\">\n",
       "      <th></th>\n",
       "      <th>circuit</th>\n",
       "      <th>ts</th>\n",
       "      <th>tr</th>\n",
       "      <th>tspawn</th>\n",
       "      <th>ttransit</th>\n",
       "    </tr>\n",
       "  </thead>\n",
       "  <tbody>\n",
       "    <tr>\n",
       "      <th>0</th>\n",
       "      <td>0</td>\n",
       "      <td>0.000000</td>\n",
       "      <td>inf</td>\n",
       "      <td>0.0</td>\n",
       "      <td>inf</td>\n",
       "    </tr>\n",
       "    <tr>\n",
       "      <th>1</th>\n",
       "      <td>0</td>\n",
       "      <td>0.000000</td>\n",
       "      <td>inf</td>\n",
       "      <td>0.0</td>\n",
       "      <td>inf</td>\n",
       "    </tr>\n",
       "    <tr>\n",
       "      <th>2</th>\n",
       "      <td>0</td>\n",
       "      <td>inf</td>\n",
       "      <td>inf</td>\n",
       "      <td>0.0</td>\n",
       "      <td>inf</td>\n",
       "    </tr>\n",
       "    <tr>\n",
       "      <th>3</th>\n",
       "      <td>0</td>\n",
       "      <td>inf</td>\n",
       "      <td>inf</td>\n",
       "      <td>0.0</td>\n",
       "      <td>inf</td>\n",
       "    </tr>\n",
       "  </tbody>\n",
       "</table>\n",
       "</div>"
      ],
      "text/plain": [
       "   circuit        ts   tr  tspawn  ttransit\n",
       "0        0  0.000000  inf     0.0       inf\n",
       "1        0  0.000000  inf     0.0       inf\n",
       "2        0       inf  inf     0.0       inf\n",
       "3        0       inf  inf     0.0       inf"
      ]
     },
     "execution_count": 18,
     "metadata": {},
     "output_type": "execute_result"
    }
   ],
   "source": [
    "print('nw.connections.loc[0].prop.window = {}'.format(nw.connections.loc[0].prop.window))\n",
    "print('nw.connections.loc[0].prop.transit = {}'.format(nw.connections.loc[0].prop.transit))\n",
    "dat.packet_list.head(4)"
   ]
  },
  {
   "cell_type": "markdown",
   "metadata": {},
   "source": [
    "We see that the default intial window size is two, and that the first two packages have been marked as \"in transit\". "
   ]
  },
  {
   "cell_type": "markdown",
   "metadata": {},
   "source": [
    "### 3. Receive packages and send replies\n",
    "For the third step, we check if any of the packages that are currently in transit are received at the target node. This is simply done by evaluating:\n",
    "```python\n",
    "received_bool = t_sent + con.prop.latency_fun(t_sent) <= self.t \n",
    "```\n",
    "Where ```t_sent``` is read from the ```data.packet_list```.\n",
    "Again: the ```latency_fun(t)``` is currently fixed value that is identical for all connections:"
   ]
  },
  {
   "cell_type": "code",
   "execution_count": 19,
   "metadata": {},
   "outputs": [
    {
     "name": "stdout",
     "output_type": "stream",
     "text": [
      "Latency: 0.01 s\n"
     ]
    }
   ],
   "source": [
    "print('Latency: {} s'.format(nw.connections.loc[0].prop.latency_fun(0)))"
   ]
  },
  {
   "cell_type": "markdown",
   "metadata": {},
   "source": [
    "Since in the first iteration ```t_s = 0```, no packages are received."
   ]
  },
  {
   "cell_type": "markdown",
   "metadata": {},
   "source": [
    "We know want to constantly check some properties of ```nw.connections``` and ```nw.nodes``` and will therefore introduce the following helper functions:"
   ]
  },
  {
   "cell_type": "code",
   "execution_count": 20,
   "metadata": {},
   "outputs": [],
   "source": [
    "def get_con_props(nw):\n",
    "    #We query these attributes from the connections object ('prop') that is part of the dataframe\n",
    "    props = ['window_size', 'window', 'transit', 'transit_reply']\n",
    "    for p in props:\n",
    "        nw.connections[p] = nw.connections.apply(lambda row: getattr(row.prop, p), axis=1)\n",
    "    # And display only the relevant columns:\n",
    "    return nw.connections[['source_name','target_name','circuit','window_size','window','transit','transit_reply']]\n",
    "\n",
    "def get_node_props(nw):\n",
    "    # For display purposes we add the output_buffer list to the table:\n",
    "    nw.nodes['output_buffer'] = nw.nodes.apply(lambda row: row['node'].output_buffer, axis=1)\n",
    "    # And display only the relevant columns:\n",
    "    return nw.nodes[['name','n_in','n_out','output_circuits','output_buffer']]"
   ]
  },
  {
   "cell_type": "markdown",
   "metadata": {},
   "source": [
    "Lets check (some important properties of) ```nw.connections``` again:"
   ]
  },
  {
   "cell_type": "code",
   "execution_count": 21,
   "metadata": {
    "scrolled": true
   },
   "outputs": [
    {
     "data": {
      "text/html": [
       "<div>\n",
       "<style scoped>\n",
       "    .dataframe tbody tr th:only-of-type {\n",
       "        vertical-align: middle;\n",
       "    }\n",
       "\n",
       "    .dataframe tbody tr th {\n",
       "        vertical-align: top;\n",
       "    }\n",
       "\n",
       "    .dataframe thead th {\n",
       "        text-align: right;\n",
       "    }\n",
       "</style>\n",
       "<table border=\"1\" class=\"dataframe\">\n",
       "  <thead>\n",
       "    <tr style=\"text-align: right;\">\n",
       "      <th></th>\n",
       "      <th>source_name</th>\n",
       "      <th>target_name</th>\n",
       "      <th>circuit</th>\n",
       "      <th>window_size</th>\n",
       "      <th>window</th>\n",
       "      <th>transit</th>\n",
       "      <th>transit_reply</th>\n",
       "    </tr>\n",
       "  </thead>\n",
       "  <tbody>\n",
       "    <tr>\n",
       "      <th>0</th>\n",
       "      <td>input_1</td>\n",
       "      <td>server_1</td>\n",
       "      <td>[0]</td>\n",
       "      <td>2</td>\n",
       "      <td>[0, 1]</td>\n",
       "      <td>[0, 1]</td>\n",
       "      <td>[]</td>\n",
       "    </tr>\n",
       "    <tr>\n",
       "      <th>1</th>\n",
       "      <td>server_1</td>\n",
       "      <td>server_2</td>\n",
       "      <td>[0, 1]</td>\n",
       "      <td>2</td>\n",
       "      <td>[]</td>\n",
       "      <td>[]</td>\n",
       "      <td>[]</td>\n",
       "    </tr>\n",
       "    <tr>\n",
       "      <th>2</th>\n",
       "      <td>server_2</td>\n",
       "      <td>output_1</td>\n",
       "      <td>[0]</td>\n",
       "      <td>2</td>\n",
       "      <td>[]</td>\n",
       "      <td>[]</td>\n",
       "      <td>[]</td>\n",
       "    </tr>\n",
       "    <tr>\n",
       "      <th>3</th>\n",
       "      <td>input_2</td>\n",
       "      <td>server_1</td>\n",
       "      <td>[1]</td>\n",
       "      <td>2</td>\n",
       "      <td>[10, 11]</td>\n",
       "      <td>[10, 11]</td>\n",
       "      <td>[]</td>\n",
       "    </tr>\n",
       "    <tr>\n",
       "      <th>4</th>\n",
       "      <td>server_2</td>\n",
       "      <td>output_2</td>\n",
       "      <td>[1]</td>\n",
       "      <td>2</td>\n",
       "      <td>[]</td>\n",
       "      <td>[]</td>\n",
       "      <td>[]</td>\n",
       "    </tr>\n",
       "  </tbody>\n",
       "</table>\n",
       "</div>"
      ],
      "text/plain": [
       "  source_name target_name circuit  window_size    window   transit  \\\n",
       "0     input_1    server_1     [0]            2    [0, 1]    [0, 1]   \n",
       "1    server_1    server_2  [0, 1]            2        []        []   \n",
       "2    server_2    output_1     [0]            2        []        []   \n",
       "3     input_2    server_1     [1]            2  [10, 11]  [10, 11]   \n",
       "4    server_2    output_2     [1]            2        []        []   \n",
       "\n",
       "  transit_reply  \n",
       "0            []  \n",
       "1            []  \n",
       "2            []  \n",
       "3            []  \n",
       "4            []  "
      ]
     },
     "execution_count": 21,
     "metadata": {},
     "output_type": "execute_result"
    }
   ],
   "source": [
    "get_con_props(nw)"
   ]
  },
  {
   "cell_type": "markdown",
   "metadata": {},
   "source": [
    "As we can see, two connections (0 and 3) are currently having packages in transit. Lets simulate another step to receive those packages:"
   ]
  },
  {
   "cell_type": "code",
   "execution_count": 22,
   "metadata": {},
   "outputs": [],
   "source": [
    "nw.simulate()"
   ]
  },
  {
   "cell_type": "code",
   "execution_count": 23,
   "metadata": {},
   "outputs": [
    {
     "data": {
      "text/html": [
       "<div>\n",
       "<style scoped>\n",
       "    .dataframe tbody tr th:only-of-type {\n",
       "        vertical-align: middle;\n",
       "    }\n",
       "\n",
       "    .dataframe tbody tr th {\n",
       "        vertical-align: top;\n",
       "    }\n",
       "\n",
       "    .dataframe thead th {\n",
       "        text-align: right;\n",
       "    }\n",
       "</style>\n",
       "<table border=\"1\" class=\"dataframe\">\n",
       "  <thead>\n",
       "    <tr style=\"text-align: right;\">\n",
       "      <th></th>\n",
       "      <th>source_name</th>\n",
       "      <th>target_name</th>\n",
       "      <th>circuit</th>\n",
       "      <th>window_size</th>\n",
       "      <th>window</th>\n",
       "      <th>transit</th>\n",
       "      <th>transit_reply</th>\n",
       "    </tr>\n",
       "  </thead>\n",
       "  <tbody>\n",
       "    <tr>\n",
       "      <th>0</th>\n",
       "      <td>input_1</td>\n",
       "      <td>server_1</td>\n",
       "      <td>[0]</td>\n",
       "      <td>2</td>\n",
       "      <td>[0, 1]</td>\n",
       "      <td>[]</td>\n",
       "      <td>[0, 1]</td>\n",
       "    </tr>\n",
       "    <tr>\n",
       "      <th>1</th>\n",
       "      <td>server_1</td>\n",
       "      <td>server_2</td>\n",
       "      <td>[0, 1]</td>\n",
       "      <td>2</td>\n",
       "      <td>[]</td>\n",
       "      <td>[]</td>\n",
       "      <td>[]</td>\n",
       "    </tr>\n",
       "    <tr>\n",
       "      <th>2</th>\n",
       "      <td>server_2</td>\n",
       "      <td>output_1</td>\n",
       "      <td>[0]</td>\n",
       "      <td>2</td>\n",
       "      <td>[]</td>\n",
       "      <td>[]</td>\n",
       "      <td>[]</td>\n",
       "    </tr>\n",
       "    <tr>\n",
       "      <th>3</th>\n",
       "      <td>input_2</td>\n",
       "      <td>server_1</td>\n",
       "      <td>[1]</td>\n",
       "      <td>2</td>\n",
       "      <td>[10, 11]</td>\n",
       "      <td>[]</td>\n",
       "      <td>[10, 11]</td>\n",
       "    </tr>\n",
       "    <tr>\n",
       "      <th>4</th>\n",
       "      <td>server_2</td>\n",
       "      <td>output_2</td>\n",
       "      <td>[1]</td>\n",
       "      <td>2</td>\n",
       "      <td>[]</td>\n",
       "      <td>[]</td>\n",
       "      <td>[]</td>\n",
       "    </tr>\n",
       "  </tbody>\n",
       "</table>\n",
       "</div>"
      ],
      "text/plain": [
       "  source_name target_name circuit  window_size    window transit transit_reply\n",
       "0     input_1    server_1     [0]            2    [0, 1]      []        [0, 1]\n",
       "1    server_1    server_2  [0, 1]            2        []      []            []\n",
       "2    server_2    output_1     [0]            2        []      []            []\n",
       "3     input_2    server_1     [1]            2  [10, 11]      []      [10, 11]\n",
       "4    server_2    output_2     [1]            2        []      []            []"
      ]
     },
     "execution_count": 23,
     "metadata": {},
     "output_type": "execute_result"
    }
   ],
   "source": [
    "get_con_props(nw)"
   ]
  },
  {
   "cell_type": "markdown",
   "metadata": {},
   "source": [
    "As the timestep is exactly the same as the latency, the packets have now reached their target server and are added to the buffer. At the same time the target servers reply that these packages have been received. If we now look at the buffers of all nodes:"
   ]
  },
  {
   "cell_type": "code",
   "execution_count": 24,
   "metadata": {},
   "outputs": [
    {
     "data": {
      "text/html": [
       "<div>\n",
       "<style scoped>\n",
       "    .dataframe tbody tr th:only-of-type {\n",
       "        vertical-align: middle;\n",
       "    }\n",
       "\n",
       "    .dataframe tbody tr th {\n",
       "        vertical-align: top;\n",
       "    }\n",
       "\n",
       "    .dataframe thead th {\n",
       "        text-align: right;\n",
       "    }\n",
       "</style>\n",
       "<table border=\"1\" class=\"dataframe\">\n",
       "  <thead>\n",
       "    <tr style=\"text-align: right;\">\n",
       "      <th></th>\n",
       "      <th>name</th>\n",
       "      <th>n_in</th>\n",
       "      <th>n_out</th>\n",
       "      <th>output_circuits</th>\n",
       "      <th>output_buffer</th>\n",
       "    </tr>\n",
       "  </thead>\n",
       "  <tbody>\n",
       "    <tr>\n",
       "      <th>0</th>\n",
       "      <td>input_1</td>\n",
       "      <td>0</td>\n",
       "      <td>1</td>\n",
       "      <td>[[0]]</td>\n",
       "      <td>[[0, 1, 2, 3, 4, 5, 6, 7, 8, 9]]</td>\n",
       "    </tr>\n",
       "    <tr>\n",
       "      <th>1</th>\n",
       "      <td>server_1</td>\n",
       "      <td>2</td>\n",
       "      <td>1</td>\n",
       "      <td>[[0, 1]]</td>\n",
       "      <td>[[1, 10, 0, 11]]</td>\n",
       "    </tr>\n",
       "    <tr>\n",
       "      <th>2</th>\n",
       "      <td>server_2</td>\n",
       "      <td>1</td>\n",
       "      <td>2</td>\n",
       "      <td>[[0], [1]]</td>\n",
       "      <td>[[], []]</td>\n",
       "    </tr>\n",
       "    <tr>\n",
       "      <th>3</th>\n",
       "      <td>output_1</td>\n",
       "      <td>1</td>\n",
       "      <td>0</td>\n",
       "      <td>None</td>\n",
       "      <td>[]</td>\n",
       "    </tr>\n",
       "    <tr>\n",
       "      <th>4</th>\n",
       "      <td>input_2</td>\n",
       "      <td>0</td>\n",
       "      <td>1</td>\n",
       "      <td>[[1]]</td>\n",
       "      <td>[[10, 11, 12, 13, 14, 15, 16, 17, 18, 19]]</td>\n",
       "    </tr>\n",
       "    <tr>\n",
       "      <th>5</th>\n",
       "      <td>output_2</td>\n",
       "      <td>1</td>\n",
       "      <td>0</td>\n",
       "      <td>None</td>\n",
       "      <td>[]</td>\n",
       "    </tr>\n",
       "  </tbody>\n",
       "</table>\n",
       "</div>"
      ],
      "text/plain": [
       "       name n_in n_out output_circuits  \\\n",
       "0   input_1    0     1           [[0]]   \n",
       "1  server_1    2     1        [[0, 1]]   \n",
       "2  server_2    1     2      [[0], [1]]   \n",
       "3  output_1    1     0            None   \n",
       "4   input_2    0     1           [[1]]   \n",
       "5  output_2    1     0            None   \n",
       "\n",
       "                                output_buffer  \n",
       "0            [[0, 1, 2, 3, 4, 5, 6, 7, 8, 9]]  \n",
       "1                            [[1, 10, 0, 11]]  \n",
       "2                                    [[], []]  \n",
       "3                                          []  \n",
       "4  [[10, 11, 12, 13, 14, 15, 16, 17, 18, 19]]  \n",
       "5                                          []  "
      ]
     },
     "execution_count": 24,
     "metadata": {},
     "output_type": "execute_result"
    }
   ],
   "source": [
    "get_node_props(nw)"
   ]
  },
  {
   "cell_type": "markdown",
   "metadata": {},
   "source": [
    "We can see that the packets [0,1,10,11] have reached server_1. As they arrived at the sime time, they are shuffled to have a more realistic output queue. These same packages are also still in the **output_buffer** of their respective senders (input_1 and input_2), as these senders have not received the reply of successfull transmission yet.\n",
    "\n",
    "As we can see in **Out[23]** these packets are also still in the **window** of their respective connection.\n",
    "\n",
    "We can now simulate another step:"
   ]
  },
  {
   "cell_type": "code",
   "execution_count": 25,
   "metadata": {},
   "outputs": [],
   "source": [
    "nw.simulate()"
   ]
  },
  {
   "cell_type": "code",
   "execution_count": 26,
   "metadata": {},
   "outputs": [
    {
     "data": {
      "text/html": [
       "<div>\n",
       "<style scoped>\n",
       "    .dataframe tbody tr th:only-of-type {\n",
       "        vertical-align: middle;\n",
       "    }\n",
       "\n",
       "    .dataframe tbody tr th {\n",
       "        vertical-align: top;\n",
       "    }\n",
       "\n",
       "    .dataframe thead th {\n",
       "        text-align: right;\n",
       "    }\n",
       "</style>\n",
       "<table border=\"1\" class=\"dataframe\">\n",
       "  <thead>\n",
       "    <tr style=\"text-align: right;\">\n",
       "      <th></th>\n",
       "      <th>source_name</th>\n",
       "      <th>target_name</th>\n",
       "      <th>circuit</th>\n",
       "      <th>window_size</th>\n",
       "      <th>window</th>\n",
       "      <th>transit</th>\n",
       "      <th>transit_reply</th>\n",
       "    </tr>\n",
       "  </thead>\n",
       "  <tbody>\n",
       "    <tr>\n",
       "      <th>0</th>\n",
       "      <td>input_1</td>\n",
       "      <td>server_1</td>\n",
       "      <td>[0]</td>\n",
       "      <td>4</td>\n",
       "      <td>[]</td>\n",
       "      <td>[]</td>\n",
       "      <td>[]</td>\n",
       "    </tr>\n",
       "    <tr>\n",
       "      <th>1</th>\n",
       "      <td>server_1</td>\n",
       "      <td>server_2</td>\n",
       "      <td>[0, 1]</td>\n",
       "      <td>2</td>\n",
       "      <td>[1, 10]</td>\n",
       "      <td>[1, 10]</td>\n",
       "      <td>[]</td>\n",
       "    </tr>\n",
       "    <tr>\n",
       "      <th>2</th>\n",
       "      <td>server_2</td>\n",
       "      <td>output_1</td>\n",
       "      <td>[0]</td>\n",
       "      <td>2</td>\n",
       "      <td>[]</td>\n",
       "      <td>[]</td>\n",
       "      <td>[]</td>\n",
       "    </tr>\n",
       "    <tr>\n",
       "      <th>3</th>\n",
       "      <td>input_2</td>\n",
       "      <td>server_1</td>\n",
       "      <td>[1]</td>\n",
       "      <td>4</td>\n",
       "      <td>[]</td>\n",
       "      <td>[]</td>\n",
       "      <td>[]</td>\n",
       "    </tr>\n",
       "    <tr>\n",
       "      <th>4</th>\n",
       "      <td>server_2</td>\n",
       "      <td>output_2</td>\n",
       "      <td>[1]</td>\n",
       "      <td>2</td>\n",
       "      <td>[]</td>\n",
       "      <td>[]</td>\n",
       "      <td>[]</td>\n",
       "    </tr>\n",
       "  </tbody>\n",
       "</table>\n",
       "</div>"
      ],
      "text/plain": [
       "  source_name target_name circuit  window_size   window  transit transit_reply\n",
       "0     input_1    server_1     [0]            4       []       []            []\n",
       "1    server_1    server_2  [0, 1]            2  [1, 10]  [1, 10]            []\n",
       "2    server_2    output_1     [0]            2       []       []            []\n",
       "3     input_2    server_1     [1]            4       []       []            []\n",
       "4    server_2    output_2     [1]            2       []       []            []"
      ]
     },
     "execution_count": 26,
     "metadata": {},
     "output_type": "execute_result"
    }
   ],
   "source": [
    "get_con_props(nw)"
   ]
  },
  {
   "cell_type": "code",
   "execution_count": 27,
   "metadata": {},
   "outputs": [
    {
     "data": {
      "text/html": [
       "<div>\n",
       "<style scoped>\n",
       "    .dataframe tbody tr th:only-of-type {\n",
       "        vertical-align: middle;\n",
       "    }\n",
       "\n",
       "    .dataframe tbody tr th {\n",
       "        vertical-align: top;\n",
       "    }\n",
       "\n",
       "    .dataframe thead th {\n",
       "        text-align: right;\n",
       "    }\n",
       "</style>\n",
       "<table border=\"1\" class=\"dataframe\">\n",
       "  <thead>\n",
       "    <tr style=\"text-align: right;\">\n",
       "      <th></th>\n",
       "      <th>name</th>\n",
       "      <th>n_in</th>\n",
       "      <th>n_out</th>\n",
       "      <th>output_circuits</th>\n",
       "      <th>output_buffer</th>\n",
       "    </tr>\n",
       "  </thead>\n",
       "  <tbody>\n",
       "    <tr>\n",
       "      <th>0</th>\n",
       "      <td>input_1</td>\n",
       "      <td>0</td>\n",
       "      <td>1</td>\n",
       "      <td>[[0]]</td>\n",
       "      <td>[[2, 3, 4, 5, 6, 7, 8, 9]]</td>\n",
       "    </tr>\n",
       "    <tr>\n",
       "      <th>1</th>\n",
       "      <td>server_1</td>\n",
       "      <td>2</td>\n",
       "      <td>1</td>\n",
       "      <td>[[0, 1]]</td>\n",
       "      <td>[[1, 10, 0, 11]]</td>\n",
       "    </tr>\n",
       "    <tr>\n",
       "      <th>2</th>\n",
       "      <td>server_2</td>\n",
       "      <td>1</td>\n",
       "      <td>2</td>\n",
       "      <td>[[0], [1]]</td>\n",
       "      <td>[[], []]</td>\n",
       "    </tr>\n",
       "    <tr>\n",
       "      <th>3</th>\n",
       "      <td>output_1</td>\n",
       "      <td>1</td>\n",
       "      <td>0</td>\n",
       "      <td>None</td>\n",
       "      <td>[]</td>\n",
       "    </tr>\n",
       "    <tr>\n",
       "      <th>4</th>\n",
       "      <td>input_2</td>\n",
       "      <td>0</td>\n",
       "      <td>1</td>\n",
       "      <td>[[1]]</td>\n",
       "      <td>[[12, 13, 14, 15, 16, 17, 18, 19]]</td>\n",
       "    </tr>\n",
       "    <tr>\n",
       "      <th>5</th>\n",
       "      <td>output_2</td>\n",
       "      <td>1</td>\n",
       "      <td>0</td>\n",
       "      <td>None</td>\n",
       "      <td>[]</td>\n",
       "    </tr>\n",
       "  </tbody>\n",
       "</table>\n",
       "</div>"
      ],
      "text/plain": [
       "       name n_in n_out output_circuits                       output_buffer\n",
       "0   input_1    0     1           [[0]]          [[2, 3, 4, 5, 6, 7, 8, 9]]\n",
       "1  server_1    2     1        [[0, 1]]                    [[1, 10, 0, 11]]\n",
       "2  server_2    1     2      [[0], [1]]                            [[], []]\n",
       "3  output_1    1     0            None                                  []\n",
       "4   input_2    0     1           [[1]]  [[12, 13, 14, 15, 16, 17, 18, 19]]\n",
       "5  output_2    1     0            None                                  []"
      ]
     },
     "execution_count": 27,
     "metadata": {},
     "output_type": "execute_result"
    }
   ],
   "source": [
    "get_node_props(nw)"
   ]
  },
  {
   "cell_type": "markdown",
   "metadata": {},
   "source": [
    "Several things have happened now.\n",
    "1. The replies were received at **input_1** and **input_2**. As a result, these packages were removed from\n",
    "   - **transit_reply**\n",
    "   - **window** and \n",
    "   - **output_buffer**.\n",
    "   \n",
    "   \n",
    "2. The windows size was adapted from connection 1 and 3, and grew by one packet for each packet that was successfully sent. This leads to exponential growth and the window size is now 4.\n",
    "\n",
    "3. Connection 1 (from **server_1** to **server_2**) is now sending the first two packages from its output buffer.\n",
    "\n",
    "We now want to provoke another behavior. The loss of packages due to buffer overload of a server. For this we set the value of ```s_max``` for ***server_1*** to 5. "
   ]
  },
  {
   "cell_type": "code",
   "execution_count": 28,
   "metadata": {},
   "outputs": [],
   "source": [
    "server_1.s_max = 5"
   ]
  },
  {
   "cell_type": "markdown",
   "metadata": {},
   "source": [
    "And simulate another two steps:"
   ]
  },
  {
   "cell_type": "code",
   "execution_count": 29,
   "metadata": {},
   "outputs": [],
   "source": [
    "nw.simulate()\n",
    "nw.simulate()"
   ]
  },
  {
   "cell_type": "code",
   "execution_count": 30,
   "metadata": {},
   "outputs": [
    {
     "data": {
      "text/html": [
       "<div>\n",
       "<style scoped>\n",
       "    .dataframe tbody tr th:only-of-type {\n",
       "        vertical-align: middle;\n",
       "    }\n",
       "\n",
       "    .dataframe tbody tr th {\n",
       "        vertical-align: top;\n",
       "    }\n",
       "\n",
       "    .dataframe thead th {\n",
       "        text-align: right;\n",
       "    }\n",
       "</style>\n",
       "<table border=\"1\" class=\"dataframe\">\n",
       "  <thead>\n",
       "    <tr style=\"text-align: right;\">\n",
       "      <th></th>\n",
       "      <th>source_name</th>\n",
       "      <th>target_name</th>\n",
       "      <th>circuit</th>\n",
       "      <th>window_size</th>\n",
       "      <th>window</th>\n",
       "      <th>transit</th>\n",
       "      <th>transit_reply</th>\n",
       "    </tr>\n",
       "  </thead>\n",
       "  <tbody>\n",
       "    <tr>\n",
       "      <th>0</th>\n",
       "      <td>input_1</td>\n",
       "      <td>server_1</td>\n",
       "      <td>[0]</td>\n",
       "      <td>4</td>\n",
       "      <td>[2, 3, 4, 5]</td>\n",
       "      <td>[]</td>\n",
       "      <td>[2]</td>\n",
       "    </tr>\n",
       "    <tr>\n",
       "      <th>1</th>\n",
       "      <td>server_1</td>\n",
       "      <td>server_2</td>\n",
       "      <td>[0, 1]</td>\n",
       "      <td>4</td>\n",
       "      <td>[]</td>\n",
       "      <td>[]</td>\n",
       "      <td>[]</td>\n",
       "    </tr>\n",
       "    <tr>\n",
       "      <th>2</th>\n",
       "      <td>server_2</td>\n",
       "      <td>output_1</td>\n",
       "      <td>[0]</td>\n",
       "      <td>2</td>\n",
       "      <td>[1]</td>\n",
       "      <td>[1]</td>\n",
       "      <td>[]</td>\n",
       "    </tr>\n",
       "    <tr>\n",
       "      <th>3</th>\n",
       "      <td>input_2</td>\n",
       "      <td>server_1</td>\n",
       "      <td>[1]</td>\n",
       "      <td>4</td>\n",
       "      <td>[12, 13, 14, 15]</td>\n",
       "      <td>[]</td>\n",
       "      <td>[12, 13]</td>\n",
       "    </tr>\n",
       "    <tr>\n",
       "      <th>4</th>\n",
       "      <td>server_2</td>\n",
       "      <td>output_2</td>\n",
       "      <td>[1]</td>\n",
       "      <td>2</td>\n",
       "      <td>[10]</td>\n",
       "      <td>[10]</td>\n",
       "      <td>[]</td>\n",
       "    </tr>\n",
       "  </tbody>\n",
       "</table>\n",
       "</div>"
      ],
      "text/plain": [
       "  source_name target_name circuit  window_size            window transit  \\\n",
       "0     input_1    server_1     [0]            4      [2, 3, 4, 5]      []   \n",
       "1    server_1    server_2  [0, 1]            4                []      []   \n",
       "2    server_2    output_1     [0]            2               [1]     [1]   \n",
       "3     input_2    server_1     [1]            4  [12, 13, 14, 15]      []   \n",
       "4    server_2    output_2     [1]            2              [10]    [10]   \n",
       "\n",
       "  transit_reply  \n",
       "0           [2]  \n",
       "1            []  \n",
       "2            []  \n",
       "3      [12, 13]  \n",
       "4            []  "
      ]
     },
     "execution_count": 30,
     "metadata": {},
     "output_type": "execute_result"
    }
   ],
   "source": [
    "get_con_props(nw)"
   ]
  },
  {
   "cell_type": "code",
   "execution_count": 31,
   "metadata": {},
   "outputs": [
    {
     "data": {
      "text/html": [
       "<div>\n",
       "<style scoped>\n",
       "    .dataframe tbody tr th:only-of-type {\n",
       "        vertical-align: middle;\n",
       "    }\n",
       "\n",
       "    .dataframe tbody tr th {\n",
       "        vertical-align: top;\n",
       "    }\n",
       "\n",
       "    .dataframe thead th {\n",
       "        text-align: right;\n",
       "    }\n",
       "</style>\n",
       "<table border=\"1\" class=\"dataframe\">\n",
       "  <thead>\n",
       "    <tr style=\"text-align: right;\">\n",
       "      <th></th>\n",
       "      <th>name</th>\n",
       "      <th>n_in</th>\n",
       "      <th>n_out</th>\n",
       "      <th>output_circuits</th>\n",
       "      <th>output_buffer</th>\n",
       "    </tr>\n",
       "  </thead>\n",
       "  <tbody>\n",
       "    <tr>\n",
       "      <th>0</th>\n",
       "      <td>input_1</td>\n",
       "      <td>0</td>\n",
       "      <td>1</td>\n",
       "      <td>[[0]]</td>\n",
       "      <td>[[2, 3, 4, 5, 6, 7, 8, 9]]</td>\n",
       "    </tr>\n",
       "    <tr>\n",
       "      <th>1</th>\n",
       "      <td>server_1</td>\n",
       "      <td>2</td>\n",
       "      <td>1</td>\n",
       "      <td>[[0, 1]]</td>\n",
       "      <td>[[0, 11, 12, 13, 2]]</td>\n",
       "    </tr>\n",
       "    <tr>\n",
       "      <th>2</th>\n",
       "      <td>server_2</td>\n",
       "      <td>1</td>\n",
       "      <td>2</td>\n",
       "      <td>[[0], [1]]</td>\n",
       "      <td>[[1], [10]]</td>\n",
       "    </tr>\n",
       "    <tr>\n",
       "      <th>3</th>\n",
       "      <td>output_1</td>\n",
       "      <td>1</td>\n",
       "      <td>0</td>\n",
       "      <td>None</td>\n",
       "      <td>[]</td>\n",
       "    </tr>\n",
       "    <tr>\n",
       "      <th>4</th>\n",
       "      <td>input_2</td>\n",
       "      <td>0</td>\n",
       "      <td>1</td>\n",
       "      <td>[[1]]</td>\n",
       "      <td>[[12, 13, 14, 15, 16, 17, 18, 19]]</td>\n",
       "    </tr>\n",
       "    <tr>\n",
       "      <th>5</th>\n",
       "      <td>output_2</td>\n",
       "      <td>1</td>\n",
       "      <td>0</td>\n",
       "      <td>None</td>\n",
       "      <td>[]</td>\n",
       "    </tr>\n",
       "  </tbody>\n",
       "</table>\n",
       "</div>"
      ],
      "text/plain": [
       "       name n_in n_out output_circuits                       output_buffer\n",
       "0   input_1    0     1           [[0]]          [[2, 3, 4, 5, 6, 7, 8, 9]]\n",
       "1  server_1    2     1        [[0, 1]]                [[0, 11, 12, 13, 2]]\n",
       "2  server_2    1     2      [[0], [1]]                         [[1], [10]]\n",
       "3  output_1    1     0            None                                  []\n",
       "4   input_2    0     1           [[1]]  [[12, 13, 14, 15, 16, 17, 18, 19]]\n",
       "5  output_2    1     0            None                                  []"
      ]
     },
     "execution_count": 31,
     "metadata": {},
     "output_type": "execute_result"
    }
   ],
   "source": [
    "get_node_props(nw)"
   ]
  },
  {
   "cell_type": "markdown",
   "metadata": {},
   "source": [
    "Several things have happened. First of all we see, that in fact **server_1** now contains 5 elements. Furthermore, connection 0 and 3 tried to send more packages than could be processed in server_1. As a consequence, some packets were dropped. This can be seen by comparing ```nw.connections['window']``` with ```nw.connections['transit_reply']```.\n",
    "\n",
    "It is noteworthy that this is just one possible scenario as their is some randomness in the process. This randomness is introduced by processing the connections in random order. If for example connection 1 would have fired prior to connection 0 and 3, the buffer would have been able to except more packages. This is because it was  awaiting replies that clear the buffer."
   ]
  },
  {
   "cell_type": "code",
   "execution_count": 32,
   "metadata": {},
   "outputs": [],
   "source": [
    "nw.simulate()"
   ]
  },
  {
   "cell_type": "code",
   "execution_count": 33,
   "metadata": {},
   "outputs": [
    {
     "data": {
      "text/html": [
       "<div>\n",
       "<style scoped>\n",
       "    .dataframe tbody tr th:only-of-type {\n",
       "        vertical-align: middle;\n",
       "    }\n",
       "\n",
       "    .dataframe tbody tr th {\n",
       "        vertical-align: top;\n",
       "    }\n",
       "\n",
       "    .dataframe thead th {\n",
       "        text-align: right;\n",
       "    }\n",
       "</style>\n",
       "<table border=\"1\" class=\"dataframe\">\n",
       "  <thead>\n",
       "    <tr style=\"text-align: right;\">\n",
       "      <th></th>\n",
       "      <th>source_name</th>\n",
       "      <th>target_name</th>\n",
       "      <th>circuit</th>\n",
       "      <th>window_size</th>\n",
       "      <th>window</th>\n",
       "      <th>transit</th>\n",
       "      <th>transit_reply</th>\n",
       "    </tr>\n",
       "  </thead>\n",
       "  <tbody>\n",
       "    <tr>\n",
       "      <th>0</th>\n",
       "      <td>input_1</td>\n",
       "      <td>server_1</td>\n",
       "      <td>[0]</td>\n",
       "      <td>5</td>\n",
       "      <td>[3, 4, 5]</td>\n",
       "      <td>[]</td>\n",
       "      <td>[]</td>\n",
       "    </tr>\n",
       "    <tr>\n",
       "      <th>1</th>\n",
       "      <td>server_1</td>\n",
       "      <td>server_2</td>\n",
       "      <td>[0, 1]</td>\n",
       "      <td>4</td>\n",
       "      <td>[0, 11, 12, 13]</td>\n",
       "      <td>[0, 11, 12, 13]</td>\n",
       "      <td>[]</td>\n",
       "    </tr>\n",
       "    <tr>\n",
       "      <th>2</th>\n",
       "      <td>server_2</td>\n",
       "      <td>output_1</td>\n",
       "      <td>[0]</td>\n",
       "      <td>2</td>\n",
       "      <td>[1]</td>\n",
       "      <td>[]</td>\n",
       "      <td>[1]</td>\n",
       "    </tr>\n",
       "    <tr>\n",
       "      <th>3</th>\n",
       "      <td>input_2</td>\n",
       "      <td>server_1</td>\n",
       "      <td>[1]</td>\n",
       "      <td>6</td>\n",
       "      <td>[14, 15]</td>\n",
       "      <td>[]</td>\n",
       "      <td>[]</td>\n",
       "    </tr>\n",
       "    <tr>\n",
       "      <th>4</th>\n",
       "      <td>server_2</td>\n",
       "      <td>output_2</td>\n",
       "      <td>[1]</td>\n",
       "      <td>2</td>\n",
       "      <td>[10]</td>\n",
       "      <td>[]</td>\n",
       "      <td>[10]</td>\n",
       "    </tr>\n",
       "  </tbody>\n",
       "</table>\n",
       "</div>"
      ],
      "text/plain": [
       "  source_name target_name circuit  window_size           window  \\\n",
       "0     input_1    server_1     [0]            5        [3, 4, 5]   \n",
       "1    server_1    server_2  [0, 1]            4  [0, 11, 12, 13]   \n",
       "2    server_2    output_1     [0]            2              [1]   \n",
       "3     input_2    server_1     [1]            6         [14, 15]   \n",
       "4    server_2    output_2     [1]            2             [10]   \n",
       "\n",
       "           transit transit_reply  \n",
       "0               []            []  \n",
       "1  [0, 11, 12, 13]            []  \n",
       "2               []           [1]  \n",
       "3               []            []  \n",
       "4               []          [10]  "
      ]
     },
     "execution_count": 33,
     "metadata": {},
     "output_type": "execute_result"
    }
   ],
   "source": [
    "get_con_props(nw)"
   ]
  },
  {
   "cell_type": "markdown",
   "metadata": {},
   "source": [
    "After another simulation step, the replies for the few packages that were accepted in server_1 are received in ***input_1*** and ***input_2***. The window is adapted but not empty and these clients are still awaiting the replies for the remaining packages. The window size grew by one, as one packet was successfully sent.\n",
    "\n",
    "The timeout is set to only ```timeout = 0.03```, which is exactly three timesteps. So when we simulate another step:"
   ]
  },
  {
   "cell_type": "code",
   "execution_count": 34,
   "metadata": {},
   "outputs": [],
   "source": [
    "nw.simulate()"
   ]
  },
  {
   "cell_type": "code",
   "execution_count": 35,
   "metadata": {},
   "outputs": [
    {
     "data": {
      "text/html": [
       "<div>\n",
       "<style scoped>\n",
       "    .dataframe tbody tr th:only-of-type {\n",
       "        vertical-align: middle;\n",
       "    }\n",
       "\n",
       "    .dataframe tbody tr th {\n",
       "        vertical-align: top;\n",
       "    }\n",
       "\n",
       "    .dataframe thead th {\n",
       "        text-align: right;\n",
       "    }\n",
       "</style>\n",
       "<table border=\"1\" class=\"dataframe\">\n",
       "  <thead>\n",
       "    <tr style=\"text-align: right;\">\n",
       "      <th></th>\n",
       "      <th>source_name</th>\n",
       "      <th>target_name</th>\n",
       "      <th>circuit</th>\n",
       "      <th>window_size</th>\n",
       "      <th>window</th>\n",
       "      <th>transit</th>\n",
       "      <th>transit_reply</th>\n",
       "    </tr>\n",
       "  </thead>\n",
       "  <tbody>\n",
       "    <tr>\n",
       "      <th>0</th>\n",
       "      <td>input_1</td>\n",
       "      <td>server_1</td>\n",
       "      <td>[0]</td>\n",
       "      <td>2.5</td>\n",
       "      <td>[3, 4]</td>\n",
       "      <td>[3, 4]</td>\n",
       "      <td>[]</td>\n",
       "    </tr>\n",
       "    <tr>\n",
       "      <th>1</th>\n",
       "      <td>server_1</td>\n",
       "      <td>server_2</td>\n",
       "      <td>[0, 1]</td>\n",
       "      <td>4.0</td>\n",
       "      <td>[0, 11, 12, 13]</td>\n",
       "      <td>[]</td>\n",
       "      <td>[0, 11, 12, 13]</td>\n",
       "    </tr>\n",
       "    <tr>\n",
       "      <th>2</th>\n",
       "      <td>server_2</td>\n",
       "      <td>output_1</td>\n",
       "      <td>[0]</td>\n",
       "      <td>3.0</td>\n",
       "      <td>[]</td>\n",
       "      <td>[]</td>\n",
       "      <td>[]</td>\n",
       "    </tr>\n",
       "    <tr>\n",
       "      <th>3</th>\n",
       "      <td>input_2</td>\n",
       "      <td>server_1</td>\n",
       "      <td>[1]</td>\n",
       "      <td>3.0</td>\n",
       "      <td>[14, 15, 16]</td>\n",
       "      <td>[14, 15, 16]</td>\n",
       "      <td>[]</td>\n",
       "    </tr>\n",
       "    <tr>\n",
       "      <th>4</th>\n",
       "      <td>server_2</td>\n",
       "      <td>output_2</td>\n",
       "      <td>[1]</td>\n",
       "      <td>3.0</td>\n",
       "      <td>[]</td>\n",
       "      <td>[]</td>\n",
       "      <td>[]</td>\n",
       "    </tr>\n",
       "  </tbody>\n",
       "</table>\n",
       "</div>"
      ],
      "text/plain": [
       "  source_name target_name circuit  window_size           window       transit  \\\n",
       "0     input_1    server_1     [0]          2.5           [3, 4]        [3, 4]   \n",
       "1    server_1    server_2  [0, 1]          4.0  [0, 11, 12, 13]            []   \n",
       "2    server_2    output_1     [0]          3.0               []            []   \n",
       "3     input_2    server_1     [1]          3.0     [14, 15, 16]  [14, 15, 16]   \n",
       "4    server_2    output_2     [1]          3.0               []            []   \n",
       "\n",
       "     transit_reply  \n",
       "0               []  \n",
       "1  [0, 11, 12, 13]  \n",
       "2               []  \n",
       "3               []  \n",
       "4               []  "
      ]
     },
     "execution_count": 35,
     "metadata": {},
     "output_type": "execute_result"
    }
   ],
   "source": [
    "get_con_props(nw)"
   ]
  },
  {
   "cell_type": "markdown",
   "metadata": {},
   "source": [
    "We see that the timeout event was triggered with the following consequences:\n",
    "- the window size is adapted. Connection 0 and 3 had a window size of 4, which is now halfed and set to 2.5. Note that real numbers for the window size are possible and required* but are rounded down when it comes to the actual number of packets in the current window.\n",
    "- The new windows size results in sending only packets [3,4] for connection 0 again.\n",
    "\n",
    "*The window size growths exponentially while beeing below a certain threshold. This is realized by sending two new packet for each packet that is sucessfully received. In other words the window size growths by one, for each packet. When the linear growth threshold is reached, the window size growths only by 1/window_size  for each packet, which results in real numbers."
   ]
  },
  {
   "cell_type": "markdown",
   "metadata": {},
   "source": [
    "We now reset the s_max values for server 1 and 2 to ```s_max = 20``` and run a simulation over a couply of steps, where the inputs create continously new packages. We record the window_size for each connection and the buffer_memory for each node over time."
   ]
  },
  {
   "cell_type": "code",
   "execution_count": 36,
   "metadata": {},
   "outputs": [],
   "source": [
    "server_1.s_max = 20\n",
    "server_2.s_max = 20"
   ]
  },
  {
   "cell_type": "markdown",
   "metadata": {},
   "source": [
    "In the simulation below we create constantly new packages at **intput_1** and **input_2** at a rate of 3 packages per timestep, if ```s < s_max ```. We also stop adding new packages after 30 of the total 50 timesteps. The network will than have time to transport all remaining packages to the targets.\n",
    "\n",
    "Note that packages that reach the output nodes immediatly disappear. This is realized by marking the respective indices in the ```data.packet_list``` as \"empty\". Packages that are newly spawned can take their place."
   ]
  },
  {
   "cell_type": "code",
   "execution_count": 39,
   "metadata": {
    "scrolled": true
   },
   "outputs": [],
   "source": [
    "s_list = []\n",
    "win_size_list = []\n",
    "t = []\n",
    "\n",
    "n_steps = 50\n",
    " \n",
    "for k in range(n_steps):\n",
    "    if k<30 and input_1.s <= input_1.s_max:\n",
    "        input_1.add_2_buffer(buffer_ind=0, circuit=0, n_packets=3, tnow=nw.t)\n",
    "    if k<30 and input_2.s <= input_2.s_max:\n",
    "        input_2.add_2_buffer(buffer_ind=0, circuit=1, n_packets=3, tnow=nw.t)\n",
    "        \n",
    "    s_k = nw.nodes.apply(lambda row: row['node'].s, axis=1).tolist()\n",
    "    win_size = nw.connections.apply(lambda row: row['prop'].window_size, axis=1).tolist()\n",
    "    \n",
    "    s_list.append(s_k)\n",
    "    win_size_list.append(win_size)\n",
    "    t.append(nw.t)\n",
    "    \n",
    "    nw.simulate()\n",
    "    \n",
    "    nw.nodes.apply(get_circuit_size, axis=1)\n",
    "\n",
    "win_size_list = np.array(win_size_list)\n",
    "s_list = np.array(s_list)\n",
    "t = np.array(t)"
   ]
  },
  {
   "cell_type": "code",
   "execution_count": 40,
   "metadata": {
    "scrolled": false
   },
   "outputs": [
    {
     "data": {
      "image/png": "[encoded data removed]",
      "text/plain": [
       "<Figure size 936x360 with 2 Axes>"
      ]
     },
     "metadata": {
      "needs_background": "light"
     },
     "output_type": "display_data"
    }
   ],
   "source": [
    "fig,ax = plt.subplots(1,2, figsize=[13,5])\n",
    "lines = ax[0].plot(t, s_list)\n",
    "ax[0].set_title('Buffer storage')\n",
    "ax[0].set_ylabel('# packets')\n",
    "ax[0].set_xlabel('time [s]')\n",
    "ax[0].legend((lines),(nw.nodes.name.tolist()))\n",
    "lines = ax[1].plot(t, win_size_list)\n",
    "ax[1].legend((lines),(nw.connections.index.tolist()), title='Con #:')\n",
    "ax[1].set_title('window size')\n",
    "ax[1].set_xlabel('time [s]')\n",
    "plt.tight_layout()\n",
    "plt.show()"
   ]
  },
  {
   "cell_type": "code",
   "execution_count": 41,
   "metadata": {},
   "outputs": [
    {
     "data": {
      "image/png": "[encoded data removed]",
      "text/plain": [
       "<Figure size 936x360 with 2 Axes>"
      ]
     },
     "metadata": {
      "needs_background": "light"
     },
     "output_type": "display_data"
    }
   ],
   "source": [
    "dat.packet_list[dat.packet_list['ttransit'] != np.inf].hist(by='circuit', column='ttransit', figsize=[13, 5], sharex=True,sharey=True)\n",
    "plt.tight_layout()\n",
    "plt.show()"
   ]
  },
  {
   "cell_type": "markdown",
   "metadata": {},
   "source": []
  }
 ],
 "metadata": {
  "kernelspec": {
   "display_name": "Python 3.6, 64bit",
   "language": "python",
   "name": "py36_64bit"
  },
  "language_info": {
   "codemirror_mode": {
    "name": "ipython",
    "version": 3
   },
   "file_extension": ".py",
   "mimetype": "text/x-python",
   "name": "python",
   "nbconvert_exporter": "python",
   "pygments_lexer": "ipython3",
   "version": "3.6.8"
  }
 },
 "nbformat": 4,
 "nbformat_minor": 2
}
