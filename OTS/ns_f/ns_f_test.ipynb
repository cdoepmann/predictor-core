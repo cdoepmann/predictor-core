{
 "cells": [
  {
   "cell_type": "code",
   "execution_count": 1,
   "metadata": {},
   "outputs": [],
   "source": [
    "import numpy as np\n",
    "import matplotlib.pyplot as plt\n",
    "%matplotlib notebook\n",
    "\n",
    "from ns_f import *"
   ]
  },
  {
   "cell_type": "markdown",
   "metadata": {},
   "source": [
    "Create global classes:\n",
    "- **data**: Predefinded list of fixed size that tracks all packages in the network. This class is shared among all elements of the network and has a fixed size. Packets that leave the network (reach the destination) are deleted from data and make space for new packets. \n",
    "- **global_ident**: This class is also shared among all elements of the network and can be used to create a unique identifier for new packages."
   ]
  },
  {
   "cell_type": "code",
   "execution_count": 2,
   "metadata": {},
   "outputs": [],
   "source": [
    "dat = data(packet_list_size=1000)\n",
    "ident = global_ident()"
   ]
  },
  {
   "cell_type": "markdown",
   "metadata": {},
   "source": [
    "Let's quickly check the (first three elements of) dat table:"
   ]
  },
  {
   "cell_type": "code",
   "execution_count": 3,
   "metadata": {
    "scrolled": true
   },
   "outputs": [
    {
     "data": {
      "text/html": [
       "<div>\n",
       "<style scoped>\n",
       "    .dataframe tbody tr th:only-of-type {\n",
       "        vertical-align: middle;\n",
       "    }\n",
       "\n",
       "    .dataframe tbody tr th {\n",
       "        vertical-align: top;\n",
       "    }\n",
       "\n",
       "    .dataframe thead th {\n",
       "        text-align: right;\n",
       "    }\n",
       "</style>\n",
       "<table border=\"1\" class=\"dataframe\">\n",
       "  <thead>\n",
       "    <tr style=\"text-align: right;\">\n",
       "      <th></th>\n",
       "      <th>ident</th>\n",
       "      <th>circuit</th>\n",
       "      <th>ts</th>\n",
       "      <th>tr</th>\n",
       "    </tr>\n",
       "  </thead>\n",
       "  <tbody>\n",
       "    <tr>\n",
       "      <th>0</th>\n",
       "      <td>NaN</td>\n",
       "      <td>NaN</td>\n",
       "      <td>inf</td>\n",
       "      <td>inf</td>\n",
       "    </tr>\n",
       "    <tr>\n",
       "      <th>1</th>\n",
       "      <td>NaN</td>\n",
       "      <td>NaN</td>\n",
       "      <td>inf</td>\n",
       "      <td>inf</td>\n",
       "    </tr>\n",
       "    <tr>\n",
       "      <th>2</th>\n",
       "      <td>NaN</td>\n",
       "      <td>NaN</td>\n",
       "      <td>inf</td>\n",
       "      <td>inf</td>\n",
       "    </tr>\n",
       "  </tbody>\n",
       "</table>\n",
       "</div>"
      ],
      "text/plain": [
       "  ident circuit   ts   tr\n",
       "0   NaN     NaN  inf  inf\n",
       "1   NaN     NaN  inf  inf\n",
       "2   NaN     NaN  inf  inf"
      ]
     },
     "execution_count": 3,
     "metadata": {},
     "output_type": "execute_result"
    }
   ],
   "source": [
    "dat.package_list.head(3)"
   ]
  },
  {
   "cell_type": "markdown",
   "metadata": {},
   "source": [
    "Note again that the table is blank. There are no packages in the network just yet.\n",
    "Later the current status of each package is tracked with lists of indices refering to this table. **This is a very important concept**: Whenever a packet is in a buffer, in transit or processed, lists of indices are read, copied, altered or stored."
   ]
  },
  {
   "cell_type": "markdown",
   "metadata": {},
   "source": [
    "Create a setup dict for all the servers (nodes) that are created. For the test, all servers will have the same properties.\n",
    "- **v_max**: Maximum number of packets that can be send per second\n",
    "- **s_max**: Maximum number of packets that can be (combined) in all the input/output buffers of the server\n",
    "- **timeout**: time duration after which a sent packet is considered 'lost'. Timeout will trigger to adjust the window size."
   ]
  },
  {
   "cell_type": "code",
   "execution_count": 4,
   "metadata": {},
   "outputs": [],
   "source": [
    "setup_dict = {}\n",
    "setup_dict['v_max'] = 1000   # packets / s\n",
    "setup_dict['s_max'] = 30     # packets\n",
    "setup_dict['timeout'] = 1    # s"
   ]
  },
  {
   "cell_type": "markdown",
   "metadata": {},
   "source": [
    "Lets create some objects:"
   ]
  },
  {
   "cell_type": "code",
   "execution_count": 5,
   "metadata": {},
   "outputs": [],
   "source": [
    "input_1  = server(setup_dict, ident, dat, name='input_1' )\n",
    "input_2  = server(setup_dict, ident, dat, name='input_2' )\n",
    "output_1 = server(setup_dict, ident, dat, name='output_1')\n",
    "output_2 = server(setup_dict, ident, dat, name='output_2')\n",
    "server_1 = server(setup_dict, ident, dat, name='server_1')\n",
    "server_2 = server(setup_dict, ident, dat, name='server_2')"
   ]
  },
  {
   "cell_type": "markdown",
   "metadata": {},
   "source": [
    "And define the routes of two circuits through the network:"
   ]
  },
  {
   "cell_type": "code",
   "execution_count": 6,
   "metadata": {},
   "outputs": [],
   "source": [
    "circuits = [\n",
    "    {'route': [input_1, server_1, server_2, output_1]},\n",
    "    {'route': [input_2, server_1, server_2, output_2]},\n",
    "]"
   ]
  },
  {
   "cell_type": "markdown",
   "metadata": {},
   "source": [
    "Finally we create the network class, which needs only the data object from above for its \"__init__\". We can optionally define the timestep and initial time (in seconds):"
   ]
  },
  {
   "cell_type": "code",
   "execution_count": 7,
   "metadata": {},
   "outputs": [],
   "source": [
    "nw = network(data=dat, t0=0, dt=0.01)"
   ]
  },
  {
   "cell_type": "markdown",
   "metadata": {},
   "source": [
    "The first method we invoke is .from_circuits. This will create a table of nodes and connections and determine some relevant properties:"
   ]
  },
  {
   "cell_type": "code",
   "execution_count": 8,
   "metadata": {},
   "outputs": [],
   "source": [
    "nw.from_circuits(circuits)"
   ]
  },
  {
   "cell_type": "markdown",
   "metadata": {},
   "source": [
    "If graph_tool is available, we can quickly visualize the network. The important objects: **connections** and **nodes** will be discussed below."
   ]
  },
  {
   "cell_type": "code",
   "execution_count": 49,
   "metadata": {},
   "outputs": [
    {
     "data": {
      "image/png": "[encoded data removed]",
      "text/plain": [
       "<IPython.core.display.Image object>"
      ]
     },
     "metadata": {},
     "output_type": "display_data"
    },
    {
     "data": {
      "text/plain": [
       "<PropertyMap object with key type 'Vertex' and value type 'vector<double>', for Graph 0x7fc8b690c0f0, at 0x7fc8b690c128>"
      ]
     },
     "execution_count": 49,
     "metadata": {},
     "output_type": "execute_result"
    }
   ],
   "source": [
    "import graph_tool.all as gt\n",
    "edge_list, node_list = nw.connections, nw.nodes\n",
    "\n",
    "# Create Graph and populate with edges and vertices:\n",
    "g = gt.Graph()\n",
    "vert_prop = {}\n",
    "vert_prop['text'] = g.new_vertex_property('string')\n",
    "\n",
    "node_list['vert'] = None\n",
    "for i, node_i in node_list.iterrows():\n",
    "    node_list['vert'][i] = g.add_vertex()\n",
    "    vert_prop['text'][node_list['vert'][i]] = node_i['name']\n",
    "# Add an edge to the graph for every connection and \n",
    "# save it with the respective 'source' and 'target' objects:\n",
    "edge_list['edge'] = None\n",
    "for i, edge_i in edge_list.iterrows():\n",
    "    source_i = node_list[node_list['node'] == edge_i['source']]\n",
    "    target_i = node_list[node_list['node'] == edge_i['target']]\n",
    "    edge_list['edge'][i] = g.add_edge(source_i.vert.values[0], target_i.vert.values[0])\n",
    "    \n",
    "pos = gt.sfdp_layout(g, K=0.5)\n",
    "gt.graph_draw(g, pos=pos, vprops=vert_prop, output_size=[800,400])"
   ]
  },
  {
   "cell_type": "markdown",
   "metadata": {},
   "source": [
    "Lets investigate these objects. First the nodes:"
   ]
  },
  {
   "cell_type": "code",
   "execution_count": 9,
   "metadata": {
    "scrolled": false
   },
   "outputs": [
    {
     "data": {
      "text/html": [
       "<div>\n",
       "<style scoped>\n",
       "    .dataframe tbody tr th:only-of-type {\n",
       "        vertical-align: middle;\n",
       "    }\n",
       "\n",
       "    .dataframe tbody tr th {\n",
       "        vertical-align: top;\n",
       "    }\n",
       "\n",
       "    .dataframe thead th {\n",
       "        text-align: right;\n",
       "    }\n",
       "</style>\n",
       "<table border=\"1\" class=\"dataframe\">\n",
       "  <thead>\n",
       "    <tr style=\"text-align: right;\">\n",
       "      <th></th>\n",
       "      <th>node</th>\n",
       "      <th>name</th>\n",
       "      <th>con_target</th>\n",
       "      <th>n_in</th>\n",
       "      <th>con_source</th>\n",
       "      <th>n_out</th>\n",
       "      <th>output_circuits</th>\n",
       "    </tr>\n",
       "  </thead>\n",
       "  <tbody>\n",
       "    <tr>\n",
       "      <th>0</th>\n",
       "      <td>&lt;ns_f.server object at 0x7fc8cefabef0&gt;</td>\n",
       "      <td>input_1</td>\n",
       "      <td>[False, False, False, False, False]</td>\n",
       "      <td>0</td>\n",
       "      <td>[True, False, False, False, False]</td>\n",
       "      <td>1</td>\n",
       "      <td>[[0]]</td>\n",
       "    </tr>\n",
       "    <tr>\n",
       "      <th>1</th>\n",
       "      <td>&lt;ns_f.server object at 0x7fc8cefabb70&gt;</td>\n",
       "      <td>server_1</td>\n",
       "      <td>[True, False, False, True, False]</td>\n",
       "      <td>2</td>\n",
       "      <td>[False, True, False, False, False]</td>\n",
       "      <td>1</td>\n",
       "      <td>[[0, 1]]</td>\n",
       "    </tr>\n",
       "    <tr>\n",
       "      <th>2</th>\n",
       "      <td>&lt;ns_f.server object at 0x7fc8cefabeb8&gt;</td>\n",
       "      <td>server_2</td>\n",
       "      <td>[False, True, False, False, False]</td>\n",
       "      <td>1</td>\n",
       "      <td>[False, False, True, False, True]</td>\n",
       "      <td>2</td>\n",
       "      <td>[[0], [1]]</td>\n",
       "    </tr>\n",
       "    <tr>\n",
       "      <th>3</th>\n",
       "      <td>&lt;ns_f.server object at 0x7fc8cefabcf8&gt;</td>\n",
       "      <td>output_1</td>\n",
       "      <td>[False, False, True, False, False]</td>\n",
       "      <td>1</td>\n",
       "      <td>[False, False, False, False, False]</td>\n",
       "      <td>0</td>\n",
       "      <td>None</td>\n",
       "    </tr>\n",
       "    <tr>\n",
       "      <th>4</th>\n",
       "      <td>&lt;ns_f.server object at 0x7fc8cefab208&gt;</td>\n",
       "      <td>input_2</td>\n",
       "      <td>[False, False, False, False, False]</td>\n",
       "      <td>0</td>\n",
       "      <td>[False, False, False, True, False]</td>\n",
       "      <td>1</td>\n",
       "      <td>[[1]]</td>\n",
       "    </tr>\n",
       "    <tr>\n",
       "      <th>5</th>\n",
       "      <td>&lt;ns_f.server object at 0x7fc8cefabdd8&gt;</td>\n",
       "      <td>output_2</td>\n",
       "      <td>[False, False, False, False, True]</td>\n",
       "      <td>1</td>\n",
       "      <td>[False, False, False, False, False]</td>\n",
       "      <td>0</td>\n",
       "      <td>None</td>\n",
       "    </tr>\n",
       "  </tbody>\n",
       "</table>\n",
       "</div>"
      ],
      "text/plain": [
       "                                     node      name  \\\n",
       "0  <ns_f.server object at 0x7fc8cefabef0>   input_1   \n",
       "1  <ns_f.server object at 0x7fc8cefabb70>  server_1   \n",
       "2  <ns_f.server object at 0x7fc8cefabeb8>  server_2   \n",
       "3  <ns_f.server object at 0x7fc8cefabcf8>  output_1   \n",
       "4  <ns_f.server object at 0x7fc8cefab208>   input_2   \n",
       "5  <ns_f.server object at 0x7fc8cefabdd8>  output_2   \n",
       "\n",
       "                            con_target n_in  \\\n",
       "0  [False, False, False, False, False]    0   \n",
       "1    [True, False, False, True, False]    2   \n",
       "2   [False, True, False, False, False]    1   \n",
       "3   [False, False, True, False, False]    1   \n",
       "4  [False, False, False, False, False]    0   \n",
       "5   [False, False, False, False, True]    1   \n",
       "\n",
       "                            con_source n_out output_circuits  \n",
       "0   [True, False, False, False, False]     1           [[0]]  \n",
       "1   [False, True, False, False, False]     1        [[0, 1]]  \n",
       "2    [False, False, True, False, True]     2      [[0], [1]]  \n",
       "3  [False, False, False, False, False]     0            None  \n",
       "4   [False, False, False, True, False]     1           [[1]]  \n",
       "5  [False, False, False, False, False]     0            None  "
      ]
     },
     "execution_count": 9,
     "metadata": {},
     "output_type": "execute_result"
    }
   ],
   "source": [
    "nw.nodes"
   ]
  },
  {
   "cell_type": "markdown",
   "metadata": {},
   "source": [
    "- **node** / name: Reference to one of the server objects that were created above.\n",
    "- **n_in**: Number of inputs\n",
    "- **n_out**: Number of output\n",
    "\n",
    "- **con_source**: For which connections is the current node the source (Note that this boolean array has the same number of elements as the number of connections).\n",
    "- **con_target**: Similarly, for which connections the current node is the target\n",
    "- **output_circuits**: A list item for each output_buffer that contains the circuits that are in this buffer"
   ]
  },
  {
   "cell_type": "markdown",
   "metadata": {},
   "source": [
    "Now the connections:"
   ]
  },
  {
   "cell_type": "code",
   "execution_count": 10,
   "metadata": {},
   "outputs": [
    {
     "data": {
      "text/html": [
       "<div>\n",
       "<style scoped>\n",
       "    .dataframe tbody tr th:only-of-type {\n",
       "        vertical-align: middle;\n",
       "    }\n",
       "\n",
       "    .dataframe tbody tr th {\n",
       "        vertical-align: top;\n",
       "    }\n",
       "\n",
       "    .dataframe thead th {\n",
       "        text-align: right;\n",
       "    }\n",
       "</style>\n",
       "<table border=\"1\" class=\"dataframe\">\n",
       "  <thead>\n",
       "    <tr style=\"text-align: right;\">\n",
       "      <th></th>\n",
       "      <th>source</th>\n",
       "      <th>target</th>\n",
       "      <th>circuit</th>\n",
       "      <th>source_name</th>\n",
       "      <th>target_name</th>\n",
       "      <th>feat</th>\n",
       "      <th>source_ind</th>\n",
       "      <th>target_ind</th>\n",
       "    </tr>\n",
       "  </thead>\n",
       "  <tbody>\n",
       "    <tr>\n",
       "      <th>0</th>\n",
       "      <td>&lt;ns_f.server object at 0x7fc8cefabef0&gt;</td>\n",
       "      <td>&lt;ns_f.server object at 0x7fc8cefabb70&gt;</td>\n",
       "      <td>[0]</td>\n",
       "      <td>input_1</td>\n",
       "      <td>server_1</td>\n",
       "      <td>&lt;ns_f.connection object at 0x7fc8cefb8668&gt;</td>\n",
       "      <td>0</td>\n",
       "      <td>0</td>\n",
       "    </tr>\n",
       "    <tr>\n",
       "      <th>1</th>\n",
       "      <td>&lt;ns_f.server object at 0x7fc8cefabb70&gt;</td>\n",
       "      <td>&lt;ns_f.server object at 0x7fc8cefabeb8&gt;</td>\n",
       "      <td>[0, 1]</td>\n",
       "      <td>server_1</td>\n",
       "      <td>server_2</td>\n",
       "      <td>&lt;ns_f.connection object at 0x7fc8cefb8588&gt;</td>\n",
       "      <td>0</td>\n",
       "      <td>0</td>\n",
       "    </tr>\n",
       "    <tr>\n",
       "      <th>2</th>\n",
       "      <td>&lt;ns_f.server object at 0x7fc8cefabeb8&gt;</td>\n",
       "      <td>&lt;ns_f.server object at 0x7fc8cefabcf8&gt;</td>\n",
       "      <td>[0]</td>\n",
       "      <td>server_2</td>\n",
       "      <td>output_1</td>\n",
       "      <td>&lt;ns_f.connection object at 0x7fc8cefb80f0&gt;</td>\n",
       "      <td>0</td>\n",
       "      <td>0</td>\n",
       "    </tr>\n",
       "    <tr>\n",
       "      <th>3</th>\n",
       "      <td>&lt;ns_f.server object at 0x7fc8cefab208&gt;</td>\n",
       "      <td>&lt;ns_f.server object at 0x7fc8cefabb70&gt;</td>\n",
       "      <td>[1]</td>\n",
       "      <td>input_2</td>\n",
       "      <td>server_1</td>\n",
       "      <td>&lt;ns_f.connection object at 0x7fc8cefb8080&gt;</td>\n",
       "      <td>0</td>\n",
       "      <td>1</td>\n",
       "    </tr>\n",
       "    <tr>\n",
       "      <th>4</th>\n",
       "      <td>&lt;ns_f.server object at 0x7fc8cefabeb8&gt;</td>\n",
       "      <td>&lt;ns_f.server object at 0x7fc8cefabdd8&gt;</td>\n",
       "      <td>[1]</td>\n",
       "      <td>server_2</td>\n",
       "      <td>output_2</td>\n",
       "      <td>&lt;ns_f.connection object at 0x7fc8cefb8438&gt;</td>\n",
       "      <td>1</td>\n",
       "      <td>0</td>\n",
       "    </tr>\n",
       "  </tbody>\n",
       "</table>\n",
       "</div>"
      ],
      "text/plain": [
       "                                   source  \\\n",
       "0  <ns_f.server object at 0x7fc8cefabef0>   \n",
       "1  <ns_f.server object at 0x7fc8cefabb70>   \n",
       "2  <ns_f.server object at 0x7fc8cefabeb8>   \n",
       "3  <ns_f.server object at 0x7fc8cefab208>   \n",
       "4  <ns_f.server object at 0x7fc8cefabeb8>   \n",
       "\n",
       "                                   target circuit source_name target_name  \\\n",
       "0  <ns_f.server object at 0x7fc8cefabb70>     [0]     input_1    server_1   \n",
       "1  <ns_f.server object at 0x7fc8cefabeb8>  [0, 1]    server_1    server_2   \n",
       "2  <ns_f.server object at 0x7fc8cefabcf8>     [0]    server_2    output_1   \n",
       "3  <ns_f.server object at 0x7fc8cefabb70>     [1]     input_2    server_1   \n",
       "4  <ns_f.server object at 0x7fc8cefabdd8>     [1]    server_2    output_2   \n",
       "\n",
       "                                         feat source_ind target_ind  \n",
       "0  <ns_f.connection object at 0x7fc8cefb8668>          0          0  \n",
       "1  <ns_f.connection object at 0x7fc8cefb8588>          0          0  \n",
       "2  <ns_f.connection object at 0x7fc8cefb80f0>          0          0  \n",
       "3  <ns_f.connection object at 0x7fc8cefb8080>          0          1  \n",
       "4  <ns_f.connection object at 0x7fc8cefb8438>          1          0  "
      ]
     },
     "execution_count": 10,
     "metadata": {},
     "output_type": "execute_result"
    }
   ],
   "source": [
    "nw.connections"
   ]
  },
  {
   "cell_type": "markdown",
   "metadata": {},
   "source": [
    "Where **source** and **target** are again referencing server objects (with their respective name) and **circuit** is a list of all circuits that are carried in this connections. **source_ind** and **target_ind** are very important: Each server has as many output buffer as the number of outgoing connections. These are stored as a list. To find the relevant output_buffer of the source for the current connection, the **source_ind** has to be used as index as in: source.output_buffer[source_ind].\n",
    "\n",
    "The **feat** (features) objects are further attributes of the connections and are shown below for connection 1:"
   ]
  },
  {
   "cell_type": "code",
   "execution_count": 11,
   "metadata": {},
   "outputs": [
    {
     "data": {
      "text/plain": [
       "{'latency_fun': <function ns_f.connection.<lambda>(t)>,\n",
       " 'window_size': 2,\n",
       " 'transit_size': 0,\n",
       " 'transit': [],\n",
       " 'window': [],\n",
       " 'transit_reply': []}"
      ]
     },
     "execution_count": 11,
     "metadata": {},
     "output_type": "execute_result"
    }
   ],
   "source": [
    "nw.connections.loc[1,'feat'].__dict__"
   ]
  },
  {
   "cell_type": "markdown",
   "metadata": {},
   "source": [
    "Now that everything is set up, we can add some intial packages to the inputs and run a couple of simulation steps. First the initial packages:"
   ]
  },
  {
   "cell_type": "code",
   "execution_count": 12,
   "metadata": {},
   "outputs": [],
   "source": [
    "input_1.add_2_buffer(buffer_ind=0, circuit=0, n_packets=10)\n",
    "input_2.add_2_buffer(buffer_ind=0, circuit=1, n_packets=10)"
   ]
  },
  {
   "cell_type": "markdown",
   "metadata": {},
   "source": [
    "As we can see, the data object is now populated:"
   ]
  },
  {
   "cell_type": "code",
   "execution_count": 51,
   "metadata": {},
   "outputs": [
    {
     "data": {
      "text/html": [
       "<div>\n",
       "<style scoped>\n",
       "    .dataframe tbody tr th:only-of-type {\n",
       "        vertical-align: middle;\n",
       "    }\n",
       "\n",
       "    .dataframe tbody tr th {\n",
       "        vertical-align: top;\n",
       "    }\n",
       "\n",
       "    .dataframe thead th {\n",
       "        text-align: right;\n",
       "    }\n",
       "</style>\n",
       "<table border=\"1\" class=\"dataframe\">\n",
       "  <thead>\n",
       "    <tr style=\"text-align: right;\">\n",
       "      <th></th>\n",
       "      <th>ident</th>\n",
       "      <th>circuit</th>\n",
       "      <th>ts</th>\n",
       "      <th>tr</th>\n",
       "    </tr>\n",
       "  </thead>\n",
       "  <tbody>\n",
       "    <tr>\n",
       "      <th>0</th>\n",
       "      <td>0</td>\n",
       "      <td>0</td>\n",
       "      <td>0.000000</td>\n",
       "      <td>inf</td>\n",
       "    </tr>\n",
       "    <tr>\n",
       "      <th>1</th>\n",
       "      <td>1</td>\n",
       "      <td>0</td>\n",
       "      <td>0.000000</td>\n",
       "      <td>inf</td>\n",
       "    </tr>\n",
       "    <tr>\n",
       "      <th>2</th>\n",
       "      <td>2</td>\n",
       "      <td>0</td>\n",
       "      <td>inf</td>\n",
       "      <td>inf</td>\n",
       "    </tr>\n",
       "    <tr>\n",
       "      <th>3</th>\n",
       "      <td>3</td>\n",
       "      <td>0</td>\n",
       "      <td>inf</td>\n",
       "      <td>inf</td>\n",
       "    </tr>\n",
       "  </tbody>\n",
       "</table>\n",
       "</div>"
      ],
      "text/plain": [
       "  ident circuit        ts   tr\n",
       "0     0       0  0.000000  inf\n",
       "1     1       0  0.000000  inf\n",
       "2     2       0       inf  inf\n",
       "3     3       0       inf  inf"
      ]
     },
     "execution_count": 51,
     "metadata": {},
     "output_type": "execute_result"
    }
   ],
   "source": [
    "dat.package_list.head(4)"
   ]
  },
  {
   "cell_type": "markdown",
   "metadata": {},
   "source": [
    "The simulation of one timestep is invoked with .simulate():"
   ]
  },
  {
   "cell_type": "code",
   "execution_count": 50,
   "metadata": {},
   "outputs": [],
   "source": [
    "nw.simulate()"
   ]
  },
  {
   "cell_type": "markdown",
   "metadata": {},
   "source": [
    "What has happened now? Simulate is a list of operations that are executed for each connection.\n",
    "```python\n",
    "for i, con in self.connections.iterrows()\n",
    "    ...\n",
    "```\n",
    "### 1. Check timeout\n",
    "Check if any packages of the previous congestion window reached a \"timeout\". This is not relevant in the first step as the window is still empty.\n",
    "\n",
    "### 2. Send packages\n",
    "Populate the window, if it is empty.\n",
    "1. We determine the packages that will be send, by\n",
    "   - Checking the respective buffer of the source of the current connection with \n",
    "   ```python \n",
    "   source_buffer = con.source.output_buffer[con.source_ind]\n",
    "   ```\n",
    "   - Determine how many many packages will be sent:\n",
    "   ```python \n",
    "   n_send = min(con.window_size, len(source_buffer), int(con.source.v_max*dt))\n",
    "   ```\n",
    "   Where the number of packets cant exceeed the allowed window size, we can't send more than we have and also there is a limit to the number of packets we can sent per time. The packets that are supposed to be sent in the current window but violate the last condition are therefore sent in the following timestep.\n",
    "   \n",
    "2. We send the packages by adding the indices that refer to the package_list in 'data' to:\n",
    "   - \n",
    "   ```python \n",
    "   con.feat.window  += send_ind\n",
    "   ```\n",
    "   - \n",
    "   ```python \n",
    "   con.feat.transit += send_ind\n",
    "   ```\n",
    "\n",
    "3. We update the time in the package_list in 'data' for the packets that have been sent.\n",
    "   ```python \n",
    "   self.data.package_list.loc[send_ind, 'ts'] = self.t\n",
    "   ```\n",
    "   Where 'ts' stands for time sent.\n",
    "   \n",
    "Let's quickly check the respective lists for the connection from input_1 to server_1:"
   ]
  },
  {
   "cell_type": "code",
   "execution_count": 56,
   "metadata": {},
   "outputs": [
    {
     "name": "stdout",
     "output_type": "stream",
     "text": [
      "nw.connections.loc[0].feat.window = [0, 1]\n",
      "nw.connections.loc[0].feat.transit = [0, 1]\n"
     ]
    },
    {
     "data": {
      "text/html": [
       "<div>\n",
       "<style scoped>\n",
       "    .dataframe tbody tr th:only-of-type {\n",
       "        vertical-align: middle;\n",
       "    }\n",
       "\n",
       "    .dataframe tbody tr th {\n",
       "        vertical-align: top;\n",
       "    }\n",
       "\n",
       "    .dataframe thead th {\n",
       "        text-align: right;\n",
       "    }\n",
       "</style>\n",
       "<table border=\"1\" class=\"dataframe\">\n",
       "  <thead>\n",
       "    <tr style=\"text-align: right;\">\n",
       "      <th></th>\n",
       "      <th>ident</th>\n",
       "      <th>circuit</th>\n",
       "      <th>ts</th>\n",
       "      <th>tr</th>\n",
       "    </tr>\n",
       "  </thead>\n",
       "  <tbody>\n",
       "    <tr>\n",
       "      <th>0</th>\n",
       "      <td>0</td>\n",
       "      <td>0</td>\n",
       "      <td>0.0</td>\n",
       "      <td>inf</td>\n",
       "    </tr>\n",
       "    <tr>\n",
       "      <th>1</th>\n",
       "      <td>1</td>\n",
       "      <td>0</td>\n",
       "      <td>0.0</td>\n",
       "      <td>inf</td>\n",
       "    </tr>\n",
       "  </tbody>\n",
       "</table>\n",
       "</div>"
      ],
      "text/plain": [
       "  ident circuit   ts   tr\n",
       "0     0       0  0.0  inf\n",
       "1     1       0  0.0  inf"
      ]
     },
     "execution_count": 56,
     "metadata": {},
     "output_type": "execute_result"
    }
   ],
   "source": [
    "print('nw.connections.loc[0].feat.window = {}'.format(nw.connections.loc[0].feat.window))\n",
    "print('nw.connections.loc[0].feat.transit = {}'.format(nw.connections.loc[0].feat.transit))\n",
    "dat.package_list.head(2)"
   ]
  },
  {
   "cell_type": "code",
   "execution_count": null,
   "metadata": {},
   "outputs": [],
   "source": []
  }
 ],
 "metadata": {
  "kernelspec": {
   "display_name": "Python 3.6, 64bit",
   "language": "python",
   "name": "py36_64bit"
  },
  "language_info": {
   "codemirror_mode": {
    "name": "ipython",
    "version": 3
   },
   "file_extension": ".py",
   "mimetype": "text/x-python",
   "name": "python",
   "nbconvert_exporter": "python",
   "pygments_lexer": "ipython3",
   "version": "3.6.8"
  }
 },
 "nbformat": 4,
 "nbformat_minor": 2
}
