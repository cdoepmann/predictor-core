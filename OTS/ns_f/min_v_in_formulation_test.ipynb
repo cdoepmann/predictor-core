{
 "cells": [
  {
   "cell_type": "code",
   "execution_count": 1,
   "metadata": {},
   "outputs": [],
   "source": [
    "from casadi import *"
   ]
  },
  {
   "cell_type": "markdown",
   "metadata": {},
   "source": [
    "**Problem**:\n",
    "\n",
    "Wir wollen den eintretenden Strom in den Server begrenzen, **wenn nötig** und dem sendenden Server mitteilen, dass noch mehr geschickt werden kann, **wenn möglich**.\n",
    "- $v_{in,req}$: gesendeter Strom, kann den Server überlasten und muss deshalb abgeschnitten werden, wenn:\n",
    "- $v_{in,req}\\geq v_{in,max}$, dabei ist $v_{in,max}$ eine Stellgröße.\n",
    "- $v_{in}$: tatsächlich eintretender Strom\n",
    "\n",
    "Wir wollen aber auch gleichzeitig erreichen, dass $v_{in,max}$ möglichst groß gewählt wird, wenn $v_{in,req}\\leq v_{in,max}$. \n"
   ]
  },
  {
   "cell_type": "markdown",
   "metadata": {},
   "source": [
    "**Lösungsansatz:**\n",
    "\n",
    "Hilfsvariablen einführen:"
   ]
  },
  {
   "cell_type": "code",
   "execution_count": 24,
   "metadata": {},
   "outputs": [],
   "source": [
    "v_req = SX.sym('v_req',1,1)\n",
    "delta_plus = SX.sym('delta_plus',1,1)\n",
    "delta_minus = SX.sym('delta_minus',1,1)\n",
    "v_max = SX.sym('v_max',1,1)\n",
    "\n",
    "v_in = v_req-delta_minus\n",
    "v_in_max = v_req+delta_plus\n",
    "\n",
    "obj = -delta_plus+delta_minus\n",
    "\n",
    "cons = vertcat(*[\n",
    "    -delta_plus,\n",
    "    -delta_minus,\n",
    "    v_in-v_max,\n",
    "    v_in_max-v_max\n",
    "])\n",
    "\n",
    "eq_cons = delta_plus*delta_minus\n",
    "\n",
    "ub = np.zeros((5,1))\n",
    "lb = -np.inf*np.ones((5,1))\n",
    "lb[-1] =0\n",
    "\n",
    "optim_dict = {\n",
    "    'x': vertcat(delta_plus,delta_minus),\n",
    "    'f': obj,\n",
    "    'g': vertcat(cons, eq_cons),\n",
    "    'p': vertcat(v_req, v_max)\n",
    "}\n"
   ]
  },
  {
   "cell_type": "code",
   "execution_count": 25,
   "metadata": {},
   "outputs": [],
   "source": [
    "S = nlpsol('S', 'ipopt', optim_dict)"
   ]
  },
  {
   "cell_type": "code",
   "execution_count": 28,
   "metadata": {},
   "outputs": [
    {
     "name": "stdout",
     "output_type": "stream",
     "text": [
      "This is Ipopt version 3.12.12, running with linear solver mumps.\n",
      "NOTE: Other linear solvers might be more efficient (see Ipopt documentation).\n",
      "\n",
      "Number of nonzeros in equality constraint Jacobian...:        2\n",
      "Number of nonzeros in inequality constraint Jacobian.:        4\n",
      "Number of nonzeros in Lagrangian Hessian.............:        1\n",
      "\n",
      "Total number of variables............................:        2\n",
      "                     variables with only lower bounds:        0\n",
      "                variables with lower and upper bounds:        0\n",
      "                     variables with only upper bounds:        0\n",
      "Total number of equality constraints.................:        1\n",
      "Total number of inequality constraints...............:        4\n",
      "        inequality constraints with only lower bounds:        0\n",
      "   inequality constraints with lower and upper bounds:        0\n",
      "        inequality constraints with only upper bounds:        4\n",
      "\n",
      "iter    objective    inf_pr   inf_du lg(mu)  ||d||  lg(rg) alpha_du alpha_pr  ls\n",
      "   0  0.0000000e+00 0.00e+00 1.00e+00  -1.0 0.00e+00    -  0.00e+00 0.00e+00   0\n",
      "   1 -1.9560909e-02 1.20e-02 9.66e-01  -1.0 1.20e-01    -  5.06e-01 1.00e+00f  1\n",
      "   2 -1.8059763e-01 1.82e-04 1.11e+00  -1.0 2.10e-01    -  1.00e+00 4.71e-01h  1\n",
      "   3 -2.7891508e-01 2.79e-06 2.52e+01  -1.0 2.14e-01    -  6.54e-01 4.54e-01h  1\n",
      "   4 -4.1615780e-01 2.10e-06 1.55e+02  -1.0 3.86e+01    -  1.03e-02 3.55e-03f  2\n",
      "   5 -8.2822403e-01 3.22e-08 1.47e+05  -1.0 1.93e+02    -  1.00e+00 2.14e-03f  1\n",
      "   6 -1.5524110e+00 1.63e-08 8.11e+05  -1.0 1.83e+00    -  3.78e-01 3.95e-01f  1\n",
      "   7 -4.9655241e+00 9.31e-08 1.25e+08  -1.0 5.76e+00    -  1.00e+00 5.92e-01f  1\n",
      "   8 -4.9353877e+00 5.62e-10 6.96e+05  -1.0 3.01e-02    -  1.00e+00 1.00e+00h  1\n",
      "   9 -4.9119391e+00 2.66e-12 2.90e+05  -1.0 2.34e-02    -  1.00e+00 1.00e+00f  1\n",
      "iter    objective    inf_pr   inf_du lg(mu)  ||d||  lg(rg) alpha_du alpha_pr  ls\n",
      "  10 -4.9020124e+00 5.36e-15 1.93e+03  -1.0 9.93e-03    -  1.00e+00 1.00e+00f  1\n",
      "  11 -4.9952873e+00 1.04e-16 1.89e+05  -2.5 9.33e-02    -  1.00e+00 1.00e+00f  1\n",
      "  12 -4.9971739e+00 3.92e-20 7.12e+01  -2.5 1.89e-03    -  1.00e+00 1.00e+00f  1\n",
      "  13 -4.9971732e+00 5.59e-27 1.01e-05  -2.5 7.12e-07    -  1.00e+00 1.00e+00h  1\n",
      "  14 -4.9999984e+00 3.16e-30 1.60e+02  -8.6 2.83e-03    -  9.99e-01 1.00e+00f  1\n",
      "  15 -5.0000000e+00 1.01e-36 5.12e-05  -8.6 1.60e-06    -  1.00e+00 1.00e+00f  1\n",
      "  16 -5.0000000e+00 4.18e-52 2.51e-14  -8.6 1.35e-15    -  1.00e+00 1.00e+00   0\n",
      "\n",
      "Number of Iterations....: 16\n",
      "\n",
      "                                   (scaled)                 (unscaled)\n",
      "Objective...............:  -5.0000000074940951e+00   -5.0000000074940951e+00\n",
      "Dual infeasibility......:   2.5091040356528538e-14    2.5091040356528538e-14\n",
      "Constraint violation....:   4.1761948657784160e-52    4.1761948657784160e-52\n",
      "Complementarity.........:   2.5059035596800626e-09    2.5059035596800626e-09\n",
      "Overall NLP error.......:   2.5059035596800626e-09    2.5059035596800626e-09\n",
      "\n",
      "\n",
      "Number of objective function evaluations             = 18\n",
      "Number of objective gradient evaluations             = 17\n",
      "Number of equality constraint evaluations            = 18\n",
      "Number of inequality constraint evaluations          = 18\n",
      "Number of equality constraint Jacobian evaluations   = 17\n",
      "Number of inequality constraint Jacobian evaluations = 17\n",
      "Number of Lagrangian Hessian evaluations             = 16\n",
      "Total CPU secs in IPOPT (w/o function evaluations)   =      0.033\n",
      "Total CPU secs in NLP function evaluations           =      0.002\n",
      "\n",
      "EXIT: Optimal Solution Found.\n",
      "               t_proc [s]   t_wall [s]    n_eval\n",
      "           S       0.0524       0.0498         1\n",
      "       nlp_f      0.00014     0.000132        18\n",
      "       nlp_g     0.000249     0.000213        18\n",
      "    nlp_grad      1.3e-05     1.06e-05         1\n",
      "  nlp_grad_f     0.000158     0.000139        18\n",
      "  nlp_hess_l     0.000122      0.00011        16\n",
      "   nlp_jac_g     0.000137     0.000137        18\n"
     ]
    },
    {
     "data": {
      "text/plain": [
       "{'f': DM(-5),\n",
       " 'g': DM([-5, -8.35239e-53, -5, 0, 0]),\n",
       " 'lam_g': DM([5.01156e-10, 0.25059, 5.01156e-10, 1, -0.149882]),\n",
       " 'lam_p': DM([-1, 1]),\n",
       " 'lam_x': DM([0, 0]),\n",
       " 'x': DM([5, 8.35239e-53])}"
      ]
     },
     "execution_count": 28,
     "metadata": {},
     "output_type": "execute_result"
    }
   ],
   "source": [
    "S(ubg=ub,lbg=lb,p=np.array([5,10]), x0=np.array([0,0]))"
   ]
  },
  {
   "cell_type": "code",
   "execution_count": null,
   "metadata": {},
   "outputs": [],
   "source": []
  }
 ],
 "metadata": {
  "kernelspec": {
   "display_name": "Python 3.6, 64bit",
   "language": "python",
   "name": "py36_64bit"
  },
  "language_info": {
   "codemirror_mode": {
    "name": "ipython",
    "version": 3
   },
   "file_extension": ".py",
   "mimetype": "text/x-python",
   "name": "python",
   "nbconvert_exporter": "python",
   "pygments_lexer": "ipython3",
   "version": "3.6.8"
  }
 },
 "nbformat": 4,
 "nbformat_minor": 2
}
