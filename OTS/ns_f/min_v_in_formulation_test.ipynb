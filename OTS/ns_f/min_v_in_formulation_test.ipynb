{
 "cells": [
  {
   "cell_type": "code",
   "execution_count": 1,
   "metadata": {},
   "outputs": [],
   "source": [
    "from casadi import *"
   ]
  },
  {
   "cell_type": "markdown",
   "metadata": {},
   "source": [
    "**Problem**:\n",
    "\n",
    "Wir wollen den eintretenden Strom in den Server begrenzen, **wenn nötig** und dem sendenden Server mitteilen, dass noch mehr geschickt werden kann, **wenn möglich**.\n",
    "- $v_{in,req}$: gesendeter Strom, kann den Server überlasten und muss deshalb abgeschnitten werden, wenn:\n",
    "- $v_{in,req}\\geq v_{in,max}$, dabei ist $v_{in,max}$ eine Stellgröße.\n",
    "- $v_{in}$: tatsächlich eintretender Strom\n",
    "\n",
    "Wir wollen aber auch gleichzeitig erreichen, dass $v_{in,max}$ möglichst groß gewählt wird, wenn $v_{in,req}\\leq v_{in,max}$. \n"
   ]
  },
  {
   "cell_type": "markdown",
   "metadata": {},
   "source": [
    "**Lösungsansatz:**\n",
    "\n",
    "Hilfsvariablen einführen:"
   ]
  },
  {
   "cell_type": "code",
   "execution_count": 46,
   "metadata": {},
   "outputs": [],
   "source": [
    "v_req = SX.sym('v_req',1,1)\n",
    "delta_plus = SX.sym('delta_plus',1,1)\n",
    "delta_minus = SX.sym('delta_minus',1,1)\n",
    "v_max = SX.sym('v_max',1,1)\n",
    "\n",
    "v_in = v_req-delta_minus\n",
    "v_in_max = v_in+delta_plus\n",
    "\n",
    "obj = -delta_plus+delta_minus\n",
    "\n",
    "cons = vertcat(*[\n",
    "    -delta_plus,\n",
    "    -delta_minus,\n",
    "    v_in-v_max,\n",
    "    v_in_max-v_max\n",
    "])\n",
    "\n",
    "eq_cons = delta_plus*delta_minus\n",
    "\n",
    "ub = np.zeros((5,1))\n",
    "lb = -np.inf*np.ones((5,1))\n",
    "lb[-1] =0\n",
    "\n",
    "optim_dict = {\n",
    "    'x': vertcat(delta_plus,delta_minus),\n",
    "    'f': obj,\n",
    "    'g': vertcat(cons, eq_cons),\n",
    "    'p': vertcat(v_req, v_max)\n",
    "}\n"
   ]
  },
  {
   "cell_type": "code",
   "execution_count": 47,
   "metadata": {},
   "outputs": [],
   "source": [
    "S = nlpsol('S', 'ipopt', optim_dict)"
   ]
  },
  {
   "cell_type": "code",
   "execution_count": 50,
   "metadata": {},
   "outputs": [
    {
     "name": "stdout",
     "output_type": "stream",
     "text": [
      "This is Ipopt version 3.12.12, running with linear solver mumps.\n",
      "NOTE: Other linear solvers might be more efficient (see Ipopt documentation).\n",
      "\n",
      "Number of nonzeros in equality constraint Jacobian...:        2\n",
      "Number of nonzeros in inequality constraint Jacobian.:        5\n",
      "Number of nonzeros in Lagrangian Hessian.............:        1\n",
      "\n",
      "Total number of variables............................:        2\n",
      "                     variables with only lower bounds:        0\n",
      "                variables with lower and upper bounds:        0\n",
      "                     variables with only upper bounds:        0\n",
      "Total number of equality constraints.................:        1\n",
      "Total number of inequality constraints...............:        4\n",
      "        inequality constraints with only lower bounds:        0\n",
      "   inequality constraints with lower and upper bounds:        0\n",
      "        inequality constraints with only upper bounds:        4\n",
      "\n",
      "iter    objective    inf_pr   inf_du lg(mu)  ||d||  lg(rg) alpha_du alpha_pr  ls\n",
      "   0  0.0000000e+00 0.00e+00 1.00e+00  -1.0 0.00e+00    -  0.00e+00 0.00e+00   0\n",
      "   1  1.1999991e-02 7.48e-04 4.10e-01  -1.7 3.40e-02    -  7.07e-01 1.00e+00h  1\n",
      "   2  1.8025566e-02 1.53e-04 7.60e-01  -1.7 1.57e-02    -  1.00e+00 1.00e+00h  1\n",
      "   3  2.7738943e-02 1.74e-06 9.92e-01  -1.7 1.15e-02    -  1.00e+00 8.46e-01h  1\n",
      "   4  3.2790048e-02 2.03e-08 6.06e+01  -1.7 6.23e-03    -  1.00e+00 8.11e-01h  1\n",
      "   5  3.6690611e-02 1.37e-10 3.61e+03  -1.7 4.40e-03    -  1.00e+00 8.87e-01h  1\n",
      "   6  5.8448607e-02 1.29e-10 1.84e+06  -1.7 2.18e-02    -  1.00e+00 1.00e+00f  1\n",
      "   7  8.1774565e-02 7.21e-11 1.82e+06  -1.7 2.33e-02    -  1.00e+00 1.00e+00h  1\n",
      "   8  5.4971656e-02 1.59e-11 5.31e+05  -1.7 2.68e-02    -  1.00e+00 1.00e+00f  1\n",
      "   9  6.0161031e-02 1.64e-12 3.27e+04  -1.7 5.19e-03    -  1.00e+00 1.00e+00f  1\n",
      "iter    objective    inf_pr   inf_du lg(mu)  ||d||  lg(rg) alpha_du alpha_pr  ls\n",
      "  10  6.0000195e-02 4.37e-15 5.51e+01  -1.7 1.61e-04    -  1.00e+00 1.00e+00h  1\n",
      "  11  5.0018125e-06 3.65e-19 1.84e+01  -5.7 6.00e-02    -  1.00e+00 1.00e+00f  1\n",
      "  12  5.5247433e-06 4.21e-20 1.04e-01  -5.7 5.23e-07    -  1.00e+00 1.00e+00f  1\n",
      "  13 -2.4821850e-09 1.89e-23 1.00e+00  -8.6 5.53e-06    -  1.00e+00 1.00e+00f  1\n",
      "  14 -2.4823124e-09 9.13e-28 4.83e-05  -8.6 1.27e-13    -  1.00e+00 1.00e+00h  1\n",
      "\n",
      "Number of Iterations....: 14\n",
      "\n",
      "                                   (scaled)                 (unscaled)\n",
      "Objective...............:  -2.4823123590231746e-09   -2.4823123590231746e-09\n",
      "Dual infeasibility......:   4.8295592554259414e-05    4.8295592554259414e-05\n",
      "Constraint violation....:   9.1330214684885907e-28    9.1330214684885907e-28\n",
      "Complementarity.........:   2.5059035596781229e-09    2.5059035596781229e-09\n",
      "Overall NLP error.......:   2.5059035596781229e-09    4.8295592554259414e-05\n",
      "\n",
      "\n",
      "Number of objective function evaluations             = 15\n",
      "Number of objective gradient evaluations             = 15\n",
      "Number of equality constraint evaluations            = 15\n",
      "Number of inequality constraint evaluations          = 15\n",
      "Number of equality constraint Jacobian evaluations   = 15\n",
      "Number of inequality constraint Jacobian evaluations = 15\n",
      "Number of Lagrangian Hessian evaluations             = 14\n",
      "Total CPU secs in IPOPT (w/o function evaluations)   =      0.007\n",
      "Total CPU secs in NLP function evaluations           =      0.000\n",
      "\n",
      "EXIT: Optimal Solution Found.\n",
      "               t_proc [s]   t_wall [s]    n_eval\n",
      "           S       0.0163       0.0166         1\n",
      "       nlp_f      3.3e-05     3.09e-05        15\n",
      "       nlp_g      7.4e-05     6.48e-05        15\n",
      "    nlp_grad        4e-06     3.45e-06         1\n",
      "  nlp_grad_f     0.000118     4.02e-05        16\n",
      "  nlp_hess_l      2.9e-05     2.72e-05        14\n",
      "   nlp_jac_g      4.1e-05      3.9e-05        16\n"
     ]
    },
    {
     "data": {
      "text/plain": [
       "{'f': DM(-2.48231e-09),\n",
       " 'g': DM([-3.67924e-19, 0, 0, 0, 0]),\n",
       " 'lam_g': DM([0.25059, 0.333334, 0.333334, 0.333334, -3.69536e+08]),\n",
       " 'lam_p': DM([-0.666669, 0.666669]),\n",
       " 'lam_x': DM([0, 0]),\n",
       " 'x': DM([3.67924e-19, -2.48231e-09])}"
      ]
     },
     "execution_count": 50,
     "metadata": {},
     "output_type": "execute_result"
    }
   ],
   "source": [
    "S(ubg=ub,lbg=lb,p=np.array([3,3]), x0=np.array([0,0]))"
   ]
  },
  {
   "cell_type": "code",
   "execution_count": 69,
   "metadata": {},
   "outputs": [],
   "source": [
    "a= [1, [2,3],4]"
   ]
  }
 ],
 "metadata": {
  "kernelspec": {
   "display_name": "Python 3.6, 64bit",
   "language": "python",
   "name": "py36_64bit"
  },
  "language_info": {
   "codemirror_mode": {
    "name": "ipython",
    "version": 3
   },
   "file_extension": ".py",
   "mimetype": "text/x-python",
   "name": "python",
   "nbconvert_exporter": "python",
   "pygments_lexer": "ipython3",
   "version": "3.6.8"
  }
 },
 "nbformat": 4,
 "nbformat_minor": 2
}
