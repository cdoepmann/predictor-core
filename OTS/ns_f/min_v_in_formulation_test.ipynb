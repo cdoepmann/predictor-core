{
 "cells": [
  {
   "cell_type": "code",
   "execution_count": 3,
   "metadata": {},
   "outputs": [],
   "source": [
    "from casadi import *"
   ]
  },
  {
   "cell_type": "markdown",
   "metadata": {},
   "source": [
    "**Problem**:\n",
    "\n",
    "Wir wollen den eintretenden Strom in den Server begrenzen, **wenn nötig** und dem sendenden Server mitteilen, dass noch mehr geschickt werden kann, **wenn möglich**.\n",
    "- $v_{in,req}$: gesendeter Strom, kann den Server überlasten und muss deshalb abgeschnitten werden, wenn:\n",
    "- $v_{in,req}\\geq v_{in,max}$, dabei ist $v_{in,max}$ eine Stellgröße.\n",
    "- $v_{in}$: tatsächlich eintretender Strom\n",
    "\n",
    "Wir wollen aber auch gleichzeitig erreichen, dass $v_{in,max}$ möglichst groß gewählt wird, wenn $v_{in,req}\\leq v_{in,max}$. \n"
   ]
  },
  {
   "cell_type": "markdown",
   "metadata": {},
   "source": [
    "**Lösungsansatz:**\n",
    "\n",
    "Hilfsvariablen einführen, sodass:\n",
    "\\begin{gather}\n",
    "v_{in}=v_{in,req}-v_{in,discard}\\\\\n",
    "v_{in,max}=v_{in}+v_{in,extra}\n",
    "\\end{gather}\n",
    "Es soll aber nur entweder verworfen oder hinzugefügt werden. Deshalb setzten wir eine Beschränkung:\n",
    "\\begin{gather}\n",
    "v_{in,discard}\\cdot v_{in,extra} = 0\n",
    "\\end{gather}\n",
    "Um das Ziel zu erreichen wird die Kostenfunktion zu:\n",
    "\\begin{gather}\n",
    "obj = v_{in,discard}-v_{in,extra}\n",
    "\\end{gather}\n",
    "gewählt. "
   ]
  },
  {
   "cell_type": "code",
   "execution_count": 38,
   "metadata": {},
   "outputs": [],
   "source": [
    "v_req = SX.sym('v_req',1,1)\n",
    "v_in_extra = SX.sym('v_in_extra',1,1)\n",
    "v_in_discard = SX.sym('v_in_discard',1,1)\n",
    "v_max = SX.sym('v_max',1,1)\n",
    "\n",
    "v_in = v_req-v_in_discard\n",
    "v_in_max = v_in+v_in_extra\n",
    "\n",
    "obj = -v_in_extra+v_in_discard\n",
    "\n",
    "cons = vertcat(*[\n",
    "    -v_in_extra,\n",
    "    -v_in_discard,\n",
    "    v_in-v_max,\n",
    "    v_in_max-v_max\n",
    "])\n",
    "\n",
    "eq_cons = v_in_extra*v_in_discard\n",
    "# Bounds for the constraints:\n",
    "ub = np.zeros((5,1))\n",
    "lb = -np.inf*np.ones((5,1))\n",
    "\n",
    "# For the last constraint we set:\n",
    "eps = 1e-6\n",
    "lb[-1] =-eps\n",
    "ub[-1] =eps\n",
    "\n",
    "optim_dict = {\n",
    "    'x': vertcat(v_in_extra,v_in_discard),\n",
    "    'f': obj,\n",
    "    'g': vertcat(cons, eq_cons),\n",
    "    'p': vertcat(v_req, v_max)\n",
    "}"
   ]
  },
  {
   "cell_type": "code",
   "execution_count": 39,
   "metadata": {},
   "outputs": [],
   "source": [
    "opts = {'ipopt.linear_solver': 'MA27'}\n",
    "S = nlpsol('S', 'ipopt', optim_dict, opts)"
   ]
  },
  {
   "cell_type": "code",
   "execution_count": 40,
   "metadata": {},
   "outputs": [
    {
     "name": "stdout",
     "output_type": "stream",
     "text": [
      "This is Ipopt version 3.12.12, running with linear solver ma27.\n",
      "\n",
      "Number of nonzeros in equality constraint Jacobian...:        0\n",
      "Number of nonzeros in inequality constraint Jacobian.:        7\n",
      "Number of nonzeros in Lagrangian Hessian.............:        1\n",
      "\n",
      "Total number of variables............................:        2\n",
      "                     variables with only lower bounds:        0\n",
      "                variables with lower and upper bounds:        0\n",
      "                     variables with only upper bounds:        0\n",
      "Total number of equality constraints.................:        0\n",
      "Total number of inequality constraints...............:        5\n",
      "        inequality constraints with only lower bounds:        0\n",
      "   inequality constraints with lower and upper bounds:        1\n",
      "        inequality constraints with only upper bounds:        4\n",
      "\n",
      "iter    objective    inf_pr   inf_du lg(mu)  ||d||  lg(rg) alpha_du alpha_pr  ls\n",
      "   0  0.0000000e+00 5.00e+00 6.36e-01  -1.0 0.00e+00    -  0.00e+00 0.00e+00   0\n",
      "   1  2.1379787e-02 4.98e+00 1.24e+00  -1.0 3.13e+00    -  3.27e-03 5.27e-03h  1\n",
      "   2  3.3661963e-02 4.97e+00 3.39e+00  -1.0 5.06e+00    -  3.51e-03 3.46e-03h  1\n",
      "   3  1.4104268e-01 4.86e+00 3.78e+02  -1.0 4.97e+00    -  9.87e-03 2.14e-02h  1\n",
      "   4  3.0051388e-01 4.70e+00 5.91e+02  -1.0 4.89e+00    -  4.44e-02 3.27e-02f  1\n",
      "   5  8.3667681e-01 4.16e+00 6.60e+02  -1.0 4.74e+00    -  6.41e-02 1.13e-01h  1\n",
      "   6  1.7337792e+00 3.27e+00 5.21e+02  -1.0 4.21e+00    -  2.22e-01 2.13e-01h  1\n",
      "   7  3.8252447e+00 1.17e+00 3.45e+02  -1.0 3.33e+00    -  3.95e-01 6.28e-01h  1\n",
      "   8  5.0929419e+00 2.33e-05 9.54e+01  -1.0 1.28e+00    -  6.86e-01 9.92e-01h  1\n",
      "   9  5.0620081e+00 5.85e-09 1.04e+01  -1.7 4.11e-02    -  1.00e+00 9.87e-01h  1\n",
      "iter    objective    inf_pr   inf_du lg(mu)  ||d||  lg(rg) alpha_du alpha_pr  ls\n",
      "  10  5.0510995e+00 0.00e+00 4.12e+04  -1.7 2.19e-02    -  1.00e+00 5.00e-01h  2\n",
      "  11  5.0400685e+00 0.00e+00 1.64e+02  -1.7 1.11e-02    -  1.00e+00 1.00e+00h  1\n",
      "  12  5.0400121e+00 0.00e+00 4.43e-01  -1.7 5.64e-05    -  1.00e+00 1.00e+00f  1\n",
      "  13  5.0000001e+00 0.00e+00 1.24e+03  -5.7 4.00e-02    -  9.93e-01 1.00e+00f  1\n",
      "  14  5.0000036e+00 0.00e+00 7.39e-05  -5.7 3.59e-06    -  1.00e+00 1.00e+00f  1\n",
      "  15  5.0000036e+00 0.00e+00 3.61e-09  -5.7 5.72e-08    -  1.00e+00 1.00e+00h  1\n",
      "  16  5.0000000e+00 0.00e+00 7.17e-02  -8.6 3.69e-06    -  9.91e-01 9.86e-01f  1\n",
      "  17  5.0000000e+00 0.00e+00 5.24e-10  -8.6 4.90e-09    -  1.00e+00 1.00e+00f  1\n",
      "\n",
      "Number of Iterations....: 17\n",
      "\n",
      "                                   (scaled)                 (unscaled)\n",
      "Objective...............:   4.9999999948532166e+00    4.9999999948532166e+00\n",
      "Dual infeasibility......:   5.2379567350158140e-10    5.2379567350158140e-10\n",
      "Constraint violation....:   0.0000000000000000e+00    0.0000000000000000e+00\n",
      "Complementarity.........:   4.8475299354357074e-09    4.8475299354357074e-09\n",
      "Overall NLP error.......:   4.8475299354357074e-09    4.8475299354357074e-09\n",
      "\n",
      "\n",
      "Number of objective function evaluations             = 19\n",
      "Number of objective gradient evaluations             = 18\n",
      "Number of equality constraint evaluations            = 0\n",
      "Number of inequality constraint evaluations          = 19\n",
      "Number of equality constraint Jacobian evaluations   = 0\n",
      "Number of inequality constraint Jacobian evaluations = 18\n",
      "Number of Lagrangian Hessian evaluations             = 17\n",
      "Total CPU secs in IPOPT (w/o function evaluations)   =      0.024\n",
      "Total CPU secs in NLP function evaluations           =      0.002\n",
      "\n",
      "EXIT: Optimal Solution Found.\n",
      "               t_proc [s]   t_wall [s]    n_eval\n",
      "           S       0.0327       0.0303         1\n",
      "       nlp_f     0.000134      0.00013        19\n",
      "       nlp_g     0.000237     0.000211        19\n",
      "    nlp_grad      1.8e-05     1.52e-05         1\n",
      "  nlp_grad_f     0.000158     0.000151        19\n",
      "  nlp_hess_l     0.000138     0.000126        17\n",
      "   nlp_jac_g     0.000161     0.000159        19\n"
     ]
    },
    {
     "data": {
      "text/plain": [
       "{'f': DM(5),\n",
       " 'g': DM([-1.15089e-07, -5, -1.09942e-07, 0, 5.75444e-07]),\n",
       " 'lam_g': DM([0.0200409, 5.01156e-10, 0.00117168, 0.998828, 0.00424251]),\n",
       " 'lam_p': DM([-1, 1]),\n",
       " 'lam_x': DM([0, 0]),\n",
       " 'x': DM([1.15089e-07, 5])}"
      ]
     },
     "execution_count": 40,
     "metadata": {},
     "output_type": "execute_result"
    }
   ],
   "source": [
    "sol=S(ubg=ub,lbg=lb,p=np.array([10,5]), x0=np.array([0,0]))\n",
    "sol"
   ]
  },
  {
   "cell_type": "code",
   "execution_count": 37,
   "metadata": {},
   "outputs": [
    {
     "name": "stdout",
     "output_type": "stream",
     "text": [
      "v_in_extra = [1.15088891e-07] and v_in_discard = [5.00000011]\n"
     ]
    }
   ],
   "source": [
    "sol_x = sol['x'].full()\n",
    "print('v_in_extra = {0} and v_in_discard = {1}'.format(sol_x[0], sol_x[1]))"
   ]
  },
  {
   "cell_type": "markdown",
   "metadata": {},
   "source": [
    "**Note:** Unfortunately this formulation leads to the effect that the optimal solution is only found for extremely low values of the primal infeasibility. Otherwise the dual infeasibility is not achieved."
   ]
  },
  {
   "cell_type": "code",
   "execution_count": null,
   "metadata": {},
   "outputs": [],
   "source": []
  }
 ],
 "metadata": {
  "kernelspec": {
   "display_name": "Python 3.6, 64bit",
   "language": "python",
   "name": "py36_64bit"
  },
  "language_info": {
   "codemirror_mode": {
    "name": "ipython",
    "version": 3
   },
   "file_extension": ".py",
   "mimetype": "text/x-python",
   "name": "python",
   "nbconvert_exporter": "python",
   "pygments_lexer": "ipython3",
   "version": "3.6.8"
  }
 },
 "nbformat": 4,
 "nbformat_minor": 2
}
