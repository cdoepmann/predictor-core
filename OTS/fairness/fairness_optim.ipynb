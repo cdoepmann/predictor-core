{
 "cells": [
  {
   "cell_type": "markdown",
   "metadata": {
    "toc": true
   },
   "source": [
    "<h1>Table of Contents<span class=\"tocSkip\"></span></h1>\n",
    "<div class=\"toc\"><ul class=\"toc-item\"><li><span><a href=\"#Fairness-Optimization\" data-toc-modified-id=\"Fairness-Optimization-1\"><span class=\"toc-item-num\">1&nbsp;&nbsp;</span>Fairness Optimization</a></span><ul class=\"toc-item\"><li><span><a href=\"#Alle-mit-Allen-Vergleich\" data-toc-modified-id=\"Alle-mit-Allen-Vergleich-1.1\"><span class=\"toc-item-num\">1.1&nbsp;&nbsp;</span>Alle-mit-Allen Vergleich</a></span><ul class=\"toc-item\"><li><span><a href=\"#Beispielrechnung\" data-toc-modified-id=\"Beispielrechnung-1.1.1\"><span class=\"toc-item-num\">1.1.1&nbsp;&nbsp;</span>Beispielrechnung</a></span></li></ul></li><li><span><a href=\"#Vergleich-nach-Sortierung\" data-toc-modified-id=\"Vergleich-nach-Sortierung-1.2\"><span class=\"toc-item-num\">1.2&nbsp;&nbsp;</span>Vergleich nach Sortierung</a></span><ul class=\"toc-item\"><li><span><a href=\"#Beispielrechnung\" data-toc-modified-id=\"Beispielrechnung-1.2.1\"><span class=\"toc-item-num\">1.2.1&nbsp;&nbsp;</span>Beispielrechnung</a></span></li><li><span><a href=\"#Für-große-Probleme\" data-toc-modified-id=\"Für-große-Probleme-1.2.2\"><span class=\"toc-item-num\">1.2.2&nbsp;&nbsp;</span>Für große Probleme</a></span></li></ul></li></ul></li></ul></div>"
   ]
  },
  {
   "cell_type": "code",
   "execution_count": 1,
   "metadata": {
    "hide_input": false
   },
   "outputs": [],
   "source": [
    "import numpy as np\n",
    "import matplotlib.pyplot as plt\n",
    "from casadi import *\n",
    "from casadi.tools import *\n",
    "from IPython.core.display import SVG"
   ]
  },
  {
   "cell_type": "markdown",
   "metadata": {},
   "source": [
    "# Fairness Optimization"
   ]
  },
  {
   "cell_type": "code",
   "execution_count": 2,
   "metadata": {
    "scrolled": false
   },
   "outputs": [
    {
     "data": {
      "image/svg+xml": [
       "<svg content=\"&lt;mxfile modified=&quot;2019-08-27T13:09:56.996Z&quot; host=&quot;www.draw.io&quot; agent=&quot;Mozilla/5.0 (X11; Ubuntu; Linux x86_64; rv:68.0) Gecko/20100101 Firefox/68.0&quot; version=&quot;11.2.3&quot; etag=&quot;FBD5r8HjnHr3y3HsxqIW&quot; type=&quot;device&quot; pages=&quot;1&quot;&gt;&lt;diagram id=&quot;fSgHegA2-sNLz2wIj497&quot;&gt;5Zpdb5swFIZ/DZeLAANJL5ekW28mTeqkXUYeOMSqwZlxvvrrZ4MJAcyKNuKGRqoqfHAOnOf1xzlOLLBIjl8Z3G6+0QgRy7WjowWWlus6nuta8s+OToVlOpsWhpjhSHWqDM/4FSmjraw7HKGs1pFTSjje1o0hTVMU8poNMkYP9W5rSupP3cIYtQzPISRt608c8U1hnfl2ZX9CON6UT3ZsdSeBZWflItvAiB4KU94HPFpgwSjlxVVyXCAi4ZVcCkdfOu6eX4yhlPf5gBJiD8lOxabei5/KYBndpRGS/W0LzA8bzNHzFoby7kHIK2wbnhDRcsSlcocYR8fOV3LOgYoRgmiCODuJLuoDrqdgqcHhBqp9uECtTJsLyipSGypx47PnKn5xoRDocYAR4ADmcHgjwGGbw+HfPg5nag5HcHs4QPB+a8d0BDgMrh2zEeAwuHY83B4Ob/Z+k6XM5G6ah8HZ4jgj4GFwujg9ElORO2/lZbhj5DRnMHxB/G0wFcWhtmC3jgnYfguTq8EU+ANg0iWsImvzspWIbukVjRY5ESyvU8k4oy9oQQllwpLSVPScrzEhDRMkOE4lcwEHCftcosOiMvqsbiQ4iuRjtDLUR/CaplzVdk4g2wRvn66YGjn9hq8/xPDVZc6FLuKNl+CedWnuwkZ10aXwhS7g3nVpLvdGdbnBWiKwm+mRY2770xUTxTj18gjveJw2dTE6TntUNSiNPsszRkmTwCzDYV2SJp7CAYpaR45vArkI2P9LwAwRyPG+7l5HQT3hO8XiwdU+2lgXgNMAmdEdC5H6VMXybUfThiMOWYx4y1Euyjnsfjr1KLc+mk6ePZBOLUfX06lcK+9JJ78cnP+rU8vRFXXqUZ5+NJ0CMJBOLUdX1ElXNstUYb8aV85gDVD/de1bBvIE7RdJhQ7uvenQuS+Z0KGrDt+vxlXrDaCD3zynMqlDV929X43rjGoAHQLvHXXQ1dk5fn+R7ZIVlvfy/8JA0O+8aU3nCTxa0+W9KfXQFMqdtI92Hd3Z7iBadZ0ByL28VCe7w329OX9mBudPu/6fTCY92DOU4Vf4K+8guWxlspe/iD+3/KWkvuM0U6QuRCBozTUScCpZZwI9TuMfsrH85F2HN2hOgwevxRtoeP/DOZhoVj99KtLf6gdk4PEP&lt;/diagram&gt;&lt;/mxfile&gt;\" height=\"321px\" version=\"1.1\" viewBox=\"-0.5 -0.5 631 321\" width=\"631px\" xmlns=\"http://www.w3.org/2000/svg\" xmlns:xlink=\"http://www.w3.org/1999/xlink\"><defs/><g><rect fill=\"#ffffff\" height=\"20\" pointer-events=\"none\" stroke=\"#000000\" width=\"80\" x=\"150\" y=\"150\"/><rect fill=\"#ffffff\" height=\"20\" pointer-events=\"none\" stroke=\"#000000\" width=\"80\" x=\"150\" y=\"120\"/><rect fill=\"#ffffff\" height=\"20\" pointer-events=\"none\" stroke=\"#000000\" width=\"80\" x=\"150\" y=\"90\"/><rect fill=\"#ffffff\" height=\"20\" pointer-events=\"none\" stroke=\"#000000\" width=\"80\" x=\"150\" y=\"60\"/><rect fill=\"#ffffff\" height=\"20\" pointer-events=\"none\" stroke=\"#000000\" width=\"80\" x=\"270\" y=\"150\"/><rect fill=\"#ffffff\" height=\"20\" pointer-events=\"none\" stroke=\"#000000\" width=\"80\" x=\"270\" y=\"120\"/><rect fill=\"#ffffff\" height=\"20\" pointer-events=\"none\" stroke=\"#000000\" width=\"80\" x=\"270\" y=\"90\"/><rect fill=\"#ffffff\" height=\"20\" pointer-events=\"none\" stroke=\"#000000\" width=\"80\" x=\"390\" y=\"150\"/><rect fill=\"#ffffff\" height=\"20\" pointer-events=\"none\" stroke=\"#000000\" width=\"80\" x=\"390\" y=\"120\"/><rect fill=\"#ffffff\" height=\"20\" pointer-events=\"none\" stroke=\"#000000\" width=\"80\" x=\"390\" y=\"90\"/><path d=\"M 150 195 L 145 195 Q 140 195 140 205 L 140 217.5 Q 140 227.5 135 227.5 L 132.5 227.5 Q 130 227.5 135 227.5 L 137.5 227.5 Q 140 227.5 140 237.5 L 140 250 Q 140 260 145 260 L 150 260\" fill=\"none\" pointer-events=\"none\" stroke=\"#000000\" stroke-miterlimit=\"10\"/><g transform=\"translate(149.5,16.5)\"><switch><foreignObject height=\"17\" pointer-events=\"all\" requiredFeatures=\"http://www.w3.org/TR/SVG11/feature#Extensibility\" style=\"overflow:visible;\" width=\"80\"><div style=\"display: inline-block; font-size: 16px; font-family: Helvetica; color: rgb(0, 0, 0); line-height: 1.2; vertical-align: top; width: 81px; white-space: nowrap; overflow-wrap: normal; text-align: center;\" xmlns=\"http://www.w3.org/1999/xhtml\"><div style=\"display:inline-block;text-align:inherit;text-decoration:inherit;white-space:normal;\" xmlns=\"http://www.w3.org/1999/xhtml\"><span class=\"MathJax_Preview\" style=\"color: inherit;\"/><div class=\"MathJax_Display\" style=\"text-align: center;\"><span class=\"MathJax\" id=\"MathJax-Element-44-Frame\" style=\"text-align: center;\" tabindex=\"0\"><nobr><span class=\"math\" id=\"MathJax-Span-289\" style=\"width: 3.574em; display: inline-block;\"><span style=\"display: inline-block; position: relative; width: 2.706em; height: 0px; font-size: 132%;\"><span style=\"position: absolute; clip: rect(1.813em, 1002.68em, 2.964em, -1000em); top: -2.652em; left: 0em;\"><span class=\"mrow\" id=\"MathJax-Span-290\"><span class=\"msubsup\" id=\"MathJax-Span-291\"><span style=\"display: inline-block; position: relative; width: 0.869em; height: 0px;\"><span style=\"position: absolute; clip: rect(3.401em, 1000.39em, 4.178em, -1000em); top: -4.004em; left: 0em;\"><span class=\"mi\" id=\"MathJax-Span-292\" style=\"font-family: STIXGeneral; font-style: italic;\">𝑠</span><span style=\"display: inline-block; width: 0px; height: 4.004em;\"/></span><span style=\"position: absolute; top: -3.854em; left: 0.44em;\"><span class=\"mn\" id=\"MathJax-Span-293\" style=\"font-size: 70.7%; font-family: STIXGeneral;\">1</span><span style=\"display: inline-block; width: 0px; height: 4.004em;\"/></span></span></span><span class=\"mo\" id=\"MathJax-Span-294\" style=\"font-family: STIXGeneral; padding-left: 0.313em;\">=</span><span class=\"mn\" id=\"MathJax-Span-295\" style=\"font-family: STIXGeneral; padding-left: 0.313em;\">4</span></span><span style=\"display: inline-block; width: 0px; height: 2.652em;\"/></span></span><span style=\"display: inline-block; overflow: hidden; vertical-align: -0.269em; border-left: 0px solid; width: 0px; height: 1.233em;\"/></span></nobr></span></div><script id=\"MathJax-Element-44\" type=\"math/tex; mode=display\">s_1=4</script></div></div></foreignObject><text fill=\"#000000\" font-family=\"Helvetica\" font-size=\"16px\" text-anchor=\"middle\" x=\"40\" y=\"17\"><span class=\"MathJax_Preview\" style=\"color: inherit;\" xmlns=\"http://www.w3.org/1999/xhtml\"/><div class=\"MathJax_Display\" style=\"text-align: center;\" xmlns=\"http://www.w3.org/1999/xhtml\"><span class=\"MathJax\" id=\"MathJax-Element-45-Frame\" style=\"text-align: center;\" tabindex=\"0\"><nobr><span class=\"math\" id=\"MathJax-Span-296\" style=\"width: 3.574em; display: inline-block;\"><span style=\"display: inline-block; position: relative; width: 2.706em; height: 0px; font-size: 132%;\"><span style=\"position: absolute; clip: rect(1.813em, 1002.68em, 2.964em, -1000em); top: -2.652em; left: 0em;\"><span class=\"mrow\" id=\"MathJax-Span-297\"><span class=\"msubsup\" id=\"MathJax-Span-298\"><span style=\"display: inline-block; position: relative; width: 0.869em; height: 0px;\"><span style=\"position: absolute; clip: rect(3.401em, 1000.39em, 4.178em, -1000em); top: -4.004em; left: 0em;\"><span class=\"mi\" id=\"MathJax-Span-299\" style=\"font-family: STIXGeneral; font-style: italic;\">𝑠</span><span style=\"display: inline-block; width: 0px; height: 4.004em;\"/></span><span style=\"position: absolute; top: -3.854em; left: 0.44em;\"><span class=\"mn\" id=\"MathJax-Span-300\" style=\"font-size: 70.7%; font-family: STIXGeneral;\">1</span><span style=\"display: inline-block; width: 0px; height: 4.004em;\"/></span></span></span><span class=\"mo\" id=\"MathJax-Span-301\" style=\"font-family: STIXGeneral; padding-left: 0.313em;\">=</span><span class=\"mn\" id=\"MathJax-Span-302\" style=\"font-family: STIXGeneral; padding-left: 0.313em;\">4</span></span><span style=\"display: inline-block; width: 0px; height: 2.652em;\"/></span></span><span style=\"display: inline-block; overflow: hidden; vertical-align: -0.269em; border-left: 0px solid; width: 0px; height: 1.233em;\"/></span></nobr></span></div><script id=\"MathJax-Element-45\" type=\"math/tex; mode=display\" xmlns=\"http://www.w3.org/1999/xhtml\">s_1=4</script></text></switch></g><g transform=\"translate(269.5,16.5)\"><switch><foreignObject height=\"17\" pointer-events=\"all\" requiredFeatures=\"http://www.w3.org/TR/SVG11/feature#Extensibility\" style=\"overflow:visible;\" width=\"80\"><div style=\"display: inline-block; font-size: 16px; font-family: Helvetica; color: rgb(0, 0, 0); line-height: 1.2; vertical-align: top; width: 81px; white-space: nowrap; overflow-wrap: normal; text-align: center;\" xmlns=\"http://www.w3.org/1999/xhtml\"><div style=\"display:inline-block;text-align:inherit;text-decoration:inherit;white-space:normal;\" xmlns=\"http://www.w3.org/1999/xhtml\"><span class=\"MathJax_Preview\" style=\"color: inherit;\"/><div class=\"MathJax_Display\" style=\"text-align: center;\"><span class=\"MathJax\" id=\"MathJax-Element-46-Frame\" style=\"text-align: center;\" tabindex=\"0\"><nobr><span class=\"math\" id=\"MathJax-Span-303\" style=\"width: 3.574em; display: inline-block;\"><span style=\"display: inline-block; position: relative; width: 2.706em; height: 0px; font-size: 132%;\"><span style=\"position: absolute; clip: rect(1.813em, 1002.64em, 2.964em, -1000em); top: -2.652em; left: 0em;\"><span class=\"mrow\" id=\"MathJax-Span-304\"><span class=\"msubsup\" id=\"MathJax-Span-305\"><span style=\"display: inline-block; position: relative; width: 0.869em; height: 0px;\"><span style=\"position: absolute; clip: rect(3.401em, 1000.39em, 4.178em, -1000em); top: -4.004em; left: 0em;\"><span class=\"mi\" id=\"MathJax-Span-306\" style=\"font-family: STIXGeneral; font-style: italic;\">𝑠</span><span style=\"display: inline-block; width: 0px; height: 4.004em;\"/></span><span style=\"position: absolute; top: -3.854em; left: 0.44em;\"><span class=\"mn\" id=\"MathJax-Span-307\" style=\"font-size: 70.7%; font-family: STIXGeneral;\">2</span><span style=\"display: inline-block; width: 0px; height: 4.004em;\"/></span></span></span><span class=\"mo\" id=\"MathJax-Span-308\" style=\"font-family: STIXGeneral; padding-left: 0.313em;\">=</span><span class=\"mn\" id=\"MathJax-Span-309\" style=\"font-family: STIXGeneral; padding-left: 0.313em;\">3</span></span><span style=\"display: inline-block; width: 0px; height: 2.652em;\"/></span></span><span style=\"display: inline-block; overflow: hidden; vertical-align: -0.269em; border-left: 0px solid; width: 0px; height: 1.233em;\"/></span></nobr></span></div><script id=\"MathJax-Element-46\" type=\"math/tex; mode=display\">s_2=3</script></div></div></foreignObject><text fill=\"#000000\" font-family=\"Helvetica\" font-size=\"16px\" text-anchor=\"middle\" x=\"40\" y=\"17\"><span class=\"MathJax_Preview\" style=\"color: inherit;\" xmlns=\"http://www.w3.org/1999/xhtml\"/><div class=\"MathJax_Display\" style=\"text-align: center;\" xmlns=\"http://www.w3.org/1999/xhtml\"><span class=\"MathJax\" id=\"MathJax-Element-47-Frame\" style=\"text-align: center;\" tabindex=\"0\"><nobr><span class=\"math\" id=\"MathJax-Span-310\" style=\"width: 3.574em; display: inline-block;\"><span style=\"display: inline-block; position: relative; width: 2.706em; height: 0px; font-size: 132%;\"><span style=\"position: absolute; clip: rect(1.813em, 1002.64em, 2.964em, -1000em); top: -2.652em; left: 0em;\"><span class=\"mrow\" id=\"MathJax-Span-311\"><span class=\"msubsup\" id=\"MathJax-Span-312\"><span style=\"display: inline-block; position: relative; width: 0.869em; height: 0px;\"><span style=\"position: absolute; clip: rect(3.401em, 1000.39em, 4.178em, -1000em); top: -4.004em; left: 0em;\"><span class=\"mi\" id=\"MathJax-Span-313\" style=\"font-family: STIXGeneral; font-style: italic;\">𝑠</span><span style=\"display: inline-block; width: 0px; height: 4.004em;\"/></span><span style=\"position: absolute; top: -3.854em; left: 0.44em;\"><span class=\"mn\" id=\"MathJax-Span-314\" style=\"font-size: 70.7%; font-family: STIXGeneral;\">2</span><span style=\"display: inline-block; width: 0px; height: 4.004em;\"/></span></span></span><span class=\"mo\" id=\"MathJax-Span-315\" style=\"font-family: STIXGeneral; padding-left: 0.313em;\">=</span><span class=\"mn\" id=\"MathJax-Span-316\" style=\"font-family: STIXGeneral; padding-left: 0.313em;\">3</span></span><span style=\"display: inline-block; width: 0px; height: 2.652em;\"/></span></span><span style=\"display: inline-block; overflow: hidden; vertical-align: -0.269em; border-left: 0px solid; width: 0px; height: 1.233em;\"/></span></nobr></span></div><script id=\"MathJax-Element-47\" type=\"math/tex; mode=display\" xmlns=\"http://www.w3.org/1999/xhtml\">s_2=3</script></text></switch></g><g transform=\"translate(389.5,16.5)\"><switch><foreignObject height=\"17\" pointer-events=\"all\" requiredFeatures=\"http://www.w3.org/TR/SVG11/feature#Extensibility\" style=\"overflow:visible;\" width=\"80\"><div style=\"display: inline-block; font-size: 16px; font-family: Helvetica; color: rgb(0, 0, 0); line-height: 1.2; vertical-align: top; width: 81px; white-space: nowrap; overflow-wrap: normal; text-align: center;\" xmlns=\"http://www.w3.org/1999/xhtml\"><div style=\"display:inline-block;text-align:inherit;text-decoration:inherit;white-space:normal;\" xmlns=\"http://www.w3.org/1999/xhtml\"><span class=\"MathJax_Preview\" style=\"color: inherit;\"/><div class=\"MathJax_Display\" style=\"text-align: center;\"><span class=\"MathJax\" id=\"MathJax-Element-48-Frame\" style=\"text-align: center;\" tabindex=\"0\"><nobr><span class=\"math\" id=\"MathJax-Span-317\" style=\"width: 3.574em; display: inline-block;\"><span style=\"display: inline-block; position: relative; width: 2.706em; height: 0px; font-size: 132%;\"><span style=\"position: absolute; clip: rect(1.813em, 1002.64em, 2.974em, -1000em); top: -2.652em; left: 0em;\"><span class=\"mrow\" id=\"MathJax-Span-318\"><span class=\"msubsup\" id=\"MathJax-Span-319\"><span style=\"display: inline-block; position: relative; width: 0.869em; height: 0px;\"><span style=\"position: absolute; clip: rect(3.401em, 1000.39em, 4.178em, -1000em); top: -4.004em; left: 0em;\"><span class=\"mi\" id=\"MathJax-Span-320\" style=\"font-family: STIXGeneral; font-style: italic;\">𝑠</span><span style=\"display: inline-block; width: 0px; height: 4.004em;\"/></span><span style=\"position: absolute; top: -3.854em; left: 0.44em;\"><span class=\"mn\" id=\"MathJax-Span-321\" style=\"font-size: 70.7%; font-family: STIXGeneral;\">3</span><span style=\"display: inline-block; width: 0px; height: 4.004em;\"/></span></span></span><span class=\"mo\" id=\"MathJax-Span-322\" style=\"font-family: STIXGeneral; padding-left: 0.313em;\">=</span><span class=\"mn\" id=\"MathJax-Span-323\" style=\"font-family: STIXGeneral; padding-left: 0.313em;\">3</span></span><span style=\"display: inline-block; width: 0px; height: 2.652em;\"/></span></span><span style=\"display: inline-block; overflow: hidden; vertical-align: -0.282em; border-left: 0px solid; width: 0px; height: 1.246em;\"/></span></nobr></span></div><script id=\"MathJax-Element-48\" type=\"math/tex; mode=display\">s_3=3</script></div></div></foreignObject><text fill=\"#000000\" font-family=\"Helvetica\" font-size=\"16px\" text-anchor=\"middle\" x=\"40\" y=\"17\"><span class=\"MathJax_Preview\" style=\"color: inherit;\" xmlns=\"http://www.w3.org/1999/xhtml\"/><div class=\"MathJax_Display\" style=\"text-align: center;\" xmlns=\"http://www.w3.org/1999/xhtml\"><span class=\"MathJax\" id=\"MathJax-Element-49-Frame\" style=\"text-align: center;\" tabindex=\"0\"><nobr><span class=\"math\" id=\"MathJax-Span-324\" style=\"width: 3.574em; display: inline-block;\"><span style=\"display: inline-block; position: relative; width: 2.706em; height: 0px; font-size: 132%;\"><span style=\"position: absolute; clip: rect(1.813em, 1002.64em, 2.974em, -1000em); top: -2.652em; left: 0em;\"><span class=\"mrow\" id=\"MathJax-Span-325\"><span class=\"msubsup\" id=\"MathJax-Span-326\"><span style=\"display: inline-block; position: relative; width: 0.869em; height: 0px;\"><span style=\"position: absolute; clip: rect(3.401em, 1000.39em, 4.178em, -1000em); top: -4.004em; left: 0em;\"><span class=\"mi\" id=\"MathJax-Span-327\" style=\"font-family: STIXGeneral; font-style: italic;\">𝑠</span><span style=\"display: inline-block; width: 0px; height: 4.004em;\"/></span><span style=\"position: absolute; top: -3.854em; left: 0.44em;\"><span class=\"mn\" id=\"MathJax-Span-328\" style=\"font-size: 70.7%; font-family: STIXGeneral;\">3</span><span style=\"display: inline-block; width: 0px; height: 4.004em;\"/></span></span></span><span class=\"mo\" id=\"MathJax-Span-329\" style=\"font-family: STIXGeneral; padding-left: 0.313em;\">=</span><span class=\"mn\" id=\"MathJax-Span-330\" style=\"font-family: STIXGeneral; padding-left: 0.313em;\">3</span></span><span style=\"display: inline-block; width: 0px; height: 2.652em;\"/></span></span><span style=\"display: inline-block; overflow: hidden; vertical-align: -0.282em; border-left: 0px solid; width: 0px; height: 1.246em;\"/></span></nobr></span></div><script id=\"MathJax-Element-49\" type=\"math/tex; mode=display\" xmlns=\"http://www.w3.org/1999/xhtml\">s_3=3</script></text></switch></g><rect fill=\"#ffffff\" height=\"20\" pointer-events=\"none\" stroke=\"#000000\" width=\"80\" x=\"510\" y=\"151\"/><g transform=\"translate(509.5,16.5)\"><switch><foreignObject height=\"17\" pointer-events=\"all\" requiredFeatures=\"http://www.w3.org/TR/SVG11/feature#Extensibility\" style=\"overflow:visible;\" width=\"80\"><div style=\"display: inline-block; font-size: 16px; font-family: Helvetica; color: rgb(0, 0, 0); line-height: 1.2; vertical-align: top; width: 81px; white-space: nowrap; overflow-wrap: normal; text-align: center;\" xmlns=\"http://www.w3.org/1999/xhtml\"><div style=\"display:inline-block;text-align:inherit;text-decoration:inherit;white-space:normal;\" xmlns=\"http://www.w3.org/1999/xhtml\"><span class=\"MathJax_Preview\" style=\"color: inherit;\"/><div class=\"MathJax_Display\" style=\"text-align: center;\"><span class=\"MathJax\" id=\"MathJax-Element-50-Frame\" style=\"text-align: center;\" tabindex=\"0\"><nobr><span class=\"math\" id=\"MathJax-Span-331\" style=\"width: 3.574em; display: inline-block;\"><span style=\"display: inline-block; position: relative; width: 2.706em; height: 0px; font-size: 132%;\"><span style=\"position: absolute; clip: rect(1.813em, 1002.6em, 2.964em, -1000em); top: -2.652em; left: 0em;\"><span class=\"mrow\" id=\"MathJax-Span-332\"><span class=\"msubsup\" id=\"MathJax-Span-333\"><span style=\"display: inline-block; position: relative; width: 0.869em; height: 0px;\"><span style=\"position: absolute; clip: rect(3.401em, 1000.39em, 4.178em, -1000em); top: -4.004em; left: 0em;\"><span class=\"mi\" id=\"MathJax-Span-334\" style=\"font-family: STIXGeneral; font-style: italic;\">𝑠</span><span style=\"display: inline-block; width: 0px; height: 4.004em;\"/></span><span style=\"position: absolute; top: -3.854em; left: 0.44em;\"><span class=\"mn\" id=\"MathJax-Span-335\" style=\"font-size: 70.7%; font-family: STIXGeneral;\">4</span><span style=\"display: inline-block; width: 0px; height: 4.004em;\"/></span></span></span><span class=\"mo\" id=\"MathJax-Span-336\" style=\"font-family: STIXGeneral; padding-left: 0.313em;\">=</span><span class=\"mn\" id=\"MathJax-Span-337\" style=\"font-family: STIXGeneral; padding-left: 0.313em;\">1</span></span><span style=\"display: inline-block; width: 0px; height: 2.652em;\"/></span></span><span style=\"display: inline-block; overflow: hidden; vertical-align: -0.269em; border-left: 0px solid; width: 0px; height: 1.233em;\"/></span></nobr></span></div><script id=\"MathJax-Element-50\" type=\"math/tex; mode=display\">s_4=1</script></div></div></foreignObject><text fill=\"#000000\" font-family=\"Helvetica\" font-size=\"16px\" text-anchor=\"middle\" x=\"40\" y=\"17\"><span class=\"MathJax_Preview\" style=\"color: inherit;\" xmlns=\"http://www.w3.org/1999/xhtml\"/><div class=\"MathJax_Display\" style=\"text-align: center;\" xmlns=\"http://www.w3.org/1999/xhtml\"><span class=\"MathJax\" id=\"MathJax-Element-51-Frame\" style=\"text-align: center;\" tabindex=\"0\"><nobr><span class=\"math\" id=\"MathJax-Span-338\" style=\"width: 3.574em; display: inline-block;\"><span style=\"display: inline-block; position: relative; width: 2.706em; height: 0px; font-size: 132%;\"><span style=\"position: absolute; clip: rect(1.813em, 1002.6em, 2.964em, -1000em); top: -2.652em; left: 0em;\"><span class=\"mrow\" id=\"MathJax-Span-339\"><span class=\"msubsup\" id=\"MathJax-Span-340\"><span style=\"display: inline-block; position: relative; width: 0.869em; height: 0px;\"><span style=\"position: absolute; clip: rect(3.401em, 1000.39em, 4.178em, -1000em); top: -4.004em; left: 0em;\"><span class=\"mi\" id=\"MathJax-Span-341\" style=\"font-family: STIXGeneral; font-style: italic;\">𝑠</span><span style=\"display: inline-block; width: 0px; height: 4.004em;\"/></span><span style=\"position: absolute; top: -3.854em; left: 0.44em;\"><span class=\"mn\" id=\"MathJax-Span-342\" style=\"font-size: 70.7%; font-family: STIXGeneral;\">4</span><span style=\"display: inline-block; width: 0px; height: 4.004em;\"/></span></span></span><span class=\"mo\" id=\"MathJax-Span-343\" style=\"font-family: STIXGeneral; padding-left: 0.313em;\">=</span><span class=\"mn\" id=\"MathJax-Span-344\" style=\"font-family: STIXGeneral; padding-left: 0.313em;\">1</span></span><span style=\"display: inline-block; width: 0px; height: 2.652em;\"/></span></span><span style=\"display: inline-block; overflow: hidden; vertical-align: -0.269em; border-left: 0px solid; width: 0px; height: 1.233em;\"/></span></nobr></span></div><script id=\"MathJax-Element-51\" type=\"math/tex; mode=display\" xmlns=\"http://www.w3.org/1999/xhtml\">s_4=1</script></text></switch></g><path d=\"M 190 200 L 190 253.63\" fill=\"none\" pointer-events=\"none\" stroke=\"#000000\" stroke-miterlimit=\"10\"/><path d=\"M 190 258.88 L 186.5 251.88 L 190 253.63 L 193.5 251.88 Z\" fill=\"#000000\" pointer-events=\"none\" stroke=\"#000000\" stroke-miterlimit=\"10\"/><path d=\"M 310 200 L 310 253.63\" fill=\"none\" pointer-events=\"none\" stroke=\"#000000\" stroke-miterlimit=\"10\"/><path d=\"M 310 258.88 L 306.5 251.88 L 310 253.63 L 313.5 251.88 Z\" fill=\"#000000\" pointer-events=\"none\" stroke=\"#000000\" stroke-miterlimit=\"10\"/><path d=\"M 429 200 L 429 253.63\" fill=\"none\" pointer-events=\"none\" stroke=\"#000000\" stroke-miterlimit=\"10\"/><path d=\"M 429 258.88 L 425.5 251.88 L 429 253.63 L 432.5 251.88 Z\" fill=\"#000000\" pointer-events=\"none\" stroke=\"#000000\" stroke-miterlimit=\"10\"/><path d=\"M 549 200 L 549 253.63\" fill=\"none\" pointer-events=\"none\" stroke=\"#000000\" stroke-miterlimit=\"10\"/><path d=\"M 549 258.88 L 545.5 251.88 L 549 253.63 L 552.5 251.88 Z\" fill=\"#000000\" pointer-events=\"none\" stroke=\"#000000\" stroke-miterlimit=\"10\"/><g transform=\"translate(198.5,216.5)\"><switch><foreignObject height=\"17\" pointer-events=\"all\" requiredFeatures=\"http://www.w3.org/TR/SVG11/feature#Extensibility\" style=\"overflow:visible;\" width=\"62\"><div style=\"display: inline-block; font-size: 16px; font-family: Helvetica; color: rgb(0, 0, 0); line-height: 1.2; vertical-align: top; width: 63px; white-space: nowrap; overflow-wrap: normal; text-align: center;\" xmlns=\"http://www.w3.org/1999/xhtml\"><div style=\"display:inline-block;text-align:inherit;text-decoration:inherit;white-space:normal;\" xmlns=\"http://www.w3.org/1999/xhtml\"><span class=\"MathJax_Preview\" style=\"color: inherit;\"/><div class=\"MathJax_Display\" style=\"text-align: center;\"><span class=\"MathJax\" id=\"MathJax-Element-52-Frame\" style=\"text-align: center;\" tabindex=\"0\"><nobr><span class=\"math\" id=\"MathJax-Span-345\" style=\"width: 1.247em; display: inline-block;\"><span style=\"display: inline-block; position: relative; width: 0.92em; height: 0px; font-size: 132%;\"><span style=\"position: absolute; clip: rect(1.869em, 1000.92em, 2.802em, -1000em); top: -2.489em; left: 0em;\"><span class=\"mrow\" id=\"MathJax-Span-346\"><span class=\"msubsup\" id=\"MathJax-Span-347\"><span style=\"display: inline-block; position: relative; width: 0.935em; height: 0px;\"><span style=\"position: absolute; clip: rect(3.384em, 1000.48em, 4.176em, -1000em); top: -4.004em; left: 0em;\"><span class=\"mi\" id=\"MathJax-Span-348\" style=\"font-family: STIXGeneral; font-style: italic;\">𝑣</span><span style=\"display: inline-block; width: 0px; height: 4.004em;\"/></span><span style=\"position: absolute; top: -3.854em; left: 0.506em;\"><span class=\"mn\" id=\"MathJax-Span-349\" style=\"font-size: 70.7%; font-family: STIXGeneral;\">1</span><span style=\"display: inline-block; width: 0px; height: 4.004em;\"/></span></span></span></span><span style=\"display: inline-block; width: 0px; height: 2.489em;\"/></span></span><span style=\"display: inline-block; overflow: hidden; vertical-align: -0.269em; border-left: 0px solid; width: 0px; height: 0.945em;\"/></span></nobr></span></div><script id=\"MathJax-Element-52\" type=\"math/tex; mode=display\">v_1</script></div></div></foreignObject><text fill=\"#000000\" font-family=\"Helvetica\" font-size=\"16px\" text-anchor=\"middle\" x=\"31\" y=\"17\"><span class=\"MathJax_Preview\" style=\"color: inherit;\" xmlns=\"http://www.w3.org/1999/xhtml\"/><div class=\"MathJax_Display\" style=\"text-align: center;\" xmlns=\"http://www.w3.org/1999/xhtml\"><span class=\"MathJax\" id=\"MathJax-Element-53-Frame\" style=\"text-align: center;\" tabindex=\"0\"><nobr><span class=\"math\" id=\"MathJax-Span-350\" style=\"width: 1.247em; display: inline-block;\"><span style=\"display: inline-block; position: relative; width: 0.92em; height: 0px; font-size: 132%;\"><span style=\"position: absolute; clip: rect(1.869em, 1000.92em, 2.802em, -1000em); top: -2.489em; left: 0em;\"><span class=\"mrow\" id=\"MathJax-Span-351\"><span class=\"msubsup\" id=\"MathJax-Span-352\"><span style=\"display: inline-block; position: relative; width: 0.935em; height: 0px;\"><span style=\"position: absolute; clip: rect(3.384em, 1000.48em, 4.176em, -1000em); top: -4.004em; left: 0em;\"><span class=\"mi\" id=\"MathJax-Span-353\" style=\"font-family: STIXGeneral; font-style: italic;\">𝑣</span><span style=\"display: inline-block; width: 0px; height: 4.004em;\"/></span><span style=\"position: absolute; top: -3.854em; left: 0.506em;\"><span class=\"mn\" id=\"MathJax-Span-354\" style=\"font-size: 70.7%; font-family: STIXGeneral;\">1</span><span style=\"display: inline-block; width: 0px; height: 4.004em;\"/></span></span></span></span><span style=\"display: inline-block; width: 0px; height: 2.489em;\"/></span></span><span style=\"display: inline-block; overflow: hidden; vertical-align: -0.269em; border-left: 0px solid; width: 0px; height: 0.945em;\"/></span></nobr></span></div><script id=\"MathJax-Element-53\" type=\"math/tex; mode=display\" xmlns=\"http://www.w3.org/1999/xhtml\">v_1</script></text></switch></g><g transform=\"translate(318.5,216.5)\"><switch><foreignObject height=\"17\" pointer-events=\"all\" requiredFeatures=\"http://www.w3.org/TR/SVG11/feature#Extensibility\" style=\"overflow:visible;\" width=\"62\"><div style=\"display: inline-block; font-size: 16px; font-family: Helvetica; color: rgb(0, 0, 0); line-height: 1.2; vertical-align: top; width: 63px; white-space: nowrap; overflow-wrap: normal; text-align: center;\" xmlns=\"http://www.w3.org/1999/xhtml\"><div style=\"display:inline-block;text-align:inherit;text-decoration:inherit;white-space:normal;\" xmlns=\"http://www.w3.org/1999/xhtml\"><span class=\"MathJax_Preview\" style=\"color: inherit;\"/><div class=\"MathJax_Display\" style=\"text-align: center;\"><span class=\"MathJax\" id=\"MathJax-Element-54-Frame\" style=\"text-align: center;\" tabindex=\"0\"><nobr><span class=\"math\" id=\"MathJax-Span-355\" style=\"width: 1.247em; display: inline-block;\"><span style=\"display: inline-block; position: relative; width: 0.92em; height: 0px; font-size: 132%;\"><span style=\"position: absolute; clip: rect(1.869em, 1000.92em, 2.802em, -1000em); top: -2.489em; left: 0em;\"><span class=\"mrow\" id=\"MathJax-Span-356\"><span class=\"msubsup\" id=\"MathJax-Span-357\"><span style=\"display: inline-block; position: relative; width: 0.935em; height: 0px;\"><span style=\"position: absolute; clip: rect(3.384em, 1000.48em, 4.176em, -1000em); top: -4.004em; left: 0em;\"><span class=\"mi\" id=\"MathJax-Span-358\" style=\"font-family: STIXGeneral; font-style: italic;\">𝑣</span><span style=\"display: inline-block; width: 0px; height: 4.004em;\"/></span><span style=\"position: absolute; top: -3.854em; left: 0.506em;\"><span class=\"mn\" id=\"MathJax-Span-359\" style=\"font-size: 70.7%; font-family: STIXGeneral;\">2</span><span style=\"display: inline-block; width: 0px; height: 4.004em;\"/></span></span></span></span><span style=\"display: inline-block; width: 0px; height: 2.489em;\"/></span></span><span style=\"display: inline-block; overflow: hidden; vertical-align: -0.269em; border-left: 0px solid; width: 0px; height: 0.945em;\"/></span></nobr></span></div><script id=\"MathJax-Element-54\" type=\"math/tex; mode=display\">v_2</script></div></div></foreignObject><text fill=\"#000000\" font-family=\"Helvetica\" font-size=\"16px\" text-anchor=\"middle\" x=\"31\" y=\"17\"><span class=\"MathJax_Preview\" style=\"color: inherit;\" xmlns=\"http://www.w3.org/1999/xhtml\"/><div class=\"MathJax_Display\" style=\"text-align: center;\" xmlns=\"http://www.w3.org/1999/xhtml\"><span class=\"MathJax\" id=\"MathJax-Element-55-Frame\" style=\"text-align: center;\" tabindex=\"0\"><nobr><span class=\"math\" id=\"MathJax-Span-360\" style=\"width: 1.247em; display: inline-block;\"><span style=\"display: inline-block; position: relative; width: 0.92em; height: 0px; font-size: 132%;\"><span style=\"position: absolute; clip: rect(1.869em, 1000.92em, 2.802em, -1000em); top: -2.489em; left: 0em;\"><span class=\"mrow\" id=\"MathJax-Span-361\"><span class=\"msubsup\" id=\"MathJax-Span-362\"><span style=\"display: inline-block; position: relative; width: 0.935em; height: 0px;\"><span style=\"position: absolute; clip: rect(3.384em, 1000.48em, 4.176em, -1000em); top: -4.004em; left: 0em;\"><span class=\"mi\" id=\"MathJax-Span-363\" style=\"font-family: STIXGeneral; font-style: italic;\">𝑣</span><span style=\"display: inline-block; width: 0px; height: 4.004em;\"/></span><span style=\"position: absolute; top: -3.854em; left: 0.506em;\"><span class=\"mn\" id=\"MathJax-Span-364\" style=\"font-size: 70.7%; font-family: STIXGeneral;\">2</span><span style=\"display: inline-block; width: 0px; height: 4.004em;\"/></span></span></span></span><span style=\"display: inline-block; width: 0px; height: 2.489em;\"/></span></span><span style=\"display: inline-block; overflow: hidden; vertical-align: -0.269em; border-left: 0px solid; width: 0px; height: 0.945em;\"/></span></nobr></span></div><script id=\"MathJax-Element-55\" type=\"math/tex; mode=display\" xmlns=\"http://www.w3.org/1999/xhtml\">v_2</script></text></switch></g><g transform=\"translate(438.5,216.5)\"><switch><foreignObject height=\"17\" pointer-events=\"all\" requiredFeatures=\"http://www.w3.org/TR/SVG11/feature#Extensibility\" style=\"overflow:visible;\" width=\"62\"><div style=\"display: inline-block; font-size: 16px; font-family: Helvetica; color: rgb(0, 0, 0); line-height: 1.2; vertical-align: top; width: 63px; white-space: nowrap; overflow-wrap: normal; text-align: center;\" xmlns=\"http://www.w3.org/1999/xhtml\"><div style=\"display:inline-block;text-align:inherit;text-decoration:inherit;white-space:normal;\" xmlns=\"http://www.w3.org/1999/xhtml\"><span class=\"MathJax_Preview\" style=\"color: inherit;\"/><div class=\"MathJax_Display\" style=\"text-align: center;\"><span class=\"MathJax\" id=\"MathJax-Element-56-Frame\" style=\"text-align: center;\" tabindex=\"0\"><nobr><span class=\"math\" id=\"MathJax-Span-365\" style=\"width: 1.247em; display: inline-block;\"><span style=\"display: inline-block; position: relative; width: 0.92em; height: 0px; font-size: 132%;\"><span style=\"position: absolute; clip: rect(1.869em, 1000.92em, 2.811em, -1000em); top: -2.489em; left: 0em;\"><span class=\"mrow\" id=\"MathJax-Span-366\"><span class=\"msubsup\" id=\"MathJax-Span-367\"><span style=\"display: inline-block; position: relative; width: 0.935em; height: 0px;\"><span style=\"position: absolute; clip: rect(3.384em, 1000.48em, 4.176em, -1000em); top: -4.004em; left: 0em;\"><span class=\"mi\" id=\"MathJax-Span-368\" style=\"font-family: STIXGeneral; font-style: italic;\">𝑣</span><span style=\"display: inline-block; width: 0px; height: 4.004em;\"/></span><span style=\"position: absolute; top: -3.854em; left: 0.506em;\"><span class=\"mn\" id=\"MathJax-Span-369\" style=\"font-size: 70.7%; font-family: STIXGeneral;\">3</span><span style=\"display: inline-block; width: 0px; height: 4.004em;\"/></span></span></span></span><span style=\"display: inline-block; width: 0px; height: 2.489em;\"/></span></span><span style=\"display: inline-block; overflow: hidden; vertical-align: -0.282em; border-left: 0px solid; width: 0px; height: 0.958em;\"/></span></nobr></span></div><script id=\"MathJax-Element-56\" type=\"math/tex; mode=display\">v_3</script></div></div></foreignObject><text fill=\"#000000\" font-family=\"Helvetica\" font-size=\"16px\" text-anchor=\"middle\" x=\"31\" y=\"17\"><span class=\"MathJax_Preview\" style=\"color: inherit;\" xmlns=\"http://www.w3.org/1999/xhtml\"/><div class=\"MathJax_Display\" style=\"text-align: center;\" xmlns=\"http://www.w3.org/1999/xhtml\"><span class=\"MathJax\" id=\"MathJax-Element-57-Frame\" style=\"text-align: center;\" tabindex=\"0\"><nobr><span class=\"math\" id=\"MathJax-Span-370\" style=\"width: 1.247em; display: inline-block;\"><span style=\"display: inline-block; position: relative; width: 0.92em; height: 0px; font-size: 132%;\"><span style=\"position: absolute; clip: rect(1.869em, 1000.92em, 2.811em, -1000em); top: -2.489em; left: 0em;\"><span class=\"mrow\" id=\"MathJax-Span-371\"><span class=\"msubsup\" id=\"MathJax-Span-372\"><span style=\"display: inline-block; position: relative; width: 0.935em; height: 0px;\"><span style=\"position: absolute; clip: rect(3.384em, 1000.48em, 4.176em, -1000em); top: -4.004em; left: 0em;\"><span class=\"mi\" id=\"MathJax-Span-373\" style=\"font-family: STIXGeneral; font-style: italic;\">𝑣</span><span style=\"display: inline-block; width: 0px; height: 4.004em;\"/></span><span style=\"position: absolute; top: -3.854em; left: 0.506em;\"><span class=\"mn\" id=\"MathJax-Span-374\" style=\"font-size: 70.7%; font-family: STIXGeneral;\">3</span><span style=\"display: inline-block; width: 0px; height: 4.004em;\"/></span></span></span></span><span style=\"display: inline-block; width: 0px; height: 2.489em;\"/></span></span><span style=\"display: inline-block; overflow: hidden; vertical-align: -0.282em; border-left: 0px solid; width: 0px; height: 0.958em;\"/></span></nobr></span></div><script id=\"MathJax-Element-57\" type=\"math/tex; mode=display\" xmlns=\"http://www.w3.org/1999/xhtml\">v_3</script></text></switch></g><g transform=\"translate(558.5,216.5)\"><switch><foreignObject height=\"17\" pointer-events=\"all\" requiredFeatures=\"http://www.w3.org/TR/SVG11/feature#Extensibility\" style=\"overflow:visible;\" width=\"62\"><div style=\"display: inline-block; font-size: 16px; font-family: Helvetica; color: rgb(0, 0, 0); line-height: 1.2; vertical-align: top; width: 63px; white-space: nowrap; overflow-wrap: normal; text-align: center;\" xmlns=\"http://www.w3.org/1999/xhtml\"><div style=\"display:inline-block;text-align:inherit;text-decoration:inherit;white-space:normal;\" xmlns=\"http://www.w3.org/1999/xhtml\"><span class=\"MathJax_Preview\" style=\"color: inherit;\"/><div class=\"MathJax_Display\" style=\"text-align: center;\"><span class=\"MathJax\" id=\"MathJax-Element-58-Frame\" style=\"text-align: center;\" tabindex=\"0\"><nobr><span class=\"math\" id=\"MathJax-Span-375\" style=\"width: 1.247em; display: inline-block;\"><span style=\"display: inline-block; position: relative; width: 0.92em; height: 0px; font-size: 132%;\"><span style=\"position: absolute; clip: rect(1.869em, 1000.92em, 2.802em, -1000em); top: -2.489em; left: 0em;\"><span class=\"mrow\" id=\"MathJax-Span-376\"><span class=\"msubsup\" id=\"MathJax-Span-377\"><span style=\"display: inline-block; position: relative; width: 0.935em; height: 0px;\"><span style=\"position: absolute; clip: rect(3.384em, 1000.48em, 4.176em, -1000em); top: -4.004em; left: 0em;\"><span class=\"mi\" id=\"MathJax-Span-378\" style=\"font-family: STIXGeneral; font-style: italic;\">𝑣</span><span style=\"display: inline-block; width: 0px; height: 4.004em;\"/></span><span style=\"position: absolute; top: -3.854em; left: 0.506em;\"><span class=\"mn\" id=\"MathJax-Span-379\" style=\"font-size: 70.7%; font-family: STIXGeneral;\">4</span><span style=\"display: inline-block; width: 0px; height: 4.004em;\"/></span></span></span></span><span style=\"display: inline-block; width: 0px; height: 2.489em;\"/></span></span><span style=\"display: inline-block; overflow: hidden; vertical-align: -0.269em; border-left: 0px solid; width: 0px; height: 0.945em;\"/></span></nobr></span></div><script id=\"MathJax-Element-58\" type=\"math/tex; mode=display\">v_4</script></div></div></foreignObject><text fill=\"#000000\" font-family=\"Helvetica\" font-size=\"16px\" text-anchor=\"middle\" x=\"31\" y=\"17\"><span class=\"MathJax_Preview\" style=\"color: inherit;\" xmlns=\"http://www.w3.org/1999/xhtml\"/><div class=\"MathJax_Display\" style=\"text-align: center;\" xmlns=\"http://www.w3.org/1999/xhtml\"><span class=\"MathJax\" id=\"MathJax-Element-59-Frame\" style=\"text-align: center;\" tabindex=\"0\"><nobr><span class=\"math\" id=\"MathJax-Span-380\" style=\"width: 1.247em; display: inline-block;\"><span style=\"display: inline-block; position: relative; width: 0.92em; height: 0px; font-size: 132%;\"><span style=\"position: absolute; clip: rect(1.869em, 1000.92em, 2.802em, -1000em); top: -2.489em; left: 0em;\"><span class=\"mrow\" id=\"MathJax-Span-381\"><span class=\"msubsup\" id=\"MathJax-Span-382\"><span style=\"display: inline-block; position: relative; width: 0.935em; height: 0px;\"><span style=\"position: absolute; clip: rect(3.384em, 1000.48em, 4.176em, -1000em); top: -4.004em; left: 0em;\"><span class=\"mi\" id=\"MathJax-Span-383\" style=\"font-family: STIXGeneral; font-style: italic;\">𝑣</span><span style=\"display: inline-block; width: 0px; height: 4.004em;\"/></span><span style=\"position: absolute; top: -3.854em; left: 0.506em;\"><span class=\"mn\" id=\"MathJax-Span-384\" style=\"font-size: 70.7%; font-family: STIXGeneral;\">4</span><span style=\"display: inline-block; width: 0px; height: 4.004em;\"/></span></span></span></span><span style=\"display: inline-block; width: 0px; height: 2.489em;\"/></span></span><span style=\"display: inline-block; overflow: hidden; vertical-align: -0.269em; border-left: 0px solid; width: 0px; height: 0.945em;\"/></span></nobr></span></div><script id=\"MathJax-Element-59\" type=\"math/tex; mode=display\" xmlns=\"http://www.w3.org/1999/xhtml\">v_4</script></text></switch></g><g transform=\"translate(0.5,209.5)\"><switch><foreignObject height=\"36\" pointer-events=\"all\" requiredFeatures=\"http://www.w3.org/TR/SVG11/feature#Extensibility\" style=\"overflow:visible;\" width=\"118\"><div style=\"display: inline-block; font-size: 16px; font-family: Helvetica; color: rgb(0, 0, 0); line-height: 1.2; vertical-align: top; width: 118px; white-space: nowrap; overflow-wrap: normal; text-align: center;\" xmlns=\"http://www.w3.org/1999/xhtml\"><div style=\"display:inline-block;text-align:inherit;text-decoration:inherit;white-space:normal;\" xmlns=\"http://www.w3.org/1999/xhtml\"><span class=\"MathJax_Preview\" style=\"color: inherit;\"/><div class=\"MathJax_Display\" style=\"text-align: center;\"><span class=\"MathJax\" id=\"MathJax-Element-60-Frame\" style=\"text-align: center;\" tabindex=\"0\"><nobr><span class=\"math\" id=\"MathJax-Span-385\" style=\"width: 7.146em; display: inline-block;\"><span style=\"display: inline-block; position: relative; width: 5.411em; height: 0px; font-size: 132%;\"><span style=\"position: absolute; clip: rect(1.514em, 1005.41em, 4.072em, -1000em); top: -2.652em; left: 0em;\"><span class=\"mrow\" id=\"MathJax-Span-386\"><span class=\"munderover\" id=\"MathJax-Span-387\"><span style=\"display: inline-block; position: relative; width: 1.292em; height: 0px;\"><span style=\"position: absolute; clip: rect(2.867em, 1001.2em, 4.642em, -1000em); top: -4.004em; left: 0em;\"><span class=\"mo\" id=\"MathJax-Span-388\" style=\"font-family: STIXSizeOneSym; vertical-align: -0.524em;\">∑</span><span style=\"display: inline-block; width: 0px; height: 4.004em;\"/></span><span style=\"position: absolute; clip: rect(3.406em, 1000.18em, 4.274em, -1000em); top: -2.854em; left: 0.536em;\"><span class=\"mi\" id=\"MathJax-Span-389\" style=\"font-size: 70.7%; font-family: STIXGeneral; font-style: italic;\">𝑖</span><span style=\"display: inline-block; width: 0px; height: 4.004em;\"/></span></span></span><span class=\"msubsup\" id=\"MathJax-Span-390\" style=\"padding-left: 0.188em;\"><span style=\"display: inline-block; position: relative; width: 0.801em; height: 0px;\"><span style=\"position: absolute; clip: rect(3.384em, 1000.48em, 4.176em, -1000em); top: -4.004em; left: 0em;\"><span class=\"mi\" id=\"MathJax-Span-391\" style=\"font-family: STIXGeneral; font-style: italic;\">𝑣</span><span style=\"display: inline-block; width: 0px; height: 4.004em;\"/></span><span style=\"position: absolute; top: -3.854em; left: 0.506em;\"><span class=\"mi\" id=\"MathJax-Span-392\" style=\"font-size: 70.7%; font-family: STIXGeneral; font-style: italic;\">𝑖</span><span style=\"display: inline-block; width: 0px; height: 4.004em;\"/></span></span></span><span class=\"mo\" id=\"MathJax-Span-393\" style=\"font-family: STIXGeneral; padding-left: 0.313em;\">≤</span><span class=\"msubsup\" id=\"MathJax-Span-394\" style=\"padding-left: 0.313em;\"><span style=\"display: inline-block; position: relative; width: 1.827em; height: 0px;\"><span style=\"position: absolute; clip: rect(3.384em, 1000.48em, 4.176em, -1000em); top: -4.004em; left: 0em;\"><span class=\"mi\" id=\"MathJax-Span-395\" style=\"font-family: STIXGeneral; font-style: italic;\">𝑣</span><span style=\"display: inline-block; width: 0px; height: 4.004em;\"/></span><span style=\"position: absolute; top: -3.854em; left: 0.506em;\"><span class=\"texatom\" id=\"MathJax-Span-396\"><span class=\"mrow\" id=\"MathJax-Span-397\"><span class=\"mi\" id=\"MathJax-Span-398\" style=\"font-size: 70.7%; font-family: STIXGeneral; font-style: italic;\">𝑚</span><span class=\"mi\" id=\"MathJax-Span-399\" style=\"font-size: 70.7%; font-family: STIXGeneral; font-style: italic;\">𝑎</span><span class=\"mi\" id=\"MathJax-Span-400\" style=\"font-size: 70.7%; font-family: STIXGeneral; font-style: italic;\">𝑥</span></span></span><span style=\"display: inline-block; width: 0px; height: 4.004em;\"/></span></span></span></span><span style=\"display: inline-block; width: 0px; height: 2.652em;\"/></span></span><span style=\"display: inline-block; overflow: hidden; vertical-align: -1.732em; border-left: 0px solid; width: 0px; height: 3.09em;\"/></span></nobr></span></div><script id=\"MathJax-Element-60\" type=\"math/tex; mode=display\">\\sum_i v_i \\leq v_{max}</script></div></div></foreignObject><text fill=\"#000000\" font-family=\"Helvetica\" font-size=\"16px\" text-anchor=\"middle\" x=\"59\" y=\"26\"><span class=\"MathJax_Preview\" style=\"color: inherit;\" xmlns=\"http://www.w3.org/1999/xhtml\"/><div class=\"MathJax_Display\" style=\"text-align: center;\" xmlns=\"http://www.w3.org/1999/xhtml\"><span class=\"MathJax\" id=\"MathJax-Element-61-Frame\" style=\"text-align: center;\" tabindex=\"0\"><nobr><span class=\"math\" id=\"MathJax-Span-401\" style=\"width: 7.146em; display: inline-block;\"><span style=\"display: inline-block; position: relative; width: 5.411em; height: 0px; font-size: 132%;\"><span style=\"position: absolute; clip: rect(1.514em, 1005.41em, 4.072em, -1000em); top: -2.652em; left: 0em;\"><span class=\"mrow\" id=\"MathJax-Span-402\"><span class=\"munderover\" id=\"MathJax-Span-403\"><span style=\"display: inline-block; position: relative; width: 1.292em; height: 0px;\"><span style=\"position: absolute; clip: rect(2.867em, 1001.2em, 4.642em, -1000em); top: -4.004em; left: 0em;\"><span class=\"mo\" id=\"MathJax-Span-404\" style=\"font-family: STIXSizeOneSym; vertical-align: -0.524em;\">∑</span><span style=\"display: inline-block; width: 0px; height: 4.004em;\"/></span><span style=\"position: absolute; clip: rect(3.406em, 1000.18em, 4.274em, -1000em); top: -2.854em; left: 0.536em;\"><span class=\"mi\" id=\"MathJax-Span-405\" style=\"font-size: 70.7%; font-family: STIXGeneral; font-style: italic;\">𝑖</span><span style=\"display: inline-block; width: 0px; height: 4.004em;\"/></span></span></span><span class=\"msubsup\" id=\"MathJax-Span-406\" style=\"padding-left: 0.188em;\"><span style=\"display: inline-block; position: relative; width: 0.801em; height: 0px;\"><span style=\"position: absolute; clip: rect(3.384em, 1000.48em, 4.176em, -1000em); top: -4.004em; left: 0em;\"><span class=\"mi\" id=\"MathJax-Span-407\" style=\"font-family: STIXGeneral; font-style: italic;\">𝑣</span><span style=\"display: inline-block; width: 0px; height: 4.004em;\"/></span><span style=\"position: absolute; top: -3.854em; left: 0.506em;\"><span class=\"mi\" id=\"MathJax-Span-408\" style=\"font-size: 70.7%; font-family: STIXGeneral; font-style: italic;\">𝑖</span><span style=\"display: inline-block; width: 0px; height: 4.004em;\"/></span></span></span><span class=\"mo\" id=\"MathJax-Span-409\" style=\"font-family: STIXGeneral; padding-left: 0.313em;\">≤</span><span class=\"msubsup\" id=\"MathJax-Span-410\" style=\"padding-left: 0.313em;\"><span style=\"display: inline-block; position: relative; width: 1.827em; height: 0px;\"><span style=\"position: absolute; clip: rect(3.384em, 1000.48em, 4.176em, -1000em); top: -4.004em; left: 0em;\"><span class=\"mi\" id=\"MathJax-Span-411\" style=\"font-family: STIXGeneral; font-style: italic;\">𝑣</span><span style=\"display: inline-block; width: 0px; height: 4.004em;\"/></span><span style=\"position: absolute; top: -3.854em; left: 0.506em;\"><span class=\"texatom\" id=\"MathJax-Span-412\"><span class=\"mrow\" id=\"MathJax-Span-413\"><span class=\"mi\" id=\"MathJax-Span-414\" style=\"font-size: 70.7%; font-family: STIXGeneral; font-style: italic;\">𝑚</span><span class=\"mi\" id=\"MathJax-Span-415\" style=\"font-size: 70.7%; font-family: STIXGeneral; font-style: italic;\">𝑎</span><span class=\"mi\" id=\"MathJax-Span-416\" style=\"font-size: 70.7%; font-family: STIXGeneral; font-style: italic;\">𝑥</span></span></span><span style=\"display: inline-block; width: 0px; height: 4.004em;\"/></span></span></span></span><span style=\"display: inline-block; width: 0px; height: 2.652em;\"/></span></span><span style=\"display: inline-block; overflow: hidden; vertical-align: -1.732em; border-left: 0px solid; width: 0px; height: 3.09em;\"/></span></nobr></span></div><script id=\"MathJax-Element-61\" type=\"math/tex; mode=display\" xmlns=\"http://www.w3.org/1999/xhtml\">\\sum_i v_i \\leq v_{max}</script></text></switch></g><g transform=\"translate(150.5,276.5)\"><switch><foreignObject height=\"36\" pointer-events=\"all\" requiredFeatures=\"http://www.w3.org/TR/SVG11/feature#Extensibility\" style=\"overflow:visible;\" width=\"78\"><div style=\"display: inline-block; font-size: 16px; font-family: Helvetica; color: rgb(0, 0, 0); line-height: 1.2; vertical-align: top; width: 78px; white-space: nowrap; overflow-wrap: normal; text-align: center;\" xmlns=\"http://www.w3.org/1999/xhtml\"><div style=\"display:inline-block;text-align:inherit;text-decoration:inherit;white-space:normal;\" xmlns=\"http://www.w3.org/1999/xhtml\"><span class=\"MathJax_Preview\" style=\"color: inherit;\"/><div class=\"MathJax_Display\" style=\"text-align: center;\"><span class=\"MathJax\" id=\"MathJax-Element-62-Frame\" style=\"text-align: center;\" tabindex=\"0\"><nobr><span class=\"math\" id=\"MathJax-Span-417\" style=\"width: 4.169em; display: inline-block;\"><span style=\"display: inline-block; position: relative; width: 3.139em; height: 0px; font-size: 132%;\"><span style=\"position: absolute; clip: rect(1.88em, 1003.14em, 2.964em, -1000em); top: -2.652em; left: 0em;\"><span class=\"mrow\" id=\"MathJax-Span-418\"><span class=\"msubsup\" id=\"MathJax-Span-419\"><span style=\"display: inline-block; position: relative; width: 0.935em; height: 0px;\"><span style=\"position: absolute; clip: rect(3.384em, 1000.48em, 4.176em, -1000em); top: -4.004em; left: 0em;\"><span class=\"mi\" id=\"MathJax-Span-420\" style=\"font-family: STIXGeneral; font-style: italic;\">𝑣</span><span style=\"display: inline-block; width: 0px; height: 4.004em;\"/></span><span style=\"position: absolute; top: -3.854em; left: 0.506em;\"><span class=\"mn\" id=\"MathJax-Span-421\" style=\"font-size: 70.7%; font-family: STIXGeneral;\">1</span><span style=\"display: inline-block; width: 0px; height: 4.004em;\"/></span></span></span><span class=\"mo\" id=\"MathJax-Span-422\" style=\"font-family: STIXGeneral; padding-left: 0.313em;\">≤</span><span class=\"msubsup\" id=\"MathJax-Span-423\" style=\"padding-left: 0.313em;\"><span style=\"display: inline-block; position: relative; width: 0.869em; height: 0px;\"><span style=\"position: absolute; clip: rect(3.401em, 1000.39em, 4.178em, -1000em); top: -4.004em; left: 0em;\"><span class=\"mi\" id=\"MathJax-Span-424\" style=\"font-family: STIXGeneral; font-style: italic;\">𝑠</span><span style=\"display: inline-block; width: 0px; height: 4.004em;\"/></span><span style=\"position: absolute; top: -3.854em; left: 0.44em;\"><span class=\"mn\" id=\"MathJax-Span-425\" style=\"font-size: 70.7%; font-family: STIXGeneral;\">1</span><span style=\"display: inline-block; width: 0px; height: 4.004em;\"/></span></span></span></span><span style=\"display: inline-block; width: 0px; height: 2.652em;\"/></span></span><span style=\"display: inline-block; overflow: hidden; vertical-align: -0.269em; border-left: 0px solid; width: 0px; height: 1.145em;\"/></span></nobr></span></div><script id=\"MathJax-Element-62\" type=\"math/tex; mode=display\">v_1\\leq s_1</script></div></div></foreignObject><text fill=\"#000000\" font-family=\"Helvetica\" font-size=\"16px\" text-anchor=\"middle\" x=\"39\" y=\"26\"><span class=\"MathJax_Preview\" style=\"color: inherit;\" xmlns=\"http://www.w3.org/1999/xhtml\"/><div class=\"MathJax_Display\" style=\"text-align: center;\" xmlns=\"http://www.w3.org/1999/xhtml\"><span class=\"MathJax\" id=\"MathJax-Element-63-Frame\" style=\"text-align: center;\" tabindex=\"0\"><nobr><span class=\"math\" id=\"MathJax-Span-426\" style=\"width: 4.169em; display: inline-block;\"><span style=\"display: inline-block; position: relative; width: 3.139em; height: 0px; font-size: 132%;\"><span style=\"position: absolute; clip: rect(1.88em, 1003.14em, 2.964em, -1000em); top: -2.652em; left: 0em;\"><span class=\"mrow\" id=\"MathJax-Span-427\"><span class=\"msubsup\" id=\"MathJax-Span-428\"><span style=\"display: inline-block; position: relative; width: 0.935em; height: 0px;\"><span style=\"position: absolute; clip: rect(3.384em, 1000.48em, 4.176em, -1000em); top: -4.004em; left: 0em;\"><span class=\"mi\" id=\"MathJax-Span-429\" style=\"font-family: STIXGeneral; font-style: italic;\">𝑣</span><span style=\"display: inline-block; width: 0px; height: 4.004em;\"/></span><span style=\"position: absolute; top: -3.854em; left: 0.506em;\"><span class=\"mn\" id=\"MathJax-Span-430\" style=\"font-size: 70.7%; font-family: STIXGeneral;\">1</span><span style=\"display: inline-block; width: 0px; height: 4.004em;\"/></span></span></span><span class=\"mo\" id=\"MathJax-Span-431\" style=\"font-family: STIXGeneral; padding-left: 0.313em;\">≤</span><span class=\"msubsup\" id=\"MathJax-Span-432\" style=\"padding-left: 0.313em;\"><span style=\"display: inline-block; position: relative; width: 0.869em; height: 0px;\"><span style=\"position: absolute; clip: rect(3.401em, 1000.39em, 4.178em, -1000em); top: -4.004em; left: 0em;\"><span class=\"mi\" id=\"MathJax-Span-433\" style=\"font-family: STIXGeneral; font-style: italic;\">𝑠</span><span style=\"display: inline-block; width: 0px; height: 4.004em;\"/></span><span style=\"position: absolute; top: -3.854em; left: 0.44em;\"><span class=\"mn\" id=\"MathJax-Span-434\" style=\"font-size: 70.7%; font-family: STIXGeneral;\">1</span><span style=\"display: inline-block; width: 0px; height: 4.004em;\"/></span></span></span></span><span style=\"display: inline-block; width: 0px; height: 2.652em;\"/></span></span><span style=\"display: inline-block; overflow: hidden; vertical-align: -0.269em; border-left: 0px solid; width: 0px; height: 1.145em;\"/></span></nobr></span></div><script id=\"MathJax-Element-63\" type=\"math/tex; mode=display\" xmlns=\"http://www.w3.org/1999/xhtml\">v_1\\leq s_1</script></text></switch></g><g transform=\"translate(301.5,286.5)\"><switch><foreignObject height=\"17\" pointer-events=\"all\" requiredFeatures=\"http://www.w3.org/TR/SVG11/feature#Extensibility\" style=\"overflow:visible;\" width=\"12\"><div style=\"display: inline-block; font-size: 16px; font-family: Helvetica; color: rgb(0, 0, 0); line-height: 1.2; vertical-align: top; white-space: nowrap; text-align: left;\" xmlns=\"http://www.w3.org/1999/xhtml\"><div style=\"display:inline-block;text-align:inherit;text-decoration:inherit;\" xmlns=\"http://www.w3.org/1999/xhtml\">...</div></div></foreignObject><text fill=\"#000000\" font-family=\"Helvetica\" font-size=\"16px\" text-anchor=\"middle\" x=\"6\" y=\"17\">...</text></switch></g></g></svg>"
      ],
      "text/plain": [
       "<IPython.core.display.SVG object>"
      ]
     },
     "execution_count": 2,
     "metadata": {},
     "output_type": "execute_result"
    }
   ],
   "source": [
    "SVG(\"fairness_scenario.svg\")"
   ]
  },
  {
   "cell_type": "markdown",
   "metadata": {},
   "source": [
    "## Alle-mit-Allen Vergleich\n",
    "\n",
    "Als Kostenfunktion wählen wir:\n",
    "\n",
    "\\begin{equation}\n",
    "\\underset{v}{\\mathrm{min}} -\\frac{1}{s_1} v_{1} - \\frac{1}{s_2} v_{2} - \\dots = -\\sum_i \\frac{1}{s_i} v_{i}\n",
    "\\end{equation}\n",
    "Mit den gegebenen Parametern $s_i$. Diese Kostenfunktion spiegelt wieder, dass wir zunächst den Wert von $v_i$ maximieren wollen, für den $s_i$ am kleinsten ist. In der Implementierung schreiben wir tatsächlich \n",
    "$$\n",
    "\\frac{1}{\\mathrm{max}(s_i,1)} v_{i}\n",
    "$$\n",
    "um zu verhindern, dass durch null geteilt wird. Die Kostenfunktion allein kann aber noch keine Fairness herstellen. Sollte beispielsweise $s_4$ kleiner als alle weitere Queues sein aber immer noch größer als $v_{max}$, würde ausschließlich aus dieser Queue gesendet werden.\n",
    "Wir brauchen also noch die folgenden Beschränkungen:\n",
    "\n",
    "\\begin{equation}\n",
    "(s_i-s_j)\\cdot(v_j-v_i)\\leq 0\n",
    "\\label{eq:cons_wo_limit}\n",
    "\\end{equation}\n",
    "\n",
    "Wenn also z.B. $s_4$ größer ist als $s_3$, dann muss auch $v_4$ mindestens so groß wie $v_3$ sein (obwohl im Sinne des Optimierung zunächst $v_3$ erhöht werden soll.\n",
    "\n",
    "** Update:**\n",
    "\n",
    "Wir wollen zusätzlich berücksichtigen können, dass wir individuelle Beschränkungen für $v_i$ haben, in der Form:\n",
    "\n",
    "\\begin{equation}\n",
    "v_i \\leq v_{i,\\mathrm{max}}\n",
    "\\end{equation}\n",
    "\n",
    "Wenn für das oben beschriebene Szenario mit $v_3$ und $v_4$ eine Beschränkung für (e.g.) $v_4\\leq 2$ existiert, soll $v_3$ wieder unbeschränkt zunehmen können. Wir können dies erreichen, indem wir \\eqref{eq:cons_wo_limit} ergänzen:\n",
    "\n",
    "\\begin{equation}\n",
    "(v_{i,\\mathrm{max}}-v_i)\\cdot (v_{j,\\mathrm{max}}-v_j)(s_i-s_j)\\cdot(v_j-v_i)\\leq 0\n",
    "\\end{equation}\n"
   ]
  },
  {
   "cell_type": "markdown",
   "metadata": {},
   "source": [
    "### Beispielrechnung"
   ]
  },
  {
   "cell_type": "code",
   "execution_count": 7,
   "metadata": {
    "code_folding": [],
    "hide_input": false
   },
   "outputs": [],
   "source": [
    "def fairness_all_vs_all(n):\n",
    "    # Optimization variables:\n",
    "    v = MX.sym('v',n)\n",
    "\n",
    "    # Parameters:\n",
    "    param = struct_symMX([\n",
    "        entry('s', shape=(n)),\n",
    "        entry('v_max_total'),\n",
    "        entry('v_max', shape=(n))\n",
    "    ])\n",
    "\n",
    "    s = param['s']\n",
    "    v_max_total = param['v_max_total']\n",
    "    v_max = param['v_max']\n",
    "\n",
    "    obj = sum1(-1/fmax(s,1)*v)\n",
    "\n",
    "    cons = [] # All constraints are implemented such that cons[i]<=0.\n",
    "\n",
    "    cons.append(sum1(v)-v_max_total)\n",
    "\n",
    "    for i in range(n):\n",
    "        # v[i]<s[i]\n",
    "        cons.append(\n",
    "            v[i]-s[i]\n",
    "        )\n",
    "        # v[i]>0\n",
    "        cons.append(\n",
    "            -v[i]\n",
    "        )\n",
    "        # Fairness constraint (with individual limits)\n",
    "        for j in range(n):\n",
    "            cons.append(\n",
    "                (v_max[j]-v[j])*(v_max[i]-v[i])*(s[i]-s[j])*(v[j]-v[i])            \n",
    "            )\n",
    "\n",
    "    nlp = {'x':v, 'f':obj, 'g':vertcat(*cons), 'p':param}\n",
    "    S = nlpsol('S', 'ipopt', nlp)\n",
    "    return S, param"
   ]
  },
  {
   "cell_type": "code",
   "execution_count": 8,
   "metadata": {
    "hide_input": false,
    "scrolled": true
   },
   "outputs": [
    {
     "name": "stdout",
     "output_type": "stream",
     "text": [
      "\n",
      "******************************************************************************\n",
      "This program contains Ipopt, a library for large-scale nonlinear optimization.\n",
      " Ipopt is released as open source code under the Eclipse Public License (EPL).\n",
      "         For more information visit http://projects.coin-or.org/Ipopt\n",
      "******************************************************************************\n",
      "\n",
      "This is Ipopt version 3.12.12, running with linear solver mumps.\n",
      "NOTE: Other linear solvers might be more efficient (see Ipopt documentation).\n",
      "\n",
      "Number of nonzeros in equality constraint Jacobian...:        0\n",
      "Number of nonzeros in inequality constraint Jacobian.:       36\n",
      "Number of nonzeros in Lagrangian Hessian.............:       10\n",
      "\n",
      "Total number of variables............................:        4\n",
      "                     variables with only lower bounds:        0\n",
      "                variables with lower and upper bounds:        0\n",
      "                     variables with only upper bounds:        0\n",
      "Total number of equality constraints.................:        0\n",
      "Total number of inequality constraints...............:       25\n",
      "        inequality constraints with only lower bounds:        0\n",
      "   inequality constraints with lower and upper bounds:        0\n",
      "        inequality constraints with only upper bounds:       25\n",
      "\n",
      "iter    objective    inf_pr   inf_du lg(mu)  ||d||  lg(rg) alpha_du alpha_pr  ls\n",
      "   0  0.0000000e+00 0.00e+00 1.49e+00  -1.0 0.00e+00    -  0.00e+00 0.00e+00   0\n",
      "   1 -1.4075335e-01 3.01e-03 2.79e+01  -1.0 4.51e-01    -  1.56e-01 6.62e-01f  1\n",
      "   2 -3.7728998e-01 0.00e+00 2.10e+01  -1.0 5.08e-01    -  3.77e-01 9.90e-01f  1\n",
      "   3 -7.0203398e-01 0.00e+00 1.17e+03  -1.0 7.81e-01    -  5.93e-01 9.90e-01H  1\n",
      "   4 -1.3488229e+00 0.00e+00 1.71e+05  -1.0 1.83e+00    -  4.22e-01 1.00e+00F  1\n",
      "   5 -1.3500992e+00 0.00e+00 2.23e+06  -1.0 3.13e+00    -  7.74e-01 1.00e+00f  1\n",
      "   6 -1.9399509e+00 1.83e-01 2.08e+06  -1.0 7.29e+01    -  6.79e-02 7.56e-02f  1\n",
      "   7 -1.8984184e+00 8.80e-02 1.70e+06  -1.0 4.78e+01    -  1.81e-01 9.76e-02f  2\n",
      "   8 -1.4950938e+00 0.00e+00 9.68e+00  -1.0 8.48e-01   0.0 1.00e+00 1.00e+00h  1\n",
      "   9 -1.5878744e+00 0.00e+00 3.50e+05  -2.5 1.94e-01    -  9.64e-01 1.00e+00h  1\n",
      "iter    objective    inf_pr   inf_du lg(mu)  ||d||  lg(rg) alpha_du alpha_pr  ls\n",
      "  10 -1.7514318e+00 0.00e+00 4.69e-01  -2.5 1.71e+00    -  1.00e+00 7.33e-01h  1\n",
      "  11 -1.8370704e+00 0.00e+00 3.64e+04  -3.8 4.55e+00    -  6.32e-01 7.68e-01h  1\n",
      "  12 -1.9258873e+00 0.00e+00 7.99e+04  -3.8 3.14e+01    -  1.90e-01 1.00e+00h  1\n",
      "  13 -1.9375676e+00 0.00e+00 1.82e+00  -3.8 1.27e-01  -0.5 1.00e+00 3.22e-01h  1\n",
      "  14 -1.9499384e+00 0.00e+00 7.30e-01  -3.8 1.11e-01  -1.0 1.00e+00 1.00e+00h  1\n",
      "  15 -1.9568034e+00 0.00e+00 8.37e+00  -3.8 1.08e-01  -1.4 1.00e+00 4.17e-01h  1\n",
      "  16 -1.9610643e+00 1.89e-06 1.74e+00  -3.8 1.76e-01  -1.9 1.00e+00 1.00e+00f  1\n",
      "  17 -1.9641534e+00 0.00e+00 1.04e+03  -3.8 6.02e-01  -0.6 1.00e+00 2.80e-02h  1\n",
      "  18 -1.9643383e+00 2.39e-07 1.06e+03  -3.8 3.06e-02  -1.1 1.00e+00 5.54e-01h  1\n",
      "  19 -1.9646120e+00 0.00e+00 4.84e+02  -3.8 1.25e-02  -0.6 1.00e+00 5.82e-01h  1\n",
      "iter    objective    inf_pr   inf_du lg(mu)  ||d||  lg(rg) alpha_du alpha_pr  ls\n",
      "  20 -1.9646716e+00 5.88e-09 6.60e+03  -3.8 2.40e-02  -1.1 1.00e+00 2.05e-01f  2\n",
      "  21 -1.9650679e+00 0.00e+00 2.89e+02  -3.8 4.07e-02  -1.6 1.00e+00 1.00e+00h  1\n",
      "  22 -1.9665434e+00 0.00e+00 1.18e+04  -3.8 1.85e-01  -2.1 7.69e-01 1.00e+00F  1\n",
      "  23 -1.9675692e+00 0.00e+00 2.70e+03  -3.8 1.35e-01  -1.6 1.00e+00 1.00e+00h  1\n",
      "  24 -1.9697934e+00 0.00e+00 2.31e+02  -3.8 2.94e-01  -2.1 1.00e+00 1.00e+00h  1\n",
      "  25 -1.9746501e+00 5.03e-09 6.40e+02  -3.8 1.01e+00  -2.6 1.00e+00 6.33e-01h  1\n",
      "  26 -1.9944269e+00 1.85e-09 7.96e+03  -3.8 2.59e+00  -3.1 4.45e-01 1.00e+00f  1\n",
      "  27 -2.0187340e+00 4.74e-09 7.60e+03  -3.8 9.10e+00  -3.5 1.00e+00 3.50e-01h  1\n",
      "  28 -2.2247433e+00 6.04e-09 2.58e+05  -3.8 2.66e+01  -4.0 2.40e-01 1.00e+00f  1\n",
      "  29 -2.5768789e+00 0.00e+00 7.77e+04  -3.8 1.14e+02  -4.5 6.98e-01 3.69e-01h  1\n",
      "iter    objective    inf_pr   inf_du lg(mu)  ||d||  lg(rg) alpha_du alpha_pr  ls\n",
      "  30 -2.6810093e+00 0.00e+00 6.09e+03  -3.8 8.85e+01  -5.0 1.88e-01 1.00e+00h  1\n",
      "  31 -2.8007340e+00 0.00e+00 1.89e+04  -3.8 9.71e+01  -4.5 1.00e+00 1.46e-01h  1\n",
      "  32 -2.7940789e+00 0.00e+00 1.19e+04  -3.8 2.16e+01    -  1.00e+00 1.00e+00h  1\n",
      "  33 -2.8203784e+00 0.00e+00 1.45e+03  -3.8 4.08e+00    -  1.00e+00 9.06e-01h  1\n",
      "  34 -2.8209773e+00 0.00e+00 2.40e+01  -3.8 3.94e-01    -  1.00e+00 1.00e+00h  1\n",
      "  35 -2.8209773e+00 0.00e+00 1.82e-07  -3.8 8.78e-05    -  1.00e+00 1.00e+00h  1\n",
      "  36 -2.8214282e+00 0.00e+00 3.60e+02  -8.6 1.25e-02    -  1.00e+00 9.99e-01f  1\n",
      "  37 -2.8214286e+00 0.00e+00 2.01e-04  -8.6 5.23e-05    -  1.00e+00 1.00e+00h  1\n",
      "  38 -2.8214286e+00 0.00e+00 8.88e-14  -8.6 8.94e-11    -  1.00e+00 1.00e+00h  1\n",
      "\n",
      "Number of Iterations....: 38\n",
      "\n",
      "                                   (scaled)                 (unscaled)\n",
      "Objective...............:  -2.8214285774589154e+00   -2.8214285774589154e+00\n",
      "Dual infeasibility......:   8.8817841970012523e-14    8.8817841970012523e-14\n",
      "Constraint violation....:   0.0000000000000000e+00    0.0000000000000000e+00\n",
      "Complementarity.........:   2.5059401178826834e-09    2.5059401178826834e-09\n",
      "Overall NLP error.......:   2.5059401178826834e-09    2.5059401178826834e-09\n",
      "\n",
      "\n",
      "Number of objective function evaluations             = 47\n",
      "Number of objective gradient evaluations             = 39\n",
      "Number of equality constraint evaluations            = 0\n",
      "Number of inequality constraint evaluations          = 47\n",
      "Number of equality constraint Jacobian evaluations   = 0\n",
      "Number of inequality constraint Jacobian evaluations = 39\n",
      "Number of Lagrangian Hessian evaluations             = 38\n",
      "Total CPU secs in IPOPT (w/o function evaluations)   =      0.045\n",
      "Total CPU secs in NLP function evaluations           =      0.005\n",
      "\n",
      "EXIT: Optimal Solution Found.\n",
      "               t_proc [s]   t_wall [s]    n_eval\n",
      "           S       0.0627       0.0763         1\n",
      "       nlp_f      0.00029     0.000286        47\n",
      "       nlp_g      0.00159      0.00157        47\n",
      "    nlp_grad      4.1e-05     4.08e-05         1\n",
      "  nlp_grad_f     0.000175     0.000181        40\n",
      "  nlp_hess_l      0.00138      0.00139        38\n",
      "   nlp_jac_g      0.00145      0.00137        40\n"
     ]
    }
   ],
   "source": [
    "n = 4\n",
    "S_fairness_all_vs_all, param = fairness_all_vs_all(n)\n",
    "\n",
    "v_max_total = 8\n",
    "s_num = np.array([4,2,1,7]) # Values from example above\n",
    "v_max = np.array([1, 10, 10, 10])\n",
    "\n",
    "param_num = param(0)\n",
    "param_num['s'] = s_num\n",
    "param_num['v_max_total'] = v_max_total\n",
    "param_num['v_max'] = v_max\n",
    "\n",
    "# Call for optimizer with initial guess (x0), lower bound for constraints as -Infinity and upper bound as 0.\n",
    "# Parameters are passed in the same order as in the 'nlp' dictionary above.\n",
    "r_all_vs_all = S_fairness_all_vs_all(x0=np.zeros(n),lbg=-np.inf, ubg=0,p=param_num)"
   ]
  },
  {
   "cell_type": "code",
   "execution_count": 9,
   "metadata": {
    "scrolled": true
   },
   "outputs": [
    {
     "name": "stdout",
     "output_type": "stream",
     "text": [
      "[4 2 1 7]\n",
      "[1.         2.         1.00000001 3.99999998]\n"
     ]
    }
   ],
   "source": [
    "print(s_num)\n",
    "print(r_all_vs_all['x'].full().flatten())"
   ]
  },
  {
   "cell_type": "code",
   "execution_count": 26,
   "metadata": {},
   "outputs": [],
   "source": [
    "n=200\n",
    "S_fairness_all_vs_all, param = fairness_all_vs_all(n)\n",
    "\n",
    "v_max = 1000\n",
    "\n",
    "s_num = np.round(50*np.random.rand(n))\n",
    "\n",
    "ind_sort=np.argsort(s_num)\n",
    "\n",
    "param_num = param(0)\n",
    "param_num['s'] = s_num\n",
    "param_num['v_max'] = v_max"
   ]
  },
  {
   "cell_type": "code",
   "execution_count": 33,
   "metadata": {},
   "outputs": [
    {
     "name": "stdout",
     "output_type": "stream",
     "text": [
      "This is Ipopt version 3.12.12, running with linear solver mumps.\n",
      "NOTE: Other linear solvers might be more efficient (see Ipopt documentation).\n",
      "\n",
      "Number of nonzeros in equality constraint Jacobian...:        0\n",
      "Number of nonzeros in inequality constraint Jacobian.:    80200\n",
      "Number of nonzeros in Lagrangian Hessian.............:        0\n",
      "\n",
      "Total number of variables............................:      200\n",
      "                     variables with only lower bounds:        0\n",
      "                variables with lower and upper bounds:        0\n",
      "                     variables with only upper bounds:        0\n",
      "Total number of equality constraints.................:        0\n",
      "Total number of inequality constraints...............:    40401\n",
      "        inequality constraints with only lower bounds:        0\n",
      "   inequality constraints with lower and upper bounds:        0\n",
      "        inequality constraints with only upper bounds:    40401\n",
      "\n",
      "iter    objective    inf_pr   inf_du lg(mu)  ||d||  lg(rg) alpha_du alpha_pr  ls\n",
      "   0  0.0000000e+00 0.00e+00 1.68e+00  -1.0 0.00e+00    -  0.00e+00 0.00e+00   0\n",
      "   1 -1.4208674e-01 9.06e-03 1.27e+00  -1.0 2.19e+01    -  1.16e-01 8.42e-02f  1\n",
      "   2 -1.4160747e-01 8.99e-03 1.99e+02  -1.0 4.74e-01    -  1.86e-01 1.85e-02f  1\n",
      "   3 -4.4173950e-02 1.24e-04 1.01e+03  -1.0 6.42e-01    -  6.18e-02 9.66e-01h  1\n",
      "   4 -5.7304385e-02 2.81e-04 4.41e+02  -1.0 3.77e+00    -  1.74e-01 6.26e-02f  1\n",
      "   5 -1.7953137e-01 3.63e-05 2.11e+02  -1.0 3.13e+00    -  2.39e-01 8.53e-01h  1\n",
      "   6 -2.1037869e-01 3.46e-05 4.06e+03  -1.0 4.19e+00    -  6.67e-01 1.58e-01h  1\n",
      "   7 -6.8037618e-01 6.32e-06 1.06e+03  -1.0 1.26e+01    -  3.52e-01 8.02e-01h  1\n",
      "   8 -1.1302270e+00 3.45e-06 2.44e+03  -1.0 1.97e+01    -  6.70e-01 4.89e-01h  1\n",
      "   9 -2.7504543e+00 1.57e-06 4.20e+03  -1.0 6.23e+01    -  3.58e-01 5.42e-01f  1\n",
      "iter    objective    inf_pr   inf_du lg(mu)  ||d||  lg(rg) alpha_du alpha_pr  ls\n",
      "  10 -5.1280475e+00 8.43e-07 2.73e+03  -1.0 1.03e+02    -  5.47e-01 4.67e-01h  1\n",
      "  11 -8.8483106e+00 2.08e-07 5.03e+03  -1.0 2.71e+02    -  2.84e-01 2.58e-01f  2\n",
      "  12 -1.5801662e+01 4.98e-08 1.50e+04  -1.0 4.49e+02    -  3.50e-01 2.74e-01f  2\n",
      "  13 -2.2139081e+01 3.24e-08 4.50e+04  -1.0 8.78e+02    -  2.76e-01 1.20e-01f  1\n",
      "  14 -3.0124732e+01 0.00e+00 8.44e+03  -1.0 4.64e+02    -  3.15e-01 4.57e-01f  2\n",
      "  15 -3.8529158e+01 0.00e+00 4.27e+04  -1.0 8.92e+02    -  3.32e-01 2.13e-01f  2\n",
      "  16 -4.6499671e+01 0.00e+00 1.62e+05  -1.0 1.17e+03    -  4.10e-01 1.63e-01f  1\n",
      "  17 -4.2953644e+01 0.00e+00 1.20e+05  -1.0 6.58e+02    -  5.52e-02 9.86e-02f  1\n",
      "  18 -4.1519581e+01 0.00e+00 1.50e+05  -1.0 7.23e+02    -  8.71e-02 3.50e-02f  1\n",
      "  19 -3.4885277e+01 0.00e+00 7.48e+04  -1.0 8.65e+02    -  2.43e-02 1.12e-01f  1\n",
      "iter    objective    inf_pr   inf_du lg(mu)  ||d||  lg(rg) alpha_du alpha_pr  ls\n",
      "  20 -3.4288729e+01 0.00e+00 5.14e+05  -1.0 5.81e+02    -  6.12e-01 1.95e-02f  1\n",
      "  21 -3.3068886e+01 0.00e+00 1.15e+06  -1.0 6.44e+02    -  1.00e+00 6.73e-02f  3\n",
      "  22 -2.6709756e+01 0.00e+00 3.93e+05  -1.0 4.71e+02    -  1.00e+00 7.88e-01h  1\n",
      "  23 -2.7319563e+01 0.00e+00 1.00e+06  -1.0 3.21e+01    -  5.65e-01 1.00e+00h  1\n",
      "  24 -2.7313569e+01 0.00e+00 1.00e-06  -1.0 7.55e-02    -  1.00e+00 1.00e+00f  1\n",
      "  25 -2.7338440e+01 0.00e+00 2.72e+05  -8.6 2.14e+00    -  9.73e-01 1.00e+00f  1\n",
      "  26 -2.8085472e+01 0.00e+00 2.68e+05  -8.6 1.01e+02    -  1.43e-02 3.25e-01f  1\n",
      "  27 -3.4541624e+01 0.00e+00 2.47e+05  -8.6 1.74e+02    -  7.71e-02 1.00e+00f  1\n",
      "  28 -3.7486892e+01 0.00e+00 2.06e+05  -8.6 5.52e+02    -  1.67e-01 9.80e-02f  1\n",
      "  29 -3.7494695e+01 0.00e+00 1.78e+05  -8.6 7.83e+01    -  1.34e-01 5.36e-03f  1\n",
      "iter    objective    inf_pr   inf_du lg(mu)  ||d||  lg(rg) alpha_du alpha_pr  ls\n",
      "  30 -3.9542569e+01 0.00e+00 1.78e+05  -8.6 9.52e+01    -  8.50e-07 1.00e+00f  1\n",
      "  31 -4.1971590e+01 0.00e+00 1.74e+05  -8.6 2.44e+02    -  2.32e-02 2.31e-01f  1\n",
      "  32 -4.5947131e+01 0.00e+00 1.51e+05  -8.6 3.49e+02    -  1.32e-01 2.39e-01f  1\n",
      "  33 -4.8296067e+01 0.00e+00 1.29e+05  -8.6 8.78e+01    -  1.49e-01 1.00e+00f  1\n",
      "  34 -4.9098143e+01 0.00e+00 1.27e+05  -8.6 1.34e+02    -  9.35e-03 1.70e-01f  1\n",
      "  35 -5.0196994e+01 0.00e+00 1.27e+05  -8.6 1.42e+02    -  5.82e-04 2.12e-01f  1\n",
      "  36 -5.3135623e+01 0.00e+00 1.27e+05  -8.6 2.05e+02    -  3.72e-04 4.39e-01f  1\n",
      "  37 -5.6780681e+01 0.00e+00 1.09e+05  -8.6 1.07e+02    -  1.41e-01 9.00e-01f  1\n",
      "  38 -5.7389833e+01 0.00e+00 6.08e+04  -8.6 4.52e+01    -  4.44e-01 3.99e-01f  1\n",
      "  39 -5.8540979e+01 0.00e+00 2.56e+04  -8.6 4.67e+01    -  5.79e-01 7.36e-01f  1\n",
      "iter    objective    inf_pr   inf_du lg(mu)  ||d||  lg(rg) alpha_du alpha_pr  ls\n",
      "  40 -5.8687491e+01 0.00e+00 3.64e+03  -8.6 1.76e+01    -  8.58e-01 2.46e-01f  1\n",
      "  41 -5.8887832e+01 0.00e+00 2.69e+03  -8.6 6.91e+00    -  2.62e-01 1.00e+00f  1\n",
      "  42 -5.8962057e+01 0.00e+00 1.13e+03  -8.6 5.65e+00    -  5.80e-01 5.43e-01f  1\n",
      "  43 -5.9032875e+01 0.00e+00 1.81e+02  -8.6 2.84e+00    -  8.40e-01 9.87e-01f  1\n",
      "  44 -5.9034566e+01 0.00e+00 3.43e-01  -8.6 5.72e-02    -  9.98e-01 1.00e+00f  1\n",
      "  45 -5.9034566e+01 0.00e+00 2.51e-14  -8.6 2.27e-05    -  1.00e+00 1.00e+00h  1\n",
      "\n",
      "Number of Iterations....: 45\n",
      "\n",
      "                                   (scaled)                 (unscaled)\n",
      "Objective...............:  -5.9034566486968593e+01   -5.9034566486968593e+01\n",
      "Dual infeasibility......:   2.5091040356528538e-14    2.5091040356528538e-14\n",
      "Constraint violation....:   0.0000000000000000e+00    0.0000000000000000e+00\n",
      "Complementarity.........:   2.8137406085629932e-09    2.8137406085629932e-09\n",
      "Overall NLP error.......:   2.8137406085629932e-09    2.8137406085629932e-09\n",
      "\n",
      "\n",
      "Number of objective function evaluations             = 52\n",
      "Number of objective gradient evaluations             = 46\n",
      "Number of equality constraint evaluations            = 0\n",
      "Number of inequality constraint evaluations          = 52\n",
      "Number of equality constraint Jacobian evaluations   = 0\n",
      "Number of inequality constraint Jacobian evaluations = 46\n",
      "Number of Lagrangian Hessian evaluations             = 45\n",
      "Total CPU secs in IPOPT (w/o function evaluations)   =     44.847\n",
      "Total CPU secs in NLP function evaluations           =     56.549\n",
      "\n",
      "EXIT: Optimal Solution Found.\n",
      "               t_proc [s]   t_wall [s]    n_eval\n",
      "           S          106         72.6         1\n",
      "       nlp_f     0.000542     0.000538        52\n",
      "       nlp_g        0.938        0.467        52\n",
      "    nlp_grad       0.0922       0.0454         1\n",
      "  nlp_grad_f       0.0045     0.000474        47\n",
      "  nlp_hess_l     0.000305     0.000228        45\n",
      "   nlp_jac_g         56.8         47.4        47\n"
     ]
    }
   ],
   "source": [
    "r_all_vs_all = S_fairness_all_vs_all(x0=np.zeros(n),lbg=-np.inf, ubg=0,p=param_num)"
   ]
  },
  {
   "cell_type": "markdown",
   "metadata": {},
   "source": [
    "## Vergleich nach Sortierung"
   ]
  },
  {
   "cell_type": "markdown",
   "metadata": {},
   "source": [
    "### Beispielrechnung"
   ]
  },
  {
   "cell_type": "code",
   "execution_count": 51,
   "metadata": {
    "code_folding": []
   },
   "outputs": [],
   "source": [
    "def fairness_sorted(n):\n",
    "    # Optimization variables:\n",
    "    v = MX.sym('v',n)\n",
    "\n",
    "    # Parameters:\n",
    "    param = struct_symMX([\n",
    "        entry('s', shape=(n)),\n",
    "        entry('v_max'),\n",
    "        entry('P', shape=(n,n))\n",
    "    ])\n",
    "\n",
    "    s = param['s']\n",
    "    P = param['P']\n",
    "    v_max = param['v_max']\n",
    "\n",
    "    v_sorted = P@v \n",
    "\n",
    "    obj = sum1(-1/fmax(s,1)*v)\n",
    "\n",
    "    cons = [] # All constraints are implemented such that cons[i]<=0.\n",
    "\n",
    "    cons.append(sum1(v)-v_max)\n",
    "\n",
    "    for i in range(n):\n",
    "        # v[i]<s[i]\n",
    "        cons.append(\n",
    "            v[i]-s[i]\n",
    "        )\n",
    "        # v[i]>0\n",
    "        cons.append(\n",
    "            -v[i]\n",
    "        )\n",
    "    # Fairness constraint:\n",
    "    for i in range(n-1):\n",
    "        cons.append(\n",
    "            v_sorted[i]-v_sorted[i+1]\n",
    "        )\n",
    "\n",
    "    nlp = {'x':v, 'f':obj, 'g':vertcat(*cons), 'p':param}\n",
    "    S = nlpsol('S', 'ipopt', nlp)\n",
    "    return S, param"
   ]
  },
  {
   "cell_type": "code",
   "execution_count": 52,
   "metadata": {
    "scrolled": false
   },
   "outputs": [
    {
     "name": "stdout",
     "output_type": "stream",
     "text": [
      "This is Ipopt version 3.12.12, running with linear solver mumps.\n",
      "NOTE: Other linear solvers might be more efficient (see Ipopt documentation).\n",
      "\n",
      "Number of nonzeros in equality constraint Jacobian...:        0\n",
      "Number of nonzeros in inequality constraint Jacobian.:       24\n",
      "Number of nonzeros in Lagrangian Hessian.............:        0\n",
      "\n",
      "Total number of variables............................:        4\n",
      "                     variables with only lower bounds:        0\n",
      "                variables with lower and upper bounds:        0\n",
      "                     variables with only upper bounds:        0\n",
      "Total number of equality constraints.................:        0\n",
      "Total number of inequality constraints...............:       12\n",
      "        inequality constraints with only lower bounds:        0\n",
      "   inequality constraints with lower and upper bounds:        0\n",
      "        inequality constraints with only upper bounds:       12\n",
      "\n",
      "iter    objective    inf_pr   inf_du lg(mu)  ||d||  lg(rg) alpha_du alpha_pr  ls\n",
      "   0  0.0000000e+00 0.00e+00 3.93e-01  -1.0 0.00e+00    -  0.00e+00 0.00e+00   0\n",
      "   1 -1.3441025e-01 0.00e+00 6.43e+00  -1.0 4.47e-01    -  1.33e-01 1.00e+00f  1\n",
      "   2 -3.3809478e-01 0.00e+00 7.62e-01  -1.0 6.79e-01    -  6.90e-01 1.00e+00f  1\n",
      "   3 -1.2232638e+00 0.00e+00 6.48e-01  -1.0 2.91e+00    -  3.72e-01 1.00e+00f  1\n",
      "   4 -1.8527725e+00 0.00e+00 1.24e-01  -1.7 2.04e+00    -  6.40e-01 1.00e+00f  1\n",
      "   5 -2.1402428e+00 0.00e+00 1.61e-02  -1.7 1.08e+00    -  1.00e+00 8.55e-01f  1\n",
      "   6 -2.1642610e+00 0.00e+00 4.84e-03  -2.5 2.87e-01    -  8.98e-01 1.00e+00f  1\n",
      "   7 -2.1866943e+00 0.00e+00 6.56e-04  -3.8 4.02e-01    -  8.77e-01 9.22e-01f  1\n",
      "   8 -2.1869061e+00 0.00e+00 1.50e-09  -3.8 9.97e-03    -  1.00e+00 1.00e+00f  1\n",
      "   9 -2.1874930e+00 0.00e+00 1.84e-11  -5.7 7.36e-03    -  1.00e+00 1.00e+00f  1\n",
      "iter    objective    inf_pr   inf_du lg(mu)  ||d||  lg(rg) alpha_du alpha_pr  ls\n",
      "  10 -2.1875000e+00 0.00e+00 2.51e-14  -8.6 9.13e-05    -  1.00e+00 1.00e+00f  1\n",
      "\n",
      "Number of Iterations....: 10\n",
      "\n",
      "                                   (scaled)                 (unscaled)\n",
      "Objective...............:  -2.1874999945336646e+00   -2.1874999945336646e+00\n",
      "Dual infeasibility......:   2.5063284780912909e-14    2.5063284780912909e-14\n",
      "Constraint violation....:   0.0000000000000000e+00    0.0000000000000000e+00\n",
      "Complementarity.........:   2.7085600055013065e-09    2.7085600055013065e-09\n",
      "Overall NLP error.......:   2.7085600055013065e-09    2.7085600055013065e-09\n",
      "\n",
      "\n",
      "Number of objective function evaluations             = 11\n",
      "Number of objective gradient evaluations             = 11\n",
      "Number of equality constraint evaluations            = 0\n",
      "Number of inequality constraint evaluations          = 11\n",
      "Number of equality constraint Jacobian evaluations   = 0\n",
      "Number of inequality constraint Jacobian evaluations = 11\n",
      "Number of Lagrangian Hessian evaluations             = 10\n",
      "Total CPU secs in IPOPT (w/o function evaluations)   =      0.006\n",
      "Total CPU secs in NLP function evaluations           =      0.000\n",
      "\n",
      "EXIT: Optimal Solution Found.\n",
      "               t_proc [s]   t_wall [s]    n_eval\n",
      "           S       0.0114         0.01         1\n",
      "       nlp_f      4.6e-05     4.87e-05        11\n",
      "       nlp_g     0.000136      0.00013        11\n",
      "    nlp_grad      2.6e-05     2.57e-05         1\n",
      "  nlp_grad_f      5.5e-05     5.46e-05        12\n",
      "  nlp_hess_l      1.7e-05     1.76e-05        10\n",
      "   nlp_jac_g     0.000259     0.000262        12\n"
     ]
    }
   ],
   "source": [
    "n = 4\n",
    "S_fairness_sorted, param = fairness_sorted(n)\n",
    "\n",
    "v_max = 7\n",
    "\n",
    "s_num = np.array([4,3,3,3]) # Values from example above\n",
    "\n",
    "ind_sort=np.argsort(s_num)\n",
    "P=np.eye(n)\n",
    "P=P[ind_sort,:]\n",
    "\n",
    "param_num = param(0)\n",
    "param_num['s'] = s_num\n",
    "param_num['v_max'] = v_max\n",
    "param_num['P'] = P\n",
    "\n",
    "res_fairness_sorted = S_fairness_sorted(x0=np.zeros(n),lbg=-np.inf, ubg=0,p=param_num)"
   ]
  },
  {
   "cell_type": "code",
   "execution_count": 53,
   "metadata": {},
   "outputs": [
    {
     "name": "stdout",
     "output_type": "stream",
     "text": [
      "[4 3 3 3]\n",
      "[1.75000007 1.74999989 1.75       1.75000004]\n"
     ]
    }
   ],
   "source": [
    "print(s_num)\n",
    "print(res_fairness_sorted['x'].full().flatten())"
   ]
  },
  {
   "cell_type": "markdown",
   "metadata": {},
   "source": [
    "### Für große Probleme\n",
    "\n",
    "Anzahl der constraints sind nicht das Problem aber jetzt haben wir ```Number of nonzeros in inequality constraint Jacobian.:    40400```, da die Permutationsmatrizen ein unbekannte Sparsity Pattern haben. Im Resultat dauert die Optimierung unfassbar lang. Das Problem neu aufbauen wäre im konkreten Fall deutlich schneller."
   ]
  },
  {
   "cell_type": "code",
   "execution_count": 29,
   "metadata": {},
   "outputs": [],
   "source": [
    "n=200\n",
    "S_fairness_sorted, param = fairness_sorted(n)\n",
    "\n",
    "v_max = 1000\n",
    "\n",
    "s_num = np.round(50*np.random.rand(n))\n",
    "\n",
    "ind_sort=np.argsort(s_num)\n",
    "P=np.eye(n)\n",
    "P=P[ind_sort,:]\n",
    "\n",
    "param_num = param(0)\n",
    "param_num['s'] = s_num\n",
    "param_num['v_max'] = v_max\n",
    "param_num['P'] = P"
   ]
  },
  {
   "cell_type": "code",
   "execution_count": 30,
   "metadata": {
    "scrolled": true
   },
   "outputs": [
    {
     "name": "stdout",
     "output_type": "stream",
     "text": [
      "This is Ipopt version 3.12.12, running with linear solver mumps.\n",
      "NOTE: Other linear solvers might be more efficient (see Ipopt documentation).\n",
      "\n",
      "Number of nonzeros in equality constraint Jacobian...:        0\n",
      "Number of nonzeros in inequality constraint Jacobian.:    40400\n",
      "Number of nonzeros in Lagrangian Hessian.............:        0\n",
      "\n",
      "Total number of variables............................:      200\n",
      "                     variables with only lower bounds:        0\n",
      "                variables with lower and upper bounds:        0\n",
      "                     variables with only upper bounds:        0\n",
      "Total number of equality constraints.................:        0\n",
      "Total number of inequality constraints...............:      600\n",
      "        inequality constraints with only lower bounds:        0\n",
      "   inequality constraints with lower and upper bounds:        0\n",
      "        inequality constraints with only upper bounds:      600\n",
      "\n",
      "iter    objective    inf_pr   inf_du lg(mu)  ||d||  lg(rg) alpha_du alpha_pr  ls\n",
      "   0  0.0000000e+00 0.00e+00 9.12e-01  -1.0 0.00e+00    -  0.00e+00 0.00e+00   0\n",
      "   1 -1.5080444e+00 2.59e-04 8.39e+00  -1.0 2.21e+01    -  1.27e-01 9.64e-01h  1\n",
      "   2 -1.1136983e+00 1.85e-04 9.18e+00  -1.0 2.82e+01    -  8.80e-02 9.40e-02f  1\n",
      "   3 -2.7645327e+00 0.00e+00 2.60e+01  -1.0 4.75e+01    -  3.96e-01 1.00e+00f  1\n",
      "   4 -5.8002209e+00 0.00e+00 1.72e+01  -1.0 7.87e+01    -  6.47e-01 1.00e+00f  1\n",
      "   5 -1.4152335e+01 0.00e+00 7.76e+00  -1.0 2.02e+02    -  4.65e-01 1.00e+00f  1\n",
      "   6 -2.8876127e+01 0.00e+00 3.28e+00  -1.0 2.95e+02    -  3.80e-01 1.00e+00f  1\n",
      "   7 -3.4964386e+01 0.00e+00 8.91e-01  -1.0 2.40e+02    -  7.95e-01 4.62e-01f  1\n",
      "   8 -4.5392799e+01 0.00e+00 1.10e+00  -1.0 2.31e+02    -  4.57e-01 1.00e+00f  1\n",
      "   9 -4.7154445e+01 0.00e+00 1.00e-06  -1.0 9.69e+00    -  1.00e+00 1.00e+00f  1\n",
      "iter    objective    inf_pr   inf_du lg(mu)  ||d||  lg(rg) alpha_du alpha_pr  ls\n",
      "  10 -4.9213779e+01 0.00e+00 4.49e-01  -2.5 4.33e+00    -  4.62e-01 2.75e-01f  1\n",
      "  11 -5.4287826e+01 0.00e+00 5.50e-01  -2.5 5.39e+00    -  1.08e-01 6.37e-01f  1\n",
      "  12 -5.5409420e+01 0.00e+00 4.01e-01  -2.5 3.09e+00    -  2.58e-01 2.85e-01f  1\n",
      "  13 -5.7169295e+01 0.00e+00 2.61e-01  -2.5 3.31e+00    -  7.49e-01 3.51e-01f  1\n",
      "  14 -5.8867309e+01 0.00e+00 1.23e+00  -2.5 1.78e+00    -  2.60e-01 1.00e+00f  1\n",
      "  15 -6.0254883e+01 0.00e+00 2.83e-08  -2.5 7.98e-01    -  1.00e+00 1.00e+00f  1\n",
      "  16 -6.0364376e+01 0.00e+00 9.64e-02  -3.8 4.21e-01    -  8.87e-01 2.15e-01f  1\n",
      "  17 -6.0653249e+01 0.00e+00 6.93e-01  -3.8 2.81e-01    -  1.69e-01 1.00e+00f  1\n",
      "  18 -6.0745031e+01 0.00e+00 1.50e-09  -3.8 7.14e-02    -  1.00e+00 1.00e+00f  1\n",
      "  19 -6.0775446e+01 0.00e+00 1.98e-04  -5.7 2.55e-02    -  9.34e-01 1.00e+00f  1\n",
      "iter    objective    inf_pr   inf_du lg(mu)  ||d||  lg(rg) alpha_du alpha_pr  ls\n",
      "  20 -6.0775460e+01 0.00e+00 1.84e-11  -5.7 3.80e-05    -  1.00e+00 1.00e+00f  1\n",
      "  21 -6.0775843e+01 0.00e+00 2.53e-14  -8.6 3.18e-04    -  1.00e+00 1.00e+00f  1\n",
      "\n",
      "Number of Iterations....: 21\n",
      "\n",
      "                                   (scaled)                 (unscaled)\n",
      "Objective...............:  -6.0775842751544992e+01   -6.0775842751544992e+01\n",
      "Dual infeasibility......:   2.5313084961453569e-14    2.5313084961453569e-14\n",
      "Constraint violation....:   0.0000000000000000e+00    0.0000000000000000e+00\n",
      "Complementarity.........:   4.3348474796104502e-09    4.3348474796104502e-09\n",
      "Overall NLP error.......:   4.3348474796104502e-09    4.3348474796104502e-09\n",
      "\n",
      "\n",
      "Number of objective function evaluations             = 22\n",
      "Number of objective gradient evaluations             = 22\n",
      "Number of equality constraint evaluations            = 0\n",
      "Number of inequality constraint evaluations          = 22\n",
      "Number of equality constraint Jacobian evaluations   = 0\n",
      "Number of inequality constraint Jacobian evaluations = 22\n",
      "Number of Lagrangian Hessian evaluations             = 21\n",
      "Total CPU secs in IPOPT (w/o function evaluations)   =     16.150\n",
      "Total CPU secs in NLP function evaluations           =      0.587\n",
      "\n",
      "EXIT: Optimal Solution Found.\n",
      "               t_proc [s]   t_wall [s]    n_eval\n",
      "           S         16.8         4.78         1\n",
      "       nlp_f      0.00203     0.000907        22\n",
      "       nlp_g       0.0141       0.0047        22\n",
      "    nlp_grad     0.000876     0.000821         1\n",
      "  nlp_grad_f     0.000866     0.000867        23\n",
      "  nlp_hess_l      8.3e-05     7.46e-05        21\n",
      "   nlp_jac_g        0.625        0.313        23\n"
     ]
    }
   ],
   "source": [
    "res_fairness_sorted = S_fairness_sorted(x0=np.zeros(n),lbg=-np.inf, ubg=0,p=param_num)"
   ]
  },
  {
   "cell_type": "code",
   "execution_count": 31,
   "metadata": {},
   "outputs": [
    {
     "name": "stdout",
     "output_type": "stream",
     "text": [
      "[46. 27. 50. 31. 46. 39. 47.  6.  6. 18. 39. 32.  3. 16. 15. 30. 38. 29.\n",
      " 11. 21. 25. 26. 21.  1. 26. 40. 28. 40. 25. 26.  4. 20. 48. 23. 20. 32.\n",
      " 29. 13. 23. 45.  2. 17. 14. 41. 13. 17. 14. 22. 47. 37. 20. 18. 44. 39.\n",
      " 26. 24. 14. 46. 46. 43. 37.  1.  7. 34. 36. 49. 44. 16. 45. 16. 12.  7.\n",
      " 13. 35. 38. 29. 19. 44. 22. 25. 11. 13. 11. 14. 20. 46. 44. 42.  7. 17.\n",
      "  6. 14.  4.  3. 45. 24. 17. 38. 21. 46. 47. 29.  4. 40. 46. 46. 24.  5.\n",
      " 16. 26. 23. 37.  2. 49.  8. 32. 38. 33. 31. 19. 43. 45. 18. 17. 38. 45.\n",
      " 10. 25. 23. 30.  8. 14. 18. 34. 16. 47. 32. 26. 32. 34. 42. 34. 13. 33.\n",
      " 27. 32. 10. 11. 36.  9. 14. 36. 14. 22. 26. 43. 13.  6. 43. 31. 42. 27.\n",
      " 24. 46.  8.  4. 47. 27. 16. 22. 18. 39. 21. 12. 41. 13.  2. 11. 32. 15.\n",
      " 29.  5. 35. 48. 28. 16. 28. 13. 15. 48.  7. 11. 20.  7. 25. 14. 21. 40.\n",
      " 17. 32.]\n",
      "[5. 5. 5. 5. 5. 5. 5. 5. 5. 5. 5. 5. 3. 5. 5. 5. 5. 5. 5. 5. 5. 5. 5. 1.\n",
      " 5. 5. 5. 5. 5. 5. 4. 5. 5. 5. 5. 5. 5. 5. 5. 5. 2. 5. 5. 5. 5. 5. 5. 5.\n",
      " 5. 5. 5. 5. 5. 5. 5. 5. 5. 5. 5. 5. 5. 1. 5. 5. 5. 5. 5. 5. 5. 5. 5. 5.\n",
      " 5. 5. 5. 5. 5. 5. 5. 5. 5. 5. 5. 5. 5. 5. 5. 5. 5. 5. 5. 5. 4. 3. 5. 5.\n",
      " 5. 5. 5. 5. 5. 5. 4. 5. 5. 5. 5. 5. 5. 5. 5. 5. 2. 5. 5. 5. 5. 5. 5. 5.\n",
      " 5. 5. 5. 5. 5. 5. 5. 5. 5. 5. 5. 5. 5. 5. 5. 5. 5. 5. 5. 5. 5. 5. 5. 5.\n",
      " 5. 5. 5. 5. 5. 5. 5. 5. 5. 5. 5. 5. 5. 5. 5. 5. 5. 5. 5. 5. 5. 4. 5. 5.\n",
      " 5. 5. 5. 5. 5. 5. 5. 5. 2. 5. 5. 5. 5. 5. 5. 5. 5. 5. 5. 5. 5. 5. 5. 5.\n",
      " 5. 5. 5. 5. 5. 5. 5. 5.]\n"
     ]
    }
   ],
   "source": [
    "print(s_num)\n",
    "print(np.round(res_fairness_sorted['x'].full().flatten()))"
   ]
  },
  {
   "cell_type": "code",
   "execution_count": null,
   "metadata": {},
   "outputs": [],
   "source": []
  }
 ],
 "metadata": {
  "kernelspec": {
   "display_name": "Python 3.6, 64bit",
   "language": "python",
   "name": "py36_64bit"
  },
  "language_info": {
   "codemirror_mode": {
    "name": "ipython",
    "version": 3
   },
   "file_extension": ".py",
   "mimetype": "text/x-python",
   "name": "python",
   "nbconvert_exporter": "python",
   "pygments_lexer": "ipython3",
   "version": "3.6.8"
  },
  "toc": {
   "base_numbering": 1,
   "nav_menu": {},
   "number_sections": true,
   "sideBar": true,
   "skip_h1_title": false,
   "title_cell": "Table of Contents",
   "title_sidebar": "Contents",
   "toc_cell": true,
   "toc_position": {},
   "toc_section_display": true,
   "toc_window_display": true
  }
 },
 "nbformat": 4,
 "nbformat_minor": 2
}
