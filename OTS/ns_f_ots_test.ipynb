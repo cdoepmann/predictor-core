{
 "cells": [
  {
   "cell_type": "code",
   "execution_count": 1,
   "metadata": {},
   "outputs": [],
   "source": [
    "import numpy as np\n",
    "import matplotlib.pyplot as plt\n",
    "from ns_f import ns_f\n",
    "from optimal_traffic_scheduler import optimal_traffic_scheduler"
   ]
  },
  {
   "cell_type": "markdown",
   "metadata": {},
   "source": [
    "First we initialize the data object, that stores information about all the packets that are and were transported in network. The index of this table is a unique identifier of the packet. The optional argument sets the inital size of that table."
   ]
  },
  {
   "cell_type": "code",
   "execution_count": 2,
   "metadata": {},
   "outputs": [],
   "source": [
    "dat = ns_f.data(1000)"
   ]
  },
  {
   "cell_type": "markdown",
   "metadata": {},
   "source": [
    "In the next step we define the network by creating a number of nodes (servers and clients) with certain properties:"
   ]
  },
  {
   "cell_type": "code",
   "execution_count": 3,
   "metadata": {},
   "outputs": [],
   "source": [
    "setup_dict_server = {}\n",
    "setup_dict_server['v_max'] = 2000  # packets / s\n",
    "setup_dict_server['s_max'] = 200  # packets\n",
    "setup_dict_server['timeout'] = 1  # s"
   ]
  },
  {
   "cell_type": "code",
   "execution_count": 4,
   "metadata": {},
   "outputs": [],
   "source": [
    "input_1 = ns_f.server(setup_dict_server, dat, name='input_1')\n",
    "input_2 = ns_f.server(setup_dict_server, dat, name='input_2')\n",
    "output_1 = ns_f.server(setup_dict_server, dat, name='output_1')\n",
    "output_2 = ns_f.server(setup_dict_server, dat, name='output_2')\n",
    "server_1 = ns_f.server(setup_dict_server, dat, name='server_1')\n",
    "server_2 = ns_f.server(setup_dict_server, dat, name='server_2')"
   ]
  },
  {
   "cell_type": "markdown",
   "metadata": {},
   "source": [
    "Furthermore we create connections between these nodes by defining a number of circuits. Each circuit has a start an end and an arbitrary number of stops in between. We create a very simple network with two circuits:"
   ]
  },
  {
   "cell_type": "code",
   "execution_count": 5,
   "metadata": {},
   "outputs": [],
   "source": [
    "circuits = [\n",
    "    {'route': [input_1, server_1, server_2, output_1]},\n",
    "    {'route': [input_2, server_1, server_2, output_2]},\n",
    "]"
   ]
  },
  {
   "cell_type": "markdown",
   "metadata": {},
   "source": [
    "We can now call:"
   ]
  },
  {
   "cell_type": "code",
   "execution_count": 6,
   "metadata": {},
   "outputs": [],
   "source": [
    "nw = ns_f.network(data=dat)\n",
    "nw.from_circuits(circuits)"
   ]
  },
  {
   "cell_type": "markdown",
   "metadata": {},
   "source": [
    "The network is defined now and can be simulated with TCP control, if desired. However, we want to use the OTS control algorithm. This distributed control algorithm runs independently at every server node and can be setup as follows:"
   ]
  },
  {
   "cell_type": "code",
   "execution_count": 7,
   "metadata": {},
   "outputs": [],
   "source": [
    "dt_ots = 0.1\n",
    "N_steps = 20\n",
    "ots_weights = {'control_delta': 0.1, 'send': 1, 'store': 0, 'receive': 1}"
   ]
  },
  {
   "cell_type": "code",
   "execution_count": 8,
   "metadata": {},
   "outputs": [],
   "source": [
    "# OTS clients\n",
    "input_1.set_ots_client(dt_ots, N_steps)\n",
    "input_2.set_ots_client(dt_ots, N_steps)\n",
    "output_1.set_ots_client(dt_ots, N_steps)\n",
    "output_2.set_ots_client(dt_ots, N_steps)\n",
    "\n",
    "# OTS \n",
    "server_1.set_ots(dt_ots, N_steps, ots_weights)\n",
    "server_2.set_ots(dt_ots, N_steps, ots_weights)"
   ]
  },
  {
   "cell_type": "markdown",
   "metadata": {},
   "source": [
    "We differentiate between OTS nodes and ots clients. OTS nodes run an optimization problem to determine optimal sending rates and allotments for incoming packets, whereas clients will use simple operations to determine future sending rates and thresholds for incoming packet streams. \n",
    "\n",
    "The last step of the process involves calling:"
   ]
  },
  {
   "cell_type": "code",
   "execution_count": 9,
   "metadata": {},
   "outputs": [],
   "source": [
    "nw.setup_ots(dt_ots, N_steps)"
   ]
  },
  {
   "cell_type": "markdown",
   "metadata": {},
   "source": [
    "The optimizers are now ready to run.\n",
    "\n",
    "We add some packets to the inputs, such that the network has something to do:"
   ]
  },
  {
   "cell_type": "code",
   "execution_count": 10,
   "metadata": {},
   "outputs": [],
   "source": [
    "input_1.add_2_buffer(buffer_ind=0, circuit=0, n_packets=1000)\n",
    "input_2.add_2_buffer(buffer_ind=0, circuit=1, n_packets=2000)"
   ]
  },
  {
   "cell_type": "code",
   "execution_count": 11,
   "metadata": {},
   "outputs": [
    {
     "name": "stdout",
     "output_type": "stream",
     "text": [
      "\n",
      "******************************************************************************\n",
      "This program contains Ipopt, a library for large-scale nonlinear optimization.\n",
      " Ipopt is released as open source code under the Eclipse Public License (EPL).\n",
      "         For more information visit http://projects.coin-or.org/Ipopt\n",
      "******************************************************************************\n",
      "\n",
      "This is Ipopt version 3.12.12, running with linear solver ma27.\n",
      "\n",
      "Number of nonzeros in equality constraint Jacobian...:       80\n",
      "Number of nonzeros in inequality constraint Jacobian.:     1520\n",
      "Number of nonzeros in Lagrangian Hessian.............:      140\n",
      "\n",
      "Total number of variables............................:      100\n",
      "                     variables with only lower bounds:        0\n",
      "                variables with lower and upper bounds:        0\n",
      "                     variables with only upper bounds:        0\n",
      "Total number of equality constraints.................:       40\n",
      "Total number of inequality constraints...............:      220\n",
      "        inequality constraints with only lower bounds:        0\n",
      "   inequality constraints with lower and upper bounds:        0\n",
      "        inequality constraints with only upper bounds:      220\n",
      "\n",
      "iter    objective    inf_pr   inf_du lg(mu)  ||d||  lg(rg) alpha_du alpha_pr  ls\n",
      "   0 -1.3333333e+01 0.00e+00 3.31e-01  -1.0 0.00e+00    -  0.00e+00 0.00e+00   0\n",
      "   1 -1.3333602e+01 8.71e-03 1.50e+01  -1.0 2.55e-01    -  9.90e-01 1.19e-01h  1\n",
      "   2 -1.3453082e+01 3.82e-03 1.58e+01  -1.0 2.15e+01    -  9.89e-01 5.58e-01h  1\n",
      "   3 -1.6295197e+01 1.30e-03 3.07e+01  -1.0 4.88e+02    -  1.00e+00 5.87e-01h  1\n",
      "   4 -1.7385415e+01 6.97e-04 7.61e+01  -1.0 2.00e+02    -  1.00e+00 5.56e-01h  1\n",
      "   5 -1.7929375e+01 2.14e-04 1.50e+02  -1.0 8.99e+01    -  1.00e+00 6.20e-01h  1\n",
      "   6 -1.8112481e+01 1.19e-04 4.43e+02  -1.0 3.41e+01    -  1.00e+00 5.51e-01h  1\n",
      "   7 -1.8205037e+01 3.66e-05 8.77e+02  -1.0 1.53e+01    -  1.00e+00 6.20e-01h  1\n",
      "   8 -1.8236295e+01 2.03e-05 2.59e+03  -1.0 5.83e+00    -  1.00e+00 5.51e-01h  1\n",
      "   9 -1.8252084e+01 6.24e-06 5.13e+03  -1.0 2.62e+00    -  1.00e+00 6.20e-01h  1\n",
      "iter    objective    inf_pr   inf_du lg(mu)  ||d||  lg(rg) alpha_du alpha_pr  ls\n",
      "  10 -1.8257421e+01 3.47e-06 1.52e+04  -1.0 9.94e-01    -  1.00e+00 5.51e-01h  1\n",
      "  11 -1.8260117e+01 1.06e-06 2.99e+04  -1.0 4.46e-01    -  1.00e+00 6.21e-01h  1\n",
      "  12 -1.8261028e+01 5.87e-07 8.79e+04  -1.0 1.69e-01    -  1.00e+00 5.53e-01h  1\n",
      "  13 -1.8261488e+01 1.75e-07 1.70e+05  -1.0 7.55e-02    -  1.00e+00 6.26e-01h  1\n",
      "  14 -1.8261643e+01 9.52e-08 4.83e+05  -1.0 2.82e-02    -  1.00e+00 5.65e-01h  1\n",
      "  15 -1.8261722e+01 2.46e-08 8.33e+05  -1.0 1.23e-02    -  1.00e+00 6.60e-01h  1\n",
      "  16 -1.8261748e+01 1.16e-08 1.91e+06  -1.0 4.18e-03    -  1.00e+00 6.38e-01h  1\n",
      "  17 -1.8261761e+01 1.72e-36 1.02e+06  -1.0 1.51e-03    -  1.00e+00 8.81e-01h  1\n",
      "  18 -1.8261761e+01 1.58e-36 7.53e+06  -1.0 1.80e-04    -  1.00e+00 6.25e-02f  5\n",
      "  19 -1.8261763e+01 7.02e-37 1.00e-06  -1.0 1.69e-04    -  1.00e+00 1.00e+00h  1\n",
      "iter    objective    inf_pr   inf_du lg(mu)  ||d||  lg(rg) alpha_du alpha_pr  ls\n",
      "  20 -1.9561530e+01 1.12e-36 1.53e+06  -8.6 1.34e+02    -  9.32e-01 1.00e+00f  1\n",
      "  21 -1.9888165e+01 1.95e-38 2.97e-07  -8.6 3.38e+01    -  1.00e+00 1.00e+00f  1\n",
      "  22 -1.9888889e+01 7.30e-43 1.11e-11  -8.6 7.48e-02    -  1.00e+00 1.00e+00f  1\n",
      "\n",
      "Number of Iterations....: 22\n",
      "\n",
      "                                   (scaled)                 (unscaled)\n",
      "Objective...............:  -1.9888888836067643e+01   -1.9888888836067643e+01\n",
      "Dual infeasibility......:   1.1124681904839395e-11    1.1124681904839395e-11\n",
      "Constraint violation....:   1.0943000204719287e-43    7.2953334698128586e-43\n",
      "Complementarity.........:   2.6459423259671226e-09    2.6459423259671226e-09\n",
      "Overall NLP error.......:   2.6459423259671226e-09    2.6459423259671226e-09\n",
      "\n",
      "\n",
      "Number of objective function evaluations             = 27\n",
      "Number of objective gradient evaluations             = 23\n",
      "Number of equality constraint evaluations            = 27\n",
      "Number of inequality constraint evaluations          = 27\n",
      "Number of equality constraint Jacobian evaluations   = 23\n",
      "Number of inequality constraint Jacobian evaluations = 23\n",
      "Number of Lagrangian Hessian evaluations             = 22\n",
      "Total CPU secs in IPOPT (w/o function evaluations)   =      0.016\n",
      "Total CPU secs in NLP function evaluations           =      0.001\n",
      "\n",
      "EXIT: Optimal Solution Found.\n",
      "               t_proc [s]   t_wall [s]    n_eval\n",
      "       nlp_f     0.000112     0.000113        27\n",
      "       nlp_g     0.000138     0.000135        27\n",
      "    nlp_grad      1.7e-05     1.67e-05         1\n",
      "  nlp_grad_f     0.000132     0.000135        24\n",
      "  nlp_hess_l      5.7e-05     5.68e-05        22\n",
      "   nlp_jac_g     0.000257     0.000215        24\n",
      "       optim       0.0187       0.0179         1\n",
      "This is Ipopt version 3.12.12, running with linear solver ma27.\n",
      "\n",
      "Number of nonzeros in equality constraint Jacobian...:       40\n",
      "Number of nonzeros in inequality constraint Jacobian.:     1690\n",
      "Number of nonzeros in Lagrangian Hessian.............:      100\n",
      "\n",
      "Total number of variables............................:       80\n",
      "                     variables with only lower bounds:        0\n",
      "                variables with lower and upper bounds:        0\n",
      "                     variables with only upper bounds:        0\n",
      "Total number of equality constraints.................:       20\n",
      "Total number of inequality constraints...............:      220\n",
      "        inequality constraints with only lower bounds:        0\n",
      "   inequality constraints with lower and upper bounds:        0\n",
      "        inequality constraints with only upper bounds:      220\n",
      "\n",
      "iter    objective    inf_pr   inf_du lg(mu)  ||d||  lg(rg) alpha_du alpha_pr  ls\n",
      "   0 -6.6666667e+00 0.00e+00 4.96e-01  -1.0 0.00e+00    -  0.00e+00 0.00e+00   0\n",
      "   1 -6.6669861e+00 8.71e-03 1.50e+01  -1.0 3.85e-01    -  9.90e-01 1.19e-01h  1\n",
      "   2 -6.8058475e+00 3.83e-03 1.53e+01  -1.0 2.51e+01    -  9.68e-01 5.58e-01h  1\n",
      "   3 -1.1745760e+01 1.32e-03 3.07e+01  -1.0 8.77e+02    -  1.00e+00 5.84e-01h  1\n",
      "   4 -1.5236935e+01 7.02e-04 7.54e+01  -1.0 6.85e+02    -  1.00e+00 5.57e-01h  1\n",
      "   5 -1.6504429e+01 2.16e-04 1.49e+02  -1.0 2.28e+02    -  1.00e+00 6.20e-01h  1\n",
      "   6 -1.6975667e+01 1.20e-04 4.40e+02  -1.0 9.59e+01    -  1.00e+00 5.51e-01h  1\n",
      "   7 -1.7210295e+01 3.68e-05 8.71e+02  -1.0 4.26e+01    -  1.00e+00 6.20e-01h  1\n",
      "   8 -1.7289497e+01 2.05e-05 2.57e+03  -1.0 1.62e+01    -  1.00e+00 5.51e-01h  1\n",
      "   9 -1.7329457e+01 6.28e-06 5.10e+03  -1.0 7.27e+00    -  1.00e+00 6.20e-01h  1\n",
      "iter    objective    inf_pr   inf_du lg(mu)  ||d||  lg(rg) alpha_du alpha_pr  ls\n",
      "  10 -1.7342967e+01 3.49e-06 1.50e+04  -1.0 2.76e+00    -  1.00e+00 5.51e-01h  1\n",
      "  11 -1.7349787e+01 1.80e-06 2.97e+04  -1.0 1.24e+00    -  1.00e+00 6.21e-01h  1\n",
      "  12 -1.7352092e+01 6.59e-07 8.72e+04  -1.0 4.70e-01    -  1.00e+00 5.53e-01h  1\n",
      "  13 -1.7353257e+01 2.97e-07 1.69e+05  -1.0 2.10e-01    -  1.00e+00 6.26e-01h  1\n",
      "  14 -1.7353650e+01 1.02e-07 4.80e+05  -1.0 7.84e-02    -  1.00e+00 5.65e-01h  1\n",
      "  15 -1.7353849e+01 4.05e-08 8.29e+05  -1.0 3.41e-02    -  1.00e+00 6.59e-01h  1\n",
      "  16 -1.7353915e+01 1.17e-08 1.90e+06  -1.0 1.16e-02    -  1.00e+00 6.37e-01h  1\n",
      "  17 -1.7353948e+01 3.00e-36 1.04e+06  -1.0 4.22e-03    -  1.00e+00 8.79e-01h  1\n",
      "  18 -1.7353949e+01 2.40e-36 6.10e+06  -1.0 5.12e-04    -  1.00e+00 2.50e-01f  3\n",
      "  19 -1.7353952e+01 2.56e-37 1.00e-06  -1.0 3.84e-04    -  1.00e+00 1.00e+00h  1\n",
      "iter    objective    inf_pr   inf_du lg(mu)  ||d||  lg(rg) alpha_du alpha_pr  ls\n",
      "  20 -1.8868675e+01 1.45e-36 1.97e+06  -8.6 1.73e+02    -  9.13e-01 1.00e+00f  1\n",
      "  21 -1.9109919e+01 2.08e-38 1.65e-07  -8.6 2.78e+01    -  1.00e+00 1.00e+00f  1\n",
      "  22 -1.9111111e+01 1.43e-42 1.14e-11  -8.6 1.37e-01    -  1.00e+00 1.00e+00f  1\n",
      "\n",
      "Number of Iterations....: 22\n",
      "\n",
      "                                   (scaled)                 (unscaled)\n",
      "Objective...............:  -1.9111111042181648e+01   -1.9111111042181648e+01\n",
      "Dual infeasibility......:   1.1369016513808339e-11    1.1369016513808339e-11\n",
      "Constraint violation....:   2.1439051199865917e-43    1.4292700799910612e-42\n",
      "Complementarity.........:   3.4511793196368081e-09    3.4511793196368081e-09\n",
      "Overall NLP error.......:   3.4511793196368081e-09    3.4511793196368081e-09\n",
      "\n",
      "\n",
      "Number of objective function evaluations             = 25\n",
      "Number of objective gradient evaluations             = 23\n",
      "Number of equality constraint evaluations            = 25\n",
      "Number of inequality constraint evaluations          = 25\n",
      "Number of equality constraint Jacobian evaluations   = 23\n",
      "Number of inequality constraint Jacobian evaluations = 23\n",
      "Number of Lagrangian Hessian evaluations             = 22\n",
      "Total CPU secs in IPOPT (w/o function evaluations)   =      0.017\n",
      "Total CPU secs in NLP function evaluations           =      0.001\n",
      "\n",
      "EXIT: Optimal Solution Found.\n",
      "               t_proc [s]   t_wall [s]    n_eval\n",
      "       nlp_f     0.000106     0.000106        25\n",
      "       nlp_g     0.000132     0.000127        25\n",
      "    nlp_grad      1.8e-05     1.75e-05         1\n",
      "  nlp_grad_f     0.000118     0.000116        24\n",
      "  nlp_hess_l      5.2e-05     4.81e-05        22\n",
      "   nlp_jac_g     0.000247     0.000248        24\n",
      "       optim       0.0194        0.019         1\n"
     ]
    }
   ],
   "source": [
    "nw.run_ots()"
   ]
  },
  {
   "cell_type": "code",
   "execution_count": 12,
   "metadata": {},
   "outputs": [],
   "source": [
    "def get_con_props(nw):\n",
    "    con = nw.connections.copy()\n",
    "    #We query these attributes from the connections object ('prop') that is part of the dataframe\n",
    "    con['max_window_size'] = con.apply(lambda row: row.prop.window_size, axis=1)\n",
    "    con['window_size'] = con.apply(lambda row: len(row.prop.window), axis=1)\n",
    "    con['transit_size'] = con.apply(lambda row: len(row.prop.transit), axis=1)\n",
    "    con['trans_reply_size'] = con.apply(lambda row: len(row.prop.transit_reply), axis=1)\n",
    "    \n",
    "    con['v_con'] = con.apply(lambda row: np.round(row.v_con[0],1),axis=1)\n",
    "    con['c_con'] = con.apply(lambda row: np.round(row.c_con[0],2),axis=1)\n",
    "    con['v_max'] = con.apply(lambda row: np.round(row.v_max[0],1),axis=1)\n",
    "    con['bwl_t'] = con.apply(lambda row: np.round(row.bandwidth_load_target[0], 2),axis=1)\n",
    "    con['ml_t'] = con.apply(lambda row: np.round(row.memory_load_target[0],2),axis=1)\n",
    "    con['bwl_s'] = con.apply(lambda row: np.round(row.bandwidth_load_source[0],2),axis=1)\n",
    "    con['ml_s'] = con.apply(lambda row: np.round(row.memory_load_source[0],2),axis=1)\n",
    "    \n",
    "      \n",
    "    # And display only the relevant columns:\n",
    "    return con[['source_name','target_name','circuit','max_window_size','window_size','transit_size','trans_reply_size','v_con','c_con','v_max','bwl_t','ml_t','bwl_s', 'ml_s']]\n",
    "    "
   ]
  },
  {
   "cell_type": "code",
   "execution_count": 119,
   "metadata": {
    "scrolled": true
   },
   "outputs": [
    {
     "name": "stdout",
     "output_type": "stream",
     "text": [
      "0.5100000000000002\n"
     ]
    }
   ],
   "source": [
    "if nw.t_next_iter <= nw.t:\n",
    "    nw.run_ots()\n",
    "else:\n",
    "    nw.simulate()\n",
    "print(nw.t)"
   ]
  },
  {
   "cell_type": "code",
   "execution_count": 120,
   "metadata": {},
   "outputs": [
    {
     "data": {
      "text/html": [
       "<div>\n",
       "<style scoped>\n",
       "    .dataframe tbody tr th:only-of-type {\n",
       "        vertical-align: middle;\n",
       "    }\n",
       "\n",
       "    .dataframe tbody tr th {\n",
       "        vertical-align: top;\n",
       "    }\n",
       "\n",
       "    .dataframe thead th {\n",
       "        text-align: right;\n",
       "    }\n",
       "</style>\n",
       "<table border=\"1\" class=\"dataframe\">\n",
       "  <thead>\n",
       "    <tr style=\"text-align: right;\">\n",
       "      <th></th>\n",
       "      <th>source_name</th>\n",
       "      <th>target_name</th>\n",
       "      <th>circuit</th>\n",
       "      <th>max_window_size</th>\n",
       "      <th>window_size</th>\n",
       "      <th>transit_size</th>\n",
       "      <th>trans_reply_size</th>\n",
       "      <th>v_con</th>\n",
       "      <th>c_con</th>\n",
       "      <th>v_max</th>\n",
       "      <th>bwl_t</th>\n",
       "      <th>ml_t</th>\n",
       "      <th>bwl_s</th>\n",
       "      <th>ml_s</th>\n",
       "    </tr>\n",
       "  </thead>\n",
       "  <tbody>\n",
       "    <tr>\n",
       "      <th>0</th>\n",
       "      <td>input_1</td>\n",
       "      <td>server_1</td>\n",
       "      <td>[0]</td>\n",
       "      <td>250</td>\n",
       "      <td>106</td>\n",
       "      <td>34</td>\n",
       "      <td>35</td>\n",
       "      <td>[[491.4]]</td>\n",
       "      <td>[[1]]</td>\n",
       "      <td>[[493.9]]</td>\n",
       "      <td>[[0.97]]</td>\n",
       "      <td>[[1.0]]</td>\n",
       "      <td>[[0.0]]</td>\n",
       "      <td>[[0.0]]</td>\n",
       "    </tr>\n",
       "    <tr>\n",
       "      <th>1</th>\n",
       "      <td>server_1</td>\n",
       "      <td>server_2</td>\n",
       "      <td>[0, 1]</td>\n",
       "      <td>291</td>\n",
       "      <td>136</td>\n",
       "      <td>69</td>\n",
       "      <td>67</td>\n",
       "      <td>[[948.6]]</td>\n",
       "      <td>[[0.49], [0.51]]</td>\n",
       "      <td>[[1266.9]]</td>\n",
       "      <td>[[0.88]]</td>\n",
       "      <td>[[0.73]]</td>\n",
       "      <td>[[0.97]]</td>\n",
       "      <td>[[1.0]]</td>\n",
       "    </tr>\n",
       "    <tr>\n",
       "      <th>2</th>\n",
       "      <td>server_2</td>\n",
       "      <td>output_1</td>\n",
       "      <td>[0]</td>\n",
       "      <td>96</td>\n",
       "      <td>66</td>\n",
       "      <td>34</td>\n",
       "      <td>32</td>\n",
       "      <td>[[456.7]]</td>\n",
       "      <td>[[1.0]]</td>\n",
       "      <td>[[2000.0]]</td>\n",
       "      <td>[[0.0]]</td>\n",
       "      <td>[[0.0]]</td>\n",
       "      <td>[[0.88]]</td>\n",
       "      <td>[[0.73]]</td>\n",
       "    </tr>\n",
       "    <tr>\n",
       "      <th>3</th>\n",
       "      <td>input_2</td>\n",
       "      <td>server_1</td>\n",
       "      <td>[1]</td>\n",
       "      <td>250</td>\n",
       "      <td>109</td>\n",
       "      <td>34</td>\n",
       "      <td>28</td>\n",
       "      <td>[[491.4]]</td>\n",
       "      <td>[[1]]</td>\n",
       "      <td>[[493.9]]</td>\n",
       "      <td>[[0.97]]</td>\n",
       "      <td>[[1.0]]</td>\n",
       "      <td>[[0.0]]</td>\n",
       "      <td>[[0.0]]</td>\n",
       "    </tr>\n",
       "    <tr>\n",
       "      <th>4</th>\n",
       "      <td>server_2</td>\n",
       "      <td>output_2</td>\n",
       "      <td>[1]</td>\n",
       "      <td>94</td>\n",
       "      <td>64</td>\n",
       "      <td>32</td>\n",
       "      <td>32</td>\n",
       "      <td>[[276.5]]</td>\n",
       "      <td>[[1.0]]</td>\n",
       "      <td>[[2000.0]]</td>\n",
       "      <td>[[0.0]]</td>\n",
       "      <td>[[0.0]]</td>\n",
       "      <td>[[0.88]]</td>\n",
       "      <td>[[0.73]]</td>\n",
       "    </tr>\n",
       "  </tbody>\n",
       "</table>\n",
       "</div>"
      ],
      "text/plain": [
       "  source_name target_name circuit  max_window_size  window_size  transit_size  \\\n",
       "0     input_1    server_1     [0]              250          106            34   \n",
       "1    server_1    server_2  [0, 1]              291          136            69   \n",
       "2    server_2    output_1     [0]               96           66            34   \n",
       "3     input_2    server_1     [1]              250          109            34   \n",
       "4    server_2    output_2     [1]               94           64            32   \n",
       "\n",
       "   trans_reply_size      v_con             c_con       v_max     bwl_t  \\\n",
       "0                35  [[491.4]]             [[1]]   [[493.9]]  [[0.97]]   \n",
       "1                67  [[948.6]]  [[0.49], [0.51]]  [[1266.9]]  [[0.88]]   \n",
       "2                32  [[456.7]]           [[1.0]]  [[2000.0]]   [[0.0]]   \n",
       "3                28  [[491.4]]             [[1]]   [[493.9]]  [[0.97]]   \n",
       "4                32  [[276.5]]           [[1.0]]  [[2000.0]]   [[0.0]]   \n",
       "\n",
       "       ml_t     bwl_s      ml_s  \n",
       "0   [[1.0]]   [[0.0]]   [[0.0]]  \n",
       "1  [[0.73]]  [[0.97]]   [[1.0]]  \n",
       "2   [[0.0]]  [[0.88]]  [[0.73]]  \n",
       "3   [[1.0]]   [[0.0]]   [[0.0]]  \n",
       "4   [[0.0]]  [[0.88]]  [[0.73]]  "
      ]
     },
     "execution_count": 120,
     "metadata": {},
     "output_type": "execute_result"
    }
   ],
   "source": [
    "get_con_props(nw)"
   ]
  },
  {
   "cell_type": "code",
   "execution_count": 116,
   "metadata": {},
   "outputs": [
    {
     "data": {
      "text/plain": [
       "array([[1017.20632206]])"
      ]
     },
     "execution_count": 116,
     "metadata": {},
     "output_type": "execute_result"
    }
   ],
   "source": [
    "nw.connections.loc[1].v_con[0]"
   ]
  },
  {
   "cell_type": "code",
   "execution_count": 125,
   "metadata": {},
   "outputs": [
    {
     "ename": "AttributeError",
     "evalue": "'server' object has no attribute 'transit'",
     "output_type": "error",
     "traceback": [
      "\u001b[0;31m---------------------------------------------------------------------------\u001b[0m",
      "\u001b[0;31mAttributeError\u001b[0m                            Traceback (most recent call last)",
      "\u001b[0;32m<ipython-input-125-f16409accfb8>\u001b[0m in \u001b[0;36m<module>\u001b[0;34m\u001b[0m\n\u001b[0;32m----> 1\u001b[0;31m \u001b[0mnw\u001b[0m\u001b[0;34m.\u001b[0m\u001b[0mnodes\u001b[0m\u001b[0;34m.\u001b[0m\u001b[0mloc\u001b[0m\u001b[0;34m[\u001b[0m\u001b[0;36m0\u001b[0m\u001b[0;34m]\u001b[0m\u001b[0;34m.\u001b[0m\u001b[0mnode\u001b[0m\u001b[0;34m.\u001b[0m\u001b[0mtransit\u001b[0m\u001b[0;34m\u001b[0m\u001b[0;34m\u001b[0m\u001b[0m\n\u001b[0m",
      "\u001b[0;31mAttributeError\u001b[0m: 'server' object has no attribute 'transit'"
     ]
    }
   ],
   "source": [
    "nw.nodes.loc[0].node.transit"
   ]
  },
  {
   "cell_type": "code",
   "execution_count": null,
   "metadata": {},
   "outputs": [],
   "source": []
  }
 ],
 "metadata": {
  "kernelspec": {
   "display_name": "Python 3.6, 64bit",
   "language": "python",
   "name": "py36_64bit"
  },
  "language_info": {
   "codemirror_mode": {
    "name": "ipython",
    "version": 3
   },
   "file_extension": ".py",
   "mimetype": "text/x-python",
   "name": "python",
   "nbconvert_exporter": "python",
   "pygments_lexer": "ipython3",
   "version": "3.6.8"
  }
 },
 "nbformat": 4,
 "nbformat_minor": 2
}
