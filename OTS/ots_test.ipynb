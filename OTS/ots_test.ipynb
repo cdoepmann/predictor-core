{
 "cells": [
  {
   "cell_type": "markdown",
   "metadata": {},
   "source": [
    "# Testing and illustrating the Toropti\n",
    "The optimal_traffic_scheduler (**OTS**) class."
   ]
  },
  {
   "cell_type": "code",
   "execution_count": 1,
   "metadata": {},
   "outputs": [],
   "source": [
    "import numpy as np\n",
    "import matplotlib.pyplot as plt\n",
    "from optimal_traffic_scheduler import optimal_traffic_scheduler\n",
    "import pdb\n",
    "%matplotlib notebook"
   ]
  },
  {
   "cell_type": "markdown",
   "metadata": {},
   "source": [
    "We create a simple scenario to illustrate and investigate the mechanics of the **OTS** class. For this purpose we start by creating a setup_dict for our optimizer that carries the same (and some additional) information as the server nodes in **NS-F**:"
   ]
  },
  {
   "cell_type": "code",
   "execution_count": 2,
   "metadata": {},
   "outputs": [],
   "source": [
    "setup_dict = {}\n",
    "setup_dict['v_in_max_total'] = 10  # packets / s\n",
    "setup_dict['v_out_max_total'] = 8  # packets / s\n",
    "setup_dict['s_max'] = 200  # packets\n",
    "setup_dict['dt'] = 0.1  # s\n",
    "setup_dict['N_steps'] = 20\n",
    "setup_dict['weights'] = {'control_delta': 0.1, 'send': 1, 'store': 0, 'receive': 5}"
   ]
  },
  {
   "cell_type": "markdown",
   "metadata": {},
   "source": [
    "**NOTE:** in previous versions **v_max** was used as a combined limit for incoming- and outgoing packets. \n",
    "- **v_in_max_total**: is the maximum number of incoming packets that can be processed per second. \n",
    "- **v_out_max_total**: is the maximum number of outgoing packets that can be processed per second. \n",
    "- **s_max**: is the maximum number of packets in the server. The NS-F server nodes rejects packets (they are lost) if this value is to be exceeded otherwise.\n",
    "- **dt**: Timestep of the **OTS** object. Note that this should be at least an order of magnitude greater than the **NS-F** server timestep.\n",
    "- **N_steps**: Prediction horizon for the MPC problem.\n",
    "- **weights**: In this term weighting coefficients for the MPC objective are stored as a dict. We have three tuning factors:\n",
    "  - **control_delta**: This term penalizes high changes (with regard to the L2-Norm) in the controlled variables and is important to ensure stability of the distributed system.\n",
    "  - **send**: Prioritization of sending packets.\n",
    "  - **store**: Prioritization of reducing the storage.\n",
    "  - **receive**:  Prioritization of receiving packets (not rejecting them).\n",
    "\n",
    "We can now create the object:"
   ]
  },
  {
   "cell_type": "code",
   "execution_count": 3,
   "metadata": {},
   "outputs": [],
   "source": [
    "ots = optimal_traffic_scheduler(setup_dict)"
   ]
  },
  {
   "cell_type": "markdown",
   "metadata": {},
   "source": [
    "We look into **OTS** with a concrete example. Lets assume that we have two inputs and three outputs for the node and that a total of five circuits are beeing processed. This can simply be expressed as follow:"
   ]
  },
  {
   "cell_type": "code",
   "execution_count": 4,
   "metadata": {},
   "outputs": [],
   "source": [
    "circuits_in = [[0, 1, 2], [3, 4]]\n",
    "circuits_out = [[1, 3], [0], [2, 4]]\n",
    "# Furthermore we have an output delay of:\n",
    "output_delay = np.array([0.05, 0.05, 0.05]) #s\n",
    "# This is important for the later mentioned s_transit."
   ]
  },
  {
   "cell_type": "markdown",
   "metadata": {},
   "source": [
    "Normally, this information would be automatically retrieved from the network structure, along with additional values. For this example, we do some manual calculations to configure the node:"
   ]
  },
  {
   "cell_type": "code",
   "execution_count": 5,
   "metadata": {},
   "outputs": [
    {
     "name": "stdout",
     "output_type": "stream",
     "text": [
      "The 2 incoming connections carry [3, 2] circuits and the 3 outgoing connections have [2, 1, 2] circuits.\n",
      "Clearly, sum(n_circuits_in) = 5, is the same as sum(n_circuits_out) = 5\n"
     ]
    }
   ],
   "source": [
    "n_in = len(circuits_in)\n",
    "n_out = len(circuits_out)\n",
    "n_circuit_in = [len(c_i) for c_i in circuits_in]\n",
    "n_circuit_out = [len(c_i) for c_i in circuits_out]\n",
    "print('The {0} incoming connections carry {1} circuits \\\n",
    "and the {2} outgoing connections have {3} circuits.'.format(n_in,n_circuit_in,n_out,n_circuit_out))\n",
    "print('Clearly, sum(n_circuits_in) = {0}, is the same as sum(n_circuits_out) = {1}'.format(np.sum(n_circuit_in),np.sum(n_circuit_out)))"
   ]
  },
  {
   "cell_type": "markdown",
   "metadata": {},
   "source": [
    "We can now sestup the **OTS** object:"
   ]
  },
  {
   "cell_type": "code",
   "execution_count": 6,
   "metadata": {},
   "outputs": [],
   "source": [
    "ots.setup(n_in, n_out, circuits_in, circuits_out, output_delay=output_delay)"
   ]
  },
  {
   "cell_type": "markdown",
   "metadata": {},
   "source": [
    "Two very important matrices are calculated with staticmethods from the **OTS** object:"
   ]
  },
  {
   "cell_type": "code",
   "execution_count": 7,
   "metadata": {},
   "outputs": [],
   "source": [
    "Pb = ots.Pb_fun(circuits_in, circuits_out)\n",
    "Pc = ots.Pc_fun(circuits_in, circuits_out)"
   ]
  },
  {
   "cell_type": "markdown",
   "metadata": {},
   "source": [
    "Pb is an assignment matrix that determines, which element of each input is assigned to which output buffer. What this means becomes clear when we display it for the example circuit constellation:"
   ]
  },
  {
   "cell_type": "code",
   "execution_count": 8,
   "metadata": {},
   "outputs": [
    {
     "data": {
      "text/plain": [
       "array([[0., 1., 0., 1., 0.],\n",
       "       [1., 0., 0., 0., 0.],\n",
       "       [0., 0., 1., 0., 1.]])"
      ]
     },
     "execution_count": 8,
     "metadata": {},
     "output_type": "execute_result"
    }
   ],
   "source": [
    "Pb"
   ]
  },
  {
   "cell_type": "markdown",
   "metadata": {},
   "source": [
    "Each row corresponds to one output and each column to one input circuit. We see that the input circuits at position 1 and 3 are directed to output 0, for example."
   ]
  },
  {
   "cell_type": "markdown",
   "metadata": {},
   "source": [
    "Pc, on the other hand, is an assignment matrix to determine which input circuit is directed to which output circuit:"
   ]
  },
  {
   "cell_type": "code",
   "execution_count": 9,
   "metadata": {},
   "outputs": [
    {
     "data": {
      "text/plain": [
       "array([[0., 1., 0., 0., 0.],\n",
       "       [0., 0., 0., 1., 0.],\n",
       "       [1., 0., 0., 0., 0.],\n",
       "       [0., 0., 1., 0., 0.],\n",
       "       [0., 0., 0., 0., 1.]])"
      ]
     },
     "execution_count": 9,
     "metadata": {},
     "output_type": "execute_result"
    }
   ],
   "source": [
    "Pc"
   ]
  },
  {
   "cell_type": "markdown",
   "metadata": {},
   "source": [
    "This is an quadratic matrix as the number of circuits cant change within a node. Basically, this matrix just changes the order of the circuits."
   ]
  },
  {
   "cell_type": "markdown",
   "metadata": {},
   "source": [
    "We now create a scenario in which the optimization is triggered with some dummy values. We set the following for the initial condition:"
   ]
  },
  {
   "cell_type": "code",
   "execution_count": 10,
   "metadata": {},
   "outputs": [],
   "source": [
    "s_buffer_0 = np.zeros((n_out, 1))\n",
    "s_circuit_0 = np.zeros((np.sum(n_circuit_in), 1))\n",
    "s_transit_0 = np.zeros((n_out, 1))"
   ]
  },
  {
   "cell_type": "markdown",
   "metadata": {},
   "source": [
    "Where ```s_buffer``` is a n_out x 1 vector with one component for each output queue of the server and ```s_circuit``` is a n_circuit x 1 vector with one component for each circuit. These values represent the number of packets per buffer and circuit.\n",
    "The last vector, ```s_transit``` (n_out x 1), is a fictional buffer that tracks the number of packets that are in transit. This means they were sent but not replied, yet. It is important to track this, because packets that are sent, are not actually leaving the buffer until their successfull sending was confirmed.\n",
    "\n",
    "We also introduce some trajectories that are obtained in adjacent nodes and communicated with the current node. For our example we again choose some dummy values:"
   ]
  },
  {
   "cell_type": "code",
   "execution_count": 11,
   "metadata": {},
   "outputs": [],
   "source": [
    "v_in_req = [np.array([[12, 4]]).T]*ots.N_steps\n",
    "\n",
    "cv_in = [[np.array([[0.5, 0.25, 0.25]]).T, np.array([[0.5, 0.5]]).T]]*ots.N_steps\n",
    "\n",
    "v_out_max = [np.array([[6, 6, 6]]).T]*ots.N_steps\n",
    "\n",
    "bandwidth_load_target = [np.array([[0, 0, 0]]).T]*ots.N_steps\n",
    "memory_load_target = [np.array([[0, 0, 0]]).T]*ots.N_steps\n",
    "\n",
    "bandwidth_load_source = [np.array([[0, 0]]).T]*ots.N_steps\n",
    "memory_load_source = [np.array([[0, 0]]).T]*ots.N_steps"
   ]
  },
  {
   "cell_type": "markdown",
   "metadata": {},
   "source": [
    "Note, first of all, the format of all these trajectories. Each of them is represented by a list with N items, where each list item is a vector that represents the value of that trajectory at a distinct timestep for a total of N timesteps. \n",
    "Now to the individual explanations:\n",
    "- **v_in_req**: Is the requested incoming packet stream of the connected sending nodes. Ideally our node excepts all of this data, however, it can choose to reject some of it.\n",
    "- **cv_in**: Is the composition of the incoming packet streams. Each list item is again a list. Each of these elements corresponds to one of the incoming streams and is itself a composition vector. Note the similarity to the ```circuits_in``` definition from above.\n",
    "- **v_out_max**: The maximum allowed packet stream of the outgoing connections. \n",
    "- **bandwidth_load_target / memory_load_target**: Load information for the target servers\n",
    "- **bandwidth_load_source / memory_load_source**: Load information for the source servers"
   ]
  },
  {
   "cell_type": "markdown",
   "metadata": {},
   "source": [
    "## Test 01: Investigate dynamics\n",
    "For our first test we do not solve the optimal control problem but instead manually set the control inputs and investigate the system dynamics. "
   ]
  },
  {
   "cell_type": "code",
   "execution_count": 12,
   "metadata": {},
   "outputs": [],
   "source": [
    "v_in_max = [np.array([[12, 4]]).T]*ots.N_steps\n",
    "v_out = [np.array([[5, 6, 5]]).T]*ots.N_steps"
   ]
  },
  {
   "cell_type": "markdown",
   "metadata": {},
   "source": [
    "We can control the upper limit for the incoming packet streams, where the resulting incoming packet stream is simply \n",
    "```python\n",
    "   v_in = min(v_in_max, v_in_req)\n",
    "```\n",
    "However, this is implemented differently to avoid problems of the optimizer. Details can be found [here](ns_f/min_v_in_formulation_test.ipynb). In short we introduce to new trajectories: ```v_in_discard``` and ```v_in_extra```. From ```v_in_req``` and ```v_in_max``` they are calculated as follows:"
   ]
  },
  {
   "cell_type": "code",
   "execution_count": 13,
   "metadata": {},
   "outputs": [
    {
     "name": "stdout",
     "output_type": "stream",
     "text": [
      "v_in_extra:   [0 0], at t=0\n",
      "v_in_discard: [0 0], at t=0\n"
     ]
    }
   ],
   "source": [
    "v_in_discard = [np.maximum(v_in_req_i-v_in_max_i,0) for v_in_max_i, v_in_req_i in zip(v_in_max,v_in_req)]\n",
    "v_in_extra = [np.maximum(v_in_max_i-v_in_req_i,0) for v_in_max_i, v_in_req_i in zip(v_in_max,v_in_req)]\n",
    "\n",
    "print('v_in_extra:   '+ str(v_in_extra[0].flatten()) + ', at t=0')\n",
    "print('v_in_discard: '+ str(v_in_discard[0].flatten())+ ', at t=0')"
   ]
  },
  {
   "cell_type": "markdown",
   "metadata": {},
   "source": [
    "\n",
    "Furthermore, we are able to control the sending rate individually for each output_buffer. \n",
    "\n",
    "The dynamics of the system are quite simple. We have an auxiliary variable $v_{c,in}$ that derives from $v_{in}$ and $c_{v,in}$ and denotes the incoming packet streams for each circuit. With this value and the previous buffer memory ($s^{k}_B$) and circuit memory ($s^{k}_C$) we calculate intermediate values for the next buffer and circuit memory. We need the matrices $P_B$ and $P_C$ that were introduced above:\n",
    "\\begin{gather}\n",
    "\\tilde{s}^{k+1}_B= s^{k}_B +\\Delta t \\cdot P_B  v_{c,in}\\\\\n",
    "\\tilde{s}^{k+1}_C = s^{k}_C +\\Delta t \\cdot P_C  v_{c,in}\\\\\n",
    "\\end{gather}\n",
    "With the intermediate circuit and buffer memory we calculate the composition of the outgoing packet stream, simply by dividing the respective elements of $\\tilde{s}^{k+1}_C$ and $\\tilde{s}^{k+1}_B$. \n",
    "Now, we can use to calculate the outgoing circuit streams $v_{c,out}$ by using $v_{out}$ and $c_{v,out}$. \n",
    "This allows to write:\n",
    "\\begin{gather}\n",
    "s^{k+1}_B= \\tilde{s}^{k+1} -\\Delta t \\cdot v_{out}\\\\\n",
    "s^{k+1}_c = \\tilde{s}^{k+1}_C -\\Delta t \\cdot v_{c,out}\\\\\n",
    "\\end{gather}\n"
   ]
  },
  {
   "cell_type": "markdown",
   "metadata": {},
   "source": [
    "Lastly, we can calculate the next \"transit memory\" with the following equation:\n",
    "\\begin{gather}\n",
    "s^{k+1}_T= s^{k}_T +\\Delta t (v_{out}- v_{Tr, remove})\n",
    "\\end{gather}\n",
    "It is important to realize that everything that is sent ($v_{out}$) is temporarily transfered into $s_T$ (the transit buffer) where it remains until we notice that is was successfully received. Under the assumption that no packet is lost, the values of $v_{Tr, remove}$ are simply previous values of $v_{out}$. How far we have to look back depends on the latency of the outgoing connection and the time step of the optimizer. This makes everything a bit complicated, since for the first elements of $v_{Tr, remove}$ we need to use recorded values of $v_{out}$ (time varying parameters for optimization), whereas for successive values we use values of $v_{out}$ (optimization variables).\n",
    "\n",
    "For this simple example, where ```output_delay = np.array([0.05, 0.05, 0.05]) #s```, and $\\Delta t_{optim}=0.1$, we only have to look at the last element of ```v_out``` from record. We simply set it to: "
   ]
  },
  {
   "cell_type": "code",
   "execution_count": 14,
   "metadata": {},
   "outputs": [],
   "source": [
    "v_tr_remove = [np.array([0,0,0]).reshape(-1,1)]"
   ]
  },
  {
   "cell_type": "markdown",
   "metadata": {},
   "source": [
    "Let's check these dynamics with the chosen input trajectories from above. Note that ```v_out``` was chosen, such that all incoming packets are forwarded immediatly. "
   ]
  },
  {
   "cell_type": "code",
   "execution_count": 15,
   "metadata": {
    "scrolled": true
   },
   "outputs": [],
   "source": [
    "model_fun = ots.mpc_problem['model'] # Retrieve the model function from the ots object.\n",
    "\n",
    "# Initiate lists for the solution, starting with the intial condition.\n",
    "s_buffer = [s_buffer_0]\n",
    "s_circuit = [s_circuit_0]\n",
    "s_transit = [s_transit_0]\n",
    "cv_out = []\n",
    "for k in range(ots.N_steps):\n",
    "    model_out = model_fun(s_buffer[k], s_transit[k], s_circuit[k], v_tr_remove[k], v_in_req[k], v_in_discard[k], v_in_extra[k], *cv_in[k], v_out[k], Pb, Pc)\n",
    "    model_out = [model_out_i.full() for model_out_i in model_out]\n",
    "    # model_out is a list, where the following items correspond to the following variables:\n",
    "    s_buffer.append(model_out[0])\n",
    "    s_transit.append(model_out[1])\n",
    "    s_circuit.append(model_out[2])\n",
    "    cv_out.append(model_out[3:])\n",
    "    v_tr_remove.append(v_out[k])\n",
    "    \n",
    "# Concatenate the solution:\n",
    "s_buffer = np.concatenate(s_buffer, axis=1).T\n",
    "s_circuit = np.concatenate(s_circuit, axis=1).T\n",
    "s_transit = np.concatenate(s_transit, axis=1).T"
   ]
  },
  {
   "cell_type": "markdown",
   "metadata": {},
   "source": [
    "Both, ```s_buffer``` and ```s_circuit``` are zero for all elements and all timesteps, which is shown below for s_circuit:"
   ]
  },
  {
   "cell_type": "code",
   "execution_count": 16,
   "metadata": {
    "scrolled": false
   },
   "outputs": [
    {
     "data": {
      "text/plain": [
       "array([[0., 0., 0., 0., 0.],\n",
       "       [0., 0., 0., 0., 0.],\n",
       "       [0., 0., 0., 0., 0.],\n",
       "       [0., 0., 0., 0., 0.],\n",
       "       [0., 0., 0., 0., 0.],\n",
       "       [0., 0., 0., 0., 0.],\n",
       "       [0., 0., 0., 0., 0.],\n",
       "       [0., 0., 0., 0., 0.],\n",
       "       [0., 0., 0., 0., 0.],\n",
       "       [0., 0., 0., 0., 0.],\n",
       "       [0., 0., 0., 0., 0.],\n",
       "       [0., 0., 0., 0., 0.],\n",
       "       [0., 0., 0., 0., 0.],\n",
       "       [0., 0., 0., 0., 0.],\n",
       "       [0., 0., 0., 0., 0.],\n",
       "       [0., 0., 0., 0., 0.],\n",
       "       [0., 0., 0., 0., 0.],\n",
       "       [0., 0., 0., 0., 0.],\n",
       "       [0., 0., 0., 0., 0.],\n",
       "       [0., 0., 0., 0., 0.],\n",
       "       [0., 0., 0., 0., 0.]])"
      ]
     },
     "execution_count": 16,
     "metadata": {},
     "output_type": "execute_result"
    }
   ],
   "source": [
    "np.round(s_circuit,5)"
   ]
  },
  {
   "cell_type": "markdown",
   "metadata": {},
   "source": [
    "Looking at ```s_transit``` we see that some packets are in transit:"
   ]
  },
  {
   "cell_type": "code",
   "execution_count": 17,
   "metadata": {},
   "outputs": [
    {
     "data": {
      "text/plain": [
       "array([[0. , 0. , 0. ],\n",
       "       [0.5, 0.6, 0.5],\n",
       "       [0.5, 0.6, 0.5],\n",
       "       [0.5, 0.6, 0.5],\n",
       "       [0.5, 0.6, 0.5],\n",
       "       [0.5, 0.6, 0.5],\n",
       "       [0.5, 0.6, 0.5],\n",
       "       [0.5, 0.6, 0.5],\n",
       "       [0.5, 0.6, 0.5],\n",
       "       [0.5, 0.6, 0.5],\n",
       "       [0.5, 0.6, 0.5],\n",
       "       [0.5, 0.6, 0.5],\n",
       "       [0.5, 0.6, 0.5],\n",
       "       [0.5, 0.6, 0.5],\n",
       "       [0.5, 0.6, 0.5],\n",
       "       [0.5, 0.6, 0.5],\n",
       "       [0.5, 0.6, 0.5],\n",
       "       [0.5, 0.6, 0.5],\n",
       "       [0.5, 0.6, 0.5],\n",
       "       [0.5, 0.6, 0.5],\n",
       "       [0.5, 0.6, 0.5]])"
      ]
     },
     "execution_count": 17,
     "metadata": {},
     "output_type": "execute_result"
    }
   ],
   "source": [
    "np.round(s_transit,5)"
   ]
  },
  {
   "cell_type": "markdown",
   "metadata": {},
   "source": [
    "An interesting value is also the composition, which is shown below:"
   ]
  },
  {
   "cell_type": "code",
   "execution_count": 18,
   "metadata": {},
   "outputs": [
    {
     "name": "stdout",
     "output_type": "stream",
     "text": [
      "[[0.6, 0.4], [1.0], [0.6, 0.4]]\n",
      "[[0.6, 0.4], [1.0], [0.6, 0.4]]\n",
      "[[0.6, 0.4], [1.0], [0.6, 0.4]]\n",
      "[[0.6, 0.4], [1.0], [0.6, 0.4]]\n",
      "[[0.6, 0.4], [1.0], [0.6, 0.4]]\n",
      "[[0.6, 0.4], [1.0], [0.6, 0.4]]\n",
      "[[0.6, 0.4], [1.0], [0.6, 0.4]]\n",
      "[[0.6, 0.4], [1.0], [0.6, 0.4]]\n",
      "[[0.6, 0.4], [1.0], [0.6, 0.4]]\n",
      "[[0.6, 0.4], [1.0], [0.6, 0.4]]\n",
      "[[0.6, 0.4], [1.0], [0.6, 0.4]]\n",
      "[[0.6, 0.4], [1.0], [0.6, 0.4]]\n",
      "[[0.6, 0.4], [1.0], [0.6, 0.4]]\n",
      "[[0.6, 0.4], [1.0], [0.6, 0.4]]\n",
      "[[0.6, 0.4], [1.0], [0.6, 0.4]]\n",
      "[[0.6, 0.4], [1.0], [0.6, 0.4]]\n",
      "[[0.6, 0.4], [1.0], [0.6, 0.4]]\n",
      "[[0.6, 0.4], [1.0], [0.6, 0.4]]\n",
      "[[0.6, 0.4], [1.0], [0.6, 0.4]]\n",
      "[[0.6, 0.4], [1.0], [0.6, 0.4]]\n"
     ]
    }
   ],
   "source": [
    "for k in range(ots.N_steps):\n",
    "    print([np.round(c_i,2).flatten().tolist() for c_i in cv_out[k]])"
   ]
  },
  {
   "cell_type": "markdown",
   "metadata": {},
   "source": [
    "These are exactly the values that we expected, e.g:\n",
    "\n",
    "\n",
    "\\begin{gather}\n",
    "v_{in,0}\\cdot c_{in,0,1} = 12\\cdot0.25 = 3\\\\\n",
    "v_{in,1}\\cdot c_{in,1,0} = 4\\cdot0.25 = 2\n",
    "\\end{gather}\n",
    "Are added to output buffer 0 and $v_{out,1}$ is set to $3+2 = 5$. Such that the composition is:\n",
    "\\begin{gather}\n",
    "c_{out,0,0} = 3 / 5 = 0.6\\\\\n",
    "c_{out,0,0} = 2 / 5 = 0.4\n",
    "\\end{gather}"
   ]
  },
  {
   "cell_type": "markdown",
   "metadata": {},
   "source": [
    "Now we quickly investigate how it looks like when the buffer is increasing in size, simply by setting:"
   ]
  },
  {
   "cell_type": "code",
   "execution_count": 19,
   "metadata": {},
   "outputs": [],
   "source": [
    "v_out = [np.array([[4.5, 5, 3]]).T]*ots.N_steps"
   ]
  },
  {
   "cell_type": "markdown",
   "metadata": {},
   "source": [
    "and rerunning:"
   ]
  },
  {
   "cell_type": "code",
   "execution_count": 20,
   "metadata": {},
   "outputs": [],
   "source": [
    "# Initiate lists for the solution, starting with the intial condition.\n",
    "s_buffer = [s_buffer_0]\n",
    "s_circuit = [s_circuit_0]\n",
    "s_transit = [s_transit_0]\n",
    "cv_out = []\n",
    "for k in range(ots.N_steps):\n",
    "    model_out = model_fun(s_buffer[k], s_transit[k], s_circuit[k], v_tr_remove[k], v_in_req[k], v_in_discard[k], v_in_extra[k], *cv_in[k], v_out[k], Pb, Pc)\n",
    "    model_out = [model_out_i.full() for model_out_i in model_out]\n",
    "    # model_out is a list, where the following items correspond to the following variables:\n",
    "    s_buffer.append(model_out[0])\n",
    "    s_transit.append(model_out[1])\n",
    "    s_circuit.append(model_out[2])\n",
    "    cv_out.append(model_out[3:])\n",
    "    v_tr_remove.append(v_out[k])\n",
    "    \n",
    "# Concatenate the solution:\n",
    "s_buffer = np.concatenate(s_buffer, axis=1).T\n",
    "s_circuit = np.concatenate(s_circuit, axis=1).T\n",
    "s_transit = np.concatenate(s_transit, axis=1).T"
   ]
  },
  {
   "cell_type": "markdown",
   "metadata": {},
   "source": [
    "Clearly the buffer and circuit memory is now growing:"
   ]
  },
  {
   "cell_type": "code",
   "execution_count": 21,
   "metadata": {
    "scrolled": true
   },
   "outputs": [
    {
     "data": {
      "image/png": "[encoded data removed]",
      "text/plain": [
       "<Figure size 432x288 with 1 Axes>"
      ]
     },
     "metadata": {
      "needs_background": "light"
     },
     "output_type": "display_data"
    }
   ],
   "source": [
    "line = plt.step(np.arange(s_buffer.shape[0]),s_buffer)\n",
    "plt.legend(line, ['buffer {}'.format(i) for i in range(n_out)])\n",
    "plt.ylabel('Buffer memory [#packets]')\n",
    "plt.xlabel('timestep')\n",
    "plt.show()"
   ]
  },
  {
   "cell_type": "markdown",
   "metadata": {},
   "source": [
    "But the composition of the outgoing packet streams is unchanged, as expected."
   ]
  },
  {
   "cell_type": "code",
   "execution_count": 22,
   "metadata": {},
   "outputs": [
    {
     "name": "stdout",
     "output_type": "stream",
     "text": [
      "[[0.6, 0.4], [1.0], [0.6, 0.4]]\n",
      "[[0.6, 0.4], [1.0], [0.6, 0.4]]\n",
      "[[0.6, 0.4], [1.0], [0.6, 0.4]]\n",
      "[[0.6, 0.4], [1.0], [0.6, 0.4]]\n",
      "[[0.6, 0.4], [1.0], [0.6, 0.4]]\n",
      "[[0.6, 0.4], [1.0], [0.6, 0.4]]\n",
      "[[0.6, 0.4], [1.0], [0.6, 0.4]]\n",
      "[[0.6, 0.4], [1.0], [0.6, 0.4]]\n",
      "[[0.6, 0.4], [1.0], [0.6, 0.4]]\n",
      "[[0.6, 0.4], [1.0], [0.6, 0.4]]\n",
      "[[0.6, 0.4], [1.0], [0.6, 0.4]]\n",
      "[[0.6, 0.4], [1.0], [0.6, 0.4]]\n",
      "[[0.6, 0.4], [1.0], [0.6, 0.4]]\n",
      "[[0.6, 0.4], [1.0], [0.6, 0.4]]\n",
      "[[0.6, 0.4], [1.0], [0.6, 0.4]]\n",
      "[[0.6, 0.4], [1.0], [0.6, 0.4]]\n",
      "[[0.6, 0.4], [1.0], [0.6, 0.4]]\n",
      "[[0.6, 0.4], [1.0], [0.6, 0.4]]\n",
      "[[0.6, 0.4], [1.0], [0.6, 0.4]]\n",
      "[[0.6, 0.4], [1.0], [0.6, 0.4]]\n"
     ]
    }
   ],
   "source": [
    "for k in range(ots.N_steps):\n",
    "    print([np.round(c_i,1).flatten().tolist() for c_i in cv_out[k]])"
   ]
  },
  {
   "cell_type": "markdown",
   "metadata": {},
   "source": [
    "## Investigate MPC solver:"
   ]
  },
  {
   "cell_type": "markdown",
   "metadata": {},
   "source": [
    "**TODO**:\n",
    " - [ ] Constraints are not copied correctly\n",
    " \n",
    " \n",
    " \n",
    "\n",
    "Knowing that the dynamics are plausible we can now test the MPC solver. But first some insight in the MPC formulation:\n",
    "- Stage cost:\n",
    "\\begin{equation}\n",
    "L(v_{in,max},v_{out})=\n",
    "\\sum_i^{n_{out}}(1-L_{BW,i}^{T})(1-L_{M,i}^{T})\\left(-w_{send}\\frac{v_{out}}{v_{max}}+w_{store}\\frac{s_B}{s_{max}}\\right)\n",
    "+\\sum_i^{n_{in}}(1+L_{BW,i}^{S}L_{M,i}^{S})\\left(-w_{receive}\\frac{v_{in,max}}{v_{max}}\\right)\n",
    "+w_{\\Delta}(||v_{out}^k-v_{out}^{k-1}||_2^2\n",
    "+||v_{in,max}^k-v_{in,max}^{k-1}||_2^2)\n",
    "\\end{equation}\n",
    "\n",
    "\n",
    "- stage constraints:\n",
    "\\begin{gather}\n",
    "\\sum_i^{n_{in}} v_{in,i} + \\sum_i^{n_{out}} v_{out,i} \\leq v_{max}\\\\\n",
    "s_B \\geq 0\\\\\n",
    "0 \\leq v_{out} \\leq v_{out,max}\\\\\n",
    "v_{in,max}\\leq v_{max}\n",
    "\\end{gather}\n",
    "\n",
    "where $w_{send}$, $w_{store}$, $w_{receive}$ and $w_{\\Delta}$ are the parameters in ```setup_dict['weights']``` from above.\n",
    "\n",
    "The values $L_{BW,i}^{T}$, $L_{M,i}^{T}$ are the bandwidth and memory **load** information from the **target** (=T) and **source** (=S) nodes and can take values between 0 and 1. Clearly, it is desired to not reject packets from highly occupied nodes and preferably send to nodes that are under less load.\n",
    "\n",
    "we can now call the solver:"
   ]
  },
  {
   "cell_type": "code",
   "execution_count": 23,
   "metadata": {
    "scrolled": true
   },
   "outputs": [
    {
     "name": "stdout",
     "output_type": "stream",
     "text": [
      "\n",
      "******************************************************************************\n",
      "This program contains Ipopt, a library for large-scale nonlinear optimization.\n",
      " Ipopt is released as open source code under the Eclipse Public License (EPL).\n",
      "         For more information visit http://projects.coin-or.org/Ipopt\n",
      "******************************************************************************\n",
      "\n",
      "This is Ipopt version 3.12.12, running with linear solver ma27.\n",
      "\n",
      "Number of nonzeros in equality constraint Jacobian...:        0\n",
      "Number of nonzeros in inequality constraint Jacobian.:     3400\n",
      "Number of nonzeros in Lagrangian Hessian.............:      180\n",
      "\n",
      "Total number of variables............................:      140\n",
      "                     variables with only lower bounds:        0\n",
      "                variables with lower and upper bounds:        0\n",
      "                     variables with only upper bounds:        0\n",
      "Total number of equality constraints.................:        0\n",
      "Total number of inequality constraints...............:      400\n",
      "        inequality constraints with only lower bounds:        0\n",
      "   inequality constraints with lower and upper bounds:       40\n",
      "        inequality constraints with only upper bounds:      360\n",
      "\n",
      "iter    objective    inf_pr   inf_du lg(mu)  ||d||  lg(rg) alpha_du alpha_pr  ls\n",
      "   0 -9.6800000e+01 1.60e+01 4.11e-01  -1.0 0.00e+00    -  0.00e+00 0.00e+00   0\n",
      "   1 -9.7913021e-01 6.15e+00 8.02e+00  -1.0 8.08e+00    -  9.59e-01 6.12e-01h  1\n",
      "   2 -1.7577342e-01 6.00e+00 1.62e+03  -1.0 2.28e+01    -  9.13e-01 3.05e-02h  1\n",
      "   3 -1.7506443e-01 6.00e+00 1.00e+06  -1.0 8.11e+00    -  6.13e-02 2.81e-03h  1\n",
      "   4 -6.6447456e-02 5.99e+00 4.88e+05  -1.0 2.02e+01    -  1.05e-03 2.21e-03h  1\n",
      "   5  3.5764944e-02 5.98e+00 1.02e+05  -1.0 6.50e+00   4.0 2.99e-03 1.56e-03h  1\n",
      "   6  2.9620375e-01 5.95e+00 2.32e+05  -1.0 6.53e+00   3.5 5.85e-03 3.96e-03h  1\n",
      "   7  6.8666859e-01 5.92e+00 3.89e+06  -1.0 6.51e+00   3.0 1.44e-01 5.96e-03f  1\n",
      "   8  2.0662728e+01 3.81e+00 1.72e+08  -1.0 1.44e+01    -  1.04e-02 3.57e-01f  1\n",
      "   9  2.0745958e+01 3.80e+00 1.72e+08  -1.0 4.16e+00   3.5 1.97e-03 1.98e-03h  1\n",
      "iter    objective    inf_pr   inf_du lg(mu)  ||d||  lg(rg) alpha_du alpha_pr  ls\n",
      "  10  2.0970245e+01 3.78e+00 1.71e+08  -1.0 4.15e+00   3.0 3.60e-02 5.34e-03h  1\n",
      "  11  2.3149598e+01 3.58e+00 1.60e+08  -1.0 4.13e+00   2.5 1.84e-01 5.22e-02h  1\n",
      "  12  2.8547320e+01 3.09e+00 1.52e+08  -1.0 3.92e+00   2.0 4.28e-01 1.36e-01h  1\n",
      "  13  3.9434631e+01 1.93e+00 1.05e+08  -1.0 7.31e+00    -  2.12e-01 3.77e-01h  1\n",
      "  14  5.5707830e+01 8.31e-02 2.99e+07  -1.0 5.40e+00    -  5.03e-01 9.57e-01h  1\n",
      "  15  5.6040662e+01 5.29e-02 6.36e+06  -1.0 9.70e-02   1.6 9.80e-01 3.62e-01f  1\n",
      "  16  5.6649492e+01 0.00e+00 7.54e+04  -1.0 7.85e-02   1.1 9.80e-01 1.00e+00f  1\n",
      "  17  5.6937413e+01 0.00e+00 2.86e+03  -1.0 8.06e-02   0.6 1.00e+00 1.00e+00f  1\n",
      "  18  5.3316999e+01 0.00e+00 3.82e+04  -1.0 5.16e+00    -  6.58e-01 8.05e-01f  1\n",
      "  19  4.9571835e+01 0.00e+00 1.34e+05  -1.0 1.04e+01    -  8.00e-01 3.51e-01f  1\n",
      "iter    objective    inf_pr   inf_du lg(mu)  ||d||  lg(rg) alpha_du alpha_pr  ls\n",
      "  20  4.9955965e+01 0.00e+00 4.85e+03  -1.0 5.71e-01   0.1 1.00e+00 1.00e+00f  1\n",
      "  21  5.0010167e+01 0.00e+00 1.19e+02  -1.0 1.46e-01  -0.3 1.00e+00 1.00e+00f  1\n",
      "  22  4.8335263e+01 0.00e+00 4.11e+05  -2.5 2.61e-01  -0.8 5.71e-01 1.00e+00f  1\n",
      "  23  4.5624234e+01 0.00e+00 2.75e+05  -2.5 8.42e+00    -  3.31e-01 3.28e-01f  1\n",
      "  24  4.3530007e+01 0.00e+00 2.21e+05  -2.5 1.52e+01    -  1.96e-01 1.94e-01f  1\n",
      "  25  4.2207405e+01 0.00e+00 1.78e+05  -2.5 1.55e+01    -  1.97e-01 1.84e-01f  1\n",
      "  26  4.1469012e+01 0.00e+00 1.34e+05  -2.5 1.34e+01    -  2.45e-01 1.95e-01f  1\n",
      "  27  4.1061702e+01 0.00e+00 7.79e+04  -2.5 1.14e+01    -  4.24e-01 2.46e-01f  1\n",
      "  28  4.0870303e+01 0.00e+00 4.23e+02  -2.5 2.45e-01    -  1.00e+00 1.00e+00f  1\n",
      "  29  4.0834868e+01 0.00e+00 9.85e+02  -2.5 4.12e-01    -  5.87e-01 8.90e-01F  1\n",
      "iter    objective    inf_pr   inf_du lg(mu)  ||d||  lg(rg) alpha_du alpha_pr  ls\n",
      "  30  4.0833013e+01 4.80e-05 2.20e+02  -2.5 3.78e-02    -  1.00e+00 1.00e+00f  1\n",
      "  31  4.0835337e+01 2.78e-05 5.78e+02  -2.5 1.92e-02   2.3 3.95e-01 3.30e-01f  2\n",
      "  32  4.0838469e+01 0.00e+00 1.87e+02  -2.5 1.09e-02   1.8 8.32e-01 8.07e-01h  1\n",
      "  33  4.0836109e+01 0.00e+00 1.45e+01  -2.5 4.70e-03   1.4 1.00e+00 1.00e+00f  1\n",
      "  34  4.0832492e+01 0.00e+00 1.27e+01  -2.5 7.09e-03   0.9 1.00e+00 1.00e+00f  1\n",
      "  35  4.0832840e+01 0.00e+00 4.50e-02  -2.5 8.08e-04   0.4 1.00e+00 1.00e+00f  1\n",
      "  36  4.0831200e+01 0.00e+00 1.73e+00  -3.8 1.20e+00    -  8.86e-03 8.93e-03f  1\n",
      "  37  4.0815515e+01 0.00e+00 1.82e+02  -3.8 9.99e-01    -  8.30e-02 9.00e-02f  1\n",
      "  38  4.0794169e+01 0.00e+00 9.88e+02  -3.8 4.22e-01    -  1.47e-01 1.83e-01f  1\n",
      "  39  4.0793252e+01 0.00e+00 1.37e+04  -3.8 1.05e-03   3.5 3.15e-01 1.00e+00f  1\n",
      "iter    objective    inf_pr   inf_du lg(mu)  ||d||  lg(rg) alpha_du alpha_pr  ls\n",
      "  40  4.0791936e+01 5.95e-06 1.29e+04  -3.8 2.82e-03   3.1 5.92e-02 1.00e+00f  1\n",
      "  41  4.0791594e+01 1.19e-06 5.26e+01  -3.8 1.37e-03   3.5 1.00e+00 9.63e-01h  1\n",
      "  42  4.0789806e+01 0.00e+00 1.84e+00  -3.8 6.48e-04   3.0 1.00e+00 1.00e+00f  1\n",
      "  43  4.0784213e+01 0.00e+00 2.23e-01  -3.8 6.52e-04   2.5 1.00e+00 1.00e+00f  1\n",
      "  44  4.0767762e+01 0.00e+00 2.39e-01  -3.8 2.10e-03   2.1 1.00e+00 1.00e+00f  1\n",
      "  45  4.0764190e+01 0.00e+00 3.89e+00  -3.8 1.01e-02   1.6 9.58e-02 8.95e-02f  1\n",
      "  46  4.0753864e+01 0.00e+00 4.54e+01  -3.8 2.37e-03   2.0 9.16e-01 7.37e-01f  1\n",
      "  47  4.0751387e+01 0.00e+00 2.40e-01  -3.8 6.62e-04   2.4 1.00e+00 1.00e+00f  1\n",
      "  48  4.0747772e+01 0.00e+00 5.10e-02  -3.8 5.66e-04   2.0 1.00e+00 1.00e+00f  1\n",
      "  49  4.0746504e+01 0.00e+00 5.77e-02  -3.8 1.92e-03   1.5 1.00e+00 1.00e+00f  1\n",
      "iter    objective    inf_pr   inf_du lg(mu)  ||d||  lg(rg) alpha_du alpha_pr  ls\n",
      "  50  4.0713892e+01 0.00e+00 2.74e+00  -3.8 3.52e-01    -  2.16e-01 8.59e-02f  1\n",
      "  51  4.0714347e+01 0.00e+00 4.67e-02  -3.8 4.66e-03   1.0 1.00e+00 1.00e+00f  1\n",
      "  52  4.0714324e+01 0.00e+00 1.18e-02  -3.8 1.49e-03   0.5 1.00e+00 1.00e+00f  1\n",
      "  53  4.0714003e+01 0.00e+00 1.46e-02  -3.8 1.93e-03   0.0 1.00e+00 1.00e+00H  1\n",
      "  54  4.0713986e+01 0.00e+00 1.10e-02  -3.8 4.19e-04   0.5 1.00e+00 1.00e+00H  1\n",
      "  55  4.0713930e+01 0.00e+00 1.82e-02  -3.8 8.14e-04  -0.0 1.00e+00 1.00e+00H  1\n",
      "  56  4.0713910e+01 0.00e+00 1.71e-02  -3.8 5.84e-04   0.4 1.00e+00 1.00e+00H  1\n",
      "  57  4.0713849e+01 0.00e+00 2.28e-02  -3.8 9.01e-04  -0.1 1.00e+00 1.00e+00H  1\n",
      "  58  4.0713825e+01 0.00e+00 2.45e-02  -3.8 7.67e-04   0.4 1.00e+00 1.00e+00H  1\n",
      "  59  4.0713760e+01 0.00e+00 2.87e-02  -3.8 1.10e-03  -0.1 1.00e+00 1.00e+00H  1\n",
      "iter    objective    inf_pr   inf_du lg(mu)  ||d||  lg(rg) alpha_du alpha_pr  ls\n",
      "  60  4.0713758e+01 0.00e+00 8.44e+01  -3.8 2.32e-03   0.3 1.00e+00 8.66e-02h  4\n",
      "  61  4.0713755e+01 0.00e+00 9.20e+01  -3.8 6.68e-03  -0.2 3.10e-01 3.81e-02h  4\n",
      "  62  4.0713754e+01 0.00e+00 5.64e-03  -3.8 1.14e-04   1.2 1.00e+00 1.00e+00h  1\n",
      "  63  4.0713742e+01 0.00e+00 9.73e-04  -3.8 1.97e-04   0.7 1.00e+00 1.00e+00h  1\n",
      "  64  4.0707929e+01 0.00e+00 2.54e+02  -5.7 2.34e-03   0.2 8.22e-01 1.00e+00f  1\n",
      "  65  4.0706240e+01 0.00e+00 1.18e+02  -5.7 2.80e-01    -  5.35e-01 1.00e+00f  1\n",
      "  66  4.0706175e+01 0.00e+00 3.04e+01  -5.7 1.71e-03  -0.3 7.43e-01 1.00e+00h  1\n",
      "  67  4.0706004e+01 0.00e+00 1.17e+01  -5.7 5.31e-03  -0.7 6.16e-01 7.40e-01h  1\n",
      "  68  4.0705981e+01 0.00e+00 1.14e+01  -5.7 6.49e-02  -1.2 2.23e-02 2.53e-02f  1\n",
      "  69  4.0705738e+01 0.00e+00 1.01e+01  -5.7 5.37e-02  -1.7 1.10e-01 1.13e-01f  1\n",
      "iter    objective    inf_pr   inf_du lg(mu)  ||d||  lg(rg) alpha_du alpha_pr  ls\n",
      "  70  4.0705319e+01 0.00e+00 9.50e+00  -5.7 1.45e-01  -2.2 6.26e-02 7.29e-02f  1\n",
      "  71  4.0704550e+01 0.00e+00 9.41e+00  -5.7 1.93e+00    -  1.01e-02 1.02e-02f  1\n",
      "  72  4.0703370e+01 0.00e+00 9.25e+00  -5.7 1.75e+00    -  1.68e-02 1.76e-02f  1\n",
      "  73  4.0699915e+01 0.00e+00 8.75e+00  -5.7 1.71e+00    -  5.36e-02 5.44e-02f  1\n",
      "  74  4.0699889e+01 0.00e+00 8.67e+00  -5.7 2.55e-01  -1.7 9.00e-03 9.73e-03f  1\n",
      "  75  4.0699754e+01 0.00e+00 7.29e+00  -5.7 2.20e-02  -1.3 1.60e-01 1.68e-01f  1\n",
      "  76  4.0698860e+01 0.00e+00 7.19e+00  -5.7 1.76e+00    -  1.26e-02 1.41e-02f  1\n",
      "  77  4.0697155e+01 0.00e+00 6.99e+00  -5.7 1.78e+00    -  2.81e-02 2.70e-02f  1\n",
      "  78  4.0692029e+01 0.00e+00 6.42e+00  -5.7 1.74e+00    -  7.82e-02 8.85e-02f  1\n",
      "  79  4.0675559e+01 0.00e+00 4.18e+00  -5.7 1.58e+00    -  3.08e-01 4.11e-01f  1\n",
      "iter    objective    inf_pr   inf_du lg(mu)  ||d||  lg(rg) alpha_du alpha_pr  ls\n",
      "  80  4.0670816e+01 0.00e+00 1.35e+00  -5.7 9.23e-01    -  8.31e-01 3.26e-01f  1\n",
      "  81  4.0668152e+01 0.00e+00 1.88e-01  -5.7 4.57e-01    -  1.00e+00 1.00e+00f  1\n",
      "  82  4.0667823e+01 0.00e+00 7.92e-03  -5.7 4.99e-02    -  1.00e+00 1.00e+00h  1\n",
      "  83  4.0667774e+01 0.00e+00 9.52e-05  -5.7 1.63e-02    -  1.00e+00 1.00e+00h  1\n",
      "  84  4.0667767e+01 0.00e+00 4.94e-07  -5.7 6.78e-03    -  1.00e+00 1.00e+00h  1\n",
      "  85  4.0667689e+01 0.00e+00 2.56e+00  -8.6 1.55e-02    -  9.88e-01 8.62e-01f  1\n",
      "  86  4.0667675e+01 0.00e+00 2.72e-03  -8.6 1.01e-02    -  1.00e+00 1.00e+00f  1\n",
      "  87  4.0667674e+01 0.00e+00 6.17e-06  -8.6 4.52e-03    -  1.00e+00 1.00e+00h  1\n",
      "  88  4.0667674e+01 0.00e+00 2.81e-08  -8.6 2.18e-03    -  1.00e+00 1.00e+00h  1\n",
      "  89  4.0667674e+01 0.00e+00 1.07e-10  -8.6 9.42e-04    -  1.00e+00 1.00e+00h  1\n",
      "\n",
      "Number of Iterations....: 89\n",
      "\n",
      "                                   (scaled)                 (unscaled)\n",
      "Objective...............:   4.0667673732921145e+01    4.0667673732921145e+01\n",
      "Dual infeasibility......:   1.0717710052787766e-10    1.0717710052787766e-10\n",
      "Constraint violation....:   0.0000000000000000e+00    0.0000000000000000e+00\n",
      "Complementarity.........:   3.9168590159446427e-09    3.9168590159446427e-09\n",
      "Overall NLP error.......:   3.9168590159446427e-09    3.9168590159446427e-09\n",
      "\n",
      "\n",
      "Number of objective function evaluations             = 108\n",
      "Number of objective gradient evaluations             = 90\n",
      "Number of equality constraint evaluations            = 0\n",
      "Number of inequality constraint evaluations          = 108\n",
      "Number of equality constraint Jacobian evaluations   = 0\n",
      "Number of inequality constraint Jacobian evaluations = 90\n",
      "Number of Lagrangian Hessian evaluations             = 89\n",
      "Total CPU secs in IPOPT (w/o function evaluations)   =      0.131\n",
      "Total CPU secs in NLP function evaluations           =      0.008\n",
      "\n",
      "EXIT: Optimal Solution Found.\n",
      "               t_proc [s]   t_wall [s]    n_eval\n",
      "       nlp_f     0.000955     0.000868       108\n",
      "       nlp_g      0.00162      0.00138       108\n",
      "    nlp_grad      3.3e-05      3.3e-05         1\n",
      "  nlp_grad_f      0.00105     0.000902        91\n",
      "  nlp_hess_l     0.000393     0.000338        89\n",
      "   nlp_jac_g      0.00297      0.00245        91\n",
      "       optim        0.173        0.138         1\n",
      "> /home/ffiedler/Documents/git_repos/toropti_scheduler/OTS/optimal_traffic_scheduler.py(385)solve()\n",
      "-> v_in = [v_in_req_i - v_in_discard_i for v_in_req_i, v_in_discard_i in zip(v_in_req, v_in_discard)]\n"
     ]
    },
    {
     "name": "stdout",
     "output_type": "stream",
     "text": [
      "(Pdb) v_in_discard\n",
      "[array([[6.92354567e+00],\n",
      "       [6.28070717e-07]]), array([[6.92378568e+00],\n",
      "       [6.27907028e-07]]), array([[6.92392355e+00],\n",
      "       [6.27813007e-07]]), array([[6.92402644e+00],\n",
      "       [6.27742844e-07]]), array([[6.92411175e+00],\n",
      "       [6.27684668e-07]]), array([[6.92418671e+00],\n",
      "       [6.27633549e-07]]), array([[6.92425511e+00],\n",
      "       [6.27586906e-07]]), array([[6.92431925e+00],\n",
      "       [6.27543171e-07]]), array([[6.92438070e+00],\n",
      "       [6.27501269e-07]]), array([[6.92444066e+00],\n",
      "       [6.27460385e-07]]), array([[6.92450014e+00],\n",
      "       [6.27419828e-07]]), array([[6.92456010e+00],\n",
      "       [6.27378944e-07]]), array([[6.92462155e+00],\n",
      "       [6.27337044e-07]]), array([[6.92468570e+00],\n",
      "       [6.27293307e-07]]), array([[6.92475412e+00],\n",
      "       [6.27246658e-07]]), array([[6.92482913e+00],\n",
      "       [6.27195518e-07]]), array([[6.92491454e+00],\n",
      "       [6.27137289e-07]]), array([[6.92501762e+00],\n",
      "       [6.27067021e-07]]), array([[6.92515562e+00],\n",
      "       [6.26972958e-07]]), array([[6.92539156e+00],\n",
      "       [6.26812169e-07]])]\n",
      "(Pdb) v_in_extra\n",
      "[array([[8.06320414e-08],\n",
      "       [9.23546227e-01]]), array([[8.06301639e-08],\n",
      "       [9.23786236e-01]]), array([[8.06290854e-08],\n",
      "       [9.23924105e-01]]), array([[8.06282806e-08],\n",
      "       [9.24026992e-01]]), array([[8.06276133e-08],\n",
      "       [9.24112302e-01]]), array([[8.06270269e-08],\n",
      "       [9.24187264e-01]]), array([[8.06264919e-08],\n",
      "       [9.24255664e-01]]), array([[8.06259902e-08],\n",
      "       [9.24319801e-01]]), array([[8.06255096e-08],\n",
      "       [9.24381251e-01]]), array([[8.06250406e-08],\n",
      "       [9.24441208e-01]]), array([[8.06245753e-08],\n",
      "       [9.24500688e-01]]), array([[8.06241063e-08],\n",
      "       [9.24560647e-01]]), array([[8.06236256e-08],\n",
      "       [9.24622100e-01]]), array([[8.06231239e-08],\n",
      "       [9.24686247e-01]]), array([[8.06225887e-08],\n",
      "       [9.24754669e-01]]), array([[8.0622002e-08],\n",
      "       [9.2482968e-01]]), array([[8.06213339e-08],\n",
      "       [9.24915094e-01]]), array([[8.06205276e-08],\n",
      "       [9.25018174e-01]]), array([[8.06194483e-08],\n",
      "       [9.25156174e-01]]), array([[8.06176029e-08],\n",
      "       [9.25392111e-01]])]\n",
      "(Pdb) quit\n"
     ]
    },
    {
     "ename": "BdbQuit",
     "evalue": "",
     "output_type": "error",
     "traceback": [
      "\u001b[0;31m---------------------------------------------------------------------------\u001b[0m",
      "\u001b[0;31mBdbQuit\u001b[0m                                   Traceback (most recent call last)",
      "\u001b[0;32m<ipython-input-23-11e3fe06c41e>\u001b[0m in \u001b[0;36m<module>\u001b[0;34m\u001b[0m\n\u001b[0;32m----> 1\u001b[0;31m \u001b[0mots\u001b[0m\u001b[0;34m.\u001b[0m\u001b[0msolve\u001b[0m\u001b[0;34m(\u001b[0m\u001b[0ms_buffer_0\u001b[0m\u001b[0;34m,\u001b[0m \u001b[0ms_circuit_0\u001b[0m\u001b[0;34m,\u001b[0m \u001b[0ms_transit_0\u001b[0m\u001b[0;34m,\u001b[0m \u001b[0mv_in_req\u001b[0m\u001b[0;34m,\u001b[0m \u001b[0mcv_in\u001b[0m\u001b[0;34m,\u001b[0m \u001b[0mv_out_max\u001b[0m\u001b[0;34m,\u001b[0m \u001b[0mbandwidth_load_target\u001b[0m\u001b[0;34m,\u001b[0m \u001b[0mmemory_load_target\u001b[0m\u001b[0;34m,\u001b[0m \u001b[0mbandwidth_load_source\u001b[0m\u001b[0;34m,\u001b[0m \u001b[0mmemory_load_source\u001b[0m\u001b[0;34m,\u001b[0m \u001b[0moutput_delay\u001b[0m\u001b[0;34m)\u001b[0m\u001b[0;34m\u001b[0m\u001b[0;34m\u001b[0m\u001b[0m\n\u001b[0m",
      "\u001b[0;32m~/Documents/git_repos/toropti_scheduler/OTS/optimal_traffic_scheduler.py\u001b[0m in \u001b[0;36msolve\u001b[0;34m(self, s_buffer_0, s_circuit_0, s_transit_0, v_in_req, cv_in, v_out_max, bandwidth_load_target, memory_load_target, bandwidth_load_source, memory_load_source, output_delay)\u001b[0m\n\u001b[1;32m    383\u001b[0m         \u001b[0mcv_out\u001b[0m \u001b[0;34m=\u001b[0m \u001b[0mself\u001b[0m\u001b[0;34m.\u001b[0m\u001b[0msplit_list\u001b[0m\u001b[0;34m(\u001b[0m\u001b[0mcv_out\u001b[0m\u001b[0;34m,\u001b[0m \u001b[0mself\u001b[0m\u001b[0;34m.\u001b[0m\u001b[0mn_out\u001b[0m\u001b[0;34m)\u001b[0m\u001b[0;34m\u001b[0m\u001b[0;34m\u001b[0m\u001b[0m\n\u001b[1;32m    384\u001b[0m         \u001b[0mpdb\u001b[0m\u001b[0;34m.\u001b[0m\u001b[0mset_trace\u001b[0m\u001b[0;34m(\u001b[0m\u001b[0;34m)\u001b[0m\u001b[0;34m\u001b[0m\u001b[0;34m\u001b[0m\u001b[0m\n\u001b[0;32m--> 385\u001b[0;31m         \u001b[0mv_in\u001b[0m \u001b[0;34m=\u001b[0m \u001b[0;34m[\u001b[0m\u001b[0mv_in_req_i\u001b[0m \u001b[0;34m-\u001b[0m \u001b[0mv_in_discard_i\u001b[0m \u001b[0;32mfor\u001b[0m \u001b[0mv_in_req_i\u001b[0m\u001b[0;34m,\u001b[0m \u001b[0mv_in_discard_i\u001b[0m \u001b[0;32min\u001b[0m \u001b[0mzip\u001b[0m\u001b[0;34m(\u001b[0m\u001b[0mv_in_req\u001b[0m\u001b[0;34m,\u001b[0m \u001b[0mv_in_discard\u001b[0m\u001b[0;34m)\u001b[0m\u001b[0;34m]\u001b[0m\u001b[0;34m\u001b[0m\u001b[0;34m\u001b[0m\u001b[0m\n\u001b[0m\u001b[1;32m    386\u001b[0m \u001b[0;34m\u001b[0m\u001b[0m\n\u001b[1;32m    387\u001b[0m         \u001b[0;31m# Calculate trajectory for bandwidth and memory:\u001b[0m\u001b[0;34m\u001b[0m\u001b[0;34m\u001b[0m\u001b[0;34m\u001b[0m\u001b[0m\n",
      "\u001b[0;32m~/Documents/git_repos/toropti_scheduler/OTS/optimal_traffic_scheduler.py\u001b[0m in \u001b[0;36msolve\u001b[0;34m(self, s_buffer_0, s_circuit_0, s_transit_0, v_in_req, cv_in, v_out_max, bandwidth_load_target, memory_load_target, bandwidth_load_source, memory_load_source, output_delay)\u001b[0m\n\u001b[1;32m    383\u001b[0m         \u001b[0mcv_out\u001b[0m \u001b[0;34m=\u001b[0m \u001b[0mself\u001b[0m\u001b[0;34m.\u001b[0m\u001b[0msplit_list\u001b[0m\u001b[0;34m(\u001b[0m\u001b[0mcv_out\u001b[0m\u001b[0;34m,\u001b[0m \u001b[0mself\u001b[0m\u001b[0;34m.\u001b[0m\u001b[0mn_out\u001b[0m\u001b[0;34m)\u001b[0m\u001b[0;34m\u001b[0m\u001b[0;34m\u001b[0m\u001b[0m\n\u001b[1;32m    384\u001b[0m         \u001b[0mpdb\u001b[0m\u001b[0;34m.\u001b[0m\u001b[0mset_trace\u001b[0m\u001b[0;34m(\u001b[0m\u001b[0;34m)\u001b[0m\u001b[0;34m\u001b[0m\u001b[0;34m\u001b[0m\u001b[0m\n\u001b[0;32m--> 385\u001b[0;31m         \u001b[0mv_in\u001b[0m \u001b[0;34m=\u001b[0m \u001b[0;34m[\u001b[0m\u001b[0mv_in_req_i\u001b[0m \u001b[0;34m-\u001b[0m \u001b[0mv_in_discard_i\u001b[0m \u001b[0;32mfor\u001b[0m \u001b[0mv_in_req_i\u001b[0m\u001b[0;34m,\u001b[0m \u001b[0mv_in_discard_i\u001b[0m \u001b[0;32min\u001b[0m \u001b[0mzip\u001b[0m\u001b[0;34m(\u001b[0m\u001b[0mv_in_req\u001b[0m\u001b[0;34m,\u001b[0m \u001b[0mv_in_discard\u001b[0m\u001b[0;34m)\u001b[0m\u001b[0;34m]\u001b[0m\u001b[0;34m\u001b[0m\u001b[0;34m\u001b[0m\u001b[0m\n\u001b[0m\u001b[1;32m    386\u001b[0m \u001b[0;34m\u001b[0m\u001b[0m\n\u001b[1;32m    387\u001b[0m         \u001b[0;31m# Calculate trajectory for bandwidth and memory:\u001b[0m\u001b[0;34m\u001b[0m\u001b[0;34m\u001b[0m\u001b[0;34m\u001b[0m\u001b[0m\n",
      "\u001b[0;32m~/miniconda3/envs/py36_64bit_new/lib/python3.6/bdb.py\u001b[0m in \u001b[0;36mtrace_dispatch\u001b[0;34m(self, frame, event, arg)\u001b[0m\n\u001b[1;32m     49\u001b[0m             \u001b[0;32mreturn\u001b[0m \u001b[0;31m# None\u001b[0m\u001b[0;34m\u001b[0m\u001b[0;34m\u001b[0m\u001b[0m\n\u001b[1;32m     50\u001b[0m         \u001b[0;32mif\u001b[0m \u001b[0mevent\u001b[0m \u001b[0;34m==\u001b[0m \u001b[0;34m'line'\u001b[0m\u001b[0;34m:\u001b[0m\u001b[0;34m\u001b[0m\u001b[0;34m\u001b[0m\u001b[0m\n\u001b[0;32m---> 51\u001b[0;31m             \u001b[0;32mreturn\u001b[0m \u001b[0mself\u001b[0m\u001b[0;34m.\u001b[0m\u001b[0mdispatch_line\u001b[0m\u001b[0;34m(\u001b[0m\u001b[0mframe\u001b[0m\u001b[0;34m)\u001b[0m\u001b[0;34m\u001b[0m\u001b[0;34m\u001b[0m\u001b[0m\n\u001b[0m\u001b[1;32m     52\u001b[0m         \u001b[0;32mif\u001b[0m \u001b[0mevent\u001b[0m \u001b[0;34m==\u001b[0m \u001b[0;34m'call'\u001b[0m\u001b[0;34m:\u001b[0m\u001b[0;34m\u001b[0m\u001b[0;34m\u001b[0m\u001b[0m\n\u001b[1;32m     53\u001b[0m             \u001b[0;32mreturn\u001b[0m \u001b[0mself\u001b[0m\u001b[0;34m.\u001b[0m\u001b[0mdispatch_call\u001b[0m\u001b[0;34m(\u001b[0m\u001b[0mframe\u001b[0m\u001b[0;34m,\u001b[0m \u001b[0marg\u001b[0m\u001b[0;34m)\u001b[0m\u001b[0;34m\u001b[0m\u001b[0;34m\u001b[0m\u001b[0m\n",
      "\u001b[0;32m~/miniconda3/envs/py36_64bit_new/lib/python3.6/bdb.py\u001b[0m in \u001b[0;36mdispatch_line\u001b[0;34m(self, frame)\u001b[0m\n\u001b[1;32m     68\u001b[0m         \u001b[0;32mif\u001b[0m \u001b[0mself\u001b[0m\u001b[0;34m.\u001b[0m\u001b[0mstop_here\u001b[0m\u001b[0;34m(\u001b[0m\u001b[0mframe\u001b[0m\u001b[0;34m)\u001b[0m \u001b[0;32mor\u001b[0m \u001b[0mself\u001b[0m\u001b[0;34m.\u001b[0m\u001b[0mbreak_here\u001b[0m\u001b[0;34m(\u001b[0m\u001b[0mframe\u001b[0m\u001b[0;34m)\u001b[0m\u001b[0;34m:\u001b[0m\u001b[0;34m\u001b[0m\u001b[0;34m\u001b[0m\u001b[0m\n\u001b[1;32m     69\u001b[0m             \u001b[0mself\u001b[0m\u001b[0;34m.\u001b[0m\u001b[0muser_line\u001b[0m\u001b[0;34m(\u001b[0m\u001b[0mframe\u001b[0m\u001b[0;34m)\u001b[0m\u001b[0;34m\u001b[0m\u001b[0;34m\u001b[0m\u001b[0m\n\u001b[0;32m---> 70\u001b[0;31m             \u001b[0;32mif\u001b[0m \u001b[0mself\u001b[0m\u001b[0;34m.\u001b[0m\u001b[0mquitting\u001b[0m\u001b[0;34m:\u001b[0m \u001b[0;32mraise\u001b[0m \u001b[0mBdbQuit\u001b[0m\u001b[0;34m\u001b[0m\u001b[0;34m\u001b[0m\u001b[0m\n\u001b[0m\u001b[1;32m     71\u001b[0m         \u001b[0;32mreturn\u001b[0m \u001b[0mself\u001b[0m\u001b[0;34m.\u001b[0m\u001b[0mtrace_dispatch\u001b[0m\u001b[0;34m\u001b[0m\u001b[0;34m\u001b[0m\u001b[0m\n\u001b[1;32m     72\u001b[0m \u001b[0;34m\u001b[0m\u001b[0m\n",
      "\u001b[0;31mBdbQuit\u001b[0m: "
     ]
    }
   ],
   "source": [
    "ots.solve(s_buffer_0, s_circuit_0, s_transit_0, v_in_req, cv_in, v_out_max, bandwidth_load_target, memory_load_target, bandwidth_load_source, memory_load_source, output_delay)"
   ]
  },
  {
   "cell_type": "markdown",
   "metadata": {},
   "source": [
    "The results of the optimization problem are stored in ```ots.predict```, which is a list of dicts with the keywords from above. We are interested in the last item [-1] of that list."
   ]
  },
  {
   "cell_type": "code",
   "execution_count": null,
   "metadata": {},
   "outputs": [],
   "source": [
    "sol=ots.predict[-1]\n",
    "\n",
    "v_in_req = np.concatenate(sol['v_in_req'],axis=1).T\n",
    "v_in = np.concatenate(sol['v_in'],axis=1).T\n",
    "v_in_max = np.concatenate(sol['v_in_max'],axis=1).T\n",
    "s_b = np.concatenate(sol['s_buffer'],axis=1).T\n",
    "v_out = np.concatenate(sol['v_out'],axis=1).T"
   ]
  },
  {
   "cell_type": "code",
   "execution_count": null,
   "metadata": {
    "scrolled": false
   },
   "outputs": [],
   "source": [
    "fig, ax = plt.subplots(1,3, figsize=[15,4], sharex = True)\n",
    "t_ = np.arange(ots.N_steps)\n",
    "v_in_lines=ax[0].step(t_,v_in)\n",
    "ax[0].set_prop_cycle(None)\n",
    "v_in_req_lines=ax[0].step(t_,v_in_req, linestyle='--')\n",
    "ax[0].legend(v_in_lines+v_in_req_lines, ['v_in{0}_{1}'.format(a,i) for a,i in zip(['']*ots.n_in+['_req']*ots.n_in, 2*np.arange(ots.n_in).tolist())])\n",
    "ax[0].set_xlabel('time')\n",
    "ax[0].set_ylabel('incoming packets per second')\n",
    "\n",
    "lines=ax[1].step(t_,s_b)\n",
    "ax[1].legend(lines,['s_{0}'.format(i) for i in range(ots.n_out)])\n",
    "ax[1].set_xlabel('time')\n",
    "ax[1].set_ylabel('packets in output buffer')\n",
    "\n",
    "lines=ax[2].step(t_,v_out)\n",
    "ax[2].legend(lines,['v_out_{0}'.format(i) for i in range(ots.n_out)])\n",
    "ax[2].set_xlabel('time')\n",
    "ax[2].set_ylabel('outgoing packets per second')\n",
    "\n",
    "plt.tight_layout()\n",
    "plt.show()"
   ]
  },
  {
   "cell_type": "markdown",
   "metadata": {},
   "source": [
    "We can see that the MPC solution requires to reject some packages and to build up a moderate buffer memory. If we look at the total sending rate:"
   ]
  },
  {
   "cell_type": "code",
   "execution_count": null,
   "metadata": {},
   "outputs": [],
   "source": [
    "np.sum(v_out,axis=1)"
   ]
  },
  {
   "cell_type": "markdown",
   "metadata": {},
   "source": [
    "We see that at the boundry of ```v_out_max_total = 20```."
   ]
  },
  {
   "cell_type": "markdown",
   "metadata": {},
   "source": [
    "An similarly for the total receiving rate:"
   ]
  },
  {
   "cell_type": "code",
   "execution_count": null,
   "metadata": {},
   "outputs": [],
   "source": [
    "np.sum(v_in,axis=1)"
   ]
  }
 ],
 "metadata": {
  "kernelspec": {
   "display_name": "Python 3.6, 64bit",
   "language": "python",
   "name": "py36_64bit"
  },
  "language_info": {
   "codemirror_mode": {
    "name": "ipython",
    "version": 3
   },
   "file_extension": ".py",
   "mimetype": "text/x-python",
   "name": "python",
   "nbconvert_exporter": "python",
   "pygments_lexer": "ipython3",
   "version": "3.6.8"
  }
 },
 "nbformat": 4,
 "nbformat_minor": 2
}
