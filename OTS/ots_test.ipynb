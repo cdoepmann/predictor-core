{
 "cells": [
  {
   "cell_type": "markdown",
   "metadata": {},
   "source": [
    "# Testing and illustrating the Toropti\n",
    "The optimal_traffic_scheduler (**OTS**) class."
   ]
  },
  {
   "cell_type": "code",
   "execution_count": 1,
   "metadata": {},
   "outputs": [],
   "source": [
    "import numpy as np\n",
    "import matplotlib.pyplot as plt\n",
    "from optimal_traffic_scheduler import optimal_traffic_scheduler\n",
    "import pdb\n",
    "%matplotlib notebook"
   ]
  },
  {
   "cell_type": "markdown",
   "metadata": {},
   "source": [
    "We create a simple scenario to illustrate and investigate the mechanics of the **OTS** class. For this purpose we start by creating a setup_dict for our optimizer that carries the same (and some additional) information as the server nodes in **NS-F**:"
   ]
  },
  {
   "cell_type": "code",
   "execution_count": 2,
   "metadata": {},
   "outputs": [],
   "source": [
    "setup_dict = {}\n",
    "setup_dict['v_max'] = 20  # packets / s\n",
    "setup_dict['s_max'] = 30  # packets\n",
    "setup_dict['dt'] = 1  # s\n",
    "setup_dict['N_steps'] = 20\n",
    "setup_dict['v_delta_penalty'] = 2"
   ]
  },
  {
   "cell_type": "markdown",
   "metadata": {},
   "source": [
    "- **v_max**: is the maximum number of packets that can be processed per second. Processing means the sum of all incoming and outgoing packets. As these incoming and outgoing packets share the same band they are collectively limited.\n",
    "- **s_max**: is the maximum number of packets in the server. The NS-F server nodes rejects packets (they are lost) if this value is to be exceeded otherwise.\n",
    "- **dt**: Timestep of the **OTS** object. Note that this should be at least an order of magnitude greater than the **NS-F** server timestep.\n",
    "- **N_steps**: Prediction horizon for the MPC problem.\n",
    "- **v_delta_penalty**: This term penalizes high changes (with regard to the L2-Norm) in the controlled variables and is important to ensure stability of the distributed system.\n",
    "\n",
    "We can now create the object:"
   ]
  },
  {
   "cell_type": "code",
   "execution_count": 3,
   "metadata": {},
   "outputs": [],
   "source": [
    "ots = optimal_traffic_scheduler(setup_dict)"
   ]
  },
  {
   "cell_type": "markdown",
   "metadata": {},
   "source": [
    "We look into **OTS** with a concrete example. Lets assume that we have two inputs and three outputs for the node and that a total of five circuits are beeing processed. This can simply be expressed as follow:"
   ]
  },
  {
   "cell_type": "code",
   "execution_count": 4,
   "metadata": {},
   "outputs": [],
   "source": [
    "circuits_in = [[0, 1, 2], [3, 4]]\n",
    "circuits_out = [[1, 3], [0], [2, 4]]"
   ]
  },
  {
   "cell_type": "markdown",
   "metadata": {},
   "source": [
    "Normally, this information would be automatically retrieved from the network structure, along with additional values. For this example we do some manual calculations to configure the node:"
   ]
  },
  {
   "cell_type": "code",
   "execution_count": 5,
   "metadata": {},
   "outputs": [
    {
     "name": "stdout",
     "output_type": "stream",
     "text": [
      "The 2 incoming connections carry [3, 2] circuits and the 3 outgoing connections have [2, 1, 2] circuits.\n",
      "Clearly, sum(n_circuits_in) = 5, is the same as sum(n_circuits_out) = 5\n"
     ]
    }
   ],
   "source": [
    "n_in = len(circuits_in)\n",
    "n_out = len(circuits_out)\n",
    "n_circuit_in = [len(c_i) for c_i in circuits_in]\n",
    "n_circuit_out = [len(c_i) for c_i in circuits_out]\n",
    "print('The {0} incoming connections carry {1} circuits \\\n",
    "and the {2} outgoing connections have {3} circuits.'.format(n_in,n_circuit_in,n_out,n_circuit_out))\n",
    "print('Clearly, sum(n_circuits_in) = {0}, is the same as sum(n_circuits_out) = {1}'.format(np.sum(n_circuit_in),np.sum(n_circuit_out)))"
   ]
  },
  {
   "cell_type": "markdown",
   "metadata": {},
   "source": [
    "We can now sestup the **OTS** object:"
   ]
  },
  {
   "cell_type": "code",
   "execution_count": 6,
   "metadata": {},
   "outputs": [],
   "source": [
    "ots.setup(n_in, n_out, n_circuit_in, n_circuit_out)"
   ]
  },
  {
   "cell_type": "markdown",
   "metadata": {},
   "source": [
    "Two very important matrices are calculated with staticmethods from the **OTS** object:"
   ]
  },
  {
   "cell_type": "code",
   "execution_count": 7,
   "metadata": {},
   "outputs": [],
   "source": [
    "Pb = ots.Pb_fun(circuits_in, circuits_out)\n",
    "Pc = ots.Pc_fun(circuits_in, circuits_out)"
   ]
  },
  {
   "cell_type": "markdown",
   "metadata": {},
   "source": [
    "Pb is an assignment matrix that determines, which element of each input is assigned to which output buffer. What this means becomes clear when we display it for the example circuit constellation:"
   ]
  },
  {
   "cell_type": "code",
   "execution_count": 8,
   "metadata": {},
   "outputs": [
    {
     "data": {
      "text/plain": [
       "array([[0., 1., 0., 1., 0.],\n",
       "       [1., 0., 0., 0., 0.],\n",
       "       [0., 0., 1., 0., 1.]])"
      ]
     },
     "execution_count": 8,
     "metadata": {},
     "output_type": "execute_result"
    }
   ],
   "source": [
    "Pb"
   ]
  },
  {
   "cell_type": "markdown",
   "metadata": {},
   "source": [
    "Each row corresponds to one output and each column to one input circuit. We see that the input circuits at position 1 and 3 are directed to output 0, for example."
   ]
  },
  {
   "cell_type": "markdown",
   "metadata": {},
   "source": [
    "Pc, on the other hand, is an assignment matrix to determine which input circuit is directed to which output circuit:"
   ]
  },
  {
   "cell_type": "code",
   "execution_count": 9,
   "metadata": {},
   "outputs": [
    {
     "data": {
      "text/plain": [
       "array([[0., 1., 0., 0., 0.],\n",
       "       [0., 0., 0., 1., 0.],\n",
       "       [1., 0., 0., 0., 0.],\n",
       "       [0., 0., 1., 0., 0.],\n",
       "       [0., 0., 0., 0., 1.]])"
      ]
     },
     "execution_count": 9,
     "metadata": {},
     "output_type": "execute_result"
    }
   ],
   "source": [
    "Pc"
   ]
  },
  {
   "cell_type": "markdown",
   "metadata": {},
   "source": [
    "This is an quadratic matrix as the number of circuits cant change within a node. Basically, this matrix just changes the order of the circuits."
   ]
  },
  {
   "cell_type": "markdown",
   "metadata": {},
   "source": [
    "We know create a scenario in which the optimization is triggered with some dummy values. We set the following for the initial condition:"
   ]
  },
  {
   "cell_type": "code",
   "execution_count": 10,
   "metadata": {},
   "outputs": [],
   "source": [
    "s_buffer_0 = np.zeros((n_out, 1))\n",
    "s_circuit_0 = np.zeros((np.sum(n_circuit_in), 1))"
   ]
  },
  {
   "cell_type": "markdown",
   "metadata": {},
   "source": [
    "Where ```s_buffer``` is a n_out x 1 vector with one component for each output queue of the server and ```s_circuit``` is a n_circuit x 1 vector with one component for each circuit. These values represent the number of packets per buffer and circuit.\n",
    "\n",
    "We also introduce some trajectories that are obtained in adjacent nodes and communicated with the current node. For our example we again choose some dummy values:"
   ]
  },
  {
   "cell_type": "code",
   "execution_count": 11,
   "metadata": {},
   "outputs": [],
   "source": [
    "v_in_req = [np.array([[12, 4]]).T]*ots.N_steps\n",
    "\n",
    "cv_in = [[np.array([[0.5, 0.25, 0.25]]).T, np.array([[0.5, 0.5]]).T]]*ots.N_steps\n",
    "\n",
    "v_out_max = [np.array([[6, 6, 6]]).T]*ots.N_steps\n",
    "\n",
    "bandwidth_load_target = [np.array([[0, 0, 0]]).T]*ots.N_steps\n",
    "memory_load_target = [np.array([[0, 0, 0]]).T]*ots.N_steps\n",
    "\n",
    "bandwidth_load_source = [np.array([[0, 0]]).T]*ots.N_steps\n",
    "memory_load_source = [np.array([[0, 0]]).T]*ots.N_steps"
   ]
  },
  {
   "cell_type": "markdown",
   "metadata": {},
   "source": [
    "Note, first of all, the format of all these trajectories. Each of them is represented by a list with N items, where each list item is a vector that represents the value of that trajectory at a distinct timestep for a total of N timesteps. \n",
    "Now to the individual explanations:\n",
    "- **v_in_req**: Is the requested incoming packet stream of the connected sending nodes. Ideally our node excepts all of this data, however, it can choose to reject some of it.\n",
    "- **cv_in**: Is the composition of the incoming packet streams. Each list item is again a list. Each of these elements corresponds to one of the incoming streams and is itself a composition vector. Note the similarity to the ```circuits_in``` definition from above.\n",
    "- **v_out_max**: The maximum allowed packet stream of the outgoing connections. \n",
    "- **bandwidth_load_target / memory_load_target**: Load information for the target servers\n",
    "- **bandwidth_load_source / memory_load_source**: Load information for the source servers"
   ]
  },
  {
   "cell_type": "markdown",
   "metadata": {},
   "source": [
    "## Test 01: Investigate dynamics\n",
    "For our first test we do not solve the optimal control problem but instead manually set the control inputs and investigate the system dynamics. "
   ]
  },
  {
   "cell_type": "code",
   "execution_count": 12,
   "metadata": {},
   "outputs": [],
   "source": [
    "v_in_max = [np.array([[12, 4]]).T]*ots.N_steps\n",
    "v_out = [np.array([[5, 6, 5]]).T]*ots.N_steps"
   ]
  },
  {
   "cell_type": "markdown",
   "metadata": {},
   "source": [
    "We can control the upper limit for the incoming packet streams, where the resulting incoming packet stream is simply \n",
    "```python\n",
    "   v_in = fmin(v_in_max, v_in_req)\n",
    "```\n",
    "where ```fmin``` is a casadi method. Furthermore, we are able to control the sending rate individually for each output_buffer. \n",
    "\n",
    "The dynamics of the system are quite simple. We have an auxiliary variable $v_{c,in}$ that derives from $v_{in}$ and $c_{v,in}$ and denotes the incoming packet streams for each circuit. With this value and the previous buffer memory ($s^{k}_B$) and circuit memory ($s^{k}_C$) we calculate intermediate values for the next buffer and circuit memory. We need the matrices $P_B$ and $P_C$ that were introduced above:\n",
    "\\begin{gather}\n",
    "\\tilde{s}^{k+1}_B= s^{k}_B +\\Delta t \\cdot P_B  v_{c,in}\\\\\n",
    "\\tilde{s}^{k+1}_C = s^{k}_C +\\Delta t \\cdot P_C  v_{c,in}\\\\\n",
    "\\end{gather}\n",
    "With the intermediate circuit and buffer memory we calculate the composition of the outgoing packet stream, simply by dividing the respective elements of $\\tilde{s}^{k+1}_C$ and $\\tilde{s}^{k+1}_B$. \n",
    "Now, we can use to calculate the outgoing circuit streams $v_{c,out}$ by using $v_{out}$ and $c_{v,out}$. \n",
    "This allows to write:\n",
    "\\begin{gather}\n",
    "s^{k+1}_B= \\tilde{s}^{k+1} -\\Delta t \\cdot v_{out}\\\\\n",
    "s^{k+1}_c = \\tilde{s}^{k+1}_C -\\Delta t \\cdot v_{c,out}\\\\\n",
    "\\end{gather}\n",
    "\n",
    "\n",
    "Let's check these dynamics with the chosen input trajectories from above. Note that ```v_out``` was chosen, such that all incoming packets are forwarded immediatly. "
   ]
  },
  {
   "cell_type": "code",
   "execution_count": 13,
   "metadata": {},
   "outputs": [],
   "source": [
    "model_fun = ots.mpc_problem['model'] # Retrieve the model function from the ots object.\n",
    "\n",
    "# Initiate lists for the solution, starting with the intial condition.\n",
    "s_buffer = [s_buffer_0]\n",
    "s_circuit = [s_circuit_0]\n",
    "cv_out = []\n",
    "for k in range(ots.N_steps):\n",
    "    model_out = model_fun(s_buffer[k], s_circuit[k], v_in_req[k], v_in_max[k], *cv_in[k], v_out[k], Pb, Pc)\n",
    "    model_out = [model_out_i.full() for model_out_i in model_out]\n",
    "    # model_out is a list, where the following items correspond to the following variables:\n",
    "    s_buffer.append(model_out[0])\n",
    "    s_circuit.append(model_out[1])\n",
    "    cv_out.append(model_out[2:])\n",
    "    \n",
    "# Concatenate the solution:\n",
    "s_buffer = np.concatenate(s_buffer, axis=1).T\n",
    "s_circuit = np.concatenate(s_circuit, axis=1).T"
   ]
  },
  {
   "cell_type": "markdown",
   "metadata": {},
   "source": [
    "Both, ```s_buffer``` and ```s_circuit``` are zero for all elements and all timesteps, which is shown below for s_circuit:"
   ]
  },
  {
   "cell_type": "code",
   "execution_count": 14,
   "metadata": {},
   "outputs": [
    {
     "data": {
      "text/plain": [
       "array([[0., 0., 0., 0., 0.],\n",
       "       [0., 0., 0., 0., 0.],\n",
       "       [0., 0., 0., 0., 0.],\n",
       "       [0., 0., 0., 0., 0.],\n",
       "       [0., 0., 0., 0., 0.],\n",
       "       [0., 0., 0., 0., 0.],\n",
       "       [0., 0., 0., 0., 0.],\n",
       "       [0., 0., 0., 0., 0.],\n",
       "       [0., 0., 0., 0., 0.],\n",
       "       [0., 0., 0., 0., 0.],\n",
       "       [0., 0., 0., 0., 0.],\n",
       "       [0., 0., 0., 0., 0.],\n",
       "       [0., 0., 0., 0., 0.],\n",
       "       [0., 0., 0., 0., 0.],\n",
       "       [0., 0., 0., 0., 0.],\n",
       "       [0., 0., 0., 0., 0.],\n",
       "       [0., 0., 0., 0., 0.],\n",
       "       [0., 0., 0., 0., 0.],\n",
       "       [0., 0., 0., 0., 0.],\n",
       "       [0., 0., 0., 0., 0.],\n",
       "       [0., 0., 0., 0., 0.]])"
      ]
     },
     "execution_count": 14,
     "metadata": {},
     "output_type": "execute_result"
    }
   ],
   "source": [
    "s_circuit"
   ]
  },
  {
   "cell_type": "markdown",
   "metadata": {},
   "source": [
    "The interesting value is therefore the composition, which is shown below:"
   ]
  },
  {
   "cell_type": "code",
   "execution_count": 15,
   "metadata": {},
   "outputs": [
    {
     "name": "stdout",
     "output_type": "stream",
     "text": [
      "[[0.6, 0.4], [1.0], [0.6, 0.4]]\n",
      "[[0.6, 0.4], [1.0], [0.6, 0.4]]\n",
      "[[0.6, 0.4], [1.0], [0.6, 0.4]]\n",
      "[[0.6, 0.4], [1.0], [0.6, 0.4]]\n",
      "[[0.6, 0.4], [1.0], [0.6, 0.4]]\n",
      "[[0.6, 0.4], [1.0], [0.6, 0.4]]\n",
      "[[0.6, 0.4], [1.0], [0.6, 0.4]]\n",
      "[[0.6, 0.4], [1.0], [0.6, 0.4]]\n",
      "[[0.6, 0.4], [1.0], [0.6, 0.4]]\n",
      "[[0.6, 0.4], [1.0], [0.6, 0.4]]\n",
      "[[0.6, 0.4], [1.0], [0.6, 0.4]]\n",
      "[[0.6, 0.4], [1.0], [0.6, 0.4]]\n",
      "[[0.6, 0.4], [1.0], [0.6, 0.4]]\n",
      "[[0.6, 0.4], [1.0], [0.6, 0.4]]\n",
      "[[0.6, 0.4], [1.0], [0.6, 0.4]]\n",
      "[[0.6, 0.4], [1.0], [0.6, 0.4]]\n",
      "[[0.6, 0.4], [1.0], [0.6, 0.4]]\n",
      "[[0.6, 0.4], [1.0], [0.6, 0.4]]\n",
      "[[0.6, 0.4], [1.0], [0.6, 0.4]]\n",
      "[[0.6, 0.4], [1.0], [0.6, 0.4]]\n"
     ]
    }
   ],
   "source": [
    "for k in range(ots.N_steps):\n",
    "    print([c_i.flatten().tolist() for c_i in cv_out[k]])"
   ]
  },
  {
   "cell_type": "markdown",
   "metadata": {},
   "source": [
    "These are exactly the values that we expected, e.g:\n",
    "\n",
    "\n",
    "\\begin{gather}\n",
    "v_{in,0}\\cdot c_{in,0,1} = 12\\cdot0.25 = 3\\\\\n",
    "v_{in,1}\\cdot c_{in,1,0} = 4\\cdot0.25 = 2\n",
    "\\end{gather}\n",
    "Are added to output buffer 0 and $v_{out,1}$ is set to $3+2 = 5$. Such that the composition is:\n",
    "\\begin{gather}\n",
    "c_{out,0,0} = 3 / 5 = 0.6\\\\\n",
    "c_{out,0,0} = 2 / 5 = 0.4\n",
    "\\end{gather}"
   ]
  },
  {
   "cell_type": "markdown",
   "metadata": {},
   "source": [
    "Know we quickly investigate how it looks like when the buffer is increasing in size, simply by setting:"
   ]
  },
  {
   "cell_type": "code",
   "execution_count": 16,
   "metadata": {},
   "outputs": [],
   "source": [
    "v_out = [np.array([[4.5, 5, 3]]).T]*ots.N_steps"
   ]
  },
  {
   "cell_type": "markdown",
   "metadata": {},
   "source": [
    "and rerunning:"
   ]
  },
  {
   "cell_type": "code",
   "execution_count": 17,
   "metadata": {},
   "outputs": [],
   "source": [
    "# Initiate lists for the solution, starting with the intial condition.\n",
    "s_buffer = [s_buffer_0]\n",
    "s_circuit = [s_circuit_0]\n",
    "cv_out = []\n",
    "for k in range(ots.N_steps):\n",
    "    model_out = model_fun(s_buffer[k], s_circuit[k], v_in_req[k], v_in_max[k], *cv_in[k], v_out[k], Pb, Pc)\n",
    "    model_out = [model_out_i.full() for model_out_i in model_out]\n",
    "    # model_out is a list, where the following items correspond to the following variables:\n",
    "    s_buffer.append(model_out[0])\n",
    "    s_circuit.append(model_out[1])\n",
    "    cv_out.append(model_out[2:])\n",
    "    \n",
    "# Concatenate the solution:\n",
    "s_buffer = np.concatenate(s_buffer, axis=1).T\n",
    "s_circuit = np.concatenate(s_circuit, axis=1).T"
   ]
  },
  {
   "cell_type": "markdown",
   "metadata": {},
   "source": [
    "Clearly the buffer and circuit memory is now growing:"
   ]
  },
  {
   "cell_type": "code",
   "execution_count": 18,
   "metadata": {
    "scrolled": true
   },
   "outputs": [
    {
     "data": {
      "image/png": "[encoded data removed]",
      "text/plain": [
       "<Figure size 432x288 with 1 Axes>"
      ]
     },
     "metadata": {
      "needs_background": "light"
     },
     "output_type": "display_data"
    }
   ],
   "source": [
    "line = plt.step(np.arange(s_buffer.shape[0]),s_buffer)\n",
    "plt.legend(line, ['buffer {}'.format(i) for i in range(n_out)])\n",
    "plt.ylabel('Buffer memory [#packets]')\n",
    "plt.xlabel('timestep')\n",
    "plt.show()"
   ]
  },
  {
   "cell_type": "markdown",
   "metadata": {},
   "source": [
    "But the composition of the outgoing packet streams is unchanged, as expected."
   ]
  },
  {
   "cell_type": "code",
   "execution_count": 19,
   "metadata": {},
   "outputs": [
    {
     "name": "stdout",
     "output_type": "stream",
     "text": [
      "[[0.6, 0.4], [1.0], [0.6, 0.4]]\n",
      "[[0.6, 0.4], [1.0], [0.6, 0.4]]\n",
      "[[0.6, 0.4], [1.0], [0.6, 0.4]]\n",
      "[[0.6, 0.4], [1.0], [0.6, 0.4]]\n",
      "[[0.6, 0.4], [1.0], [0.6, 0.4]]\n",
      "[[0.6, 0.4], [1.0], [0.6, 0.4]]\n",
      "[[0.6, 0.4], [1.0], [0.6, 0.4]]\n",
      "[[0.6, 0.4], [1.0], [0.6, 0.4]]\n",
      "[[0.6, 0.4], [1.0], [0.6, 0.4]]\n",
      "[[0.6, 0.4], [1.0], [0.6, 0.4]]\n",
      "[[0.6, 0.4], [1.0], [0.6, 0.4]]\n",
      "[[0.6, 0.4], [1.0], [0.6, 0.4]]\n",
      "[[0.6, 0.4], [1.0], [0.6, 0.4]]\n",
      "[[0.6, 0.4], [1.0], [0.6, 0.4]]\n",
      "[[0.6, 0.4], [1.0], [0.6, 0.4]]\n",
      "[[0.6, 0.4], [1.0], [0.6, 0.4]]\n",
      "[[0.6, 0.4], [1.0], [0.6, 0.4]]\n",
      "[[0.6, 0.4], [1.0], [0.6, 0.4]]\n",
      "[[0.6, 0.4], [1.0], [0.6, 0.4]]\n",
      "[[0.6, 0.4], [1.0], [0.6, 0.4]]\n"
     ]
    }
   ],
   "source": [
    "for k in range(ots.N_steps):\n",
    "    print([np.round(c_i,1).flatten().tolist() for c_i in cv_out[k]])"
   ]
  },
  {
   "cell_type": "markdown",
   "metadata": {},
   "source": [
    "## Investigate MPC solver:"
   ]
  },
  {
   "cell_type": "markdown",
   "metadata": {},
   "source": [
    "Knowing that the dynamics are plausible we can now test the MPC solver. But first lets state the OCP:\n",
    "- objective (for one stage):\n",
    "\\begin{equation}\n",
    "\\underset{v_{in,max},v_{out}}{\\text{minimize}}\\quad \n",
    "\\sum_i^{n_{out}}(1-L_{BW,i}^{T})(1-L_{M,i}^{T})\\left(-\\frac{v_{out}}{v_{max}}+\\frac{s_B}{s_{max}}\\right)\n",
    "+\\sum_i^{n_{in}}L_{BW,i}^{S}L_{M,i}^{S}\\left(-\\frac{v_{in,max}}{v_{max}}\\right)\n",
    "+a(||v_{out}^k-v_{out}^{k-1}||_2^2\n",
    "+||v_{in,max}^k-v_{in,max}^{k-1}||_2^2)\n",
    "\\end{equation}\n",
    "\n",
    "\n",
    "- constraints:\n",
    "\\begin{gather}\n",
    "\\sum_i^{n_{in}} v_{in,i} + \\sum_i^{n_{out}} v_{out,i} \\leq v_{max}\\\\\n",
    "s_B \\geq 0\\\\\n",
    "0 \\leq v_{out} \\leq v_{out,max}\\\\\n",
    "v_{in,max}\\leq v_{max}\n",
    "\\end{gather}\n",
    "\n",
    "we can now call the solver:"
   ]
  },
  {
   "cell_type": "code",
   "execution_count": 20,
   "metadata": {
    "scrolled": true
   },
   "outputs": [
    {
     "name": "stdout",
     "output_type": "stream",
     "text": [
      "\n",
      "******************************************************************************\n",
      "This program contains Ipopt, a library for large-scale nonlinear optimization.\n",
      " Ipopt is released as open source code under the Eclipse Public License (EPL).\n",
      "         For more information visit http://projects.coin-or.org/Ipopt\n",
      "******************************************************************************\n",
      "\n",
      "This is Ipopt version 3.12.12, running with linear solver mumps.\n",
      "NOTE: Other linear solvers might be more efficient (see Ipopt documentation).\n",
      "\n",
      "Number of nonzeros in equality constraint Jacobian...:        0\n",
      "Number of nonzeros in inequality constraint Jacobian.:     2150\n",
      "Number of nonzeros in Lagrangian Hessian.............:      100\n",
      "\n",
      "Total number of variables............................:      100\n",
      "                     variables with only lower bounds:        0\n",
      "                variables with lower and upper bounds:        0\n",
      "                     variables with only upper bounds:        0\n",
      "Total number of equality constraints.................:        0\n",
      "Total number of inequality constraints...............:      240\n",
      "        inequality constraints with only lower bounds:        0\n",
      "   inequality constraints with lower and upper bounds:        0\n",
      "        inequality constraints with only upper bounds:      240\n",
      "\n",
      "iter    objective    inf_pr   inf_du lg(mu)  ||d||  lg(rg) alpha_du alpha_pr  ls\n",
      "   0  0.0000000e+00 0.00e+00 9.83e-01  -1.0 0.00e+00    -  0.00e+00 0.00e+00   0\n",
      "   1 -9.7931641e-02 0.00e+00 1.00e-06  -1.0 9.81e-01    -  1.00e+00 1.00e+00f  1\n",
      "   2  8.1435971e-02 0.00e+00 4.60e-02  -1.7 2.33e+00    -  6.91e-01 1.00e+00f  1\n",
      "   3 -1.7400513e+00 0.00e+00 2.00e-07  -1.7 1.26e+01    -  1.00e+00 1.00e+00f  1\n",
      "   4 -2.7964184e+00 0.00e+00 6.90e-03  -2.5 2.35e+00    -  8.10e-01 1.00e+00f  1\n",
      "   5 -2.7980733e+00 0.00e+00 2.83e-08  -2.5 1.37e+00    -  1.00e+00 1.00e+00f  1\n",
      "   6 -2.9595658e+00 0.00e+00 1.50e-09  -3.8 3.15e-01    -  1.00e+00 1.00e+00f  1\n",
      "   7 -2.9686393e+00 0.00e+00 1.84e-11  -5.7 2.90e-02    -  1.00e+00 1.00e+00f  1\n",
      "   8 -2.9687499e+00 0.00e+00 2.51e-14  -8.6 1.51e-04    -  1.00e+00 1.00e+00f  1\n",
      "\n",
      "Number of Iterations....: 8\n",
      "\n",
      "                                   (scaled)                 (unscaled)\n",
      "Objective...............:  -2.9687498704896997e+00   -2.9687498704896997e+00\n",
      "Dual infeasibility......:   2.5063284780912909e-14    2.5063284780912909e-14\n",
      "Constraint violation....:   0.0000000000000000e+00    0.0000000000000000e+00\n",
      "Complementarity.........:   2.5575007288288637e-09    2.5575007288288637e-09\n",
      "Overall NLP error.......:   2.5575007288288637e-09    2.5575007288288637e-09\n",
      "\n",
      "\n",
      "Number of objective function evaluations             = 9\n",
      "Number of objective gradient evaluations             = 9\n",
      "Number of equality constraint evaluations            = 0\n",
      "Number of inequality constraint evaluations          = 9\n",
      "Number of equality constraint Jacobian evaluations   = 0\n",
      "Number of inequality constraint Jacobian evaluations = 9\n",
      "Number of Lagrangian Hessian evaluations             = 8\n",
      "Total CPU secs in IPOPT (w/o function evaluations)   =      0.048\n",
      "Total CPU secs in NLP function evaluations           =      0.001\n",
      "\n",
      "EXIT: Optimal Solution Found.\n",
      "               t_proc [s]   t_wall [s]    n_eval\n",
      "       nlp_f     0.000156     0.000156         9\n",
      "       nlp_g     0.000138     0.000125         9\n",
      "    nlp_grad      3.7e-05     3.73e-05         1\n",
      "  nlp_grad_f     0.000235     0.000234        10\n",
      "  nlp_hess_l      2.9e-05     2.66e-05         8\n",
      "   nlp_jac_g     0.000345     0.000347        10\n",
      "       optim       0.0634       0.0652         1\n"
     ]
    }
   ],
   "source": [
    "ots.solve(s_buffer_0, s_circuit_0, v_in_req, cv_in, v_out_max, Pb, Pc, bandwidth_load_target, memory_load_target, bandwidth_load_source, memory_load_source)"
   ]
  },
  {
   "cell_type": "markdown",
   "metadata": {},
   "source": [
    "The results of the optimization problem are solved in ```ots.predict```:"
   ]
  },
  {
   "cell_type": "code",
   "execution_count": 30,
   "metadata": {},
   "outputs": [],
   "source": [
    "sol=ots.predict[-1]\n",
    "\n",
    "v_in_req = np.concatenate(sol['v_in_req'],axis=1).T\n",
    "v_in = np.concatenate(sol['v_in'],axis=1).T\n",
    "s_b = np.concatenate(sol['s_buffer'],axis=1).T\n",
    "v_out = np.concatenate(sol['v_out'],axis=1).T"
   ]
  },
  {
   "cell_type": "code",
   "execution_count": 33,
   "metadata": {},
   "outputs": [
    {
     "data": {
      "image/png": "[encoded data removed]",
      "text/plain": [
       "<Figure size 1008x288 with 3 Axes>"
      ]
     },
     "metadata": {
      "needs_background": "light"
     },
     "output_type": "display_data"
    }
   ],
   "source": [
    "fig, ax = plt.subplots(1,3, figsize=[14,4])\n",
    "ax[0].plot(v_in)\n",
    "ax[1].plot(s_b)\n",
    "ax[2].plot(v_out)\n",
    "plt.show()"
   ]
  },
  {
   "cell_type": "code",
   "execution_count": null,
   "metadata": {},
   "outputs": [],
   "source": []
  }
 ],
 "metadata": {
  "kernelspec": {
   "display_name": "Python 3.6, 64bit",
   "language": "python",
   "name": "py36_64bit"
  },
  "language_info": {
   "codemirror_mode": {
    "name": "ipython",
    "version": 3
   },
   "file_extension": ".py",
   "mimetype": "text/x-python",
   "name": "python",
   "nbconvert_exporter": "python",
   "pygments_lexer": "ipython3",
   "version": "3.6.8"
  }
 },
 "nbformat": 4,
 "nbformat_minor": 2
}
