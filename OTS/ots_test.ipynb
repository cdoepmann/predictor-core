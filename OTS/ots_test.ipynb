{
 "cells": [
  {
   "cell_type": "markdown",
   "metadata": {},
   "source": [
    "# Testing and illustrating the Toropti\n",
    "The optimal_traffic_scheduler (**OTS**) class."
   ]
  },
  {
   "cell_type": "code",
   "execution_count": 1,
   "metadata": {},
   "outputs": [],
   "source": [
    "import numpy as np\n",
    "import matplotlib.pyplot as plt\n",
    "from casadi import *\n",
    "from optimal_traffic_scheduler import optimal_traffic_scheduler\n",
    "import pdb\n",
    "%matplotlib notebook"
   ]
  },
  {
   "cell_type": "markdown",
   "metadata": {},
   "source": [
    "We create a simple scenario to illustrate and investigate the mechanics of the **OTS** class. For this purpose we start by creating a setup_dict for our optimizer that carries the same (and some additional) information as the server nodes in **NS-F**:"
   ]
  },
  {
   "cell_type": "code",
   "execution_count": 2,
   "metadata": {},
   "outputs": [],
   "source": [
    "setup_dict = {}\n",
    "setup_dict['v_in_max_total'] = 10  # packets / s\n",
    "setup_dict['v_out_max_total'] = 8  # packets / s\n",
    "setup_dict['dt'] = 0.1  # s\n",
    "setup_dict['N_steps'] = 20\n",
    "setup_dict['weights'] = {'control_delta': 0.1, 'send': 1, 'store': 0, 'receive': 5}"
   ]
  },
  {
   "cell_type": "markdown",
   "metadata": {},
   "source": [
    "**NOTE:** in previous versions **v_max** was used as a combined limit for incoming- and outgoing packets. \n",
    "- **v_in_max_total**: is the maximum number of incoming packets that can be processed per second. \n",
    "- **v_out_max_total**: is the maximum number of outgoing packets that can be processed per second. \n",
    "- **dt**: Timestep of the **OTS** object. Note that this should be at least an order of magnitude greater than the **NS-F** server timestep.\n",
    "- **N_steps**: Prediction horizon for the MPC problem.\n",
    "- **weights**: In this term weighting coefficients for the MPC objective are stored as a dict. We have three tuning factors:\n",
    "  - **control_delta**: This term penalizes high changes (with regard to the L2-Norm) in the controlled variables and is important to ensure stability of the distributed system.\n",
    "  - **send**: Prioritization of sending packets.\n",
    "  - **store**: Prioritization of reducing the storage.\n",
    "  - **receive**:  Prioritization of receiving packets (not rejecting them).\n",
    "\n",
    "We can now create the object:"
   ]
  },
  {
   "cell_type": "code",
   "execution_count": 3,
   "metadata": {},
   "outputs": [],
   "source": [
    "ots = optimal_traffic_scheduler(setup_dict)"
   ]
  },
  {
   "cell_type": "markdown",
   "metadata": {},
   "source": [
    "We look into **OTS** with a concrete example. Lets assume that we have two inputs and three outputs for the node and that a total of five circuits are beeing processed. This can simply be expressed as follow:"
   ]
  },
  {
   "cell_type": "code",
   "execution_count": 4,
   "metadata": {},
   "outputs": [],
   "source": [
    "circuits_in = [[0, 1, 2], [3, 4]]\n",
    "circuits_out = [[1, 3], [0], [2, 4]]"
   ]
  },
  {
   "cell_type": "markdown",
   "metadata": {},
   "source": [
    "Normally, this information would be automatically retrieved from the network structure, along with additional values. For this example, we do some manual calculations to configure the node:"
   ]
  },
  {
   "cell_type": "code",
   "execution_count": 5,
   "metadata": {},
   "outputs": [
    {
     "name": "stdout",
     "output_type": "stream",
     "text": [
      "The 2 incoming connections carry [3, 2] circuits and the 3 outgoing connections have [2, 1, 2] circuits.\n",
      "Clearly, sum(n_circuits_in) = 5, is the same as sum(n_circuits_out) = 5\n"
     ]
    }
   ],
   "source": [
    "n_in = len(circuits_in)\n",
    "n_out = len(circuits_out)\n",
    "n_circuit_in = [len(c_i) for c_i in circuits_in]\n",
    "n_circuit_out = [len(c_i) for c_i in circuits_out]\n",
    "print('The {0} incoming connections carry {1} circuits \\\n",
    "and the {2} outgoing connections have {3} circuits.'.format(n_in,n_circuit_in,n_out,n_circuit_out))\n",
    "print('Clearly, sum(n_circuits_in) = {0}, is the same as sum(n_circuits_out) = {1}'.format(np.sum(n_circuit_in),np.sum(n_circuit_out)))"
   ]
  },
  {
   "cell_type": "markdown",
   "metadata": {},
   "source": [
    "We can now sestup the **OTS** object:"
   ]
  },
  {
   "cell_type": "code",
   "execution_count": 6,
   "metadata": {},
   "outputs": [],
   "source": [
    "ots.setup(n_in, n_out, circuits_in, circuits_out)"
   ]
  },
  {
   "cell_type": "markdown",
   "metadata": {},
   "source": [
    "Two very important matrices are calculated with staticmethods from the **OTS** object:"
   ]
  },
  {
   "cell_type": "code",
   "execution_count": 7,
   "metadata": {},
   "outputs": [],
   "source": [
    "Pb = ots.Pb_fun(circuits_in, circuits_out)\n",
    "Pc = ots.Pc_fun(circuits_in, circuits_out)"
   ]
  },
  {
   "cell_type": "markdown",
   "metadata": {},
   "source": [
    "Pb is an assignment matrix that determines, which element of each input is assigned to which output buffer. What this means becomes clear when we display it for the example circuit constellation:"
   ]
  },
  {
   "cell_type": "code",
   "execution_count": 8,
   "metadata": {},
   "outputs": [
    {
     "data": {
      "text/plain": [
       "array([[0., 1., 0., 1., 0.],\n",
       "       [1., 0., 0., 0., 0.],\n",
       "       [0., 0., 1., 0., 1.]])"
      ]
     },
     "execution_count": 8,
     "metadata": {},
     "output_type": "execute_result"
    }
   ],
   "source": [
    "Pb"
   ]
  },
  {
   "cell_type": "markdown",
   "metadata": {},
   "source": [
    "Each row corresponds to one output and each column to one input circuit. We see that the input circuits at position 1 and 3 are directed to output 0, for example."
   ]
  },
  {
   "cell_type": "markdown",
   "metadata": {},
   "source": [
    "Pc, on the other hand, is an assignment matrix to determine which input circuit is directed to which output circuit:"
   ]
  },
  {
   "cell_type": "code",
   "execution_count": 9,
   "metadata": {},
   "outputs": [
    {
     "data": {
      "text/plain": [
       "array([[0., 1., 0., 0., 0.],\n",
       "       [0., 0., 0., 1., 0.],\n",
       "       [1., 0., 0., 0., 0.],\n",
       "       [0., 0., 1., 0., 0.],\n",
       "       [0., 0., 0., 0., 1.]])"
      ]
     },
     "execution_count": 9,
     "metadata": {},
     "output_type": "execute_result"
    }
   ],
   "source": [
    "Pc"
   ]
  },
  {
   "cell_type": "markdown",
   "metadata": {},
   "source": [
    "This is an quadratic matrix as the number of circuits cant change within a node. Basically, this matrix just changes the order of the circuits."
   ]
  },
  {
   "cell_type": "markdown",
   "metadata": {},
   "source": [
    "We now create a scenario in which the optimization is triggered with some dummy values. We set the following for the initial condition:"
   ]
  },
  {
   "cell_type": "code",
   "execution_count": 10,
   "metadata": {},
   "outputs": [],
   "source": [
    "s_buffer_0 = np.zeros((n_out, 1))\n",
    "s_circuit_0 = np.zeros((np.sum(n_circuit_in), 1))"
   ]
  },
  {
   "cell_type": "markdown",
   "metadata": {},
   "source": [
    "Where ```s_buffer``` is a n_out x 1 vector with one component for each output queue of the server and ```s_circuit``` is a n_circuit x 1 vector with one component for each circuit. These values represent the number of packets per buffer and circuit.\n",
    "We also introduce some trajectories that are obtained in adjacent nodes and communicated with the current node. For our example we again choose some dummy values:"
   ]
  },
  {
   "cell_type": "code",
   "execution_count": 11,
   "metadata": {},
   "outputs": [],
   "source": [
    "v_in_req = [np.array([[12, 4]]).T]*ots.N_steps\n",
    "\n",
    "cv_in = [[np.array([[0.5, 0.25, 0.25]]).T, np.array([[0.5, 0.5]]).T]]*ots.N_steps\n",
    "\n",
    "v_out_max = [np.array([[6, 6, 6]]).T]*ots.N_steps\n",
    "\n",
    "s_buffer_target = [np.array([[0, 0, 0]]).T]*ots.N_steps\n",
    "memory_load_target = [np.array([[0, 0, 0]]).T]*ots.N_steps\n",
    "\n",
    "bandwidth_load_source = [np.array([[0, 0]]).T]*ots.N_steps\n",
    "s_buffer_source = [np.array([[120, 0]]).T]*ots.N_steps"
   ]
  },
  {
   "cell_type": "markdown",
   "metadata": {},
   "source": [
    "Note, first of all, the format of all these trajectories. Each of them is represented by a list with N items, where each list item is a vector that represents the value of that trajectory at a distinct timestep for a total of N timesteps. \n",
    "Now to the individual explanations:\n",
    "- **v_in_req**: Is the requested incoming packet stream of the connected sending nodes. Ideally our node excepts all of this data, however, it can choose to reject some of it.\n",
    "- **cv_in**: Is the composition of the incoming packet streams. Each list item is again a list. Each of these elements corresponds to one of the incoming streams and is itself a composition vector. Note the similarity to the ```circuits_in``` definition from above.\n",
    "- **v_out_max**: The maximum allowed packet stream of the outgoing connections. \n",
    "- **bandwidth_load_target / memory_load_target**: Load information for the target servers\n",
    "- **bandwidth_load_source / memory_load_source**: Load information for the source servers"
   ]
  },
  {
   "cell_type": "markdown",
   "metadata": {},
   "source": [
    "## Test 01: Investigate dynamics\n",
    "For our first test we do not solve the optimal control problem but instead manually set the control inputs and investigate the system dynamics. "
   ]
  },
  {
   "cell_type": "code",
   "execution_count": 12,
   "metadata": {},
   "outputs": [],
   "source": [
    "v_in_max = [np.array([[12, 4]]).T]*ots.N_steps\n",
    "v_out = [np.array([[5, 6, 5]]).T]*ots.N_steps"
   ]
  },
  {
   "cell_type": "markdown",
   "metadata": {},
   "source": [
    "We can control the upper limit for the incoming packet streams, where the resulting incoming packet stream is simply \n",
    "```python\n",
    "   v_in = min(v_in_max, v_in_req)\n",
    "```\n",
    "However, this is implemented differently to avoid problems of the optimizer. Details can be found [here](ns_f/min_v_in_formulation_test.ipynb). In short we introduce to new trajectories: ```v_in_discard``` and ```v_in_extra```. From ```v_in_req``` and ```v_in_max``` they are calculated as follows:"
   ]
  },
  {
   "cell_type": "code",
   "execution_count": 13,
   "metadata": {},
   "outputs": [
    {
     "name": "stdout",
     "output_type": "stream",
     "text": [
      "v_in_extra:   [0 0], at t=0\n",
      "v_in_discard: [0 0], at t=0\n"
     ]
    }
   ],
   "source": [
    "v_in_discard = [np.maximum(v_in_req_i-v_in_max_i,0) for v_in_max_i, v_in_req_i in zip(v_in_max,v_in_req)]\n",
    "v_in_extra = [np.maximum(v_in_max_i-v_in_req_i,0) for v_in_max_i, v_in_req_i in zip(v_in_max,v_in_req)]\n",
    "\n",
    "print('v_in_extra:   '+ str(v_in_extra[0].flatten()) + ', at t=0')\n",
    "print('v_in_discard: '+ str(v_in_discard[0].flatten())+ ', at t=0')"
   ]
  },
  {
   "cell_type": "markdown",
   "metadata": {},
   "source": [
    "\n",
    "Furthermore, we are able to control the sending rate individually for each output_buffer. \n",
    "\n",
    "The dynamics of the system are quite simple. We have an auxiliary variable $v_{c,in}$ that derives from $v_{in}$ and $c_{v,in}$ and denotes the incoming packet streams for each circuit. With this value and the previous buffer memory ($s^{k}_B$) and circuit memory ($s^{k}_C$) we calculate intermediate values for the next buffer and circuit memory. We need the matrices $P_B$ and $P_C$ that were introduced above:\n",
    "\\begin{gather}\n",
    "\\tilde{s}^{k+1}_B= s^{k}_B +\\Delta t \\cdot P_B  v_{c,in}\\\\\n",
    "\\tilde{s}^{k+1}_C = s^{k}_C +\\Delta t \\cdot P_C  v_{c,in}\\\\\n",
    "\\end{gather}\n",
    "With the intermediate circuit and buffer memory we calculate the composition of the outgoing packet stream, simply by dividing the respective elements of $\\tilde{s}^{k+1}_C$ and $\\tilde{s}^{k+1}_B$. \n",
    "Now, we can use to calculate the outgoing circuit streams $v_{c,out}$ by using $v_{out}$ and $c_{v,out}$. \n",
    "This allows to write:\n",
    "\\begin{gather}\n",
    "s^{k+1}_B= \\tilde{s}^{k+1} -\\Delta t \\cdot v_{out}\\\\\n",
    "s^{k+1}_c = \\tilde{s}^{k+1}_C -\\Delta t \\cdot v_{c,out}\\\\\n",
    "\\end{gather}\n"
   ]
  },
  {
   "cell_type": "markdown",
   "metadata": {},
   "source": [
    "Let's check these dynamics with the chosen input trajectories from above. Note that ```v_out``` was chosen, such that all incoming packets are forwarded immediatly. "
   ]
  },
  {
   "cell_type": "markdown",
   "metadata": {},
   "source": [
    "Conveniently, we can retrieve the model function from the ots object with:"
   ]
  },
  {
   "cell_type": "code",
   "execution_count": 14,
   "metadata": {},
   "outputs": [],
   "source": [
    "model_fun = ots.mpc_problem['model'] # Retrieve the model function from the ots object."
   ]
  },
  {
   "cell_type": "markdown",
   "metadata": {},
   "source": [
    "All defined functions (other examples are ```mpc_problem['cons']```, ```mpc_problem['obj']```) take as input the structured data types: ```mpc_xk``` (states), ```mpc_uk``` (inputs), ```mpc_tvpk``` (time-varying parameters) and ```mpc_pk``` (parameters). We can also retreive these structures from the ots object, initilize them with zero and then set their respective values:"
   ]
  },
  {
   "cell_type": "code",
   "execution_count": 15,
   "metadata": {},
   "outputs": [],
   "source": [
    "x_k = ots.mpc_xk(0)\n",
    "u_k = ots.mpc_uk(0)\n",
    "tvp_k = ots.mpc_tvpk(0)\n",
    "p_k = ots.mpc_pk(0)"
   ]
  },
  {
   "cell_type": "markdown",
   "metadata": {},
   "source": [
    "Let's have a look at their power indices:"
   ]
  },
  {
   "cell_type": "code",
   "execution_count": 16,
   "metadata": {
    "scrolled": true
   },
   "outputs": [
    {
     "name": "stdout",
     "output_type": "stream",
     "text": [
      "x (states) with keys: ['s_buffer', 's_circuit']\n",
      "u (inputs) with keys: ['v_in_discard', 'v_in_extra', 'v_out']\n",
      "tvp (time-varying parameters) with keys: ['u_prev', 'v_in_req', 'cv_in', 'v_out_max', 'bandwidth_load_target', 's_buffer_target', 'bandwidth_load_source', 's_buffer_source']\n",
      "p (parameters) with keys: ['Pb', 'Pc']\n"
     ]
    }
   ],
   "source": [
    "print('x (states) with keys: {}'.format(x_k.keys()))\n",
    "print('u (inputs) with keys: {}'.format(u_k.keys()))\n",
    "print('tvp (time-varying parameters) with keys: {}'.format(tvp_k.keys()))\n",
    "print('p (parameters) with keys: {}'.format(p_k.keys()))"
   ]
  },
  {
   "cell_type": "code",
   "execution_count": 23,
   "metadata": {
    "scrolled": true
   },
   "outputs": [],
   "source": [
    "# Initiate lists for the solution, starting with the intial condition.\n",
    "s_buffer = [s_buffer_0]\n",
    "s_circuit = [s_circuit_0]\n",
    "for k in range(ots.N_steps):\n",
    "    x_k['s_buffer'] = s_buffer[k]\n",
    "    x_k['s_circuit'] = s_circuit[k]\n",
    "    u_k['v_in_discard'] = v_in_discard[k]\n",
    "    u_k['v_in_extra'] = v_in_extra[k]\n",
    "    u_k['v_out'] = v_out[k]\n",
    "    tvp_k['cv_in'] = vertcat(*cv_in[k])\n",
    "    tvp_k['v_in_req'] = v_in_req[k]\n",
    "    p_k['Pb'] = Pb\n",
    "    p_k['Pc'] = Pc\n",
    "    x_k_next = ots.mpc_xk(model_fun(x_k, u_k, tvp_k, p_k))\n",
    "    s_buffer.append(x_k_next['s_buffer'])\n",
    "    s_circuit.append(x_k_next['s_circuit'])\n",
    "    \n",
    "# Concatenate the solution:\n",
    "s_buffer = np.concatenate(s_buffer, axis=1).T\n",
    "s_circuit = np.concatenate(s_circuit, axis=1).T"
   ]
  },
  {
   "cell_type": "markdown",
   "metadata": {},
   "source": [
    "Both, ```s_buffer``` and ```s_circuit``` are zero for all elements and all timesteps, which is shown below for s_circuit:"
   ]
  },
  {
   "cell_type": "code",
   "execution_count": 25,
   "metadata": {
    "scrolled": false
   },
   "outputs": [
    {
     "data": {
      "text/plain": [
       "array([[0., 0., 0., 0., 0.],\n",
       "       [0., 0., 0., 0., 0.],\n",
       "       [0., 0., 0., 0., 0.],\n",
       "       [0., 0., 0., 0., 0.],\n",
       "       [0., 0., 0., 0., 0.],\n",
       "       [0., 0., 0., 0., 0.],\n",
       "       [0., 0., 0., 0., 0.],\n",
       "       [0., 0., 0., 0., 0.],\n",
       "       [0., 0., 0., 0., 0.],\n",
       "       [0., 0., 0., 0., 0.],\n",
       "       [0., 0., 0., 0., 0.],\n",
       "       [0., 0., 0., 0., 0.],\n",
       "       [0., 0., 0., 0., 0.],\n",
       "       [0., 0., 0., 0., 0.],\n",
       "       [0., 0., 0., 0., 0.],\n",
       "       [0., 0., 0., 0., 0.],\n",
       "       [0., 0., 0., 0., 0.],\n",
       "       [0., 0., 0., 0., 0.],\n",
       "       [0., 0., 0., 0., 0.],\n",
       "       [0., 0., 0., 0., 0.],\n",
       "       [0., 0., 0., 0., 0.]])"
      ]
     },
     "execution_count": 25,
     "metadata": {},
     "output_type": "execute_result"
    }
   ],
   "source": [
    "np.round(s_circuit,5)"
   ]
  },
  {
   "cell_type": "markdown",
   "metadata": {},
   "source": [
    "These are exactly the values that we expected, e.g:\n",
    "\n",
    "\n",
    "\\begin{gather}\n",
    "v_{in,0}\\cdot c_{in,0,1} = 12\\cdot0.25 = 3\\\\\n",
    "v_{in,1}\\cdot c_{in,1,0} = 4\\cdot0.25 = 2\n",
    "\\end{gather}\n",
    "Are added to output buffer 0 and $v_{out,1}$ is set to $3+2 = 5$. Such that the composition is:\n",
    "\\begin{gather}\n",
    "c_{out,0,0} = 3 / 5 = 0.6\\\\\n",
    "c_{out,0,0} = 2 / 5 = 0.4\n",
    "\\end{gather}"
   ]
  },
  {
   "cell_type": "markdown",
   "metadata": {},
   "source": [
    "Now we quickly investigate how it looks like when the buffer is increasing in size, simply by setting:"
   ]
  },
  {
   "cell_type": "code",
   "execution_count": 26,
   "metadata": {},
   "outputs": [],
   "source": [
    "v_out = [np.array([[4.5, 5, 3]]).T]*ots.N_steps"
   ]
  },
  {
   "cell_type": "markdown",
   "metadata": {},
   "source": [
    "and rerunning:"
   ]
  },
  {
   "cell_type": "code",
   "execution_count": 27,
   "metadata": {},
   "outputs": [],
   "source": [
    "# Initiate lists for the solution, starting with the intial condition.\n",
    "s_buffer = [s_buffer_0]\n",
    "s_circuit = [s_circuit_0]\n",
    "for k in range(ots.N_steps):\n",
    "    x_k['s_buffer'] = s_buffer[k]\n",
    "    x_k['s_circuit'] = s_circuit[k]\n",
    "    u_k['v_in_discard'] = v_in_discard[k]\n",
    "    u_k['v_in_extra'] = v_in_extra[k]\n",
    "    u_k['v_out'] = v_out[k]\n",
    "    tvp_k['cv_in'] = vertcat(*cv_in[k])\n",
    "    tvp_k['v_in_req'] = v_in_req[k]\n",
    "    p_k['Pb'] = Pb\n",
    "    p_k['Pc'] = Pc\n",
    "    x_k_next = ots.mpc_xk(model_fun(x_k, u_k, tvp_k, p_k))\n",
    "    s_buffer.append(x_k_next['s_buffer'])\n",
    "    s_circuit.append(x_k_next['s_circuit'])\n",
    "    \n",
    "# Concatenate the solution:\n",
    "s_buffer = np.concatenate(s_buffer, axis=1).T\n",
    "s_circuit = np.concatenate(s_circuit, axis=1).T"
   ]
  },
  {
   "cell_type": "markdown",
   "metadata": {},
   "source": [
    "Clearly the buffer and circuit memory is now growing:"
   ]
  },
  {
   "cell_type": "code",
   "execution_count": 28,
   "metadata": {
    "scrolled": true
   },
   "outputs": [
    {
     "data": {
      "image/png": "[encoded data removed]",
      "text/plain": [
       "<Figure size 432x288 with 1 Axes>"
      ]
     },
     "metadata": {
      "needs_background": "light"
     },
     "output_type": "display_data"
    }
   ],
   "source": [
    "line = plt.step(np.arange(s_buffer.shape[0]),s_buffer)\n",
    "plt.legend(line, ['buffer {}'.format(i) for i in range(n_out)])\n",
    "plt.ylabel('Buffer memory [#packets]')\n",
    "plt.xlabel('timestep')\n",
    "plt.show()"
   ]
  },
  {
   "cell_type": "markdown",
   "metadata": {},
   "source": [
    "But the composition of the outgoing packet streams is unchanged, as expected."
   ]
  },
  {
   "cell_type": "markdown",
   "metadata": {},
   "source": [
    "## Investigate MPC solver:"
   ]
  },
  {
   "cell_type": "markdown",
   "metadata": {},
   "source": [
    "Knowing that the dynamics are plausible we can now test the MPC solver. But first some insight in the MPC formulation. Starting with the stage cost function:\n",
    "\n",
    "\\begin{equation}\n",
    "L(v_{in,max},v_{out})=\n",
    "\\sum_i^{n_{out}}\\frac{(1-L_{BW,i}^{T})}{(1+L_{M,i}^{T})}\\left(-w_{send}\\frac{v_{out}}{v_{out,max,total}}+w_{store}\\frac{s_B}{s_{softmax}}\\right)\n",
    "+\\sum_i^{n_{in}}(1+L_{BW,i}^{S}L_{M,i}^{S})\\left(-w_{receive}\\frac{v_{in,max}}{v_{in,max,total}}\\right)\n",
    "+w_{\\Delta}(||v_{out}^k-v_{out}^{k-1}||_2^2\n",
    "+||v_{in,max}^k-v_{in,max}^{k-1}||_2^2)\n",
    "\\end{equation}\n",
    "\n",
    "where $w_{send}$, $w_{store}$, $w_{receive}$ and $w_{\\Delta}$ are the parameters in ```setup_dict['weights']``` from above.\n",
    "The values $L_{BW,i}^{T}$, $L_{M,i}^{T}$ are the bandwidth and memory **load** information from the **target** (=T) and **source** (=S) nodes and can take values between 0 and 1. Clearly, it is desired to not reject packets from highly occupied nodes and preferably send to nodes that are under less load.\n",
    "\n",
    "We also have constraints:\n",
    "\\begin{gather}\n",
    "\\sum_i^{n_{in}} v_{in,i} \\leq v_{in,max,total}\\\\\n",
    "\\sum_i^{n_{out}} v_{out,i}  \\leq v_{out,max,total}\\\\\n",
    "v_{out,i} \\leq v_{out,max,i}\n",
    "\\end{gather}\n",
    "\n",
    "And additionally all states and controls are given a lower bound of zero. It is important to distinguish $v_{out,max,total}$ and $v_{out,max,i}$. The primer is a global user-defined parameter that reflects the capacity of the server, whereas the latter is determined by connected servers where it is the optimization variable denoted as $v_in_max$.\n",
    "\n",
    "\n",
    "\n",
    "\n",
    "we can now call the solver:"
   ]
  },
  {
   "cell_type": "code",
   "execution_count": 21,
   "metadata": {
    "scrolled": true
   },
   "outputs": [
    {
     "name": "stdout",
     "output_type": "stream",
     "text": [
      "\n",
      "******************************************************************************\n",
      "This program contains Ipopt, a library for large-scale nonlinear optimization.\n",
      " Ipopt is released as open source code under the Eclipse Public License (EPL).\n",
      "         For more information visit http://projects.coin-or.org/Ipopt\n",
      "******************************************************************************\n",
      "\n",
      "This is Ipopt version 3.12.12, running with linear solver ma27.\n",
      "\n",
      "Number of nonzeros in equality constraint Jacobian...:        0\n",
      "Number of nonzeros in inequality constraint Jacobian.:     2350\n",
      "Number of nonzeros in Lagrangian Hessian.............:      180\n",
      "\n",
      "Total number of variables............................:      140\n",
      "                     variables with only lower bounds:        0\n",
      "                variables with lower and upper bounds:        0\n",
      "                     variables with only upper bounds:        0\n",
      "Total number of equality constraints.................:        0\n",
      "Total number of inequality constraints...............:      380\n",
      "        inequality constraints with only lower bounds:        0\n",
      "   inequality constraints with lower and upper bounds:       40\n",
      "        inequality constraints with only upper bounds:      340\n",
      "\n",
      "iter    objective    inf_pr   inf_du lg(mu)  ||d||  lg(rg) alpha_du alpha_pr  ls\n",
      "   0 -9.6800000e+01 1.60e+01 1.13e+00  -1.0 0.00e+00    -  0.00e+00 0.00e+00   0\n",
      "   1 -9.7922666e-01 6.15e+00 7.89e+00  -1.0 8.08e+00    -  9.58e-01 6.12e-01h  1\n",
      "   2 -1.9584392e-01 6.00e+00 1.78e+03  -1.0 2.28e+01    -  1.00e+00 3.05e-02h  1\n",
      "   3 -1.9313587e-01 6.00e+00 5.89e+05  -1.0 5.58e+00    -  3.44e-02 2.82e-03h  1\n",
      "   4 -5.8435816e-02 5.98e+00 2.62e+05  -1.0 7.19e+00    -  1.05e-03 2.70e-03h  1\n",
      "   5  1.6198598e-02 5.98e+00 1.43e+05  -1.0 5.19e+00   2.0 2.05e-03 1.21e-03h  1\n",
      "   6  1.2687682e-01 5.97e+00 1.88e+05  -1.0 4.69e+00   1.5 3.09e-03 1.78e-03h  1\n",
      "   7  4.1655094e-01 5.94e+00 1.88e+05  -1.0 5.04e+00   1.0 6.96e-03 4.67e-03f  1\n",
      "   8  1.5202934e+00 5.81e+00 2.23e+05  -1.0 7.79e+00    -  1.56e-02 2.15e-02f  1\n",
      "   9  2.4793222e+00 5.72e+00 2.13e+05  -1.0 5.14e+00   0.6 1.33e-02 1.59e-02h  1\n",
      "iter    objective    inf_pr   inf_du lg(mu)  ||d||  lg(rg) alpha_du alpha_pr  ls\n",
      "  10  5.4259476e+00 5.43e+00 1.96e+05  -1.0 5.13e+00   0.1 2.55e-02 5.01e-02f  1\n",
      "  11  9.7563763e+00 5.00e+00 1.80e+05  -1.0 4.87e+00  -0.4 7.88e-02 7.95e-02h  1\n",
      "  12  1.0972365e+01 4.87e+00 1.76e+05  -1.0 7.58e+00  -0.9 4.30e-02 2.54e-02h  1\n",
      "  13  1.3753003e+01 4.57e+00 1.65e+05  -1.0 4.47e+00  -1.3 7.12e-02 6.14e-02h  1\n",
      "  14  1.7535274e+01 4.16e+00 1.50e+05  -1.0 4.02e+00  -1.8 9.12e-02 9.11e-02h  1\n",
      "  15  2.3105690e+01 3.51e+00 1.26e+05  -1.0 9.12e+00    -  1.64e-01 1.56e-01h  1\n",
      "  16  2.5249218e+01 3.30e+00 1.18e+05  -1.0 2.48e+00  -0.5 8.08e-02 6.09e-02h  1\n",
      "  17  2.8006907e+01 2.96e+00 1.06e+05  -1.0 6.47e+00    -  1.09e-01 1.02e-01h  1\n",
      "  18  3.9820945e+01 1.73e+00 6.18e+04  -1.0 2.45e+00  -1.0 3.95e-01 4.17e-01h  1\n",
      "  19  4.4832856e+01 9.78e-01 3.48e+04  -1.0 4.87e+00    -  4.43e-01 4.33e-01h  1\n",
      "iter    objective    inf_pr   inf_du lg(mu)  ||d||  lg(rg) alpha_du alpha_pr  ls\n",
      "  20  5.4978118e+01 8.34e-06 1.42e+04  -1.0 6.10e-01   0.4 1.00e+00 1.00e+00h  1\n",
      "  21  5.4934052e+01 3.16e-07 7.96e+02  -1.0 1.12e-01  -0.1 1.00e+00 1.00e+00f  1\n",
      "  22  5.2627006e+01 2.86e-08 1.13e+03  -1.0 4.57e+00    -  4.05e-01 4.04e-01f  1\n",
      "  23  5.2986846e+01 4.07e-06 3.20e+02  -1.0 2.24e-01  -0.6 1.00e+00 1.00e+00f  1\n",
      "  24  4.7461027e+01 1.69e-06 1.14e+05  -1.7 4.52e+00    -  4.95e-01 6.37e-01f  1\n",
      "  25  4.7270383e+01 1.08e-06 1.56e+05  -1.7 2.96e-01  -0.2 9.06e-01 3.44e-01f  1\n",
      "  26  4.7268019e+01 0.00e+00 7.26e+05  -1.7 1.87e-02   2.1 2.58e-01 1.00e+00f  1\n",
      "  27  4.7267807e+01 0.00e+00 9.83e+03  -1.7 7.09e-04   3.4 8.78e-01 1.00e+00f  1\n",
      "  28  4.3881971e+01 0.00e+00 7.45e+03  -1.7 1.39e+01    -  2.86e-01 1.84e-01f  1\n",
      "  29  4.3881078e+01 0.00e+00 6.58e-01  -1.7 4.99e-04   2.9 1.00e+00 1.00e+00f  1\n",
      "iter    objective    inf_pr   inf_du lg(mu)  ||d||  lg(rg) alpha_du alpha_pr  ls\n",
      "  30  4.3873915e+01 0.00e+00 1.82e+03  -3.8 7.05e-04   2.4 9.91e-01 1.00e+00f  1\n",
      "  31  4.2339680e+01 0.00e+00 1.74e+03  -3.8 9.83e+01    -  3.02e-02 1.11e-02f  1\n",
      "  32  4.1700102e+01 0.00e+00 1.64e+03  -3.8 9.51e+01    -  5.19e-02 1.06e-02f  1\n",
      "  33  4.1160890e+01 0.00e+00 1.41e+03  -3.8 8.18e+01    -  1.38e-01 1.75e-02f  1\n",
      "  34  4.0908196e+01 0.00e+00 9.14e+02  -3.8 4.41e+01    -  4.81e-01 3.32e-02f  1\n",
      "  35  4.0780179e+01 0.00e+00 3.34e+02  -3.8 1.36e+00    -  8.78e-01 3.73e-01f  1\n",
      "  36  4.0778884e+01 0.00e+00 2.70e+03  -3.8 4.55e+00    -  1.04e-01 1.25e-02f  1\n",
      "  37  4.0754994e+01 0.00e+00 5.22e+03  -3.8 7.53e-01    -  1.53e-01 3.03e-01f  1\n",
      "  38  4.0745972e+01 0.00e+00 2.06e+03  -3.8 1.10e-02   2.0 2.69e-01 1.00e+00f  1\n",
      "  39  4.0727909e+01 0.00e+00 9.96e+00  -3.8 3.96e-03   1.5 9.53e-01 1.00e+00f  1\n",
      "iter    objective    inf_pr   inf_du lg(mu)  ||d||  lg(rg) alpha_du alpha_pr  ls\n",
      "  40  4.0724797e+01 0.00e+00 8.67e+01  -3.8 8.84e-03   1.0 3.33e-01 2.52e-01f  1\n",
      "  41  4.0722349e+01 0.00e+00 7.73e+01  -3.8 1.01e-02   0.5 1.77e-01 1.85e-01f  1\n",
      "  42  4.0715878e+01 0.00e+00 1.12e+03  -3.8 1.34e-02   0.1 1.00e+00 5.05e-01f  1\n",
      "  43  4.0716008e+01 0.00e+00 3.33e+03  -3.8 2.87e-03  -0.4 1.04e-01 1.00e+00f  1\n",
      "  44  4.0715164e+01 0.00e+00 3.33e+03  -3.8 9.97e-01    -  3.08e-02 1.51e-02f  2\n",
      "  45  4.0714804e+01 1.34e-06 5.20e+02  -3.8 1.17e-02   0.0 3.83e-01 1.00e+00h  1\n",
      "  46  4.0714759e+01 0.00e+00 9.11e+02  -3.8 6.49e-03   1.3 6.90e-01 9.44e-01h  1\n",
      "  47  4.0714760e+01 0.00e+00 1.62e+03  -3.8 6.52e-03   0.9 4.92e-01 1.43e-02f  2\n",
      "  48  4.0714769e+01 0.00e+00 1.93e+03  -3.8 3.23e-03   0.4 2.25e-01 1.00e+00f  1\n",
      "  49  4.0714782e+01 0.00e+00 1.21e+00  -3.8 6.04e-04   0.8 1.00e+00 1.00e+00h  1\n",
      "iter    objective    inf_pr   inf_du lg(mu)  ||d||  lg(rg) alpha_du alpha_pr  ls\n",
      "  50  4.0714765e+01 0.00e+00 2.48e-02  -3.8 3.68e-04   0.3 1.00e+00 1.00e+00h  1\n",
      "  51  4.0714691e+01 0.00e+00 7.57e-03  -3.8 9.55e-04  -0.1 1.00e+00 1.00e+00h  1\n",
      "  52  4.0714581e+01 0.00e+00 3.65e-01  -3.8 2.86e-03  -0.6 9.88e-01 4.94e-01h  2\n",
      "  53  4.0714570e+01 0.00e+00 2.07e-02  -3.8 2.84e-04   1.6 1.00e+00 1.00e+00h  1\n",
      "  54  4.0714574e+01 0.00e+00 7.34e-03  -3.8 1.04e-04   1.1 1.00e+00 1.00e+00h  1\n",
      "  55  4.0714563e+01 0.00e+00 8.91e-04  -3.8 1.98e-04   0.7 1.00e+00 1.00e+00h  1\n",
      "  56  4.0708690e+01 0.00e+00 4.60e+02  -5.7 1.24e-03   0.2 6.79e-01 1.00e+00f  1\n",
      "  57  4.0707609e+01 0.00e+00 3.22e+02  -5.7 3.20e-01    -  3.01e-01 2.89e-01f  1\n",
      "  58  4.0706805e+01 1.10e-04 3.20e+02  -5.7 3.12e-01    -  5.80e-05 2.73e-01f  1\n",
      "  59  4.0705721e+01 4.86e-05 2.56e+02  -5.7 3.24e-01    -  2.02e-01 6.65e-01f  1\n",
      "iter    objective    inf_pr   inf_du lg(mu)  ||d||  lg(rg) alpha_du alpha_pr  ls\n",
      "  60  4.0705687e+01 3.61e-06 1.67e+01  -5.7 6.08e-03  -0.3 9.35e-01 1.00e+00f  1\n",
      "  61  4.0705655e+01 2.88e-06 1.43e+01  -5.7 1.66e-02  -0.8 1.46e-01 1.58e-01h  1\n",
      "  62  4.0704569e+01 0.00e+00 1.19e+01  -5.7 9.93e-01    -  1.64e-01 1.54e-01f  1\n",
      "  63  4.0704270e+01 0.00e+00 1.08e+01  -5.7 8.79e-01    -  1.11e-01 4.19e-02f  1\n",
      "  64  4.0703204e+01 0.00e+00 8.59e+00  -5.7 8.54e-01    -  2.11e-01 1.68e-01f  1\n",
      "  65  4.0701222e+01 0.00e+00 1.16e+02  -5.7 7.06e-01    -  3.66e-02 5.62e-01f  1\n",
      "  66  4.0701178e+01 0.00e+00 1.32e+02  -5.7 9.46e-01    -  1.49e-01 2.56e-02f  1\n",
      "  67  4.0701053e+01 0.00e+00 1.11e+02  -5.7 2.84e-01    -  1.16e-01 1.60e-01f  1\n",
      "  68  4.0700104e+01 7.49e-06 8.52e+01  -5.7 9.91e-01    -  1.79e-01 2.35e-01f  1\n",
      "  69  4.0699995e+01 7.35e-06 8.39e+01  -5.7 9.93e-01    -  1.38e-02 1.49e-02f  1\n",
      "iter    objective    inf_pr   inf_du lg(mu)  ||d||  lg(rg) alpha_du alpha_pr  ls\n",
      "  70  4.0699785e+01 7.15e-06 8.22e+01  -5.7 9.97e-01    -  2.14e-02 2.02e-02f  1\n",
      "  71  4.0699450e+01 6.79e-06 7.94e+01  -5.7 9.67e-01    -  3.17e-02 3.39e-02f  1\n",
      "  72  4.0697384e+01 8.36e-07 6.05e+01  -5.7 9.42e-01    -  1.85e-01 2.51e-01f  1\n",
      "  73  4.0697260e+01 8.20e-07 5.98e+01  -5.7 9.89e-01    -  1.19e-02 1.21e-02f  1\n",
      "  74  4.0696997e+01 7.92e-07 5.86e+01  -5.7 9.92e-01    -  2.05e-02 2.01e-02f  1\n",
      "  75  4.0696966e+01 7.91e-07 5.85e+01  -5.7 2.79e+00    -  1.18e-03 1.31e-03f  1\n",
      "  76  4.0696337e+01 7.36e-07 5.62e+01  -5.7 9.92e-01    -  3.88e-02 3.93e-02f  1\n",
      "  77  4.0695503e+01 6.59e-07 5.30e+01  -5.7 9.53e-01    -  5.54e-02 5.68e-02f  1\n",
      "  78  4.0694322e+01 5.39e-07 4.84e+01  -5.7 8.99e-01    -  7.81e-02 9.13e-02f  1\n",
      "  79  4.0689527e+01 1.87e-05 3.12e+01  -5.7 9.88e-01    -  2.64e-01 3.97e-01f  1\n",
      "iter    objective    inf_pr   inf_du lg(mu)  ||d||  lg(rg) alpha_du alpha_pr  ls\n",
      "  80  4.0688251e+01 1.42e-05 2.70e+01  -5.7 9.74e-01    -  1.18e-01 1.43e-01f  1\n",
      "  81  4.0687205e+01 1.24e-05 2.46e+01  -5.7 9.89e-01    -  8.17e-02 9.62e-02f  1\n",
      "  82  4.0686942e+01 1.22e-05 2.41e+01  -5.7 9.92e-01    -  1.82e-02 1.94e-02f  1\n",
      "  83  4.0686477e+01 1.18e-05 2.34e+01  -5.7 9.92e-01    -  3.16e-02 2.88e-02f  1\n",
      "  84  4.0685745e+01 1.11e-05 2.23e+01  -5.7 9.58e-01    -  4.68e-02 4.90e-02f  1\n",
      "  85  4.0683581e+01 8.74e-06 1.81e+01  -5.7 9.17e-01    -  2.09e-01 1.71e-01f  1\n",
      "  86  4.0683273e+01 8.43e-06 1.76e+01  -5.7 7.59e-01    -  2.58e-02 3.18e-02f  1\n",
      "  87  4.0681754e+01 7.21e-06 1.56e+01  -5.7 9.89e-01    -  9.82e-02 1.26e-01f  1\n",
      "  88  4.0681058e+01 6.80e-06 1.48e+01  -5.7 9.84e-01    -  4.40e-02 5.07e-02f  1\n",
      "  89  4.0680186e+01 6.39e-06 1.40e+01  -5.7 9.91e-01    -  5.87e-02 5.45e-02f  1\n",
      "iter    objective    inf_pr   inf_du lg(mu)  ||d||  lg(rg) alpha_du alpha_pr  ls\n",
      "  90  4.0679226e+01 5.90e-06 1.31e+01  -5.7 9.30e-01    -  6.63e-02 6.83e-02f  1\n",
      "  91  4.0676825e+01 4.43e-06 1.06e+01  -5.7 8.74e-01    -  1.55e-01 2.10e-01f  1\n",
      "  92  4.0676731e+01 4.41e-06 1.06e+01  -5.7 9.87e-01    -  5.94e-03 5.56e-03f  1\n",
      "  93  4.0676613e+01 4.38e-06 1.05e+01  -5.7 9.88e-01    -  6.05e-03 6.23e-03f  1\n",
      "  94  4.0674478e+01 3.76e-06 9.18e+00  -5.7 9.80e-01    -  1.30e-01 1.21e-01f  1\n",
      "  95  4.0672508e+01 3.11e-06 7.83e+00  -5.7 8.59e-01    -  1.46e-01 1.48e-01f  1\n",
      "  96  4.0671000e+01 2.52e-06 3.70e+00  -5.7 7.26e-01    -  1.00e+00 1.58e-01f  1\n",
      "  97  4.0667805e+01 0.00e+00 7.81e-01  -5.7 5.69e-01    -  5.11e-01 1.00e+00f  1\n",
      "  98  4.0667760e+01 0.00e+00 2.33e-01  -5.7 3.82e-02    -  7.17e-01 7.05e-01h  1\n",
      "  99  4.0667767e+01 0.00e+00 1.81e-03  -5.7 1.06e-02    -  1.00e+00 1.00e+00f  1\n",
      "iter    objective    inf_pr   inf_du lg(mu)  ||d||  lg(rg) alpha_du alpha_pr  ls\n",
      " 100  4.0667767e+01 0.00e+00 6.13e-06  -5.7 1.03e-03    -  1.00e+00 1.00e+00h  1\n",
      " 101  4.0667690e+01 0.00e+00 2.62e+00  -8.6 1.59e-02    -  9.88e-01 8.59e-01f  1\n",
      " 102  4.0667675e+01 0.00e+00 2.81e-03  -8.6 1.03e-02    -  1.00e+00 1.00e+00f  1\n",
      " 103  4.0667674e+01 0.00e+00 6.54e-06  -8.6 4.55e-03    -  1.00e+00 1.00e+00h  1\n",
      " 104  4.0667674e+01 0.00e+00 3.06e-08  -8.6 2.19e-03    -  1.00e+00 1.00e+00h  1\n",
      " 105  4.0667674e+01 0.00e+00 1.09e-10  -8.6 9.50e-04    -  1.00e+00 1.00e+00h  1\n",
      "\n",
      "Number of Iterations....: 105\n",
      "\n",
      "                                   (scaled)                 (unscaled)\n",
      "Objective...............:   4.0667673733027222e+01    4.0667673733027222e+01\n",
      "Dual infeasibility......:   1.0895456759030253e-10    1.0895456759030253e-10\n",
      "Constraint violation....:   0.0000000000000000e+00    0.0000000000000000e+00\n",
      "Complementarity.........:   3.9376899495783437e-09    3.9376899495783437e-09\n",
      "Overall NLP error.......:   3.9376899495783437e-09    3.9376899495783437e-09\n",
      "\n",
      "\n",
      "Number of objective function evaluations             = 114\n",
      "Number of objective gradient evaluations             = 106\n",
      "Number of equality constraint evaluations            = 0\n",
      "Number of inequality constraint evaluations          = 114\n",
      "Number of equality constraint Jacobian evaluations   = 0\n",
      "Number of inequality constraint Jacobian evaluations = 106\n",
      "Number of Lagrangian Hessian evaluations             = 105\n",
      "Total CPU secs in IPOPT (w/o function evaluations)   =      0.109\n",
      "Total CPU secs in NLP function evaluations           =      0.008\n",
      "\n",
      "EXIT: Optimal Solution Found.\n",
      "               t_proc [s]   t_wall [s]    n_eval\n",
      "       nlp_f      0.00102     0.000974       114\n",
      "       nlp_g      0.00152      0.00138       114\n",
      "    nlp_grad      3.2e-05     3.16e-05         1\n",
      "  nlp_grad_f      0.00137       0.0012       107\n",
      "  nlp_hess_l     0.000426     0.000378       105\n",
      "   nlp_jac_g      0.00246      0.00229       107\n",
      "       optim        0.148        0.124         1\n"
     ]
    },
    {
     "data": {
      "text/plain": [
       "True"
      ]
     },
     "execution_count": 21,
     "metadata": {},
     "output_type": "execute_result"
    }
   ],
   "source": [
    "ots.solve(s_buffer_0, s_circuit_0, v_in_req, cv_in, v_out_max, bandwidth_load_target, memory_load_target, bandwidth_load_source, memory_load_source)"
   ]
  },
  {
   "cell_type": "markdown",
   "metadata": {},
   "source": [
    "The results of the optimization problem are stored in ```ots.predict```, which is a list of dicts with the keywords from above. We are interested in the last item [-1] of that list."
   ]
  },
  {
   "cell_type": "code",
   "execution_count": 22,
   "metadata": {},
   "outputs": [],
   "source": [
    "sol=ots.predict[-1]\n",
    "\n",
    "v_in_req = np.concatenate(sol['v_in_req'],axis=1).T\n",
    "v_in = np.concatenate(sol['v_in'],axis=1).T\n",
    "v_in_max = np.concatenate(sol['v_in_max'],axis=1).T\n",
    "s_b = np.concatenate(sol['s_buffer'],axis=1).T\n",
    "v_out = np.concatenate(sol['v_out'],axis=1).T"
   ]
  },
  {
   "cell_type": "code",
   "execution_count": 23,
   "metadata": {
    "scrolled": false
   },
   "outputs": [
    {
     "data": {
      "image/png": "[encoded data removed]",
      "text/plain": [
       "<Figure size 1080x288 with 3 Axes>"
      ]
     },
     "metadata": {
      "needs_background": "light"
     },
     "output_type": "display_data"
    }
   ],
   "source": [
    "fig, ax = plt.subplots(1,3, figsize=[15,4], sharex = True)\n",
    "t_ = np.arange(ots.N_steps)\n",
    "v_in_lines=ax[0].step(t_,v_in)\n",
    "ax[0].set_prop_cycle(None)\n",
    "v_in_req_lines=ax[0].step(t_,v_in_req, linestyle='--')\n",
    "ax[0].legend(v_in_lines+v_in_req_lines, ['v_in{0}_{1}'.format(a,i) for a,i in zip(['']*ots.n_in+['_req']*ots.n_in, 2*np.arange(ots.n_in).tolist())])\n",
    "ax[0].set_xlabel('time')\n",
    "ax[0].set_ylabel('incoming packets per second')\n",
    "\n",
    "lines=ax[1].step(t_,s_b)\n",
    "ax[1].legend(lines,['s_{0}'.format(i) for i in range(ots.n_out)])\n",
    "ax[1].set_xlabel('time')\n",
    "ax[1].set_ylabel('packets in output buffer')\n",
    "\n",
    "lines=ax[2].step(t_,v_out)\n",
    "ax[2].legend(lines,['v_out_{0}'.format(i) for i in range(ots.n_out)])\n",
    "ax[2].set_xlabel('time')\n",
    "ax[2].set_ylabel('outgoing packets per second')\n",
    "\n",
    "plt.tight_layout()\n",
    "plt.show()"
   ]
  },
  {
   "cell_type": "markdown",
   "metadata": {},
   "source": [
    "We can see that the MPC solution requires to reject some packages and to build up a moderate buffer memory. If we look at the total sending rate:"
   ]
  },
  {
   "cell_type": "code",
   "execution_count": 24,
   "metadata": {},
   "outputs": [
    {
     "data": {
      "text/plain": [
       "array([7.99999999, 7.99999999, 7.99999999, 7.99999999, 7.99999999,\n",
       "       7.99999999, 7.99999999, 7.99999999, 7.99999999, 7.99999999,\n",
       "       7.99999999, 7.99999999, 7.99999999, 7.99999999, 7.99999999,\n",
       "       7.99999999, 7.99999999, 7.99999999, 7.99999999, 7.99999999])"
      ]
     },
     "execution_count": 24,
     "metadata": {},
     "output_type": "execute_result"
    }
   ],
   "source": [
    "np.sum(v_out,axis=1)"
   ]
  },
  {
   "cell_type": "markdown",
   "metadata": {},
   "source": [
    "We see that at the boundry of ```v_out_max_total = 8```."
   ]
  },
  {
   "cell_type": "markdown",
   "metadata": {},
   "source": [
    "For the receiving rate we get:"
   ]
  },
  {
   "cell_type": "code",
   "execution_count": 25,
   "metadata": {},
   "outputs": [
    {
     "data": {
      "text/plain": [
       "array([9.07645475, 9.07621416, 9.07607625, 9.07597332, 9.07588798,\n",
       "       9.075813  , 9.07574458, 9.07568045, 9.07561879, 9.07555885,\n",
       "       9.07549933, 9.07543936, 9.0753779 , 9.0753137 , 9.07524526,\n",
       "       9.07517025, 9.0750849 , 9.07498195, 9.07484392, 9.07460322])"
      ]
     },
     "execution_count": 25,
     "metadata": {},
     "output_type": "execute_result"
    }
   ],
   "source": [
    "np.sum(v_in,axis=1)"
   ]
  },
  {
   "cell_type": "markdown",
   "metadata": {},
   "source": [
    "**NOTE**: This is showing an undesired behavior that has to be fixed. As a matter of fact, we discard parts of the incoming packets in connection one, to allow for potentially more packets in connection two. "
   ]
  }
 ],
 "metadata": {
  "kernelspec": {
   "display_name": "Python 3.6, 64bit",
   "language": "python",
   "name": "py36_64bit"
  },
  "language_info": {
   "codemirror_mode": {
    "name": "ipython",
    "version": 3
   },
   "file_extension": ".py",
   "mimetype": "text/x-python",
   "name": "python",
   "nbconvert_exporter": "python",
   "pygments_lexer": "ipython3",
   "version": "3.6.8"
  },
  "toc": {
   "base_numbering": 1,
   "nav_menu": {},
   "number_sections": true,
   "sideBar": true,
   "skip_h1_title": false,
   "title_cell": "Table of Contents",
   "title_sidebar": "Contents",
   "toc_cell": false,
   "toc_position": {},
   "toc_section_display": true,
   "toc_window_display": false
  }
 },
 "nbformat": 4,
 "nbformat_minor": 2
}
