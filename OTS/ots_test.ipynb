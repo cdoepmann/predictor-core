{
 "cells": [
  {
   "cell_type": "markdown",
   "metadata": {},
   "source": [
    "# Testing and illustrating the Toropti\n",
    "The optimal_traffic_scheduler (**OTS**) class."
   ]
  },
  {
   "cell_type": "code",
   "execution_count": 1,
   "metadata": {},
   "outputs": [],
   "source": [
    "import numpy as np\n",
    "import matplotlib.pyplot as plt\n",
    "from optimal_traffic_scheduler import optimal_traffic_scheduler\n",
    "import pdb\n",
    "%matplotlib notebook"
   ]
  },
  {
   "cell_type": "markdown",
   "metadata": {},
   "source": [
    "We create a simple scenario to illustrate and investigate the mechanics of the **OTS** class. For this purpose we start by creating a setup_dict for our optimizer that carries the same (and some additional) information as the server nodes in **NS-F**:"
   ]
  },
  {
   "cell_type": "code",
   "execution_count": 2,
   "metadata": {},
   "outputs": [],
   "source": [
    "setup_dict = {}\n",
    "setup_dict['v_max'] = 20  # packets / s\n",
    "setup_dict['s_max'] = 200  # packets\n",
    "setup_dict['dt'] = 0.1  # s\n",
    "setup_dict['N_steps'] = 20\n",
    "setup_dict['weights'] = {'control_delta': 0.1, 'send': 1, 'store': 0, 'receive': 1}"
   ]
  },
  {
   "cell_type": "markdown",
   "metadata": {},
   "source": [
    "- **v_max**: is the maximum number of packets that can be processed per second. Processing means the sum of all incoming and outgoing packets. As these incoming and outgoing packets share the same band they are collectively limited.\n",
    "- **s_max**: is the maximum number of packets in the server. The NS-F server nodes rejects packets (they are lost) if this value is to be exceeded otherwise.\n",
    "- **dt**: Timestep of the **OTS** object. Note that this should be at least an order of magnitude greater than the **NS-F** server timestep.\n",
    "- **N_steps**: Prediction horizon for the MPC problem.\n",
    "- **weights**: In this term weighting coefficients for the MPC objective are stored as a dict. We have three tuning factors:\n",
    "  - **control_delta**: This term penalizes high changes (with regard to the L2-Norm) in the controlled variables and is important to ensure stability of the distributed system.\n",
    "  - **send**: Prioritization of sending packets.\n",
    "  - **store**: Prioritization of reducing the storage.\n",
    "  - **receive**:  Prioritization of receiving packets (not rejecting them).\n",
    "\n",
    "We can now create the object:"
   ]
  },
  {
   "cell_type": "code",
   "execution_count": 3,
   "metadata": {},
   "outputs": [],
   "source": [
    "ots = optimal_traffic_scheduler(setup_dict)"
   ]
  },
  {
   "cell_type": "markdown",
   "metadata": {},
   "source": [
    "We look into **OTS** with a concrete example. Lets assume that we have two inputs and three outputs for the node and that a total of five circuits are beeing processed. This can simply be expressed as follow:"
   ]
  },
  {
   "cell_type": "code",
   "execution_count": 4,
   "metadata": {},
   "outputs": [],
   "source": [
    "circuits_in = [[0, 1, 2], [3, 4]]\n",
    "circuits_out = [[1, 3], [0], [2, 4]]\n",
    "# Furthermore we have an output delay of:\n",
    "output_delay = np.array([0.05, 0.05, 0.05]) #s\n",
    "# This is important for the later mentionned s_transit."
   ]
  },
  {
   "cell_type": "markdown",
   "metadata": {},
   "source": [
    "Normally, this information would be automatically retrieved from the network structure, along with additional values. For this example, we do some manual calculations to configure the node:"
   ]
  },
  {
   "cell_type": "code",
   "execution_count": 5,
   "metadata": {},
   "outputs": [
    {
     "name": "stdout",
     "output_type": "stream",
     "text": [
      "The 2 incoming connections carry [3, 2] circuits and the 3 outgoing connections have [2, 1, 2] circuits.\n",
      "Clearly, sum(n_circuits_in) = 5, is the same as sum(n_circuits_out) = 5\n"
     ]
    }
   ],
   "source": [
    "n_in = len(circuits_in)\n",
    "n_out = len(circuits_out)\n",
    "n_circuit_in = [len(c_i) for c_i in circuits_in]\n",
    "n_circuit_out = [len(c_i) for c_i in circuits_out]\n",
    "print('The {0} incoming connections carry {1} circuits \\\n",
    "and the {2} outgoing connections have {3} circuits.'.format(n_in,n_circuit_in,n_out,n_circuit_out))\n",
    "print('Clearly, sum(n_circuits_in) = {0}, is the same as sum(n_circuits_out) = {1}'.format(np.sum(n_circuit_in),np.sum(n_circuit_out)))"
   ]
  },
  {
   "cell_type": "markdown",
   "metadata": {},
   "source": [
    "We can now sestup the **OTS** object:"
   ]
  },
  {
   "cell_type": "code",
   "execution_count": 6,
   "metadata": {},
   "outputs": [],
   "source": [
    "ots.setup(n_in, n_out, circuits_in, circuits_out, output_delay=output_delay)"
   ]
  },
  {
   "cell_type": "markdown",
   "metadata": {},
   "source": [
    "Two very important matrices are calculated with staticmethods from the **OTS** object:"
   ]
  },
  {
   "cell_type": "code",
   "execution_count": 7,
   "metadata": {},
   "outputs": [],
   "source": [
    "Pb = ots.Pb_fun(circuits_in, circuits_out)\n",
    "Pc = ots.Pc_fun(circuits_in, circuits_out)"
   ]
  },
  {
   "cell_type": "markdown",
   "metadata": {},
   "source": [
    "Pb is an assignment matrix that determines, which element of each input is assigned to which output buffer. What this means becomes clear when we display it for the example circuit constellation:"
   ]
  },
  {
   "cell_type": "code",
   "execution_count": 8,
   "metadata": {},
   "outputs": [
    {
     "data": {
      "text/plain": [
       "array([[0., 1., 0., 1., 0.],\n",
       "       [1., 0., 0., 0., 0.],\n",
       "       [0., 0., 1., 0., 1.]])"
      ]
     },
     "execution_count": 8,
     "metadata": {},
     "output_type": "execute_result"
    }
   ],
   "source": [
    "Pb"
   ]
  },
  {
   "cell_type": "markdown",
   "metadata": {},
   "source": [
    "Each row corresponds to one output and each column to one input circuit. We see that the input circuits at position 1 and 3 are directed to output 0, for example."
   ]
  },
  {
   "cell_type": "markdown",
   "metadata": {},
   "source": [
    "Pc, on the other hand, is an assignment matrix to determine which input circuit is directed to which output circuit:"
   ]
  },
  {
   "cell_type": "code",
   "execution_count": 9,
   "metadata": {},
   "outputs": [
    {
     "data": {
      "text/plain": [
       "array([[0., 1., 0., 0., 0.],\n",
       "       [0., 0., 0., 1., 0.],\n",
       "       [1., 0., 0., 0., 0.],\n",
       "       [0., 0., 1., 0., 0.],\n",
       "       [0., 0., 0., 0., 1.]])"
      ]
     },
     "execution_count": 9,
     "metadata": {},
     "output_type": "execute_result"
    }
   ],
   "source": [
    "Pc"
   ]
  },
  {
   "cell_type": "markdown",
   "metadata": {},
   "source": [
    "This is an quadratic matrix as the number of circuits cant change within a node. Basically, this matrix just changes the order of the circuits."
   ]
  },
  {
   "cell_type": "markdown",
   "metadata": {},
   "source": [
    "We know create a scenario in which the optimization is triggered with some dummy values. We set the following for the initial condition:"
   ]
  },
  {
   "cell_type": "code",
   "execution_count": 10,
   "metadata": {},
   "outputs": [],
   "source": [
    "s_buffer_0 = np.zeros((n_out, 1))\n",
    "s_circuit_0 = np.zeros((np.sum(n_circuit_in), 1))\n",
    "s_transit_0 = np.zeros((n_out, 1))"
   ]
  },
  {
   "cell_type": "markdown",
   "metadata": {},
   "source": [
    "Where ```s_buffer``` is a n_out x 1 vector with one component for each output queue of the server and ```s_circuit``` is a n_circuit x 1 vector with one component for each circuit. These values represent the number of packets per buffer and circuit.\n",
    "The last vector, ```s_transit``` (n_out x 1), is a fictional buffer that tracks the number of packets that are in transit. This means they were sent but not replied, yet. It is important to track this, because packets that are sent, are not actually leaving the buffer until their successfull sending was confirmed.\n",
    "\n",
    "We also introduce some trajectories that are obtained in adjacent nodes and communicated with the current node. For our example we again choose some dummy values:"
   ]
  },
  {
   "cell_type": "code",
   "execution_count": 11,
   "metadata": {},
   "outputs": [],
   "source": [
    "v_in_req = [np.array([[12, 4]]).T]*ots.N_steps\n",
    "\n",
    "cv_in = [[np.array([[0.5, 0.25, 0.25]]).T, np.array([[0.5, 0.5]]).T]]*ots.N_steps\n",
    "\n",
    "v_out_max = [np.array([[6, 6, 6]]).T]*ots.N_steps\n",
    "\n",
    "bandwidth_load_target = [np.array([[0, 0, 0]]).T]*ots.N_steps\n",
    "memory_load_target = [np.array([[0, 0, 0]]).T]*ots.N_steps\n",
    "\n",
    "bandwidth_load_source = [np.array([[0, 0]]).T]*ots.N_steps\n",
    "memory_load_source = [np.array([[0, 0]]).T]*ots.N_steps"
   ]
  },
  {
   "cell_type": "markdown",
   "metadata": {},
   "source": [
    "Note, first of all, the format of all these trajectories. Each of them is represented by a list with N items, where each list item is a vector that represents the value of that trajectory at a distinct timestep for a total of N timesteps. \n",
    "Now to the individual explanations:\n",
    "- **v_in_req**: Is the requested incoming packet stream of the connected sending nodes. Ideally our node excepts all of this data, however, it can choose to reject some of it.\n",
    "- **cv_in**: Is the composition of the incoming packet streams. Each list item is again a list. Each of these elements corresponds to one of the incoming streams and is itself a composition vector. Note the similarity to the ```circuits_in``` definition from above.\n",
    "- **v_out_max**: The maximum allowed packet stream of the outgoing connections. \n",
    "- **bandwidth_load_target / memory_load_target**: Load information for the target servers\n",
    "- **bandwidth_load_source / memory_load_source**: Load information for the source servers"
   ]
  },
  {
   "cell_type": "markdown",
   "metadata": {},
   "source": [
    "## Test 01: Investigate dynamics\n",
    "For our first test we do not solve the optimal control problem but instead manually set the control inputs and investigate the system dynamics. "
   ]
  },
  {
   "cell_type": "code",
   "execution_count": 12,
   "metadata": {},
   "outputs": [],
   "source": [
    "v_in_max = [np.array([[12, 4]]).T]*ots.N_steps\n",
    "v_out = [np.array([[5, 6, 5]]).T]*ots.N_steps"
   ]
  },
  {
   "cell_type": "markdown",
   "metadata": {},
   "source": [
    "We can control the upper limit for the incoming packet streams, where the resulting incoming packet stream is simply \n",
    "```python\n",
    "   v_in = min(v_in_max, v_in_req)\n",
    "```\n",
    "However, this is implemented differently to avoid problems of the optimizer. Details can be found [here](ns_f/min_v_in_formulation_test.ipynb). In short we introduce to new trajectories: ```v_in_discard``` and ```v_in_extra```. From ```v_in_req``` and ```v_in_max``` they are calculated as follows:"
   ]
  },
  {
   "cell_type": "code",
   "execution_count": 13,
   "metadata": {},
   "outputs": [
    {
     "name": "stdout",
     "output_type": "stream",
     "text": [
      "v_in_extra:   [0 0], at t=0\n",
      "v_in_discard: [0 0], at t=0\n"
     ]
    }
   ],
   "source": [
    "v_in_discard = [np.maximum(v_in_req_i-v_in_max_i,0) for v_in_max_i, v_in_req_i in zip(v_in_max,v_in_req)]\n",
    "v_in_extra = [np.maximum(v_in_max_i-v_in_req_i,0) for v_in_max_i, v_in_req_i in zip(v_in_max,v_in_req)]\n",
    "\n",
    "print('v_in_extra:   '+ str(v_in_extra[0].flatten()) + ', at t=0')\n",
    "print('v_in_discard: '+ str(v_in_discard[0].flatten())+ ', at t=0')"
   ]
  },
  {
   "cell_type": "markdown",
   "metadata": {},
   "source": [
    "\n",
    "Furthermore, we are able to control the sending rate individually for each output_buffer. \n",
    "\n",
    "The dynamics of the system are quite simple. We have an auxiliary variable $v_{c,in}$ that derives from $v_{in}$ and $c_{v,in}$ and denotes the incoming packet streams for each circuit. With this value and the previous buffer memory ($s^{k}_B$) and circuit memory ($s^{k}_C$) we calculate intermediate values for the next buffer and circuit memory. We need the matrices $P_B$ and $P_C$ that were introduced above:\n",
    "\\begin{gather}\n",
    "\\tilde{s}^{k+1}_B= s^{k}_B +\\Delta t \\cdot P_B  v_{c,in}\\\\\n",
    "\\tilde{s}^{k+1}_C = s^{k}_C +\\Delta t \\cdot P_C  v_{c,in}\\\\\n",
    "\\end{gather}\n",
    "With the intermediate circuit and buffer memory we calculate the composition of the outgoing packet stream, simply by dividing the respective elements of $\\tilde{s}^{k+1}_C$ and $\\tilde{s}^{k+1}_B$. \n",
    "Now, we can use to calculate the outgoing circuit streams $v_{c,out}$ by using $v_{out}$ and $c_{v,out}$. \n",
    "This allows to write:\n",
    "\\begin{gather}\n",
    "s^{k+1}_B= \\tilde{s}^{k+1} -\\Delta t \\cdot v_{out}\\\\\n",
    "s^{k+1}_c = \\tilde{s}^{k+1}_C -\\Delta t \\cdot v_{c,out}\\\\\n",
    "\\end{gather}\n"
   ]
  },
  {
   "cell_type": "markdown",
   "metadata": {},
   "source": [
    "Lastly, we can calculate the next \"transit memory\" with the following equation:\n",
    "\\begin{gather}\n",
    "s^{k+1}_T= s^{k}_T +\\Delta t (v_{out}- v_{Tr, remove})\n",
    "\\end{gather}\n",
    "It is important to realize that everything that is sent ($v_{out}$) is temporarily transfered into $s_T$ (the transit buffer) where it remains until we notice that is was successfully received. Under the assumption that no packet is lost, the values of $v_{Tr, remove}$ are simply previous values of $v_{out}$. How far we have to look back depends on the latency of the outgoing connection and the time step of the optimizer. This makes everything a bit complicated, since for the first elements of $v_{Tr, remove}$ we need to use recorded values of $v_{out}$ (time varying parameters for optimization), whereas for successive values we use values of $v_{out}$ (optimization variables).\n",
    "\n",
    "For this simple example, where ```output_delay = np.array([0.05, 0.05, 0.05]) #s```, and $\\Delta t_{optim}=0.1$, we only have to look at the last element of ```v_out``` from record. We simply set it to: "
   ]
  },
  {
   "cell_type": "code",
   "execution_count": 15,
   "metadata": {},
   "outputs": [],
   "source": [
    "v_tr_remove = [np.array([0,0,0]).reshape(-1,1)]"
   ]
  },
  {
   "cell_type": "markdown",
   "metadata": {},
   "source": [
    "Let's check these dynamics with the chosen input trajectories from above. Note that ```v_out``` was chosen, such that all incoming packets are forwarded immediatly. "
   ]
  },
  {
   "cell_type": "code",
   "execution_count": 25,
   "metadata": {
    "scrolled": true
   },
   "outputs": [],
   "source": [
    "model_fun = ots.mpc_problem['model'] # Retrieve the model function from the ots object.\n",
    "\n",
    "# Initiate lists for the solution, starting with the intial condition.\n",
    "s_buffer = [s_buffer_0]\n",
    "s_circuit = [s_circuit_0]\n",
    "s_transit = [s_transit_0]\n",
    "cv_out = []\n",
    "for k in range(ots.N_steps):\n",
    "    model_out = model_fun(s_buffer[k], s_transit[k], s_circuit[k], v_tr_remove[k], v_in_req[k], v_in_discard[k], v_in_extra[k], *cv_in[k], v_out[k], Pb, Pc)\n",
    "    model_out = [model_out_i.full() for model_out_i in model_out]\n",
    "    # model_out is a list, where the following items correspond to the following variables:\n",
    "    s_buffer.append(model_out[0])\n",
    "    s_transit.append(model_out[1])\n",
    "    s_circuit.append(model_out[2])\n",
    "    cv_out.append(model_out[3:])\n",
    "    v_tr_remove.append(v_out[k])\n",
    "    \n",
    "# Concatenate the solution:\n",
    "s_buffer = np.concatenate(s_buffer, axis=1).T\n",
    "s_circuit = np.concatenate(s_circuit, axis=1).T\n",
    "s_transit = np.concatenate(s_transit, axis=1).T"
   ]
  },
  {
   "cell_type": "markdown",
   "metadata": {},
   "source": [
    "Both, ```s_buffer``` and ```s_circuit``` are zero for all elements and all timesteps, which is shown below for s_circuit:"
   ]
  },
  {
   "cell_type": "code",
   "execution_count": 26,
   "metadata": {
    "scrolled": false
   },
   "outputs": [
    {
     "data": {
      "text/plain": [
       "array([[0., 0., 0., 0., 0.],\n",
       "       [0., 0., 0., 0., 0.],\n",
       "       [0., 0., 0., 0., 0.],\n",
       "       [0., 0., 0., 0., 0.],\n",
       "       [0., 0., 0., 0., 0.],\n",
       "       [0., 0., 0., 0., 0.],\n",
       "       [0., 0., 0., 0., 0.],\n",
       "       [0., 0., 0., 0., 0.],\n",
       "       [0., 0., 0., 0., 0.],\n",
       "       [0., 0., 0., 0., 0.],\n",
       "       [0., 0., 0., 0., 0.],\n",
       "       [0., 0., 0., 0., 0.],\n",
       "       [0., 0., 0., 0., 0.],\n",
       "       [0., 0., 0., 0., 0.],\n",
       "       [0., 0., 0., 0., 0.],\n",
       "       [0., 0., 0., 0., 0.],\n",
       "       [0., 0., 0., 0., 0.],\n",
       "       [0., 0., 0., 0., 0.],\n",
       "       [0., 0., 0., 0., 0.],\n",
       "       [0., 0., 0., 0., 0.],\n",
       "       [0., 0., 0., 0., 0.]])"
      ]
     },
     "execution_count": 26,
     "metadata": {},
     "output_type": "execute_result"
    }
   ],
   "source": [
    "np.round(s_circuit,5)"
   ]
  },
  {
   "cell_type": "markdown",
   "metadata": {},
   "source": [
    "Looking at ```s_transit``` we see that some packets are in transit:"
   ]
  },
  {
   "cell_type": "code",
   "execution_count": 27,
   "metadata": {},
   "outputs": [
    {
     "data": {
      "text/plain": [
       "array([[0. , 0. , 0. ],\n",
       "       [0.5, 0.6, 0.5],\n",
       "       [0.5, 0.6, 0.5],\n",
       "       [0.5, 0.6, 0.5],\n",
       "       [0.5, 0.6, 0.5],\n",
       "       [0.5, 0.6, 0.5],\n",
       "       [0.5, 0.6, 0.5],\n",
       "       [0.5, 0.6, 0.5],\n",
       "       [0.5, 0.6, 0.5],\n",
       "       [0.5, 0.6, 0.5],\n",
       "       [0.5, 0.6, 0.5],\n",
       "       [0.5, 0.6, 0.5],\n",
       "       [0.5, 0.6, 0.5],\n",
       "       [0.5, 0.6, 0.5],\n",
       "       [0.5, 0.6, 0.5],\n",
       "       [0.5, 0.6, 0.5],\n",
       "       [0.5, 0.6, 0.5],\n",
       "       [0.5, 0.6, 0.5],\n",
       "       [0.5, 0.6, 0.5],\n",
       "       [0.5, 0.6, 0.5],\n",
       "       [0.5, 0.6, 0.5]])"
      ]
     },
     "execution_count": 27,
     "metadata": {},
     "output_type": "execute_result"
    }
   ],
   "source": [
    "np.round(s_transit,5)"
   ]
  },
  {
   "cell_type": "markdown",
   "metadata": {},
   "source": [
    "An interesting value is also the composition, which is shown below:"
   ]
  },
  {
   "cell_type": "code",
   "execution_count": 28,
   "metadata": {},
   "outputs": [
    {
     "name": "stdout",
     "output_type": "stream",
     "text": [
      "[[0.6, 0.4], [1.0], [0.6, 0.4]]\n",
      "[[0.6, 0.4], [1.0], [0.6, 0.4]]\n",
      "[[0.6, 0.4], [1.0], [0.6, 0.4]]\n",
      "[[0.6, 0.4], [1.0], [0.6, 0.4]]\n",
      "[[0.6, 0.4], [1.0], [0.6, 0.4]]\n",
      "[[0.6, 0.4], [1.0], [0.6, 0.4]]\n",
      "[[0.6, 0.4], [1.0], [0.6, 0.4]]\n",
      "[[0.6, 0.4], [1.0], [0.6, 0.4]]\n",
      "[[0.6, 0.4], [1.0], [0.6, 0.4]]\n",
      "[[0.6, 0.4], [1.0], [0.6, 0.4]]\n",
      "[[0.6, 0.4], [1.0], [0.6, 0.4]]\n",
      "[[0.6, 0.4], [1.0], [0.6, 0.4]]\n",
      "[[0.6, 0.4], [1.0], [0.6, 0.4]]\n",
      "[[0.6, 0.4], [1.0], [0.6, 0.4]]\n",
      "[[0.6, 0.4], [1.0], [0.6, 0.4]]\n",
      "[[0.6, 0.4], [1.0], [0.6, 0.4]]\n",
      "[[0.6, 0.4], [1.0], [0.6, 0.4]]\n",
      "[[0.6, 0.4], [1.0], [0.6, 0.4]]\n",
      "[[0.6, 0.4], [1.0], [0.6, 0.4]]\n",
      "[[0.6, 0.4], [1.0], [0.6, 0.4]]\n"
     ]
    }
   ],
   "source": [
    "for k in range(ots.N_steps):\n",
    "    print([np.round(c_i,2).flatten().tolist() for c_i in cv_out[k]])"
   ]
  },
  {
   "cell_type": "markdown",
   "metadata": {},
   "source": [
    "These are exactly the values that we expected, e.g:\n",
    "\n",
    "\n",
    "\\begin{gather}\n",
    "v_{in,0}\\cdot c_{in,0,1} = 12\\cdot0.25 = 3\\\\\n",
    "v_{in,1}\\cdot c_{in,1,0} = 4\\cdot0.25 = 2\n",
    "\\end{gather}\n",
    "Are added to output buffer 0 and $v_{out,1}$ is set to $3+2 = 5$. Such that the composition is:\n",
    "\\begin{gather}\n",
    "c_{out,0,0} = 3 / 5 = 0.6\\\\\n",
    "c_{out,0,0} = 2 / 5 = 0.4\n",
    "\\end{gather}"
   ]
  },
  {
   "cell_type": "markdown",
   "metadata": {},
   "source": [
    "Now we quickly investigate how it looks like when the buffer is increasing in size, simply by setting:"
   ]
  },
  {
   "cell_type": "code",
   "execution_count": 29,
   "metadata": {},
   "outputs": [],
   "source": [
    "v_out = [np.array([[4.5, 5, 3]]).T]*ots.N_steps"
   ]
  },
  {
   "cell_type": "markdown",
   "metadata": {},
   "source": [
    "and rerunning:"
   ]
  },
  {
   "cell_type": "code",
   "execution_count": 30,
   "metadata": {},
   "outputs": [],
   "source": [
    "# Initiate lists for the solution, starting with the intial condition.\n",
    "s_buffer = [s_buffer_0]\n",
    "s_circuit = [s_circuit_0]\n",
    "s_transit = [s_transit_0]\n",
    "cv_out = []\n",
    "for k in range(ots.N_steps):\n",
    "    model_out = model_fun(s_buffer[k], s_transit[k], s_circuit[k], v_tr_remove[k], v_in_req[k], v_in_discard[k], v_in_extra[k], *cv_in[k], v_out[k], Pb, Pc)\n",
    "    model_out = [model_out_i.full() for model_out_i in model_out]\n",
    "    # model_out is a list, where the following items correspond to the following variables:\n",
    "    s_buffer.append(model_out[0])\n",
    "    s_transit.append(model_out[1])\n",
    "    s_circuit.append(model_out[2])\n",
    "    cv_out.append(model_out[3:])\n",
    "    v_tr_remove.append(v_out[k])\n",
    "    \n",
    "# Concatenate the solution:\n",
    "s_buffer = np.concatenate(s_buffer, axis=1).T\n",
    "s_circuit = np.concatenate(s_circuit, axis=1).T\n",
    "s_transit = np.concatenate(s_transit, axis=1).T"
   ]
  },
  {
   "cell_type": "markdown",
   "metadata": {},
   "source": [
    "Clearly the buffer and circuit memory is now growing:"
   ]
  },
  {
   "cell_type": "code",
   "execution_count": 31,
   "metadata": {
    "scrolled": true
   },
   "outputs": [
    {
     "data": {
      "image/png": "[encoded data removed]",
      "text/plain": [
       "<Figure size 432x288 with 1 Axes>"
      ]
     },
     "metadata": {
      "needs_background": "light"
     },
     "output_type": "display_data"
    }
   ],
   "source": [
    "line = plt.step(np.arange(s_buffer.shape[0]),s_buffer)\n",
    "plt.legend(line, ['buffer {}'.format(i) for i in range(n_out)])\n",
    "plt.ylabel('Buffer memory [#packets]')\n",
    "plt.xlabel('timestep')\n",
    "plt.show()"
   ]
  },
  {
   "cell_type": "markdown",
   "metadata": {},
   "source": [
    "But the composition of the outgoing packet streams is unchanged, as expected."
   ]
  },
  {
   "cell_type": "code",
   "execution_count": 32,
   "metadata": {},
   "outputs": [
    {
     "name": "stdout",
     "output_type": "stream",
     "text": [
      "[[0.6, 0.4], [1.0], [0.6, 0.4]]\n",
      "[[0.6, 0.4], [1.0], [0.6, 0.4]]\n",
      "[[0.6, 0.4], [1.0], [0.6, 0.4]]\n",
      "[[0.6, 0.4], [1.0], [0.6, 0.4]]\n",
      "[[0.6, 0.4], [1.0], [0.6, 0.4]]\n",
      "[[0.6, 0.4], [1.0], [0.6, 0.4]]\n",
      "[[0.6, 0.4], [1.0], [0.6, 0.4]]\n",
      "[[0.6, 0.4], [1.0], [0.6, 0.4]]\n",
      "[[0.6, 0.4], [1.0], [0.6, 0.4]]\n",
      "[[0.6, 0.4], [1.0], [0.6, 0.4]]\n",
      "[[0.6, 0.4], [1.0], [0.6, 0.4]]\n",
      "[[0.6, 0.4], [1.0], [0.6, 0.4]]\n",
      "[[0.6, 0.4], [1.0], [0.6, 0.4]]\n",
      "[[0.6, 0.4], [1.0], [0.6, 0.4]]\n",
      "[[0.6, 0.4], [1.0], [0.6, 0.4]]\n",
      "[[0.6, 0.4], [1.0], [0.6, 0.4]]\n",
      "[[0.6, 0.4], [1.0], [0.6, 0.4]]\n",
      "[[0.6, 0.4], [1.0], [0.6, 0.4]]\n",
      "[[0.6, 0.4], [1.0], [0.6, 0.4]]\n",
      "[[0.6, 0.4], [1.0], [0.6, 0.4]]\n"
     ]
    }
   ],
   "source": [
    "for k in range(ots.N_steps):\n",
    "    print([np.round(c_i,1).flatten().tolist() for c_i in cv_out[k]])"
   ]
  },
  {
   "cell_type": "markdown",
   "metadata": {},
   "source": [
    "## Investigate MPC solver:"
   ]
  },
  {
   "cell_type": "markdown",
   "metadata": {},
   "source": [
    "**TODO**:\n",
    " - [ ] Constraints are not copied correctly\n",
    " \n",
    " \n",
    " \n",
    "\n",
    "Knowing that the dynamics are plausible we can now test the MPC solver. But first some insight in the MPC formulation:\n",
    "- Stage cost:\n",
    "\\begin{equation}\n",
    "L(v_{in,max},v_{out})=\n",
    "\\sum_i^{n_{out}}(1-L_{BW,i}^{T})(1-L_{M,i}^{T})\\left(-w_{send}\\frac{v_{out}}{v_{max}}+w_{store}\\frac{s_B}{s_{max}}\\right)\n",
    "+\\sum_i^{n_{in}}(1+L_{BW,i}^{S}L_{M,i}^{S})\\left(-w_{receive}\\frac{v_{in,max}}{v_{max}}\\right)\n",
    "+w_{\\Delta}(||v_{out}^k-v_{out}^{k-1}||_2^2\n",
    "+||v_{in,max}^k-v_{in,max}^{k-1}||_2^2)\n",
    "\\end{equation}\n",
    "\n",
    "\n",
    "- stage constraints:\n",
    "\\begin{gather}\n",
    "\\sum_i^{n_{in}} v_{in,i} + \\sum_i^{n_{out}} v_{out,i} \\leq v_{max}\\\\\n",
    "s_B \\geq 0\\\\\n",
    "0 \\leq v_{out} \\leq v_{out,max}\\\\\n",
    "v_{in,max}\\leq v_{max}\n",
    "\\end{gather}\n",
    "\n",
    "where $w_{send}$, $w_{store}$, $w_{receive}$ and $w_{\\Delta}$ are the parameters in ```setup_dict['weights']``` from above.\n",
    "\n",
    "The values $L_{BW,i}^{T}$, $L_{M,i}^{T}$ are the bandwidth and memory **load** information from the **target** (=T) and **source** (=S) nodes and can take values between 0 and 1. Clearly, it is desired to not reject packets from highly occupied nodes and preferably send to nodes that are under less load.\n",
    "\n",
    "we can now call the solver:"
   ]
  },
  {
   "cell_type": "code",
   "execution_count": 33,
   "metadata": {
    "scrolled": true
   },
   "outputs": [
    {
     "name": "stdout",
     "output_type": "stream",
     "text": [
      "\n",
      "******************************************************************************\n",
      "This program contains Ipopt, a library for large-scale nonlinear optimization.\n",
      " Ipopt is released as open source code under the Eclipse Public License (EPL).\n",
      "         For more information visit http://projects.coin-or.org/Ipopt\n",
      "******************************************************************************\n",
      "\n",
      "This is Ipopt version 3.12.12, running with linear solver ma27.\n",
      "\n",
      "Number of nonzeros in equality constraint Jacobian...:        0\n",
      "Number of nonzeros in inequality constraint Jacobian.:     3400\n",
      "Number of nonzeros in Lagrangian Hessian.............:      180\n",
      "\n",
      "Total number of variables............................:      140\n",
      "                     variables with only lower bounds:        0\n",
      "                variables with lower and upper bounds:        0\n",
      "                     variables with only upper bounds:        0\n",
      "Total number of equality constraints.................:        0\n",
      "Total number of inequality constraints...............:      380\n",
      "        inequality constraints with only lower bounds:        0\n",
      "   inequality constraints with lower and upper bounds:       40\n",
      "        inequality constraints with only upper bounds:      340\n",
      "\n",
      "iter    objective    inf_pr   inf_du lg(mu)  ||d||  lg(rg) alpha_du alpha_pr  ls\n",
      "   0 -7.2000000e+00 4.00e+00 4.86e-01  -1.0 0.00e+00    -  0.00e+00 0.00e+00   0\n",
      "   1 -4.7254461e+00 1.31e+00 3.35e+00  -1.0 2.22e+00    -  9.87e-01 6.54e-01h  1\n",
      "   2 -3.3429435e+00 0.00e+00 1.36e+01  -1.0 9.60e-01    -  1.00e+00 9.90e-01f  1\n",
      "   3 -3.3541752e+00 0.00e+00 1.34e+00  -2.5 5.32e-02    -  1.00e+00 9.97e-01h  1\n",
      "   4 -3.4044371e+00 0.00e+00 4.48e+03  -2.5 7.29e+00    -  3.36e-01 1.68e-01f  2\n",
      "   5 -3.5893373e+00 0.00e+00 9.88e+02  -2.5 3.85e+00    -  1.00e+00 1.00e+00f  1\n",
      "   6 -3.5855941e+00 0.00e+00 1.36e+02  -2.5 2.35e-01    -  1.00e+00 1.00e+00f  1\n",
      "   7 -3.5976741e+00 0.00e+00 6.44e+02  -2.5 7.31e-01    -  6.87e-01 1.00e+00F  1\n",
      "   8 -3.5976778e+00 0.00e+00 5.01e+03  -2.5 1.99e-02   0.0 9.29e-01 4.83e-01f  1\n",
      "   9 -3.5976827e+00 0.00e+00 1.78e+01  -2.5 6.34e-02    -  1.00e+00 1.00e+00f  1\n",
      "iter    objective    inf_pr   inf_du lg(mu)  ||d||  lg(rg) alpha_du alpha_pr  ls\n",
      "  10 -3.5968744e+00 0.00e+00 1.04e+00  -2.5 4.47e-03  -0.5 1.00e+00 1.00e+00f  1\n",
      "  11 -3.5969975e+00 0.00e+00 2.33e+02  -2.5 1.21e+00    -  5.61e-02 3.50e-03f  5\n",
      "  12 -3.5965565e+00 0.00e+00 7.31e-01  -2.5 2.54e-03  -0.1 1.00e+00 1.00e+00f  1\n",
      "  13 -3.5966167e+00 0.00e+00 2.05e+00  -2.5 6.07e-03  -0.5 1.00e+00 1.00e+00F  1\n",
      "  14 -3.5966486e+00 0.00e+00 2.19e+02  -2.5 2.88e-02  -1.0 5.98e-01 3.60e-02f  5\n",
      "  15 -3.5966437e+00 0.00e+00 2.18e-01  -2.5 4.04e-04   1.2 1.00e+00 1.00e+00h  1\n",
      "  16 -3.5966558e+00 0.00e+00 9.94e-02  -2.5 3.21e-04   0.7 1.00e+00 1.00e+00h  1\n",
      "  17 -3.6075758e+00 0.00e+00 5.11e+02  -3.8 1.23e-02   0.3 8.91e-01 1.00e+00f  1\n",
      "  18 -3.6522893e+00 0.00e+00 1.12e+02  -3.8 2.03e-01    -  9.77e-01 3.32e-01f  1\n",
      "  19 -3.6513264e+00 0.00e+00 3.71e-01  -3.8 3.50e-03  -0.2 1.00e+00 1.00e+00f  1\n",
      "iter    objective    inf_pr   inf_du lg(mu)  ||d||  lg(rg) alpha_du alpha_pr  ls\n",
      "  20 -3.6517498e+00 0.00e+00 2.55e-01  -3.8 7.25e-03  -0.7 1.00e+00 1.00e+00h  1\n",
      "  21 -3.6519107e+00 0.00e+00 5.50e-02  -3.8 3.30e-03  -0.3 1.00e+00 1.00e+00h  1\n",
      "  22 -3.6520110e+00 0.00e+00 8.12e+00  -3.8 8.16e-03  -0.7 4.08e-01 2.10e-01h  2\n",
      "  23 -3.6519989e+00 0.00e+00 2.12e+02  -3.8 1.62e-03   1.5 1.00e+00 4.69e-01h  2\n",
      "  24 -3.6524995e+00 0.00e+00 2.09e+02  -3.8 3.77e+00    -  7.42e-03 3.71e-03f  2\n",
      "  25 -3.6525056e+00 0.00e+00 1.57e-01  -3.8 5.43e-04   1.0 1.00e+00 1.00e+00h  1\n",
      "  26 -3.6525457e+00 0.00e+00 2.80e-02  -3.8 3.71e-04   0.5 1.00e+00 1.00e+00h  1\n",
      "  27 -3.6526243e+00 0.00e+00 2.35e-03  -3.8 1.12e-03   0.1 1.00e+00 1.00e+00h  1\n",
      "  28 -3.6526434e+00 0.00e+00 2.66e+00  -3.8 3.41e-03  -0.4 3.40e-01 8.47e-02h  3\n",
      "  29 -3.6526421e+00 0.00e+00 1.01e-02  -3.8 1.52e-04   1.8 1.00e+00 1.00e+00h  1\n",
      "iter    objective    inf_pr   inf_du lg(mu)  ||d||  lg(rg) alpha_du alpha_pr  ls\n",
      "  30 -3.6526468e+00 0.00e+00 1.31e-03  -3.8 5.90e-05   1.3 1.00e+00 1.00e+00h  1\n",
      "  31 -3.6542929e+00 0.00e+00 5.48e+01  -5.7 1.81e-03   0.9 7.93e-01 1.00e+00f  1\n",
      "  32 -3.6575380e+00 0.00e+00 3.64e+01  -5.7 5.31e-01    -  4.34e-01 6.33e-01f  1\n",
      "  33 -3.6591142e+00 0.00e+00 2.15e+01  -5.7 1.23e+00    -  4.08e-01 3.87e-01f  1\n",
      "  34 -3.6599313e+00 0.00e+00 4.94e+01  -5.7 5.61e-01    -  2.97e-01 8.40e-01f  1\n",
      "  35 -3.6599338e+00 1.02e-08 3.84e+01  -5.7 3.32e-01    -  2.75e-01 2.46e-01f  1\n",
      "  36 -3.6599353e+00 0.00e+00 3.00e+00  -5.7 6.15e-02    -  7.56e-01 1.00e+00f  1\n",
      "  37 -3.6599447e+00 0.00e+00 2.88e-01  -5.7 4.29e-04   0.4 9.02e-01 1.00e+00h  1\n",
      "  38 -3.6600028e+00 0.00e+00 3.29e-01  -5.7 1.55e-02    -  1.60e-01 1.75e-01f  1\n",
      "  39 -3.6600658e+00 0.00e+00 2.37e-03  -5.7 1.83e-03  -0.1 1.00e+00 1.00e+00f  1\n",
      "iter    objective    inf_pr   inf_du lg(mu)  ||d||  lg(rg) alpha_du alpha_pr  ls\n",
      "  40 -3.6601048e+00 0.00e+00 2.26e-02  -5.7 1.48e-01    -  3.63e-02 3.84e-02h  1\n",
      "  41 -3.6612812e+00 1.27e-08 1.28e-01  -5.7 5.59e+00    -  5.28e-02 5.97e-02f  1\n",
      "  42 -3.6635568e+00 7.73e-07 1.06e-01  -5.7 5.58e+00    -  6.34e-02 6.21e-02f  1\n",
      "  43 -3.6636895e+00 0.00e+00 1.15e-03  -5.7 4.22e-03  -0.6 1.00e+00 1.00e+00f  1\n",
      "  44 -3.6640760e+00 0.00e+00 6.14e-02  -5.7 1.38e-02  -1.0 1.00e+00 8.90e-01h  1\n",
      "  45 -3.6651645e+00 3.99e-07 3.05e-01  -5.7 3.61e-02  -1.5 5.09e-01 1.00e+00f  1\n",
      "  46 -3.6664393e+00 0.00e+00 1.90e-01  -5.7 1.23e-01  -2.0 5.18e-01 3.38e-01h  1\n",
      "  47 -3.6685004e+00 0.00e+00 1.90e-01  -5.7 1.17e+01    -  8.93e-03 9.05e-03f  1\n",
      "  48 -3.6720873e+00 0.00e+00 1.89e-01  -5.7 1.52e+01    -  1.15e-02 1.22e-02f  1\n",
      "  49 -3.6807256e+00 0.00e+00 1.88e-01  -5.7 1.84e+01    -  2.04e-02 2.46e-02f  1\n",
      "iter    objective    inf_pr   inf_du lg(mu)  ||d||  lg(rg) alpha_du alpha_pr  ls\n",
      "  50 -3.7201672e+00 0.00e+00 9.24e-01  -5.7 1.85e+01    -  6.77e-02 1.20e-01f  1\n",
      "  51 -3.7651668e+00 0.00e+00 1.24e+00  -5.7 1.63e+01    -  2.96e-01 1.82e-01f  1\n",
      "  52 -3.8542937e+00 4.93e-07 2.12e+00  -5.7 1.34e+01    -  6.64e-01 8.65e-01f  1\n",
      "  53 -3.8559628e+00 0.00e+00 1.63e-01  -5.7 1.80e+00    -  1.00e+00 1.00e+00f  1\n",
      "  54 -3.8559627e+00 0.00e+00 8.64e-04  -5.7 3.84e-03    -  1.00e+00 1.00e+00h  1\n",
      "  55 -3.8559627e+00 0.00e+00 1.64e-07  -5.7 1.14e-05    -  1.00e+00 1.00e+00h  1\n",
      "  56 -3.8560000e+00 0.00e+00 5.45e-02  -8.6 2.28e-02    -  9.97e-01 1.00e+00f  1\n",
      "  57 -3.8560000e+00 0.00e+00 1.38e-07  -8.6 2.45e-04    -  1.00e+00 1.00e+00h  1\n",
      "  58 -3.8560000e+00 0.00e+00 2.51e-14  -8.6 9.91e-08    -  1.00e+00 1.00e+00h  1\n",
      "\n",
      "Number of Iterations....: 58\n",
      "\n",
      "                                   (scaled)                 (unscaled)\n",
      "Objective...............:  -3.8559999596411827e+00   -3.8559999596411827e+00\n",
      "Dual infeasibility......:   2.5063284780912909e-14    2.5063284780912909e-14\n",
      "Constraint violation....:   0.0000000000000000e+00    0.0000000000000000e+00\n",
      "Complementarity.........:   2.5059036217626195e-09    2.5059036217626195e-09\n",
      "Overall NLP error.......:   2.5059036217626195e-09    2.5059036217626195e-09\n",
      "\n",
      "\n",
      "Number of objective function evaluations             = 86\n",
      "Number of objective gradient evaluations             = 59\n",
      "Number of equality constraint evaluations            = 0\n",
      "Number of inequality constraint evaluations          = 86\n",
      "Number of equality constraint Jacobian evaluations   = 0\n",
      "Number of inequality constraint Jacobian evaluations = 59\n",
      "Number of Lagrangian Hessian evaluations             = 58\n",
      "Total CPU secs in IPOPT (w/o function evaluations)   =      0.122\n",
      "Total CPU secs in NLP function evaluations           =      0.007\n",
      "\n",
      "EXIT: Optimal Solution Found.\n",
      "               t_proc [s]   t_wall [s]    n_eval\n",
      "       nlp_f     0.000718     0.000733        86\n",
      "       nlp_g      0.00138      0.00132        86\n",
      "    nlp_grad      4.7e-05     4.58e-05         1\n",
      "  nlp_grad_f     0.000752     0.000746        60\n",
      "  nlp_hess_l     0.000289     0.000277        58\n",
      "   nlp_jac_g      0.00191      0.00193        60\n",
      "       optim        0.135        0.137         1\n"
     ]
    },
    {
     "data": {
      "text/plain": [
       "True"
      ]
     },
     "execution_count": 33,
     "metadata": {},
     "output_type": "execute_result"
    }
   ],
   "source": [
    "ots.solve(s_buffer_0, s_circuit_0, s_transit_0, v_in_req, cv_in, v_out_max, bandwidth_load_target, memory_load_target, bandwidth_load_source, memory_load_source, output_delay)"
   ]
  },
  {
   "cell_type": "markdown",
   "metadata": {},
   "source": [
    "The results of the optimization problem are stored in ```ots.predict```, which is a list of dicts with the keywords from above. We are interested in the last item [-1] of that list."
   ]
  },
  {
   "cell_type": "code",
   "execution_count": 34,
   "metadata": {},
   "outputs": [],
   "source": [
    "sol=ots.predict[-1]\n",
    "\n",
    "v_in_req = np.concatenate(sol['v_in_req'],axis=1).T\n",
    "v_in = np.concatenate(sol['v_in'],axis=1).T\n",
    "s_b = np.concatenate(sol['s_buffer'],axis=1).T\n",
    "v_out = np.concatenate(sol['v_out'],axis=1).T"
   ]
  },
  {
   "cell_type": "code",
   "execution_count": 35,
   "metadata": {
    "scrolled": false
   },
   "outputs": [
    {
     "data": {
      "image/png": "[encoded data removed]",
      "text/plain": [
       "<Figure size 1080x288 with 3 Axes>"
      ]
     },
     "metadata": {
      "needs_background": "light"
     },
     "output_type": "display_data"
    }
   ],
   "source": [
    "fig, ax = plt.subplots(1,3, figsize=[15,4], sharex = True)\n",
    "t_ = np.arange(ots.N_steps)\n",
    "v_in_lines=ax[0].step(t_,v_in)\n",
    "ax[0].set_prop_cycle(None)\n",
    "v_in_req_lines=ax[0].step(t_,v_in_req, linestyle='--')\n",
    "ax[0].legend(v_in_lines+v_in_req_lines, ['v_in{0}_{1}'.format(a,i) for a,i in zip(['']*ots.n_in+['_req']*ots.n_in, 2*np.arange(ots.n_in).tolist())])\n",
    "ax[0].set_xlabel('time')\n",
    "ax[0].set_ylabel('incoming packets per second')\n",
    "\n",
    "lines=ax[1].step(t_,s_b)\n",
    "ax[1].legend(lines,['s_{0}'.format(i) for i in range(ots.n_out)])\n",
    "ax[1].set_xlabel('time')\n",
    "ax[1].set_ylabel('packets in output buffer')\n",
    "\n",
    "lines=ax[2].step(t_,v_out)\n",
    "ax[2].legend(lines,['v_out_{0}'.format(i) for i in range(ots.n_out)])\n",
    "ax[2].set_xlabel('time')\n",
    "ax[2].set_ylabel('outgoing packets per second')\n",
    "\n",
    "plt.tight_layout()\n",
    "plt.show()"
   ]
  },
  {
   "cell_type": "markdown",
   "metadata": {},
   "source": [
    "We can see that the MPC solution requires to reject some packages and to build up a moderate buffer memory. If we look at the total sending rate:"
   ]
  },
  {
   "cell_type": "code",
   "execution_count": 36,
   "metadata": {},
   "outputs": [
    {
     "data": {
      "text/plain": [
       "array([17.59999338, 17.59999525, 17.59999619, 17.59999682, 17.59999729,\n",
       "       17.59999766, 17.59999797, 17.59999824, 17.59999848, 17.59999868,\n",
       "       17.59999887, 17.59999904, 17.5999992 , 17.59999934, 17.59999947,\n",
       "       17.5999996 , 17.59999971, 17.59999982, 17.59999993, 17.60000002])"
      ]
     },
     "execution_count": 36,
     "metadata": {},
     "output_type": "execute_result"
    }
   ],
   "source": [
    "np.sum(v_out,axis=1)+np.sum(v_in,axis=1)"
   ]
  },
  {
   "cell_type": "markdown",
   "metadata": {},
   "source": [
    "We see that at the boundry of ```v_max = 20```."
   ]
  },
  {
   "cell_type": "code",
   "execution_count": null,
   "metadata": {},
   "outputs": [],
   "source": []
  }
 ],
 "metadata": {
  "kernelspec": {
   "display_name": "Python 3.6, 64bit",
   "language": "python",
   "name": "py36_64bit"
  },
  "language_info": {
   "codemirror_mode": {
    "name": "ipython",
    "version": 3
   },
   "file_extension": ".py",
   "mimetype": "text/x-python",
   "name": "python",
   "nbconvert_exporter": "python",
   "pygments_lexer": "ipython3",
   "version": "3.6.8"
  }
 },
 "nbformat": 4,
 "nbformat_minor": 2
}
